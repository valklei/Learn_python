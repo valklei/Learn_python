{
 "cells": [
  {
   "cell_type": "code",
   "execution_count": null,
   "id": "initial_id",
   "metadata": {
    "collapsed": true
   },
   "outputs": [],
   "source": [
    "def count_characters(input_string):\n",
    "    # Создаем пустой словарь для хранения частоты символов\n",
    "    frequency = {}\n",
    "\n",
    "    # Проходим по каждому символу в строке\n",
    "    for char in input_string:\n",
    "        # Если символ уже есть в словаре, увеличиваем его частоту на 1\n",
    "        if char in frequency:\n",
    "            frequency[char] += 1\n",
    "        # Если символа нет в словаре, добавляем его с частотой 1\n",
    "        else:\n",
    "            frequency[char] = 1\n",
    "\n",
    "    return frequency\n",
    "\n",
    "# Запрашиваем строку у пользователя\n",
    "user_input = input(\"Введите строку: \")\n",
    "\n",
    "# Подсчитываем частоту символов\n",
    "character_frequency = count_characters(user_input)\n",
    "\n",
    "# Выводим результаты\n",
    "print(\"Частота символов в строке:\")\n",
    "for char, count in character_frequency.items():\n",
    "    print(f\"'{char}': {count}\")\n",
    " \n",
    "    "
   ]
  },
  {
   "metadata": {},
   "cell_type": "code",
   "outputs": [],
   "execution_count": null,
   "source": [
    "# Schreiben Sie ein Programm, das eine Zeichenkette vom Benutzer abfragt. Das Programm soll die Häufigkeit jedes Zeichens in der Zeichenkette zählen und die Ergebnisse in einem Wörterbuch speichern, wobei der Schlüssel das Zeichen und der Wert die Häufigkeit seines Vorkommens ist.\n",
    "from collections import Counter\n",
    "\n",
    "test_str = \"Schreiben Sie ein Programm, das eine Zeichenkette vom Benutzer abfragt\"\n",
    "\n",
    "\n",
    "def zeichen_zahlen(test_str: str):\n",
    "    zeichen_dict = {}\n",
    "    for elem in test_str:\n",
    "        if elem in zeichen_dict:\n",
    "            zeichen_dict[elem] += 1\n",
    "        else:\n",
    "            zeichen_dict[elem] = 1\n",
    "    return zeichen_dict\n",
    "\n",
    "\n",
    "zeichnen_result = zeichen_zahlen(test_str)\n",
    "print(sorted(test_str, key=lambda x: zeichnen_result(x)))\n",
    "print(\"=\" * 50)\n",
    "print(Counter(test_str))\n",
    "\n",
    "Вы\n",
    "кому\n",
    "Все\n",
    "14: 42\n",
    "# Пример словаря\n",
    "my_dict = {'c': 3, 'a': 1, 'b': 2}\n",
    "\n",
    "# Сортировка по ключам\n",
    "sorted_dict = sorted(my_dict.items())\n",
    "\n",
    "print(sorted_dict)\n",
    "# Вывод: [('a', 1), ('b', 2), ('c', 3)]\n",
    "\n",
    "Svetla\n",
    "Postel\n",
    "кому\n",
    "Все\n",
    "14: 43\n",
    "sorted_result = sorted(test_str, key=lambda x: zeichnen_result[x])\n",
    "\n",
    "Izzet\n",
    "Yunusov\n",
    "14: 48\n",
    "# Schreiben Sie ein Programm, das eine Zeichenkette vom Benutzer abfragt. Das Programm soll die Häufigkeit jedes Zeichens in der Zeichenkette zählen und die Ergebnisse in einem Wörterbuch speichern, wobei der Schlüssel das Zeichen und der Wert die Häufigkeit seines Vorkommens ist.\n",
    "from collections import Counter\n",
    "\n",
    "test_str = \"Schreiben Sie ein Programm, das eine Zeichenkette vom Benutzer abfragt\"\n",
    "\n",
    "\n",
    "def zeichen_zahlen(test_str: str):\n",
    "    zeichen_dict = {}\n",
    "    for elem in test_str:\n",
    "        if elem in zeichen_dict:\n",
    "            zeichen_dict[elem] += 1\n",
    "        else:\n",
    "            zeichen_dict[elem] = 1\n",
    "    return zeichen_dict\n",
    "\n",
    "\n",
    "zeichnen_result = zeichen_zahlen(test_str)\n",
    "print(sorted(zeichnen_result.items(), key=lambda x: x[1], reverse=True))\n",
    "print(\"=\" * 50)\n",
    "print(Counter(test_str))"
   ],
   "id": "62c8ed3faf8d9893"
  },
  {
   "metadata": {},
   "cell_type": "code",
   "outputs": [],
   "execution_count": null,
   "source": [
    "#Erstellen Sie ein Programm, das zwei Zahlen vom Benutzer annimmt und eine Division durchführt. Wenn der Benutzer Null als Divisor eingibt, sollte das Programm eine Fehlermeldung ausgeben und um die Eingabe eines anderen Divisors bitten\n",
    "\n",
    "def Zahlen_division (erste_Zahl:float, zweite_Zahl:float):\n",
    "   \n",
    "    try:\n",
    "        result = erste_Zahl / zweite_Zahl\n",
    "        return result\n",
    "    except ZeroDivisionError as err:\n",
    "        return f\"(ZeroDivisionError {err}): Division durch 0 ist nicht erlaubt, probier noch ein mal\"\n",
    "\n",
    "    \n",
    "erste_Zahl = float(input(\"Bitte ersten Zahl eingeben: \"))\n",
    "while True:\n",
    "    zweite_Zahl = float(input(\"Bitte zweiten Zahl eingeben: \"))\n",
    "    result = Zahlen_division(erste_Zahl,zweite_Zahl)\n",
    "    if isinstance(result, int) or isinstance(result, float):\n",
    "        print(result)\n",
    "        break\n",
    "    else:\n",
    "        print(result)"
   ],
   "id": "d61ebe08ca8a805f"
  },
  {
   "metadata": {
    "ExecuteTime": {
     "end_time": "2025-02-17T23:17:28.557825Z",
     "start_time": "2025-02-17T23:17:28.545452Z"
    }
   },
   "cell_type": "code",
   "source": [
    "colors = ['red', 'green', 'blue', 'black', 'white']\n",
    "del colors[-1]\n",
    "colors.remove('green')\n",
    "print(colors)        \n",
    "         "
   ],
   "id": "ce6ef432fd0b35b5",
   "outputs": [
    {
     "name": "stdout",
     "output_type": "stream",
     "text": [
      "['red', 'blue', 'black']\n"
     ]
    }
   ],
   "execution_count": 14
  }
 ],
 "metadata": {
  "kernelspec": {
   "display_name": "Python 3",
   "language": "python",
   "name": "python3"
  },
  "language_info": {
   "codemirror_mode": {
    "name": "ipython",
    "version": 2
   },
   "file_extension": ".py",
   "mimetype": "text/x-python",
   "name": "python",
   "nbconvert_exporter": "python",
   "pygments_lexer": "ipython2",
   "version": "2.7.6"
  }
 },
 "nbformat": 4,
 "nbformat_minor": 5
}
