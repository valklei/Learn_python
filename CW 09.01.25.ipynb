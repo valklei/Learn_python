{
 "cells": [
  {
   "cell_type": "code",
   "id": "initial_id",
   "metadata": {
    "collapsed": true,
    "ExecuteTime": {
     "end_time": "2025-01-09T07:58:33.269935Z",
     "start_time": "2025-01-09T07:58:33.262517Z"
    }
   },
   "source": [
    "item_list = [] \n",
    "print (all(item_list))"
   ],
   "outputs": [
    {
     "name": "stdout",
     "output_type": "stream",
     "text": [
      "True\n"
     ]
    }
   ],
   "execution_count": 1
  },
  {
   "metadata": {},
   "cell_type": "code",
   "outputs": [],
   "execution_count": null,
   "source": [
    "nums = [\"2\", \"4\", \"7\", \"one\", \"1\", \"two\"]\n",
    "\n",
    "\n",
    "# def process_value(x):\n",
    "# try:\n",
    "# return int(x)\n",
    "# except ValueError:\n",
    "# return 0\n",
    "\n",
    "def process_value(x: str):\n",
    "if x.isdigit():\n",
    "return int(x) # \"N\\A\"\n",
    "\n",
    "\n",
    "new = map(lambda x: x ** 2, nums)\n",
    "\n",
    "new_2 = map(process_value, nums)\n",
    "\n",
    "# print(tuple(new))\n",
    "print(tuple(new_2))\n",
    "\n",
    "nums = list(map(\n",
    "int,\n",
    "filter(\n",
    "lambda num: str(num).isdigit(),\n",
    "nums\n",
    ")\n",
    "))"
   ],
   "id": "e7a40678d2859a0f"
  },
  {
   "metadata": {},
   "cell_type": "code",
   "outputs": [],
   "execution_count": null,
   "source": "вставляйте после трех кавычек обратных e.g: “```”",
   "id": "953bb97bb0d5ffc3"
  },
  {
   "metadata": {},
   "cell_type": "code",
   "outputs": [],
   "execution_count": null,
   "source": [
    "from functools import reduce\n",
    "\n",
    "\n",
    "nums = [1, 2, 3, 4, 5]\n",
    "\n",
    "res = reduce(\n",
    "lambda x, y: x + y,\n",
    "filter(\n",
    "lambda x: x % 2 == 0,\n",
    "map(\n",
    "lambda x: x ** 2,\n",
    "nums\n",
    ")\n",
    ")\n",
    ")\n",
    "\n",
    "# print(res)\n",
    "\n",
    "\n",
    "t = reduce(\n",
    "lambda x, y: x + y,\n",
    "[2,]\n",
    ")\n"
   ],
   "id": "bdd613726f916e6f"
  },
  {
   "metadata": {},
   "cell_type": "code",
   "outputs": [],
   "execution_count": null,
   "source": [
    "from functools import reduce\n",
    "\n",
    "nums = [1, 2, 3, 4, 5]\n",
    "\n",
    "res = reduce(\n",
    "    lambda x, y: x + y,\n",
    "    filter(\n",
    "        lambda x: x % 2 == 0,\n",
    "        map(\n",
    "            lambda x: x ** 2,\n",
    "            nums\n",
    "        )\n",
    "    )\n",
    ")\n",
    "\n",
    "# print(res)\n",
    "\n",
    "t = reduce(\n",
    "    lambda x, y: x + y,\n",
    "[   2,]\n",
    ")\n",
    "\n",
    "print(t)"
   ],
   "id": "cba4275ad8c9e2be"
  },
  {
   "metadata": {},
   "cell_type": "code",
   "outputs": [],
   "execution_count": null,
   "source": [
    "it = iter(sequence)\n",
    "\n",
    "if initial is _initial_missing:\n",
    "    try:\n",
    "        value = next(it) вот из-за этого reduce возвращает наше значение"
   ],
   "id": "5b62067b19777d0e"
  },
  {
   "metadata": {},
   "cell_type": "code",
   "outputs": [],
   "execution_count": null,
   "source": [
    "from itertools import accumulate\n",
    "from functools import reduce\n",
    "\n",
    "nums = [1, 2, 3, 4, 5]\n",
    "# [1, 3, 6, 10, 15]\n",
    "\n",
    "red_nums = reduce(lambda x, y: x + y, nums)\n",
    "\n",
    "print(red_nums)\n",
    "\n",
    "acc_nums = list(accumulate(nums)) # operators.mul\n",
    "\n",
    "print(acc_nums)\n",
    "\n",
    "chars = [\"h\", \"e\", \"l\", \"l\", \"o\"]\n",
    "\n",
    "word = accumulate(chars) # operators.mul\n",
    "\n",
    "\n",
    "print(list(word))"
   ],
   "id": "22cd7e1632073a5a"
  },
  {
   "metadata": {},
   "cell_type": "code",
   "outputs": [],
   "execution_count": null,
   "source": [
    "# Имеется поток (или список) транзакций с суммами.\n",
    "# Мы хотим получить список накопительных итогов после каждой транзакции."
   ],
   "id": "98936703490d9ea0"
  },
  {
   "metadata": {},
   "cell_type": "code",
   "outputs": [],
   "execution_count": null,
   "source": "# from string import ascii_lowercase",
   "id": "740383799520e1ff"
  },
  {
   "metadata": {},
   "cell_type": "code",
   "outputs": [],
   "execution_count": null,
   "source": "lout_letter = \"AEIOUYaeiouy\"",
   "id": "84f3e78da9a87e13"
  }
 ],
 "metadata": {
  "kernelspec": {
   "display_name": "Python 3",
   "language": "python",
   "name": "python3"
  },
  "language_info": {
   "codemirror_mode": {
    "name": "ipython",
    "version": 2
   },
   "file_extension": ".py",
   "mimetype": "text/x-python",
   "name": "python",
   "nbconvert_exporter": "python",
   "pygments_lexer": "ipython2",
   "version": "2.7.6"
  }
 },
 "nbformat": 4,
 "nbformat_minor": 5
}
