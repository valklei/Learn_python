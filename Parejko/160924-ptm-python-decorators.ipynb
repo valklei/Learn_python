{
 "cells": [
  {
   "cell_type": "code",
   "id": "initial_id",
   "metadata": {
    "collapsed": true,
    "ExecuteTime": {
     "end_time": "2025-01-20T07:47:37.826456Z",
     "start_time": "2025-01-20T07:47:37.824794Z"
    }
   },
   "source": [
    "\n",
    "\n",
    "\n",
    "def outer():\n",
    "    def inner():\n",
    "        ...\n",
    "        return \"str\"\n",
    "    return inner"
   ],
   "outputs": [],
   "execution_count": null
  },
  {
   "metadata": {},
   "cell_type": "code",
   "outputs": [],
   "execution_count": null,
   "source": [
    "from typing import Callable\n",
    "\n",
    "def function(condition: Callable):\n",
    "    ...\n",
    "\n",
    "\n",
    "function(condition=lambda x: x ** 2)"
   ],
   "id": "f5631f783378fc27"
  },
  {
   "metadata": {},
   "cell_type": "code",
   "outputs": [],
   "execution_count": null,
   "source": "",
   "id": "d933638ec5f76f27"
  },
  {
   "metadata": {
    "ExecuteTime": {
     "end_time": "2025-01-20T08:08:46.345519Z",
     "start_time": "2025-01-20T08:08:46.342803Z"
    }
   },
   "cell_type": "code",
   "source": [
    "def make_pork_sandwich(ingrediend):\n",
    "    print(\"(((((())))))\")\n",
    "    print(\"~~~~~~~~~~~~\")\n",
    "    print(\"####PORK####\")\n",
    "    print(\"$$$$$$$$$$$$\")\n",
    "    print(\"(((((())))))\")\n",
    "\n",
    "\n",
    "# make_sandwich()"
   ],
   "id": "615078beca0cd730",
   "outputs": [
    {
     "name": "stdout",
     "output_type": "stream",
     "text": [
      "(((((())))))\n",
      "~~~~~~~~~~~~\n",
      "####PORK####\n",
      "$$$$$$$$$$$$\n",
      "(((((())))))\n"
     ]
    }
   ],
   "execution_count": 2
  },
  {
   "metadata": {
    "ExecuteTime": {
     "end_time": "2025-01-20T08:19:49.596464Z",
     "start_time": "2025-01-20T08:19:49.593495Z"
    }
   },
   "cell_type": "code",
   "source": [
    "from typing import Callable\n",
    "\n",
    "def make_sandwich(func: Callable) -> Callable:\n",
    "    def wrapper():\n",
    "        print(\"(((((())))))\")\n",
    "        print(\"~~~~~~~~~~~~\")\n",
    "        func()\n",
    "        print(\"$$$$$$$$$$$$\")\n",
    "        print(\"(((((())))))\")\n",
    "\n",
    "    return wrapper\n",
    "\n",
    "\n",
    "def get_pork() -> None:\n",
    "    print(\"####PORK####\")"
   ],
   "id": "e11d66dc177bb8e",
   "outputs": [],
   "execution_count": 3
  },
  {
   "metadata": {
    "ExecuteTime": {
     "end_time": "2025-01-20T08:19:52.247334Z",
     "start_time": "2025-01-20T08:19:52.243525Z"
    }
   },
   "cell_type": "code",
   "source": "sandwich = make_sandwich(get_pork)",
   "id": "bf56a684c0df5a2",
   "outputs": [
    {
     "name": "stdout",
     "output_type": "stream",
     "text": [
      "(((((())))))\n",
      "~~~~~~~~~~~~\n",
      "####PORK####\n",
      "$$$$$$$$$$$$\n",
      "(((((())))))\n"
     ]
    }
   ],
   "execution_count": 4
  },
  {
   "metadata": {
    "ExecuteTime": {
     "end_time": "2025-01-20T08:25:53.625762Z",
     "start_time": "2025-01-20T08:25:53.620123Z"
    }
   },
   "cell_type": "code",
   "source": "sandwich()",
   "id": "d2e5ec1ad0ae5138",
   "outputs": [
    {
     "name": "stdout",
     "output_type": "stream",
     "text": [
      "(((((())))))\n",
      "~~~~~~~~~~~~\n",
      "####PORK####\n",
      "$$$$$$$$$$$$\n",
      "(((((())))))\n"
     ]
    }
   ],
   "execution_count": 10
  },
  {
   "metadata": {
    "ExecuteTime": {
     "end_time": "2025-01-20T08:25:24.351030Z",
     "start_time": "2025-01-20T08:25:24.346795Z"
    }
   },
   "cell_type": "code",
   "source": "get_pork()",
   "id": "ddbf00ab7a4097a4",
   "outputs": [
    {
     "name": "stdout",
     "output_type": "stream",
     "text": [
      "####PORK####\n"
     ]
    }
   ],
   "execution_count": 9
  },
  {
   "metadata": {},
   "cell_type": "code",
   "outputs": [],
   "execution_count": null,
   "source": "",
   "id": "79a5050998ff2884"
  },
  {
   "metadata": {
    "ExecuteTime": {
     "end_time": "2025-01-20T08:22:04.807744Z",
     "start_time": "2025-01-20T08:22:04.805388Z"
    }
   },
   "cell_type": "code",
   "source": [
    "@make_sandwich\n",
    "def get_beef() -> None:\n",
    "    print(\"####BEEF####\")\n",
    "\n",
    "\n",
    "get_beef()"
   ],
   "id": "ef685bccde44fd59",
   "outputs": [
    {
     "name": "stdout",
     "output_type": "stream",
     "text": [
      "(((((())))))\n",
      "~~~~~~~~~~~~\n",
      "####BEEF####\n",
      "$$$$$$$$$$$$\n",
      "(((((())))))\n"
     ]
    }
   ],
   "execution_count": 5
  },
  {
   "metadata": {
    "ExecuteTime": {
     "end_time": "2025-01-20T08:24:15.727813Z",
     "start_time": "2025-01-20T08:24:15.724978Z"
    }
   },
   "cell_type": "code",
   "source": "get_beef()",
   "id": "a771a54e6204bb5a",
   "outputs": [
    {
     "name": "stdout",
     "output_type": "stream",
     "text": [
      "(((((())))))\n",
      "~~~~~~~~~~~~\n",
      "####BEEF####\n",
      "$$$$$$$$$$$$\n",
      "(((((())))))\n"
     ]
    }
   ],
   "execution_count": 6
  },
  {
   "metadata": {},
   "cell_type": "code",
   "outputs": [],
   "execution_count": null,
   "source": "",
   "id": "d0b9de378eafa94b"
  },
  {
   "metadata": {
    "ExecuteTime": {
     "end_time": "2025-01-20T08:42:09.176595Z",
     "start_time": "2025-01-20T08:42:09.172388Z"
    }
   },
   "cell_type": "code",
   "source": [
    "from typing import Callable\n",
    "\n",
    "def make_sandwich(func: Callable) -> Callable:\n",
    "    def wrapper() -> str:\n",
    "        print(\"Starting to make your personal sandwich!\")\n",
    "\n",
    "        sandwich_template = \"\"\"\n",
    "        ((((((()))))))\n",
    "        ~~~~~~~~~~~~~~\n",
    "        {}\n",
    "        ##############\n",
    "        ((((((()))))))\n",
    "        \"\"\"\n",
    "        res = func()\n",
    "\n",
    "        print(\"Your sandwich is ready!\")\n",
    "\n",
    "        return sandwich_template.format(res)\n",
    "    return wrapper\n",
    "\n",
    "\n",
    "def get_chicken() -> str:\n",
    "    ingredient = \"CHICKEN\"\n",
    "    return ingredient.rjust(len(ingredient) + 4)\n",
    "\n",
    "\n",
    "sand_wich = make_sandwich(func=get_chicken)\n",
    "\n",
    "print(sand_wich())"
   ],
   "id": "eed08cb3214d921b",
   "outputs": [
    {
     "name": "stdout",
     "output_type": "stream",
     "text": [
      "Starting to make your personal sandwich!\n",
      "Your sandwich is ready!\n",
      "\n",
      "        ((((((()))))))\n",
      "        ~~~~~~~~~~~~~~\n",
      "            CHICKEN\n",
      "        ##############\n",
      "        ((((((()))))))\n",
      "        \n"
     ]
    }
   ],
   "execution_count": 12
  },
  {
   "metadata": {
    "ExecuteTime": {
     "end_time": "2025-01-20T08:43:50.400350Z",
     "start_time": "2025-01-20T08:43:50.394806Z"
    }
   },
   "cell_type": "code",
   "source": "\"Hello\" + \" \" + \"World\"",
   "id": "e91d6d2d435cc3b2",
   "outputs": [
    {
     "data": {
      "text/plain": [
       "'Hello World'"
      ]
     },
     "execution_count": 13,
     "metadata": {},
     "output_type": "execute_result"
    }
   ],
   "execution_count": 13
  },
  {
   "metadata": {
    "ExecuteTime": {
     "end_time": "2025-01-20T08:44:26.132064Z",
     "start_time": "2025-01-20T08:44:26.129095Z"
    }
   },
   "cell_type": "code",
   "source": [
    "t = \"my\"\n",
    "f\"Hello {t} World\""
   ],
   "id": "5dbfd0efe0eab4e",
   "outputs": [
    {
     "data": {
      "text/plain": [
       "'Hello my World'"
      ]
     },
     "execution_count": 14,
     "metadata": {},
     "output_type": "execute_result"
    }
   ],
   "execution_count": 14
  },
  {
   "metadata": {
    "ExecuteTime": {
     "end_time": "2025-01-20T08:45:08.107979Z",
     "start_time": "2025-01-20T08:45:08.105225Z"
    }
   },
   "cell_type": "code",
   "source": "\"Hello {} World\".format(t)",
   "id": "a39b5b1488075f8f",
   "outputs": [
    {
     "data": {
      "text/plain": [
       "'Hello my World'"
      ]
     },
     "execution_count": 15,
     "metadata": {},
     "output_type": "execute_result"
    }
   ],
   "execution_count": 15
  },
  {
   "metadata": {},
   "cell_type": "code",
   "outputs": [],
   "execution_count": null,
   "source": [
    "# sintacsis\n",
    "#\n",
    "# 1) @<decorator_name> # global variant\n",
    "# 2) <variable> = <decorator_name>(<calable_function>) # local variant\n",
    "# <variable>()"
   ],
   "id": "b6a06633ede02ebb"
  },
  {
   "metadata": {},
   "cell_type": "code",
   "outputs": [],
   "execution_count": null,
   "source": "",
   "id": "b5a2d3d8a37b20ab"
  },
  {
   "metadata": {
    "ExecuteTime": {
     "end_time": "2025-01-20T08:55:07.631346Z",
     "start_time": "2025-01-20T08:55:07.627943Z"
    }
   },
   "cell_type": "code",
   "source": [
    "def uppercase_decorator(function: Callable) -> Callable:\n",
    "    def wrapper() -> str:\n",
    "        func: str = function()\n",
    "        make_uppercase: str = func.upper()\n",
    "        return make_uppercase\n",
    "\n",
    "    return wrapper\n",
    "\n",
    "# @uppercase_decorator\n",
    "def return_str():\n",
    "    return \"hello\"\n",
    "\n",
    "print(return_str())"
   ],
   "id": "6a2a6d6a7d444a21",
   "outputs": [
    {
     "name": "stdout",
     "output_type": "stream",
     "text": [
      "hello\n"
     ]
    }
   ],
   "execution_count": 23
  },
  {
   "metadata": {
    "ExecuteTime": {
     "end_time": "2025-01-20T08:54:49.842553Z",
     "start_time": "2025-01-20T08:54:49.839180Z"
    }
   },
   "cell_type": "code",
   "source": "up_case = uppercase_decorator(return_str)",
   "id": "679893e5862dc598",
   "outputs": [],
   "execution_count": 21
  },
  {
   "metadata": {
    "ExecuteTime": {
     "end_time": "2025-01-20T08:54:50.884882Z",
     "start_time": "2025-01-20T08:54:50.881896Z"
    }
   },
   "cell_type": "code",
   "source": "print(up_case())",
   "id": "18db40c47b8436c2",
   "outputs": [
    {
     "name": "stdout",
     "output_type": "stream",
     "text": [
      "HELLO\n"
     ]
    }
   ],
   "execution_count": 22
  },
  {
   "metadata": {
    "ExecuteTime": {
     "end_time": "2025-01-20T08:55:13.418552Z",
     "start_time": "2025-01-20T08:55:13.415586Z"
    }
   },
   "cell_type": "code",
   "source": "print(return_str())",
   "id": "80118dee38bf0df2",
   "outputs": [
    {
     "name": "stdout",
     "output_type": "stream",
     "text": [
      "hello\n"
     ]
    }
   ],
   "execution_count": 24
  },
  {
   "metadata": {
    "ExecuteTime": {
     "end_time": "2025-01-20T09:01:44.308571Z",
     "start_time": "2025-01-20T09:01:44.305813Z"
    }
   },
   "cell_type": "code",
   "source": [
    "from typing import Callable\n",
    "\n",
    "\n",
    "def test_decorator(func: Callable) -> Callable:\n",
    "    def wrapper(*args, **kwargs) -> str:\n",
    "        result = func(*args, **kwargs)\n",
    "\n",
    "        return result.upper()\n",
    "    return wrapper\n"
   ],
   "id": "a1c062ae07d42cc5",
   "outputs": [],
   "execution_count": 25
  },
  {
   "metadata": {
    "ExecuteTime": {
     "end_time": "2025-01-20T09:01:49.657792Z",
     "start_time": "2025-01-20T09:01:49.655030Z"
    }
   },
   "cell_type": "code",
   "source": [
    "def my_function(separator: str) -> str:\n",
    "    a, b = input(\"Enter two words: \").split()\n",
    "\n",
    "    return f\"{a} {separator} {b}\""
   ],
   "id": "41764ba836a356ae",
   "outputs": [],
   "execution_count": 26
  },
  {
   "metadata": {
    "ExecuteTime": {
     "end_time": "2025-01-20T09:02:08.975773Z",
     "start_time": "2025-01-20T09:02:08.973016Z"
    }
   },
   "cell_type": "code",
   "source": "upper_dec = test_decorator(func=my_function)",
   "id": "def0d8af97a140d",
   "outputs": [],
   "execution_count": 27
  },
  {
   "metadata": {
    "ExecuteTime": {
     "end_time": "2025-01-20T09:03:01.473547Z",
     "start_time": "2025-01-20T09:02:52.030098Z"
    }
   },
   "cell_type": "code",
   "source": "print(upper_dec(\"*****\"))",
   "id": "5baa758353a3f2ba",
   "outputs": [
    {
     "name": "stdout",
     "output_type": "stream",
     "text": [
      "HELLO ***** WORLD\n"
     ]
    }
   ],
   "execution_count": 29
  },
  {
   "metadata": {},
   "cell_type": "code",
   "outputs": [],
   "execution_count": null,
   "source": "",
   "id": "bbeec5d3cafdca3f"
  },
  {
   "metadata": {},
   "cell_type": "code",
   "outputs": [],
   "execution_count": null,
   "source": "",
   "id": "952bacf9cb616cff"
  },
  {
   "metadata": {},
   "cell_type": "code",
   "outputs": [],
   "execution_count": null,
   "source": [
    "def param_decorator(arg_1, arg_2, arg_3) -> Callable:\n",
    "    def decorator(func: Callable) -> Callable:\n",
    "        def wrapper(*args, **kwargs) -> int:\n",
    "            ...\n",
    "            return 5\n",
    "        return wrapper\n",
    "    return decorator"
   ],
   "id": "5fa3b354226c1fd"
  },
  {
   "metadata": {},
   "cell_type": "code",
   "outputs": [],
   "execution_count": null,
   "source": "",
   "id": "afaf1a135f21b549"
  },
  {
   "metadata": {
    "ExecuteTime": {
     "end_time": "2025-01-20T09:17:55.650552Z",
     "start_time": "2025-01-20T09:17:55.647366Z"
    }
   },
   "cell_type": "code",
   "source": [
    "def param_dec(arg_1, arg_2) -> Callable:\n",
    "    def decorator(func: Callable) -> Callable:\n",
    "        def wrapper(*args, **kwargs) -> list[str]:\n",
    "            result: list[str] = func(*args, **kwargs).split(\", \")\n",
    "            result.extend([arg_1, arg_2])\n",
    "\n",
    "            return result\n",
    "        return wrapper\n",
    "    return decorator\n"
   ],
   "id": "3bf3c126a714bf26",
   "outputs": [],
   "execution_count": 30
  },
  {
   "metadata": {},
   "cell_type": "code",
   "outputs": [],
   "execution_count": null,
   "source": "",
   "id": "fc653e4968805bb4"
  },
  {
   "metadata": {
    "ExecuteTime": {
     "end_time": "2025-01-20T09:20:05.578382Z",
     "start_time": "2025-01-20T09:20:05.575430Z"
    }
   },
   "cell_type": "code",
   "source": [
    "@param_dec(arg_1=\"ARGUMENT 1\", arg_2=\"ARGUMENT 2\")\n",
    "def return_string_with_coma(data: str):\n",
    "    res = data.strip().upper()\n",
    "\n",
    "    return res\n",
    "\n"
   ],
   "id": "143fb7cf9ee8237f",
   "outputs": [],
   "execution_count": 31
  },
  {
   "metadata": {
    "ExecuteTime": {
     "end_time": "2025-01-20T09:21:59.384098Z",
     "start_time": "2025-01-20T09:21:59.381071Z"
    }
   },
   "cell_type": "code",
   "source": "print(return_string_with_coma(data=\"The, brown, fox, jumps, over, snow\"))",
   "id": "f52b0f4d77e25991",
   "outputs": [
    {
     "name": "stdout",
     "output_type": "stream",
     "text": [
      "['THE', 'BROWN', 'FOX', 'JUMPS', 'OVER', 'SNOW', 'ARGUMENT 1', 'ARGUMENT 2']\n"
     ]
    }
   ],
   "execution_count": 32
  },
  {
   "metadata": {},
   "cell_type": "code",
   "outputs": [],
   "execution_count": null,
   "source": "",
   "id": "78412a62be9fcb5"
  },
  {
   "metadata": {},
   "cell_type": "code",
   "outputs": [],
   "execution_count": null,
   "source": "",
   "id": "aeee57e32ae6c5e8"
  },
  {
   "metadata": {},
   "cell_type": "code",
   "outputs": [],
   "execution_count": null,
   "source": [
    "# append(elem) # добавление по одному элементу\n",
    "# extend(elems)# добавление большого кол-ва элементов"
   ],
   "id": "4f025c264eb20934"
  },
  {
   "metadata": {},
   "cell_type": "code",
   "outputs": [],
   "execution_count": null,
   "source": "",
   "id": "a6bb0dd679d62f84"
  },
  {
   "metadata": {},
   "cell_type": "code",
   "outputs": [],
   "execution_count": null,
   "source": "",
   "id": "b747899cb997ec17"
  },
  {
   "metadata": {},
   "cell_type": "code",
   "outputs": [],
   "execution_count": null,
   "source": "",
   "id": "66b4e8aa2c4268d0"
  },
  {
   "metadata": {
    "ExecuteTime": {
     "end_time": "2025-01-20T09:30:31.946902Z",
     "start_time": "2025-01-20T09:30:20.260090Z"
    }
   },
   "cell_type": "code",
   "source": [
    "def param_decorator(ask_name: bool) -> Callable:\n",
    "    def decorator(func: Callable) -> Callable:\n",
    "        def wrapper() -> None:\n",
    "            result = func()\n",
    "            if ask_name:\n",
    "                name = input(\"Как вас зовут? \")\n",
    "                print(f\"Ваше имя {name}, ваш возраст - {result}\")\n",
    "            else:\n",
    "                print(f\"Ваш возраст - {result}\")\n",
    "        return wrapper\n",
    "    return decorator\n",
    "\n",
    "\n",
    "@param_decorator(ask_name=True)\n",
    "def ask_age():\n",
    "    age = input(\"Сколько вам лет? \")\n",
    "    if age.isdigit():\n",
    "        return age\n",
    "    return \"неизвестно\"\n",
    "\n",
    "ask_age()\n"
   ],
   "id": "71bf3754d0cd513e",
   "outputs": [
    {
     "name": "stdout",
     "output_type": "stream",
     "text": [
      "Ваше имя Anna, ваш возраст - 23\n"
     ]
    }
   ],
   "execution_count": 34
  },
  {
   "metadata": {},
   "cell_type": "code",
   "outputs": [],
   "execution_count": null,
   "source": "",
   "id": "bef936a6dfd19b8c"
  },
  {
   "metadata": {},
   "cell_type": "code",
   "outputs": [],
   "execution_count": null,
   "source": [
    "from functools import wraps\n",
    "\n",
    "def dec(func):\n",
    "    @wraps(func)\n",
    "    def wrapper(*args, **kwargs):\n",
    "        # Дополнительная логика перед выполнением функции\n",
    "        result = func(*args, **kwargs)\n",
    "        # Дополнительная логика после выполнения функции\n",
    "        return result\n",
    "    return wrapper"
   ],
   "id": "e8613234e1dfdbdb"
  },
  {
   "metadata": {},
   "cell_type": "code",
   "outputs": [],
   "execution_count": null,
   "source": "",
   "id": "95ade05ce5ae42d5"
  },
  {
   "metadata": {
    "ExecuteTime": {
     "end_time": "2025-01-20T09:53:03.203384Z",
     "start_time": "2025-01-20T09:53:03.200058Z"
    }
   },
   "cell_type": "code",
   "source": [
    "from functools import wraps\n",
    "\n",
    "\n",
    "def my_decorator_no_wraps(func):\n",
    "    @wraps(func)\n",
    "    def wrapper(*args, **kwargs):\n",
    "        \"\"\"Это docstring внутри wrapper'а (без wraps)\"\"\"\n",
    "        print(f\"Вызов функции {func.__name__} (без wraps)\")\n",
    "        result = func(*args, **kwargs)\n",
    "        return result\n",
    "    return wrapper\n",
    "\n",
    "\n",
    "@my_decorator_no_wraps\n",
    "def say_hello_no_wraps(name):\n",
    "    \"\"\"Исходный docstring для say_hello_no_wraps\"\"\"\n",
    "    return f\"Привет, {name}!\"\n",
    "\n",
    "# Проверяем метаданные\n",
    "print(say_hello_no_wraps(\"Алиса\"))\n",
    "print(say_hello_no_wraps.__name__)\n",
    "print(say_hello_no_wraps.__doc__)"
   ],
   "id": "a3a06bdd25c0dcd4",
   "outputs": [
    {
     "name": "stdout",
     "output_type": "stream",
     "text": [
      "Вызов функции say_hello_no_wraps (без wraps)\n",
      "Привет, Алиса!\n",
      "say_hello_no_wraps\n",
      "Исходный docstring для say_hello_no_wraps\n"
     ]
    }
   ],
   "execution_count": 36
  },
  {
   "metadata": {},
   "cell_type": "code",
   "outputs": [],
   "execution_count": null,
   "source": "",
   "id": "55b3f12b38d2bc86"
  },
  {
   "metadata": {},
   "cell_type": "code",
   "outputs": [],
   "execution_count": null,
   "source": "",
   "id": "91b2a34c80965f6c"
  },
  {
   "metadata": {},
   "cell_type": "code",
   "outputs": [],
   "execution_count": null,
   "source": [
    "def class_decorator(cls):\n",
    "    # Логика перед созданием класса\n",
    "    return cls\n",
    "\n",
    "\n",
    "@class_decorator\n",
    "class MyClass:\n",
    "    # Тело класса\n",
    "    pass"
   ],
   "id": "3595d4ec52cdebfe"
  },
  {
   "metadata": {},
   "cell_type": "code",
   "outputs": [],
   "execution_count": null,
   "source": "",
   "id": "3ef242fff84ee622"
  },
  {
   "metadata": {
    "ExecuteTime": {
     "end_time": "2025-01-20T17:48:35.139707Z",
     "start_time": "2025-01-20T17:48:35.133297Z"
    }
   },
   "cell_type": "code",
   "source": [
    "from functools import wraps\n",
    "\n",
    "\n",
    "def class_logger(cls):\n",
    "    # Сохраним оригинальный __init__:\n",
    "    original_init = cls.__init__\n",
    "\n",
    "    @wraps(cls.__init__)\n",
    "    def new_init(self, *args, **kwargs):\n",
    "        print(f\"[LOG] Создаём экземпляр класса {cls.__name__} с аргументами {args} {kwargs}\")\n",
    "        original_init(self, *args, **kwargs)\n",
    "\n",
    "    cls.__init__ = new_init  # Переопределяем в классе __init__\n",
    "\n",
    "    # Пример: добавим логирование для методов area и perimeter\n",
    "    if hasattr(cls, 'area'):\n",
    "        original_area = cls.area\n",
    "\n",
    "        @wraps(cls.area)\n",
    "        def new_area(self, *args, **kwargs):\n",
    "            print(f\"[LOG] Вызываем метод area() у {cls.__name__}\")\n",
    "            return original_area(self, *args, **kwargs)\n",
    "\n",
    "        cls.area = new_area\n",
    "\n",
    "    if hasattr(cls, 'perimeter'):\n",
    "        original_perimeter = cls.perimeter\n",
    "\n",
    "        @wraps(cls.perimeter)\n",
    "        def new_perimeter(self, *args, **kwargs):\n",
    "            print(f\"[LOG] Вызываем метод perimeter() у {cls.__name__}\")\n",
    "            return original_perimeter(self, *args, **kwargs)\n",
    "\n",
    "        cls.perimeter = new_perimeter\n",
    "\n",
    "    # Можно обернуть и другие методы по тому же принципу\n",
    "\n",
    "    return cls\n",
    "\n",
    "\n",
    "@class_logger\n",
    "class Rectangle:\n",
    "    def __init__(self, width, height):\n",
    "        self.width = width\n",
    "        self.height = height\n",
    "\n",
    "    def area(self):\n",
    "        return self.width * self.height\n",
    "\n",
    "    def perimeter(self):\n",
    "        return 2 * (self.width + self.height)\n",
    "\n",
    "    def __str__(self):\n",
    "        return f\"Прямоугольник {self.width} x {self.height}\"\n",
    "\n",
    "    def __repr__(self):\n",
    "        return f\"Rectangle(width={self.width}, height={self.height})\"\n",
    "\n",
    "\n",
    "rect = Rectangle(3, 4)\n",
    "\n",
    "print(f\"Площадь: {rect.area()}\")\n",
    "print(f\"Периметр: {rect.perimeter()}\")\n",
    "\n",
    "print(str(rect))\n",
    "print(repr(rect))\n"
   ],
   "id": "e143343873713d3f",
   "outputs": [
    {
     "name": "stdout",
     "output_type": "stream",
     "text": [
      "[LOG] Создаём экземпляр класса Rectangle с аргументами (3, 4) {}\n",
      "[LOG] Вызываем метод area() у Rectangle\n",
      "Площадь: 12\n",
      "[LOG] Вызываем метод perimeter() у Rectangle\n",
      "Периметр: 14\n",
      "Прямоугольник 3 x 4\n",
      "Rectangle(width=3, height=4)\n"
     ]
    }
   ],
   "execution_count": 1
  },
  {
   "metadata": {},
   "cell_type": "code",
   "outputs": [],
   "execution_count": null,
   "source": "",
   "id": "af0cf739bfcc9aeb"
  },
  {
   "metadata": {},
   "cell_type": "code",
   "outputs": [],
   "execution_count": null,
   "source": [
    "from typing import Callable\n",
    "\n",
    "admin_user = {\n",
    "    \"user\": {\n",
    "        \"Name\": \"Vladislav\",\n",
    "        \"Surname\": \"Black\",\n",
    "        \"Age\": 26,\n",
    "        \"Phone\": \"45678912654\",\n",
    "        \"is_authenticated\": True,\n",
    "        \"role\": \"admin\"\n",
    "    }\n",
    "}\n",
    "\n",
    "anon_user = {\n",
    "    \"user\": {\n",
    "        \"Name\": \"Anon\",\n",
    "        \"Surname\": \"\",\n",
    "        \"Age\": 26,\n",
    "        \"Phone\": \"111111111111\",\n",
    "        \"is_authenticated\": False,\n",
    "        \"role\": \"user\"\n",
    "    }\n",
    "}\n",
    "\n",
    "not_admin_or_manager = {\n",
    "    \"user\": {\n",
    "        \"Name\": \"Julia\",\n",
    "        \"Surname\": \"Green\",\n",
    "        \"Age\": 24,\n",
    "        \"Phone\": \"222222222222\",\n",
    "        \"is_authenticated\": True,\n",
    "        \"role\": \"user\"\n",
    "    }\n",
    "}\n",
    "\n",
    "\n",
    "def check_access(func: Callable) -> Callable:\n",
    "    def wrapper(*args, **kwargs) -> dict:\n",
    "        is_authenticated = args[0].get(\"user\").get(\"is_authenticated\")\n",
    "        if not is_authenticated:\n",
    "            return {\n",
    "                \"status_code\": 401,\n",
    "                \"response\": \"FORBIDDEN.NOT AUTHENTICATED.\"\n",
    "            }\n",
    "        return func(*args, **kwargs)\n",
    "\n",
    "    return wrapper\n",
    "\n",
    "\n",
    "def check_roles(roles: list[str]):\n",
    "    def decorator(func):\n",
    "        def wrapper(*args, **kwargs):\n",
    "            is_role = args[0].get(\"user\").get(\"role\")\n",
    "            if is_role not in roles:\n",
    "                return {\n",
    "                    \"status_code\": 403,\n",
    "                    \"response\": \"FORBIDDEN.NOT ALLOWED.\"\n",
    "                }\n",
    "            return func(*args, **kwargs)\n",
    "\n",
    "        return wrapper\n",
    "\n",
    "    return decorator\n",
    "\n",
    "\n",
    "@check_access # 1\n",
    "@check_roles(['moderator', 'admin']) # 2\n",
    "def some_view(request: dict) -> dict:\n",
    "    user_name = request.get(\"user\").get(\"Name\")\n",
    "    return {\n",
    "        \"status_code\": 200,\n",
    "        \"response\": f\"Hello, {user_name}\"\n",
    "    }\n",
    "\n",
    "\n",
    "some_view(not_admin_or_manager)\n",
    "some_view(anon_user)\n",
    "some_view(admin_user)"
   ],
   "id": "ee9471d5a8c66018"
  },
  {
   "metadata": {},
   "cell_type": "code",
   "outputs": [],
   "execution_count": null,
   "source": "",
   "id": "74006358af3228c"
  },
  {
   "metadata": {},
   "cell_type": "code",
   "outputs": [],
   "execution_count": null,
   "source": "",
   "id": "2059b723d8d3c47c"
  },
  {
   "metadata": {},
   "cell_type": "code",
   "outputs": [],
   "execution_count": null,
   "source": [
    "# def log_args():\n",
    "#     def wrapper():\n",
    "#         func_args = args\n",
    "#         res = func(args)\n",
    "#         <file_writter> # \"functions.log\" -> Аргументы: <аргументы>, Результат: <результат>\\n"
   ],
   "id": "d7ce459340c70916"
  },
  {
   "metadata": {},
   "cell_type": "code",
   "outputs": [],
   "execution_count": null,
   "source": [
    "# @log_args\n",
    "# def add(a, b):\n",
    "#     return a + b\n",
    "# add(2, 3)\n",
    "# add(5, 7)\n"
   ],
   "id": "f2428b3b24158af9"
  }
 ],
 "metadata": {
  "kernelspec": {
   "display_name": "Python 3",
   "language": "python",
   "name": "python3"
  },
  "language_info": {
   "codemirror_mode": {
    "name": "ipython",
    "version": 2
   },
   "file_extension": ".py",
   "mimetype": "text/x-python",
   "name": "python",
   "nbconvert_exporter": "python",
   "pygments_lexer": "ipython2",
   "version": "2.7.6"
  }
 },
 "nbformat": 4,
 "nbformat_minor": 5
}
