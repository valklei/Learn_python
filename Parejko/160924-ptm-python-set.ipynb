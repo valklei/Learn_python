{
 "cells": [
  {
   "cell_type": "code",
   "id": "initial_id",
   "metadata": {
    "collapsed": true,
    "ExecuteTime": {
     "end_time": "2024-11-25T08:08:44.536821Z",
     "start_time": "2024-11-25T08:08:44.534110Z"
    }
   },
   "source": [
    "hash(True) # True -> int\n",
    "hash(False) # False -> int"
   ],
   "outputs": [
    {
     "data": {
      "text/plain": [
       "0"
      ]
     },
     "execution_count": 12,
     "metadata": {},
     "output_type": "execute_result"
    }
   ],
   "execution_count": 12
  },
  {
   "metadata": {},
   "cell_type": "code",
   "outputs": [],
   "execution_count": null,
   "source": "# __hash__()",
   "id": "e92319931b941084"
  },
  {
   "metadata": {},
   "cell_type": "code",
   "outputs": [],
   "execution_count": null,
   "source": [
    "# (2, 4, 6) -> <basic hash value> * multiplier + hash(elem)\n",
    "\n",
    "# (2, 4, (2, 4, 6, 8))"
   ],
   "id": "19a08612bedaf202"
  },
  {
   "metadata": {
    "ExecuteTime": {
     "end_time": "2024-11-25T08:25:07.215181Z",
     "start_time": "2024-11-25T08:25:07.212957Z"
    }
   },
   "cell_type": "code",
   "source": "first_set = {2, \"hello\", \"3\", False, None, (2, 3, 4, (6, 7, 9))}",
   "id": "63af440fe3e74da3",
   "outputs": [],
   "execution_count": 15
  },
  {
   "metadata": {
    "ExecuteTime": {
     "end_time": "2024-11-25T08:29:50.775817Z",
     "start_time": "2024-11-25T08:29:50.772830Z"
    }
   },
   "cell_type": "code",
   "source": "first_set",
   "id": "7bf8adeeb647f63b",
   "outputs": [
    {
     "data": {
      "text/plain": [
       "{(2, 3, 4, (6, 7, 9)), 2, '3', False, None, 'hello'}"
      ]
     },
     "execution_count": 19,
     "metadata": {},
     "output_type": "execute_result"
    }
   ],
   "execution_count": 19
  },
  {
   "metadata": {
    "ExecuteTime": {
     "end_time": "2024-11-25T08:27:44.423287Z",
     "start_time": "2024-11-25T08:27:44.420559Z"
    }
   },
   "cell_type": "code",
   "source": [
    "print(hash(2))\n",
    "print(hash(\"hello\"))\n",
    "print(hash(\"3\"))\n",
    "print(hash(False))\n",
    "print(hash(None))\n",
    "print(hash((2, 3, 4, (6, 7, 9))))\n"
   ],
   "id": "ae28fc1f70d6c620",
   "outputs": [
    {
     "name": "stdout",
     "output_type": "stream",
     "text": [
      "2\n",
      "-2543181706252075732\n",
      "6438080541556575534\n",
      "0\n",
      "4238894112\n",
      "-3095657449390942828\n"
     ]
    }
   ],
   "execution_count": 17
  },
  {
   "metadata": {
    "ExecuteTime": {
     "end_time": "2024-11-25T08:31:16.945094Z",
     "start_time": "2024-11-25T08:31:16.941820Z"
    }
   },
   "cell_type": "code",
   "source": [
    "test_set = {2, \"hello\", 1, 0, True, \"hello\", 2, False}\n",
    "\n",
    "print(test_set)"
   ],
   "id": "6e3841f3d561aef9",
   "outputs": [
    {
     "name": "stdout",
     "output_type": "stream",
     "text": [
      "{0, 1, 2, 'hello'}\n"
     ]
    }
   ],
   "execution_count": 20
  },
  {
   "metadata": {
    "ExecuteTime": {
     "end_time": "2024-11-25T08:32:00.590035Z",
     "start_time": "2024-11-25T08:32:00.585384Z"
    }
   },
   "cell_type": "code",
   "source": "",
   "id": "cc17b9c898ac4c06",
   "outputs": [
    {
     "data": {
      "text/plain": [
       "True"
      ]
     },
     "execution_count": 21,
     "metadata": {},
     "output_type": "execute_result"
    }
   ],
   "execution_count": 21
  },
  {
   "metadata": {},
   "cell_type": "code",
   "outputs": [],
   "execution_count": null,
   "source": [
    "# hash(1) - > 1\n",
    "# hash(1.0) -> 1\n",
    "# hash('1') -> -12341284692874619\n",
    "\n"
   ],
   "id": "8034b2a1afbdb379"
  },
  {
   "metadata": {
    "ExecuteTime": {
     "end_time": "2024-11-25T08:35:24.135915Z",
     "start_time": "2024-11-25T08:35:24.123109Z"
    }
   },
   "cell_type": "code",
   "source": "hash([\"hello\"])",
   "id": "71f427ec67b558b6",
   "outputs": [
    {
     "ename": "TypeError",
     "evalue": "unhashable type: 'list'",
     "output_type": "error",
     "traceback": [
      "\u001B[0;31m---------------------------------------------------------------------------\u001B[0m",
      "\u001B[0;31mTypeError\u001B[0m                                 Traceback (most recent call last)",
      "Cell \u001B[0;32mIn[22], line 1\u001B[0m\n\u001B[0;32m----> 1\u001B[0m \u001B[38;5;28;43mhash\u001B[39;49m\u001B[43m(\u001B[49m\u001B[43m[\u001B[49m\u001B[38;5;124;43m\"\u001B[39;49m\u001B[38;5;124;43mhello\u001B[39;49m\u001B[38;5;124;43m\"\u001B[39;49m\u001B[43m]\u001B[49m\u001B[43m)\u001B[49m\n",
      "\u001B[0;31mTypeError\u001B[0m: unhashable type: 'list'"
     ]
    }
   ],
   "execution_count": 22
  },
  {
   "metadata": {
    "ExecuteTime": {
     "end_time": "2024-11-25T08:38:53.289784Z",
     "start_time": "2024-11-25T08:38:53.286449Z"
    }
   },
   "cell_type": "code",
   "source": "hash((1,2))",
   "id": "8c54d9cdbf6cfff4",
   "outputs": [
    {
     "data": {
      "text/plain": [
       "-3550055125485641917"
      ]
     },
     "execution_count": 24,
     "metadata": {},
     "output_type": "execute_result"
    }
   ],
   "execution_count": 24
  },
  {
   "metadata": {
    "ExecuteTime": {
     "end_time": "2024-11-25T08:40:36.375502Z",
     "start_time": "2024-11-25T08:40:36.371985Z"
    }
   },
   "cell_type": "code",
   "source": "test_set = {2, \"hello\", 1, 0, True, \"hello\", 2, False}",
   "id": "5e61404b02b843a2",
   "outputs": [],
   "execution_count": 25
  },
  {
   "metadata": {
    "ExecuteTime": {
     "end_time": "2024-11-25T08:40:43.860400Z",
     "start_time": "2024-11-25T08:40:43.856492Z"
    }
   },
   "cell_type": "code",
   "source": "\"hello\" in test_set # -> hash(\"hello\") -> 8734698273",
   "id": "5305f05d52256ab8",
   "outputs": [
    {
     "data": {
      "text/plain": [
       "True"
      ]
     },
     "execution_count": 26,
     "metadata": {},
     "output_type": "execute_result"
    }
   ],
   "execution_count": 26
  },
  {
   "metadata": {},
   "cell_type": "code",
   "outputs": [],
   "execution_count": null,
   "source": [
    "# [1, ..., 1000000] -> 999999 in list -> O(n) -> x1000 ~> 18 sec\n",
    "# {1, ..., 1000000} -> 999999 in set -> O(1) -> x1000 ~> 0.00000001 sec"
   ],
   "id": "9a1f2323618f0128"
  },
  {
   "metadata": {
    "ExecuteTime": {
     "end_time": "2024-11-25T08:59:53.112572Z",
     "start_time": "2024-11-25T08:59:53.106987Z"
    }
   },
   "cell_type": "code",
   "source": [
    "hobbies = (\n",
    "    {\"reading\", \"hiking\", \"guitars\", \"hobbyhorsing\"},\n",
    "    {\"swimming\", \"gym\", \"computer games\", \"hiking\"}\n",
    ")\n",
    "\n",
    "\n",
    "common_hobbies = set.intersection(*hobbies)\n",
    "all_hobbies = set.union(*hobbies)\n",
    "\n",
    "print(common_hobbies)\n",
    "print(all_hobbies)"
   ],
   "id": "14e303fedf66669d",
   "outputs": [
    {
     "name": "stdout",
     "output_type": "stream",
     "text": [
      "{'hiking'}\n",
      "{'reading', 'computer games', 'guitars', 'hiking', 'hobbyhorsing', 'swimming', 'gym'}\n"
     ]
    }
   ],
   "execution_count": 30
  },
  {
   "metadata": {
    "ExecuteTime": {
     "end_time": "2024-11-25T09:06:04.599395Z",
     "start_time": "2024-11-25T09:06:04.595147Z"
    }
   },
   "cell_type": "code",
   "source": [
    "set_1 = {\"music\", \"painting\", \"guitars\"}\n",
    "set_2 = {\"gym\", \"swimming\", \"music\"}\n",
    "\n",
    "unique_values = set_2.difference(set_1)\n",
    "\n",
    "print(unique_values)"
   ],
   "id": "b9b3fbb545350fac",
   "outputs": [
    {
     "name": "stdout",
     "output_type": "stream",
     "text": [
      "{'swimming', 'gym'}\n"
     ]
    }
   ],
   "execution_count": 32
  },
  {
   "metadata": {
    "ExecuteTime": {
     "end_time": "2024-11-25T09:08:00.676531Z",
     "start_time": "2024-11-25T09:08:00.674226Z"
    }
   },
   "cell_type": "code",
   "source": [
    "result = set_1.symmetric_difference(set_2)\n",
    "\n",
    "print(result)"
   ],
   "id": "32b516ae992e3533",
   "outputs": [
    {
     "name": "stdout",
     "output_type": "stream",
     "text": [
      "{'guitars', 'swimming', 'gym', 'painting'}\n"
     ]
    }
   ],
   "execution_count": 33
  },
  {
   "metadata": {
    "ExecuteTime": {
     "end_time": "2024-11-25T09:11:52.445208Z",
     "start_time": "2024-11-25T09:11:52.442803Z"
    }
   },
   "cell_type": "code",
   "source": [
    "for elem in result:\n",
    "    print(elem)\n"
   ],
   "id": "1fe1bf5acbeb086c",
   "outputs": [
    {
     "name": "stdout",
     "output_type": "stream",
     "text": [
      "guitars\n",
      "swimming\n",
      "gym\n",
      "painting\n"
     ]
    }
   ],
   "execution_count": 34
  },
  {
   "metadata": {
    "ExecuteTime": {
     "end_time": "2024-11-25T09:19:05.033345Z",
     "start_time": "2024-11-25T09:19:05.028408Z"
    }
   },
   "cell_type": "code",
   "source": [
    "set_1 = {\"music\", \"painting\", \"guitars\"}\n",
    "test_set = {\"music\", \"guitars\"}\n",
    "\n",
    "\n",
    "print(test_set.issubset(set_1))\n",
    "print(set_1.issuperset(test_set))"
   ],
   "id": "e8018b8f2818a79b",
   "outputs": [
    {
     "name": "stdout",
     "output_type": "stream",
     "text": [
      "True\n",
      "True\n"
     ]
    }
   ],
   "execution_count": 38
  },
  {
   "metadata": {
    "ExecuteTime": {
     "end_time": "2024-11-25T09:23:39.746095Z",
     "start_time": "2024-11-25T09:23:39.743242Z"
    }
   },
   "cell_type": "code",
   "source": [
    "# Какой будет результат выполнения фрагмента кода?\n",
    "\n",
    "users = {\"Tom\", \"Bob\", \"Alice\"}\n",
    "users2 = {\"Sam\", \"Kate\", \"Bob\"}\n",
    " \n",
    "users3 = users.intersection(users2)\n"
   ],
   "id": "c04e03d6c56f3a95",
   "outputs": [],
   "execution_count": 39
  },
  {
   "metadata": {
    "ExecuteTime": {
     "end_time": "2024-11-25T09:24:18.868465Z",
     "start_time": "2024-11-25T09:24:18.865898Z"
    }
   },
   "cell_type": "code",
   "source": "print(users3)",
   "id": "7c116d350ef61e51",
   "outputs": [
    {
     "name": "stdout",
     "output_type": "stream",
     "text": [
      "{'Bob'}\n"
     ]
    }
   ],
   "execution_count": 40
  },
  {
   "metadata": {
    "ExecuteTime": {
     "end_time": "2024-11-25T09:26:13.473139Z",
     "start_time": "2024-11-25T09:26:13.469938Z"
    }
   },
   "cell_type": "code",
   "source": [
    "my_set = set()\n",
    "\n",
    "print(type(my_set))"
   ],
   "id": "18e97e2eba86dfbd",
   "outputs": [
    {
     "name": "stdout",
     "output_type": "stream",
     "text": [
      "<class 'set'>\n"
     ]
    }
   ],
   "execution_count": 42
  },
  {
   "metadata": {
    "ExecuteTime": {
     "end_time": "2024-11-25T09:27:00.613562Z",
     "start_time": "2024-11-25T09:27:00.609981Z"
    }
   },
   "cell_type": "code",
   "source": "print(len(set_1))",
   "id": "e0e60ff34133f32d",
   "outputs": [
    {
     "name": "stdout",
     "output_type": "stream",
     "text": [
      "3\n"
     ]
    }
   ],
   "execution_count": 43
  },
  {
   "metadata": {
    "ExecuteTime": {
     "end_time": "2024-11-25T09:27:35.187174Z",
     "start_time": "2024-11-25T09:27:35.182840Z"
    }
   },
   "cell_type": "code",
   "source": "\"music\" in set_1",
   "id": "753b91d788d11bdb",
   "outputs": [
    {
     "data": {
      "text/plain": [
       "False"
      ]
     },
     "execution_count": 45,
     "metadata": {},
     "output_type": "execute_result"
    }
   ],
   "execution_count": 45
  },
  {
   "metadata": {
    "ExecuteTime": {
     "end_time": "2024-11-25T09:29:18.007758Z",
     "start_time": "2024-11-25T09:29:18.004405Z"
    }
   },
   "cell_type": "code",
   "source": [
    "empty_set = set()\n",
    "\n",
    "\n",
    "for val in range(1, 11):\n",
    "    if val % 4 == 0:\n",
    "        empty_set.add(val)\n",
    "        \n",
    "print(empty_set)"
   ],
   "id": "e09dbd30cd686a47",
   "outputs": [
    {
     "name": "stdout",
     "output_type": "stream",
     "text": [
      "{8, 4}\n"
     ]
    }
   ],
   "execution_count": 46
  },
  {
   "metadata": {
    "ExecuteTime": {
     "end_time": "2024-11-25T09:30:48.880991Z",
     "start_time": "2024-11-25T09:30:48.870505Z"
    }
   },
   "cell_type": "code",
   "source": "empty_set.remove(4)",
   "id": "6170cfd202c369b6",
   "outputs": [
    {
     "ename": "KeyError",
     "evalue": "4",
     "output_type": "error",
     "traceback": [
      "\u001B[0;31m---------------------------------------------------------------------------\u001B[0m",
      "\u001B[0;31mKeyError\u001B[0m                                  Traceback (most recent call last)",
      "Cell \u001B[0;32mIn[50], line 1\u001B[0m\n\u001B[0;32m----> 1\u001B[0m \u001B[43mempty_set\u001B[49m\u001B[38;5;241;43m.\u001B[39;49m\u001B[43mremove\u001B[49m\u001B[43m(\u001B[49m\u001B[38;5;241;43m4\u001B[39;49m\u001B[43m)\u001B[49m\n",
      "\u001B[0;31mKeyError\u001B[0m: 4"
     ]
    }
   ],
   "execution_count": 50
  },
  {
   "metadata": {
    "ExecuteTime": {
     "end_time": "2024-11-25T09:31:34.799336Z",
     "start_time": "2024-11-25T09:31:34.797152Z"
    }
   },
   "cell_type": "code",
   "source": "empty_set.discard(4)",
   "id": "57529a1b1a4cb593",
   "outputs": [],
   "execution_count": 51
  },
  {
   "metadata": {
    "ExecuteTime": {
     "end_time": "2024-11-25T09:31:43.017268Z",
     "start_time": "2024-11-25T09:31:43.014340Z"
    }
   },
   "cell_type": "code",
   "source": "empty_set",
   "id": "97b5e1312b91503c",
   "outputs": [
    {
     "data": {
      "text/plain": [
       "{8}"
      ]
     },
     "execution_count": 52,
     "metadata": {},
     "output_type": "execute_result"
    }
   ],
   "execution_count": 52
  },
  {
   "metadata": {
    "ExecuteTime": {
     "end_time": "2024-11-25T09:33:16.531770Z",
     "start_time": "2024-11-25T09:33:16.529790Z"
    }
   },
   "cell_type": "code",
   "source": "empty_set.clear()",
   "id": "a7a385b71ef20c2a",
   "outputs": [],
   "execution_count": 53
  },
  {
   "metadata": {
    "ExecuteTime": {
     "end_time": "2024-11-25T09:33:19.829589Z",
     "start_time": "2024-11-25T09:33:19.826373Z"
    }
   },
   "cell_type": "code",
   "source": "empty_set",
   "id": "bd47fc1ff41f4ab1",
   "outputs": [
    {
     "data": {
      "text/plain": [
       "set()"
      ]
     },
     "execution_count": 54,
     "metadata": {},
     "output_type": "execute_result"
    }
   ],
   "execution_count": 54
  },
  {
   "metadata": {},
   "cell_type": "code",
   "outputs": [],
   "execution_count": null,
   "source": [
    "# set\n",
    "# frozenset"
   ],
   "id": "12e6fedb73eb2da4"
  },
  {
   "metadata": {
    "ExecuteTime": {
     "end_time": "2024-11-25T09:37:01.434686Z",
     "start_time": "2024-11-25T09:37:01.432064Z"
    }
   },
   "cell_type": "code",
   "source": [
    "my_frozenset = frozenset((2, 4, 5, 6, 7))\n",
    "\n",
    "print(my_frozenset)"
   ],
   "id": "3d448e8c2866ae11",
   "outputs": [
    {
     "name": "stdout",
     "output_type": "stream",
     "text": [
      "frozenset({2, 4, 5, 6, 7})\n"
     ]
    }
   ],
   "execution_count": 55
  },
  {
   "metadata": {},
   "cell_type": "code",
   "outputs": [],
   "execution_count": null,
   "source": "my_frozenset",
   "id": "be43e19eece00c62"
  },
  {
   "metadata": {
    "ExecuteTime": {
     "end_time": "2024-11-25T10:18:31.862665Z",
     "start_time": "2024-11-25T10:18:31.858951Z"
    }
   },
   "cell_type": "code",
   "source": [
    "test_array = [1, -4, 2, -4, 3, -2, 4, -3, 5, -1]\n",
    "seen_numbers = set()\n",
    "value_pairs = set()\n",
    "\n",
    "\n",
    "for number in test_array:\n",
    "    if -number in seen_numbers:\n",
    "        value_pairs.add((number, -number))\n",
    "    seen_numbers.add(number)\n",
    "\n",
    "\n",
    "if not value_pairs:\n",
    "    print(\"NOT MATCHES\")\n",
    "else:\n",
    "    print(\"Pairs with sum of 0:\", value_pairs, sep='\\n')\n"
   ],
   "id": "ddb14ca326b53d9c",
   "outputs": [
    {
     "name": "stdout",
     "output_type": "stream",
     "text": [
      "Pairs with sum of 0:\n",
      "{(-1, 1), (-3, 3), (-2, 2), (4, -4)}\n"
     ]
    }
   ],
   "execution_count": 58
  },
  {
   "metadata": {
    "ExecuteTime": {
     "end_time": "2024-11-25T10:16:11.999481Z",
     "start_time": "2024-11-25T10:16:11.995014Z"
    }
   },
   "cell_type": "code",
   "source": "-(-4)",
   "id": "7a11f9966f1abdab",
   "outputs": [
    {
     "data": {
      "text/plain": [
       "4"
      ]
     },
     "execution_count": 57,
     "metadata": {},
     "output_type": "execute_result"
    }
   ],
   "execution_count": 57
  },
  {
   "metadata": {},
   "cell_type": "code",
   "outputs": [],
   "execution_count": null,
   "source": [
    "# Задача 1: Проверка прав доступа пользователя\n",
    "# \n",
    "# В системе управления доступом каждому пользователю назначается набор\n",
    "# разрешений. Некоторые операции требуют наличия определенных разрешений.\n",
    "# Нужно написать функцию has_required_permissions(user_perms, required_perms),\n",
    "# которая проверяет, имеет ли пользователь все необходимые разрешения для\n",
    "# выполнения операции. Реализовать функцию get_greeting(), которая наоснове\n",
    "# предыдущей функции будет либо выполнять выдачу приветствия, либо сообщение \n",
    "# о том что нет прав доступа."
   ],
   "id": "3dc000ae4d4f5463"
  },
  {
   "metadata": {
    "ExecuteTime": {
     "end_time": "2024-11-25T10:32:11.226445Z",
     "start_time": "2024-11-25T10:32:11.221574Z"
    }
   },
   "cell_type": "code",
   "source": [
    "user_permissions = {'read', 'write', 'delete'}\n",
    "required_permissions = {'read', 'write'}\n",
    "\n",
    "\n",
    "def has_required_permissions(user_perms, required_perms):\n",
    "    return required_perms.issubset(user_perms)\n",
    "\n",
    "\n",
    "def get_greeting(perms_1, perms_2):\n",
    "    if has_required_permissions(perms_1, perms_2):\n",
    "        import cowsay\n",
    "        \n",
    "        return cowsay.dragon(\"E_HE_HE! HELLO!!!\")\n",
    "    else:\n",
    "        return \"PERMISSION DENIED\"\n",
    "    \n",
    "\n",
    "get_greeting(user_permissions, required_permissions)"
   ],
   "id": "39f0b08b188a86db",
   "outputs": [
    {
     "name": "stdout",
     "output_type": "stream",
     "text": [
      "  _________________\n",
      "| E_HE_HE! HELLO!!! |\n",
      "  =================\n",
      "                   \\\n",
      "                    \\\n",
      "                     \\\n",
      "                      \\\n",
      "                                            / \\\\  //\\\\\n",
      "                             |\\\\___/|      /   \\\\//  \\\\\\\\\n",
      "                             /0  0  \\\\__  /    //  | \\\\ \\\\\n",
      "                            /     /  \\\\/_/    //   |  \\\\  \\\\\n",
      "                            \\@_^_\\@'/   \\\\/_   //    |   \\\\   \\\\\n",
      "                            //_^_/     \\\\/_ //     |    \\\\    \\\\\n",
      "                         ( //) |        \\\\///      |     \\\\     \\\\\n",
      "                       ( / /) _|_ /   )  //       |      \\\\     _\\\\\n",
      "                     ( // /) '/,_ _ _/  ( ; -.    |    _ _\\\\.-~        .-~~~^-.\n",
      "                   (( / / )) ,-{        _      `-.|.-~-.           .~         `.\n",
      "                  (( // / ))  '/\\\\      /                 ~-. _ .-~      .-~^-.  \\\\\n",
      "                  (( /// ))      `.   {            }                   /      \\\\  \\\\\n",
      "                   (( / ))     .----~-.\\\\        \\\\-'                 .~         \\\\  `. \\\\^-.\n",
      "                              ///.----..>        \\\\             _ -~             `.  ^-`  ^-_\n",
      "                                ///-._ _ _ _ _ _ _}^ - - - - ~                     ~-- ,.-~\n",
      "                                                                                   /.-~\n"
     ]
    }
   ],
   "execution_count": 62
  },
  {
   "metadata": {
    "ExecuteTime": {
     "end_time": "2024-11-25T10:58:49.930011Z",
     "start_time": "2024-11-25T10:58:49.925693Z"
    }
   },
   "cell_type": "code",
   "source": [
    "friends_preferences = [\n",
    "    ('pop', 'rock', 'r&b', 'classic', 'rok-n-roll', 'rap'),\n",
    "    ('rap', 'k-pop', 'classic', 'r&b', 'punk'),\n",
    "    ('metal', 'r&b', 'metalcore', 'classic', 'post hard core', 'rap'),\n",
    "    ('melodic metal', 'classic', 'death metal', 'power metal', 'r&b', 'metalcore', 'rap'),\n",
    "]\n",
    "\n",
    "\n",
    "def get_common_genres(preferences):\n",
    "    return set.intersection(*map(set, preferences))\n",
    "\n",
    "get_common_genres(friends_preferences)"
   ],
   "id": "35acf9b67902d6d",
   "outputs": [
    {
     "data": {
      "text/plain": [
       "{'classic', 'r&b', 'rap'}"
      ]
     },
     "execution_count": 63,
     "metadata": {},
     "output_type": "execute_result"
    }
   ],
   "execution_count": 63
  },
  {
   "metadata": {
    "ExecuteTime": {
     "end_time": "2024-11-25T11:18:08.237454Z",
     "start_time": "2024-11-25T11:18:08.234822Z"
    }
   },
   "cell_type": "code",
   "source": [
    "target_list = [\"9sdf6g5sd7fg6sd\", \"0s9fdg6sd9fg5sd\", \"sdf8g7s8dfg5s\", \"9sdf6g5sd7fg6sd\"]\n",
    "\n",
    "new_data = set(target_list)\n",
    "\n",
    "print( \"DUPLICATES\" if len(target_list) > len(new_data) else \"NO DUPLICATES\" )"
   ],
   "id": "69c9dfd2fe255af9",
   "outputs": [
    {
     "name": "stdout",
     "output_type": "stream",
     "text": [
      "DUPLICATES\n"
     ]
    }
   ],
   "execution_count": 65
  },
  {
   "metadata": {},
   "cell_type": "code",
   "outputs": [],
   "execution_count": null,
   "source": "",
   "id": "72b2a3d476f47674"
  }
 ],
 "metadata": {
  "kernelspec": {
   "display_name": "Python 3",
   "language": "python",
   "name": "python3"
  },
  "language_info": {
   "codemirror_mode": {
    "name": "ipython",
    "version": 2
   },
   "file_extension": ".py",
   "mimetype": "text/x-python",
   "name": "python",
   "nbconvert_exporter": "python",
   "pygments_lexer": "ipython2",
   "version": "2.7.6"
  }
 },
 "nbformat": 4,
 "nbformat_minor": 5
}
