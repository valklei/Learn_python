{
 "cells": [
  {
   "cell_type": "code",
   "id": "initial_id",
   "metadata": {
    "collapsed": true,
    "ExecuteTime": {
     "end_time": "2024-10-07T06:21:54.041937Z",
     "start_time": "2024-10-07T06:21:54.038726Z"
    }
   },
   "source": "print('hello')",
   "outputs": [
    {
     "name": "stdout",
     "output_type": "stream",
     "text": [
      "hello\n"
     ]
    }
   ],
   "execution_count": 1
  },
  {
   "metadata": {
    "ExecuteTime": {
     "end_time": "2024-10-07T07:06:57.405143Z",
     "start_time": "2024-10-07T07:06:53.604095Z"
    }
   },
   "cell_type": "code",
   "source": [
    "user_age = input(\"Enter your age: \")\n",
    "\n",
    "print(\"Your age is: \", user_age)"
   ],
   "id": "493c31ef6d533412",
   "outputs": [
    {
     "name": "stdout",
     "output_type": "stream",
     "text": [
      "Your age is:  15\n"
     ]
    }
   ],
   "execution_count": 5
  },
  {
   "metadata": {},
   "cell_type": "code",
   "outputs": [],
   "execution_count": null,
   "source": [
    "# if <condition> == True:\n",
    "#     <block code>\n"
   ],
   "id": "4c9da36982309e76"
  },
  {
   "metadata": {
    "ExecuteTime": {
     "end_time": "2024-10-07T07:24:54.608869Z",
     "start_time": "2024-10-07T07:24:51.779720Z"
    }
   },
   "cell_type": "code",
   "source": [
    "user_input = input(\"Enter your age: \")\n",
    "print(user_input)\n",
    "\n",
    "if user_input != \"\" and int(user_input) > 18:\n",
    "    print(\"Вы совершеннолетний! Ваш возрат -\", user_input)\n",
    "else:\n",
    "    print(\"Кажется у вас какая-то ошибка, или вам меньше 18\")"
   ],
   "id": "25d9153465179951",
   "outputs": [
    {
     "name": "stdout",
     "output_type": "stream",
     "text": [
      "\n",
      "Кажется у вас какая-то ошибка, или вам меньше 18\n"
     ]
    }
   ],
   "execution_count": 17
  },
  {
   "metadata": {},
   "cell_type": "code",
   "outputs": [],
   "execution_count": null,
   "source": [
    "rain = input(\"Идет дождь или нет: \")\n",
    "if rain == \"да\":\n",
    "    print(\"Возьмите ссобой зонтик!\")\n",
    "elif rain == \"нет\":\n",
    "    print(\"погода хорошая, можете гулять!\")\n",
    "elif rain == \"нет\":\n",
    "    print(\"погода хорошая, можете гулять!\")\n",
    "elif rain == \"нет\":\n",
    "    print(\"погода хорошая, можете гулять!\")\n",
    "elif rain == \"нет\":\n",
    "    print(\"погода хорошая, можете гулять!\")\n",
    "elif rain == \"нет\":\n",
    "    print(\"погода хорошая, можете гулять!\")\n",
    "elif rain == \"нет\":\n",
    "    print(\"погода хорошая, можете гулять!\")\n",
    "elif rain == \"нет\":\n",
    "    print(\"погода хорошая, можете гулять!\")\n",
    "elif rain == \"нет\":\n",
    "    print(\"погода хорошая, можете гулять!\")\n",
    "elif rain == \"нет\":\n",
    "    print(\"погода хорошая, можете гулять!\")\n",
    "else:\n",
    "    print(\"некоректный запрос!\")\n",
    "else:\n",
    "print(\"некоректный запрос!\")"
   ],
   "id": "103e0fae337d61b6"
  },
  {
   "metadata": {},
   "cell_type": "code",
   "outputs": [],
   "execution_count": null,
   "source": [
    "# if условие1:\n",
    "#     # выполняемые действия, если условие1 истинно\n",
    "# elif условие2:\n",
    "#     # выполняемые действия, если условие2 истинно\n",
    "# else:\n",
    "#     # выполняемые действия, если все условия ложны\n"
   ],
   "id": "6477fa8b3ecca1d7"
  },
  {
   "metadata": {
    "ExecuteTime": {
     "end_time": "2024-10-07T07:52:46.481763Z",
     "start_time": "2024-10-07T07:52:42.625649Z"
    }
   },
   "cell_type": "code",
   "source": [
    "my_char = int(input(\"Введите число: \"))\n",
    "\n",
    "if my_char < 0:\n",
    "    print(\"Negative value\")\n",
    "elif my_char == 0:\n",
    "    print(\"Zero\")\n",
    "elif my_char > 0:\n",
    "    print(\"Positive value\")\n"
   ],
   "id": "97046eeea877c9b6",
   "outputs": [
    {
     "name": "stdout",
     "output_type": "stream",
     "text": [
      "Zero\n"
     ]
    }
   ],
   "execution_count": 18
  },
  {
   "metadata": {
    "ExecuteTime": {
     "end_time": "2024-10-07T08:02:39.483816Z",
     "start_time": "2024-10-07T08:02:30.806380Z"
    }
   },
   "cell_type": "code",
   "source": [
    "# user_name = \"Oleg\"\n",
    "# user_password = \"sdf6sg897dfgy\"\n",
    "\n",
    "\"Ctrl + Alt + L\"\n",
    "\n",
    "user_name = input(\"Enter user name: \")\n",
    "user_password = input(\"Enter password: \")\n",
    "\n",
    "if user_name != \"\" and user_password != \"\":\n",
    "    if user_name == \"Oleg\":\n",
    "        if user_password == \"sdf6sg897dfgy\":\n",
    "            print(\"Приветствую тебя,\", user_name)\n",
    "        else:\n",
    "            print(\"Неверный пароль.\")\n",
    "    else:\n",
    "        print(\"Такого пользователя нет.\")\n",
    "else:\n",
    "    print(\"Вам нужно ввести И имя, И пароль.\")\n",
    "\n",
    "\n"
   ],
   "id": "c6c323e86864f421",
   "outputs": [
    {
     "name": "stdout",
     "output_type": "stream",
     "text": [
      "Приветствую тебя, Oleg\n"
     ]
    }
   ],
   "execution_count": 22
  },
  {
   "metadata": {
    "ExecuteTime": {
     "end_time": "2024-10-07T08:32:09.694375Z",
     "start_time": "2024-10-07T08:32:05.449703Z"
    }
   },
   "cell_type": "code",
   "source": [
    "# тернарный оператор\n",
    "\n",
    "# Помогает, когда нужно определить значение для переменной на основе одного маленького условия.\n",
    "# при больших составных условиях этот оператор не сильно поможет, наоборот запутает, так что будьте аккрутаны с ним\n",
    "\n",
    "teenager_status_tern = 'Adult' if int(input(\"Enter your age: \")) > 18 else 'Teenager'\n",
    "\n",
    "\n",
    "print(teenager_status_tern)\n",
    "\n",
    "\n",
    "# тот же код со значением переменной, но через обычные условия. Кода больше. Да, он разбит и тут логически всё понятно.\n",
    "# но строк кода больше + мы сперва создаём переменную, а потом начинаем её переопределять исходя из условия.\n",
    "\n",
    "teenager_status = None\n",
    "\n",
    "user_age = int(input(\"Enter your age: \"))\n",
    "\n",
    "if user_age > 18:\n",
    "    teenager_status = 'Adult'\n",
    "else:\n",
    "    teenager_status = 'Teenager'\n",
    "    \n",
    "print(teenager_status)"
   ],
   "id": "9ed0e088d6ada609",
   "outputs": [
    {
     "name": "stdout",
     "output_type": "stream",
     "text": [
      "Adult\n"
     ]
    }
   ],
   "execution_count": 29
  },
  {
   "metadata": {},
   "cell_type": "code",
   "outputs": [],
   "execution_count": null,
   "source": "",
   "id": "ddf654827fa078fe"
  },
  {
   "metadata": {},
   "cell_type": "code",
   "outputs": [],
   "execution_count": null,
   "source": "",
   "id": "cc24e44a6f722cb6"
  },
  {
   "metadata": {},
   "cell_type": "code",
   "outputs": [],
   "execution_count": null,
   "source": "",
   "id": "44a842b6e5c2be05"
  },
  {
   "metadata": {},
   "cell_type": "code",
   "outputs": [],
   "execution_count": null,
   "source": [
    "# Additional home tasks:\n",
    "\n",
    "\n",
    "# Запросите у пользователя два числа и оператор (+, -, *, /). Выполните\n",
    "# соответствующее математическое действие и выведите результат.\n",
    "# Обработайте случай деления на ноль.\n",
    "\n",
    "\n",
    "# Введите оценку студента от 0 до 100. Если оценка больше или равна 90,\n",
    "# выведите \"Отлично\". Если оценка больше или равна 70, выведите\n",
    "# \"Хорошо\". В противном случае выведите \"Плохо\".\n",
    "\n",
    "\n",
    "# Введите годовой доход пользователя. Рассчитайте налог на\n",
    "# доход с учетом ставок: до $10,000 - 10%, от $10,000 до\n",
    "# $50,000 - 20%, свыше $50,000 - 30%.\n",
    "\n",
    "\n",
    "# Запросите у пользователя его вес (кг) и рост (м). Рассчитайте\n",
    "# его BMI по формуле BMI = вес / (рост^2) и выведите сообщение,\n",
    "# указывающее на его состояние: \"Недостаточный вес\",\n",
    "# \"Норма\", \"Избыточный вес\", \"Ожирение\". (В этой таблице достаточно много градаций. \n",
    "# Выберите 4 любые на ваш выбор под категории, допустим: 10, 30, 50, 70, если таковые имеются)\n",
    "\n",
    "\n",
    "# Попросите пользователя ввести температуру в градусах Цельсия.\n",
    "# Затем спросите, в какую шкалу он хочет конвертировать\n",
    "# (Фаренгейт или Кельвин). Выполните конвертацию и\n",
    "# выведите результат.\n",
    "\n",
    "\n",
    "# Переделайте предыдущую задачу так, чтобы запроашивались данные:\n",
    "# какая температура\n",
    "# в какой шкале измерения\n",
    "# в какую шкалу нужно перевести\n",
    "# \n",
    "# Например:\n",
    "# Сколько градусов: 50\n",
    "# По какой шкале: C (цельсий)\n",
    "# В какую шкалу конвертировать: K (кельвины)\n",
    "# Новая температура: 323,15\n"
   ],
   "id": "2c096c6a368ed741"
  }
 ],
 "metadata": {
  "kernelspec": {
   "display_name": "Python 3",
   "language": "python",
   "name": "python3"
  },
  "language_info": {
   "codemirror_mode": {
    "name": "ipython",
    "version": 2
   },
   "file_extension": ".py",
   "mimetype": "text/x-python",
   "name": "python",
   "nbconvert_exporter": "python",
   "pygments_lexer": "ipython2",
   "version": "2.7.6"
  }
 },
 "nbformat": 4,
 "nbformat_minor": 5
}
