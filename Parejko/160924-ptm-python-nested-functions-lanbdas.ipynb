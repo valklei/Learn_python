{
 "cells": [
  {
   "cell_type": "code",
   "id": "initial_id",
   "metadata": {
    "collapsed": true,
    "ExecuteTime": {
     "end_time": "2024-11-18T07:36:31.363567Z",
     "start_time": "2024-11-18T07:36:31.361904Z"
    }
   },
   "source": [
    ""
   ],
   "outputs": [],
   "execution_count": null
  },
  {
   "metadata": {
    "ExecuteTime": {
     "end_time": "2024-11-18T08:08:49.661941Z",
     "start_time": "2024-11-18T08:08:49.658168Z"
    }
   },
   "cell_type": "code",
   "source": [
    "def return_sum(a, b):  # неизменяемые типы передаются ПО ЗНАЧЕНИЮ\n",
    "    a += 5\n",
    "    b += 5\n",
    "    return a + b\n",
    "\n",
    "\n",
    "val_1 = 10\n",
    "val_2 = 15\n",
    "\n",
    "print(return_sum(val_1, val_2))\n",
    "print(val_1)\n",
    "print(val_2)"
   ],
   "id": "9e52a3e320926061",
   "outputs": [
    {
     "name": "stdout",
     "output_type": "stream",
     "text": [
      "35\n",
      "10\n",
      "15\n"
     ]
    }
   ],
   "execution_count": 2
  },
  {
   "metadata": {
    "ExecuteTime": {
     "end_time": "2024-11-18T08:19:01.825298Z",
     "start_time": "2024-11-18T08:19:01.821971Z"
    }
   },
   "cell_type": "code",
   "source": [
    "val_1 = 10\n",
    "val_2 = 15\n",
    "\n",
    "print(id(val_1))\n",
    "\n",
    "val_1 = 30\n",
    "\n",
    "print(id(val_1))"
   ],
   "id": "852961ea5fea2be0",
   "outputs": [
    {
     "name": "stdout",
     "output_type": "stream",
     "text": [
      "11754184\n",
      "11754824\n"
     ]
    }
   ],
   "execution_count": 4
  },
  {
   "metadata": {
    "ExecuteTime": {
     "end_time": "2024-11-18T08:13:35.434840Z",
     "start_time": "2024-11-18T08:13:35.429946Z"
    }
   },
   "cell_type": "code",
   "source": [
    "def modify_elem(my_list):  # изменяемые типы передаются ПО ССЫЛКЕ\n",
    "    my_list[0] = my_list[0] ** 3\n",
    "    # t = [elem ** 3 for elem in my_list]\n",
    "    return my_list\n",
    "\n",
    "\n",
    "test_list = [4, 6, 10]\n",
    "\n",
    "print(modify_elem(test_list))\n",
    "\n",
    "print(test_list)"
   ],
   "id": "d9ee6b1e0e7ee3e1",
   "outputs": [
    {
     "name": "stdout",
     "output_type": "stream",
     "text": [
      "[64, 6, 10]\n",
      "[64, 6, 10]\n"
     ]
    }
   ],
   "execution_count": 3
  },
  {
   "metadata": {},
   "cell_type": "code",
   "outputs": [],
   "execution_count": null,
   "source": [
    "# def outer_function():\n",
    "#     <var_1>\n",
    "#     <var_2>\n",
    "#     def inner_function():\n",
    "#         <var_1>\n",
    "#         <var_2>\n",
    "#        "
   ],
   "id": "c5810c665fe96c0c"
  },
  {
   "metadata": {
    "ExecuteTime": {
     "end_time": "2024-11-18T08:35:35.505538Z",
     "start_time": "2024-11-18T08:35:35.499010Z"
    }
   },
   "cell_type": "code",
   "source": [
    "def greeting_func(lang):\n",
    "    def eng_greeting():\n",
    "        return \"Hello! I'm glad to see you! We're using English\"\n",
    "\n",
    "    # def rus_greeting(): # TODO: ...\n",
    "    #     return f\"Приветствую! Рад видеть, мы используем Русский\"\n",
    "\n",
    "    if lang.strip().lower() == \"eng\":\n",
    "        print(eng_greeting())\n",
    "    # elif lang.strip().lower() == \"rus\":\n",
    "    #     print(rus_greeting())\n",
    "    else:\n",
    "        print(\"No matches\")\n",
    "\n",
    "\n",
    "greeting_func('  EnG ')"
   ],
   "id": "9ce2cfd14faa7a9e",
   "outputs": [
    {
     "name": "stdout",
     "output_type": "stream",
     "text": [
      "Hello! I'm glad to see you! We're using English\n"
     ]
    }
   ],
   "execution_count": 7
  },
  {
   "metadata": {
    "ExecuteTime": {
     "end_time": "2024-11-18T08:53:14.616486Z",
     "start_time": "2024-11-18T08:53:14.610405Z"
    }
   },
   "cell_type": "code",
   "source": [
    "# Enclosure -> Decorators\n",
    "\n",
    "\n",
    "def outer_func():\n",
    "    counter = 0\n",
    "\n",
    "    def inner_func():\n",
    "        nonlocal counter\n",
    "        counter += 1\n",
    "        return counter\n",
    "\n",
    "    return inner_func\n",
    "\n",
    "\n",
    "print(outer_func())\n",
    "\n",
    "# print(inner_func())\n",
    "\n",
    "my_counter = outer_func()\n",
    "\n",
    "print(my_counter())\n",
    "print(my_counter())\n",
    "print(my_counter())\n",
    "print(my_counter())\n",
    "print(my_counter())\n",
    "print(my_counter())\n",
    "print(my_counter())\n",
    "print(my_counter())"
   ],
   "id": "4f2ec0ff0551c76f",
   "outputs": [
    {
     "name": "stdout",
     "output_type": "stream",
     "text": [
      "<function outer_func.<locals>.inner_func at 0x7fa808dfee80>\n",
      "1\n",
      "2\n",
      "3\n",
      "4\n",
      "5\n",
      "6\n",
      "7\n",
      "8\n"
     ]
    }
   ],
   "execution_count": 10
  },
  {
   "metadata": {
    "ExecuteTime": {
     "end_time": "2024-11-18T10:48:41.028471Z",
     "start_time": "2024-11-18T10:48:41.015762Z"
    }
   },
   "cell_type": "code",
   "source": [
    "import string\n",
    "\n",
    "\n",
    "def check_password(password):\n",
    "    if len(password) < 12 or len(password) > 22:\n",
    "        return False\n",
    "    symbols = \"!@#$%^&*?_|<>{}()\"\n",
    "    low = False\n",
    "    upp = False\n",
    "    symb = False\n",
    "    numb = False\n",
    "    for i in password:\n",
    "        if i in string.ascii_uppercase:\n",
    "            upp = True\n",
    "        elif i in string.ascii_lowercase:\n",
    "            low = True\n",
    "        elif i in string.digits:\n",
    "            numb = True\n",
    "        elif i in symbols:\n",
    "            symb = True\n",
    "    return low and upp and symb and numb\n",
    "\n",
    "\n",
    "def check_e_mail(e_mail):\n",
    "    white_domains = (\"com\", \"de\", \"ua\", \"net\")\n",
    "    if \"@\" in e_mail and e_mail.split(\".\")[-1] in white_domains:\n",
    "        return True\n",
    "    return False\n",
    "\n",
    "\n",
    "def feick_swift(password):\n",
    "    balance = 0\n",
    "\n",
    "    def get_balance(pwd):\n",
    "        if pwd == password:\n",
    "            return balance\n",
    "        else:\n",
    "            return \"Try again in next year\"\n",
    "\n",
    "    def deposit(pwd, amount):\n",
    "        nonlocal balance\n",
    "        if pwd == password:\n",
    "            balance += amount\n",
    "            return f\"Мы внесли средства на счет. Текущий баланс: {balance}\" \n",
    "        else:\n",
    "            return \"Wrong password\"\n",
    "    \n",
    "    def withdraw(pwd, amount):\n",
    "        nonlocal balance\n",
    "        \n",
    "        if pwd == password:\n",
    "            if amount <= balance:\n",
    "                balance -= amount\n",
    "                return f\"Снято {amount}. Текущий баланс - {balance}\"\n",
    "            return \"Недостаточно средств\"\n",
    "        else:\n",
    "            return \"Неверный пароль\"\n",
    "\n",
    "    return get_balance, deposit, withdraw\n",
    "\n",
    "\n",
    "def create_bank_acc(e_mail, password):\n",
    "    if check_e_mail(e_mail) and check_password(password):\n",
    "        result = feick_swift(password)\n",
    "        return result\n",
    "    else:\n",
    "        return \"Try again\""
   ],
   "id": "414f626022705757",
   "outputs": [],
   "execution_count": 13
  },
  {
   "metadata": {
    "ExecuteTime": {
     "end_time": "2024-11-18T10:49:01.537994Z",
     "start_time": "2024-11-18T10:48:42.574392Z"
    }
   },
   "cell_type": "code",
   "source": [
    "balance, deposit, withdraw = create_bank_acc(\n",
    "    input(\"enter e-mail:\"),\n",
    "    input(\"enter password: \")\n",
    ")\n",
    "# qwWeErtYy1&23!45"
   ],
   "id": "a44510bd8e492eae",
   "outputs": [],
   "execution_count": 14
  },
  {
   "metadata": {
    "ExecuteTime": {
     "end_time": "2024-11-18T10:51:09.032813Z",
     "start_time": "2024-11-18T10:51:09.029189Z"
    }
   },
   "cell_type": "code",
   "source": [
    "print(balance(\"qwWeErtYy1&23!45\"))\n",
    "\n",
    "\n",
    "print(deposit(\"qwWeErtYy1&23!45\", 700))\n",
    "print(deposit(\"qwWeErtYy1&23!45\", 250))\n",
    "\n",
    "\n",
    "print(withdraw(\"qwWeErtYy1&23!45\", 800))\n",
    "print(withdraw(\"qwWeErtYy1&23!45\", 400))\n",
    "\n",
    "print(balance(\"qwWeErtYy1&23!45\"))"
   ],
   "id": "f2bf864c16fddc81",
   "outputs": [
    {
     "name": "stdout",
     "output_type": "stream",
     "text": [
      "0\n",
      "Мы внесли средства на счет. Текущий баланс: 700\n",
      "Мы внесли средства на счет. Текущий баланс: 950\n",
      "Снято 800. Текущий баланс - 150\n",
      "Недостаточно средств\n",
      "150\n"
     ]
    }
   ],
   "execution_count": 15
  },
  {
   "metadata": {
    "ExecuteTime": {
     "end_time": "2024-11-18T10:52:47.116389Z",
     "start_time": "2024-11-18T10:52:21.299683Z"
    }
   },
   "cell_type": "code",
   "source": [
    "balance2, deposit2, withdraw2 = create_bank_acc(\n",
    "    input(\"enter e-mail:\"),\n",
    "    input(\"enter password: \")\n",
    ")\n",
    "\n",
    "# 1q2!w3e4R5t6y7!u8I9op0"
   ],
   "id": "9e642b8cc3ebaadf",
   "outputs": [],
   "execution_count": 16
  },
  {
   "metadata": {
    "ExecuteTime": {
     "end_time": "2024-11-18T10:53:34.776543Z",
     "start_time": "2024-11-18T10:53:34.772276Z"
    }
   },
   "cell_type": "code",
   "source": "print(balance2(\"1q2!w3e4R5t6y7!u8I9op0\"))",
   "id": "c7daffb0bfd62e04",
   "outputs": [
    {
     "name": "stdout",
     "output_type": "stream",
     "text": [
      "0\n"
     ]
    }
   ],
   "execution_count": 18
  },
  {
   "metadata": {},
   "cell_type": "code",
   "outputs": [],
   "execution_count": null,
   "source": [
    "# def main():\n",
    "#     us_password = ...\n",
    "#     us_email = ...\n",
    "#     us_amount = ...\n",
    "# \n",
    "#     if ...\n",
    "#         ...\n",
    "#     if ...\n",
    "#         ...\n",
    "#     if ...\n",
    "#         ...\n",
    "    "
   ],
   "id": "5e0d12ffc6a6f6df"
  },
  {
   "metadata": {
    "ExecuteTime": {
     "end_time": "2024-11-18T11:00:21.357605Z",
     "start_time": "2024-11-18T11:00:21.352863Z"
    }
   },
   "cell_type": "code",
   "source": [
    "add = lambda x: x ** 0.5\n",
    "\n",
    "print(add(15))"
   ],
   "id": "f9ff45f783c7ae67",
   "outputs": [
    {
     "name": "stdout",
     "output_type": "stream",
     "text": [
      "3.872983346207417\n"
     ]
    }
   ],
   "execution_count": 20
  },
  {
   "metadata": {
    "ExecuteTime": {
     "end_time": "2024-11-18T11:01:18.152897Z",
     "start_time": "2024-11-18T11:01:18.146333Z"
    }
   },
   "cell_type": "code",
   "source": [
    "teachers = [\n",
    "    [\"name\", \"surname\", \"age\", \"email\", \"phone\", \"discipline\", \"is_head\"],\n",
    "    [\"Alex\", \"Black\", 29, \"a.black@gmail.com\", \"123-456-7890\", \"Math\", False],\n",
    "    [\"John\", \"Doe\", 35, \"j.doe@example.com\", \"123-456-7891\", \"Physics\", True],\n",
    "    [\"Jane\", \"Smith\", 28, \"j.smith@example.com\", \"123-456-7892\", \"Chemistry\", False],\n",
    "    [\"Emily\", \"Johnson\", 40, \"e.johnson@example.com\", \"123-456-7893\", \"Biology\", True],\n",
    "    [\"Michael\", \"Brown\", 33, \"m.brown@example.com\", \"123-456-7894\", \"History\", False],\n",
    "    [\"Sarah\", \"Davis\", 37, \"s.davis@example.com\", \"123-456-7895\", \"Literature\", True],\n",
    "    [\"David\", \"Wilson\", 45, \"d.wilson@example.com\", \"123-456-7896\", \"Geography\", False],\n",
    "    [\"Laura\", \"Martin\", 29, \"l.martin@example.com\", \"123-456-7897\", \"Art\", True],\n",
    "]"
   ],
   "id": "61911ffcde1ef512",
   "outputs": [],
   "execution_count": 22
  },
  {
   "metadata": {
    "ExecuteTime": {
     "end_time": "2024-11-18T11:07:19.591647Z",
     "start_time": "2024-11-18T11:07:19.588029Z"
    }
   },
   "cell_type": "code",
   "source": [
    "teach_data = teachers[1:]\n",
    "\n",
    "def sort_by_age(x):\n",
    "    return x[2]\n",
    "\n",
    "teach_data.sort(key=sort_by_age)\n",
    "teach_data.sort(key=lambda x: x[2])\n",
    "\n",
    "print(teach_data)"
   ],
   "id": "34362cc5ac559527",
   "outputs": [
    {
     "name": "stdout",
     "output_type": "stream",
     "text": [
      "[['Jane', 'Smith', 28, 'j.smith@example.com', '123-456-7892', 'Chemistry', False], ['Alex', 'Black', 29, 'a.black@gmail.com', '123-456-7890', 'Math', False], ['Laura', 'Martin', 29, 'l.martin@example.com', '123-456-7897', 'Art', True], ['Michael', 'Brown', 33, 'm.brown@example.com', '123-456-7894', 'History', False], ['John', 'Doe', 35, 'j.doe@example.com', '123-456-7891', 'Physics', True], ['Sarah', 'Davis', 37, 's.davis@example.com', '123-456-7895', 'Literature', True], ['Emily', 'Johnson', 40, 'e.johnson@example.com', '123-456-7893', 'Biology', True], ['David', 'Wilson', 45, 'd.wilson@example.com', '123-456-7896', 'Geography', False]]\n"
     ]
    }
   ],
   "execution_count": 25
  },
  {
   "metadata": {
    "ExecuteTime": {
     "end_time": "2024-11-18T11:09:32.231690Z",
     "start_time": "2024-11-18T11:09:32.227068Z"
    }
   },
   "cell_type": "code",
   "source": [
    "test_sort = sorted(teachers[1:], key=lambda x: x[2])\n",
    "\n",
    "\n",
    "print(test_sort)"
   ],
   "id": "b55bc2541898ee29",
   "outputs": [
    {
     "name": "stdout",
     "output_type": "stream",
     "text": [
      "[['Jane', 'Smith', 28, 'j.smith@example.com', '123-456-7892', 'Chemistry', False], ['Alex', 'Black', 29, 'a.black@gmail.com', '123-456-7890', 'Math', False], ['Laura', 'Martin', 29, 'l.martin@example.com', '123-456-7897', 'Art', True], ['Michael', 'Brown', 33, 'm.brown@example.com', '123-456-7894', 'History', False], ['John', 'Doe', 35, 'j.doe@example.com', '123-456-7891', 'Physics', True], ['Sarah', 'Davis', 37, 's.davis@example.com', '123-456-7895', 'Literature', True], ['Emily', 'Johnson', 40, 'e.johnson@example.com', '123-456-7893', 'Biology', True], ['David', 'Wilson', 45, 'd.wilson@example.com', '123-456-7896', 'Geography', False]]\n"
     ]
    }
   ],
   "execution_count": 26
  },
  {
   "metadata": {
    "ExecuteTime": {
     "end_time": "2024-11-18T11:16:42.624425Z",
     "start_time": "2024-11-18T11:16:42.617449Z"
    }
   },
   "cell_type": "code",
   "source": [
    "# функции высшего порядка\n",
    "\n",
    "# map()\n",
    "\n",
    "numbers = [2, 4, 6, 8, 10]\n",
    "\n",
    "def square(elem):\n",
    "    return elem*elem\n",
    "\n",
    "squared_numbers = list(map(square, numbers))\n",
    "squared_numbers_2 = list(map(lambda elem: elem * elem, numbers))\n",
    "\n",
    "print(squared_numbers)\n",
    "print(squared_numbers_2)"
   ],
   "id": "2e4abf64d18103a7",
   "outputs": [
    {
     "name": "stdout",
     "output_type": "stream",
     "text": [
      "[4, 16, 36, 64, 100]\n",
      "[4, 16, 36, 64, 100]\n"
     ]
    }
   ],
   "execution_count": 29
  },
  {
   "metadata": {
    "ExecuteTime": {
     "end_time": "2024-11-18T11:23:44.950522Z",
     "start_time": "2024-11-18T11:23:44.944446Z"
    }
   },
   "cell_type": "code",
   "source": [
    "# filter\n",
    "\n",
    "numbers = [1, 2, 3, 4, 5, 6, 7, 8, 9]\n",
    "\n",
    "def is_odd(elem):\n",
    "    return elem % 2 != 0\n",
    "\n",
    "\n",
    "odd_nums = list(filter(is_odd, numbers))\n",
    "odd_nums2 = list(filter(lambda elem: elem % 2 != 0, numbers))\n",
    "\n",
    "print(odd_nums)\n",
    "print(odd_nums2)"
   ],
   "id": "9bd7015de7dc3f6f",
   "outputs": [
    {
     "name": "stdout",
     "output_type": "stream",
     "text": [
      "[1, 3, 5, 7, 9]\n",
      "[1, 3, 5, 7, 9]\n"
     ]
    }
   ],
   "execution_count": 33
  },
  {
   "metadata": {},
   "cell_type": "code",
   "outputs": [],
   "execution_count": null,
   "source": [
    "from string import digits\n",
    "\n",
    "\n",
    "def convert_to_int_or_float(value):\n",
    "    if value.isdigit():\n",
    "        return int(value)\n",
    "    elif (value[0] in digits or value[-1] in digits) and '.' in value:\n",
    "        return float(value)\n",
    "    return value\n",
    "\n",
    "def open_file(filename):\n",
    "    data = []\n",
    "    with open(filename, 'r', encoding='utf-8') as f:\n",
    "        for line in f:\n",
    "            values = line.strip('\\n').split('\\t')\n",
    "            values = [convert_to_int_or_float(value) for value in values]\n",
    "            data.append(values)\n",
    "    return data\n",
    "\n",
    "\n",
    "def sort_by_fields(data, field):\n",
    "    data_fields = (\"sername\", \"name\", \"birthday\", \"course\", \"medin_value\")\n",
    "\n",
    "    if field not in data_fields:\n",
    "        return \"field isn`t defined\"\n",
    "    index_field = data_fields.index(field)\n",
    "\n",
    "    def sort_keys(person):\n",
    "        return person[index_field]\n",
    "\n",
    "    sorted_data = sorted(data, key=sort_keys)\n",
    "    return sorted_data\n",
    "\n",
    "\n",
    "file_data = open_file(\"presons1.txt\")\n",
    "res = sort_by_fields(file_data, \"course\")\n",
    "for line in res:\n",
    "    print(\"\\t\".join(map(str, line)))"
   ],
   "id": "6477df319fb7aecd"
  },
  {
   "metadata": {
    "ExecuteTime": {
     "end_time": "2024-11-18T12:42:48.413999Z",
     "start_time": "2024-11-18T12:42:48.407997Z"
    }
   },
   "cell_type": "code",
   "source": [
    "def foo(*args):\n",
    "    print(type(args))\n",
    "    print(args)\n",
    "\n",
    "\n",
    "foo(1, 2, 4, 6, 8, 5, 1, 0)"
   ],
   "id": "12a65233706ea105",
   "outputs": [
    {
     "name": "stdout",
     "output_type": "stream",
     "text": [
      "<class 'tuple'>\n",
      "(1, 2, 4, 6, 8, 5, 1, 0)\n"
     ]
    }
   ],
   "execution_count": 35
  },
  {
   "metadata": {
    "ExecuteTime": {
     "end_time": "2024-11-18T12:43:27.805765Z",
     "start_time": "2024-11-18T12:43:27.785243Z"
    }
   },
   "cell_type": "code",
   "source": [
    "def foo1(arg):\n",
    "    print(type(arg))\n",
    "    print(arg)\n",
    "    \n",
    "foo1(1, 5)"
   ],
   "id": "61c7b11f65d2ad16",
   "outputs": [
    {
     "ename": "TypeError",
     "evalue": "foo1() takes 1 positional argument but 2 were given",
     "output_type": "error",
     "traceback": [
      "\u001B[0;31m---------------------------------------------------------------------------\u001B[0m",
      "\u001B[0;31mTypeError\u001B[0m                                 Traceback (most recent call last)",
      "Cell \u001B[0;32mIn[37], line 5\u001B[0m\n\u001B[1;32m      2\u001B[0m     \u001B[38;5;28mprint\u001B[39m(\u001B[38;5;28mtype\u001B[39m(arg))\n\u001B[1;32m      3\u001B[0m     \u001B[38;5;28mprint\u001B[39m(arg)\n\u001B[0;32m----> 5\u001B[0m \u001B[43mfoo1\u001B[49m\u001B[43m(\u001B[49m\u001B[38;5;241;43m1\u001B[39;49m\u001B[43m,\u001B[49m\u001B[43m \u001B[49m\u001B[38;5;241;43m5\u001B[39;49m\u001B[43m)\u001B[49m\n",
      "\u001B[0;31mTypeError\u001B[0m: foo1() takes 1 positional argument but 2 were given"
     ]
    }
   ],
   "execution_count": 37
  },
  {
   "metadata": {},
   "cell_type": "code",
   "outputs": [],
   "execution_count": null,
   "source": "",
   "id": "fd7c9ebe7241e90d"
  }
 ],
 "metadata": {
  "kernelspec": {
   "display_name": "Python 3",
   "language": "python",
   "name": "python3"
  },
  "language_info": {
   "codemirror_mode": {
    "name": "ipython",
    "version": 2
   },
   "file_extension": ".py",
   "mimetype": "text/x-python",
   "name": "python",
   "nbconvert_exporter": "python",
   "pygments_lexer": "ipython2",
   "version": "2.7.6"
  }
 },
 "nbformat": 4,
 "nbformat_minor": 5
}
