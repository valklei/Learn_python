{
 "cells": [
  {
   "metadata": {
    "ExecuteTime": {
     "end_time": "2024-10-24T07:04:48.329934Z",
     "start_time": "2024-10-24T07:04:48.326194Z"
    }
   },
   "cell_type": "code",
   "source": [
    "test_str = \"qwerty\"\n",
    "#           012345\n",
    "index = 0\n",
    "\n",
    "while index < len(test_str):\n",
    "    print(test_str[index])\n",
    "    \n",
    "    index += 1"
   ],
   "id": "62020ed59dfb186a",
   "outputs": [
    {
     "name": "stdout",
     "output_type": "stream",
     "text": [
      "q\n",
      "w\n",
      "e\n",
      "r\n",
      "t\n",
      "y\n"
     ]
    }
   ],
   "execution_count": 1
  },
  {
   "metadata": {
    "ExecuteTime": {
     "end_time": "2024-10-24T07:07:31.157938Z",
     "start_time": "2024-10-24T07:07:31.150780Z"
    }
   },
   "cell_type": "code",
   "source": "\"e\" in \"Test\"",
   "id": "5b6c6833d66ccbb2",
   "outputs": [
    {
     "data": {
      "text/plain": [
       "True"
      ]
     },
     "execution_count": 2,
     "metadata": {},
     "output_type": "execute_result"
    }
   ],
   "execution_count": 2
  },
  {
   "metadata": {},
   "cell_type": "code",
   "outputs": [],
   "execution_count": null,
   "source": "",
   "id": "4ebbfd7d8486dc4e"
  },
  {
   "metadata": {
    "ExecuteTime": {
     "end_time": "2024-10-24T07:15:24.852853Z",
     "start_time": "2024-10-24T07:15:21.885355Z"
    }
   },
   "cell_type": "code",
   "source": [
    "# .find(substr) - помогает найти нужный элемент в строке. Если элемент есть - вернёт его индекс. Если элемента нет - вернёт -1\n",
    "# .index() - помогает найти нужный элемент в строке. Если элемент есть - вернёт его индекс. Если элемента нет - вернёт ошибку ValueError\n",
    "\n",
    "test = \"Hello, World!\"\n",
    "my_find = input(\"Enter something: \")\n",
    "\n",
    "print(test.find(my_find))\n",
    "print(test.find(my_find))\n",
    "\n",
    "print(\"=\" * 50)\n",
    "\n",
    "print(test.index(my_find))\n",
    "print(test.index(my_find))"
   ],
   "id": "7b99d48d8f9e83ae",
   "outputs": [
    {
     "name": "stdout",
     "output_type": "stream",
     "text": [
      "4\n",
      "4\n",
      "==================================================\n",
      "4\n",
      "4\n"
     ]
    }
   ],
   "execution_count": 9
  },
  {
   "metadata": {},
   "cell_type": "code",
   "outputs": [],
   "execution_count": null,
   "source": "",
   "id": "866f64c6658dc5b5"
  },
  {
   "metadata": {
    "ExecuteTime": {
     "end_time": "2024-10-24T07:17:15.115884Z",
     "start_time": "2024-10-24T07:17:15.112690Z"
    }
   },
   "cell_type": "code",
   "source": [
    "'Testests'.find('e', 2, 7)# find string \\ symbol, start, end\n",
    "# 'Testests'.find('e')"
   ],
   "id": "24191d86ff25101b",
   "outputs": [
    {
     "data": {
      "text/plain": [
       "4"
      ]
     },
     "execution_count": 11,
     "metadata": {},
     "output_type": "execute_result"
    }
   ],
   "execution_count": 11
  },
  {
   "metadata": {
    "ExecuteTime": {
     "end_time": "2024-10-24T07:21:44.670664Z",
     "start_time": "2024-10-24T07:21:40.634239Z"
    }
   },
   "cell_type": "code",
   "source": [
    "user_name = input(\"Enter your name: \")\n",
    "\n",
    "\n",
    "if user_name.islower():\n",
    "    print(\"Welcome\")\n",
    "else:\n",
    "    print(\"Invalid name\")"
   ],
   "id": "7f5a037a953253a0",
   "outputs": [
    {
     "name": "stdout",
     "output_type": "stream",
     "text": [
      "Invalid name\n"
     ]
    }
   ],
   "execution_count": 13
  },
  {
   "metadata": {
    "ExecuteTime": {
     "end_time": "2024-10-24T07:22:42.651221Z",
     "start_time": "2024-10-24T07:22:42.647140Z"
    }
   },
   "cell_type": "code",
   "source": "\"HELLO\".isupper()",
   "id": "93764330234fad75",
   "outputs": [
    {
     "data": {
      "text/plain": [
       "True"
      ]
     },
     "execution_count": 15,
     "metadata": {},
     "output_type": "execute_result"
    }
   ],
   "execution_count": 15
  },
  {
   "metadata": {
    "ExecuteTime": {
     "end_time": "2024-10-24T07:26:09.808774Z",
     "start_time": "2024-10-24T07:25:12.428394Z"
    }
   },
   "cell_type": "code",
   "source": [
    "while True:\n",
    "    us_input = input(\"Enter something: \")\n",
    "    if us_input == 'Q':\n",
    "        break\n",
    "    \n",
    "    if us_input.isdigit(): # '12356456456'\n",
    "        print(int(us_input) ** 2)\n",
    "    else:\n",
    "        print(us_input * 2)"
   ],
   "id": "3b95c8dbd06219ef",
   "outputs": [
    {
     "name": "stdout",
     "output_type": "stream",
     "text": [
      "qwertyqwerty\n",
      "25\n",
      "&&\n",
      "asdasd\n",
      "225\n"
     ]
    }
   ],
   "execution_count": 16
  },
  {
   "metadata": {
    "ExecuteTime": {
     "end_time": "2024-10-24T07:32:09.182579Z",
     "start_time": "2024-10-24T07:32:09.179808Z"
    }
   },
   "cell_type": "code",
   "source": "'qwerty123'.isalnum()",
   "id": "65c0998191a64db6",
   "outputs": [
    {
     "data": {
      "text/plain": [
       "True"
      ]
     },
     "execution_count": 24,
     "metadata": {},
     "output_type": "execute_result"
    }
   ],
   "execution_count": 24
  },
  {
   "metadata": {
    "ExecuteTime": {
     "end_time": "2024-10-24T07:28:31.355776Z",
     "start_time": "2024-10-24T07:28:31.353122Z"
    }
   },
   "cell_type": "code",
   "source": "'qwerty 123'.isascii()",
   "id": "54fed940ffa1171a",
   "outputs": [
    {
     "data": {
      "text/plain": [
       "True"
      ]
     },
     "execution_count": 22,
     "metadata": {},
     "output_type": "execute_result"
    }
   ],
   "execution_count": 22
  },
  {
   "metadata": {
    "ExecuteTime": {
     "end_time": "2024-10-24T07:31:09.704927Z",
     "start_time": "2024-10-24T07:31:09.701450Z"
    }
   },
   "cell_type": "code",
   "source": "'привет'.isascii()",
   "id": "dcc78d53e6a4b68a",
   "outputs": [
    {
     "data": {
      "text/plain": [
       "False"
      ]
     },
     "execution_count": 23,
     "metadata": {},
     "output_type": "execute_result"
    }
   ],
   "execution_count": 23
  },
  {
   "metadata": {
    "ExecuteTime": {
     "end_time": "2024-10-24T07:33:59.324269Z",
     "start_time": "2024-10-24T07:33:59.320332Z"
    }
   },
   "cell_type": "code",
   "source": "'qWeRty'.isalpha()",
   "id": "bf749c17e1f4572",
   "outputs": [
    {
     "data": {
      "text/plain": [
       "True"
      ]
     },
     "execution_count": 27,
     "metadata": {},
     "output_type": "execute_result"
    }
   ],
   "execution_count": 27
  },
  {
   "metadata": {
    "ExecuteTime": {
     "end_time": "2024-10-24T07:39:10.180997Z",
     "start_time": "2024-10-24T07:39:10.178595Z"
    }
   },
   "cell_type": "code",
   "source": [
    "print('Vlad'.startswith('R'))\n",
    "print('Vlad'.endswith('d'))"
   ],
   "id": "a1015a376c8f75b4",
   "outputs": [
    {
     "name": "stdout",
     "output_type": "stream",
     "text": [
      "False\n",
      "True\n"
     ]
    }
   ],
   "execution_count": 30
  },
  {
   "metadata": {
    "ExecuteTime": {
     "end_time": "2024-10-24T07:42:24.350472Z",
     "start_time": "2024-10-24T07:42:17.569693Z"
    }
   },
   "cell_type": "code",
   "source": [
    "email = input(\"Enter your email: \")\n",
    "\n",
    "\n",
    "# 'test.email@gmail.com'\n",
    "# \"com\" in \"com, yahoo, de, su, net, bis\"\n",
    "\n",
    "\n",
    "if '@' in email:\n",
    "    if not email.endswith('.ru'):\n",
    "        print('Valid domain, Welcome')\n",
    "    else:\n",
    "        print(\"Forbidden domain. [.ru]\")\n",
    "else:\n",
    "    print(\"Invalid email\")"
   ],
   "id": "b71c5854dd3d3fa4",
   "outputs": [
    {
     "name": "stdout",
     "output_type": "stream",
     "text": [
      "Valid domain, Welcome\n"
     ]
    }
   ],
   "execution_count": 33
  },
  {
   "metadata": {
    "ExecuteTime": {
     "end_time": "2024-10-24T07:47:18.727295Z",
     "start_time": "2024-10-24T07:47:18.723981Z"
    }
   },
   "cell_type": "code",
   "source": [
    "print('HeLlO, WoRlD!'.lower())\n",
    "print('HeLlO, WoRlD!'.upper())"
   ],
   "id": "a6ee1a64308a54c2",
   "outputs": [
    {
     "name": "stdout",
     "output_type": "stream",
     "text": [
      "hello, world!\n",
      "HELLO, WORLD!\n"
     ]
    }
   ],
   "execution_count": 34
  },
  {
   "metadata": {
    "ExecuteTime": {
     "end_time": "2024-10-24T07:49:55.000017Z",
     "start_time": "2024-10-24T07:49:30.305969Z"
    }
   },
   "cell_type": "code",
   "source": [
    "while True:\n",
    "    us_inp = input(\"Enter something:\")\n",
    "    if us_inp.lower() == 'q':\n",
    "        break\n",
    "    else:\n",
    "        print(us_inp)"
   ],
   "id": "d353505fc9f3212b",
   "outputs": [
    {
     "name": "stdout",
     "output_type": "stream",
     "text": [
      "hello\n",
      "qwerty\n",
      "mamma\n"
     ]
    }
   ],
   "execution_count": 37
  },
  {
   "metadata": {
    "ExecuteTime": {
     "end_time": "2024-10-24T07:55:05.892462Z",
     "start_time": "2024-10-24T07:55:05.889503Z"
    }
   },
   "cell_type": "code",
   "source": [
    "print('hello, my beautifull world!!!'.title())\n",
    "print('hello, my beautifull world!!!'.capitalize())"
   ],
   "id": "385167e458ac5255",
   "outputs": [
    {
     "name": "stdout",
     "output_type": "stream",
     "text": [
      "Hello, My Beautifull World!!!\n",
      "Hello, my beautifull world!!!\n"
     ]
    }
   ],
   "execution_count": 41
  },
  {
   "metadata": {},
   "cell_type": "code",
   "outputs": [],
   "execution_count": null,
   "source": "",
   "id": "a81ef558734471b9"
  },
  {
   "metadata": {},
   "cell_type": "code",
   "outputs": [],
   "execution_count": null,
   "source": "",
   "id": "775cb5b6ea294cfd"
  },
  {
   "metadata": {},
   "cell_type": "code",
   "outputs": [],
   "execution_count": null,
   "source": "",
   "id": "f96eb2c611128517"
  },
  {
   "metadata": {
    "ExecuteTime": {
     "end_time": "2024-10-24T07:58:14.801538Z",
     "start_time": "2024-10-24T07:58:14.798349Z"
    }
   },
   "cell_type": "code",
   "source": [
    "# Замена подстроки на новую\n",
    "# .replace(a, b) - помогает заменить в строке подстроку a на подстроку b\n",
    "'ola ola ola ola'.replace('ola', 'ALO', 2)\n",
    "# 'ola ola ola ola'.replace('ola', 'ALO')"
   ],
   "id": "1de6a42eb5bdce4",
   "outputs": [
    {
     "data": {
      "text/plain": [
       "'ALO ALO ola ola'"
      ]
     },
     "execution_count": 44,
     "metadata": {},
     "output_type": "execute_result"
    }
   ],
   "execution_count": 44
  },
  {
   "metadata": {
    "ExecuteTime": {
     "end_time": "2024-10-24T07:59:36.587996Z",
     "start_time": "2024-10-24T07:59:36.584268Z"
    }
   },
   "cell_type": "code",
   "source": "'I love Java'.replace('Java', 'Python')",
   "id": "65fc3b361cfcd7c8",
   "outputs": [
    {
     "data": {
      "text/plain": [
       "'I love Python'"
      ]
     },
     "execution_count": 45,
     "metadata": {},
     "output_type": "execute_result"
    }
   ],
   "execution_count": 45
  },
  {
   "metadata": {
    "ExecuteTime": {
     "end_time": "2024-10-24T08:00:28.736496Z",
     "start_time": "2024-10-24T08:00:28.733756Z"
    }
   },
   "cell_type": "code",
   "source": "'I love Java'.replace('Java', '')",
   "id": "f1a9c6ef536bf7b3",
   "outputs": [
    {
     "data": {
      "text/plain": [
       "'I love '"
      ]
     },
     "execution_count": 46,
     "metadata": {},
     "output_type": "execute_result"
    }
   ],
   "execution_count": 46
  },
  {
   "metadata": {
    "ExecuteTime": {
     "end_time": "2024-10-24T08:04:29.064532Z",
     "start_time": "2024-10-24T08:04:12.598078Z"
    }
   },
   "cell_type": "code",
   "source": [
    "major_string = input(\"Enter a string: \")\n",
    "to_replace = input(\"Enter what you want to replace: \")\n",
    "new_substr = input(\"Enter what you want to insert: \")\n",
    "\n",
    "\n",
    "new_string = major_string.replace(to_replace, new_substr)\n",
    "\n",
    "print(new_string)\n"
   ],
   "id": "9b7f0c419d27d92c",
   "outputs": [
    {
     "name": "stdout",
     "output_type": "stream",
     "text": [
      "Hi, my dear friend!\n"
     ]
    }
   ],
   "execution_count": 47
  },
  {
   "metadata": {
    "ExecuteTime": {
     "end_time": "2024-10-24T08:13:08.417915Z",
     "start_time": "2024-10-24T08:13:08.415022Z"
    }
   },
   "cell_type": "code",
   "source": [
    "# разбиение строки на список подстрок\n",
    "# .split(delimiter) - помогает разделить целую строку на список маленьких подстрок. Разделение идёт по переданному delimiter.\n",
    "t = \"Hello, my dear friend! You are started to learn Python!\"\n",
    "\n",
    "separated_string = t.split(\" \")\n",
    "\n",
    "print(separated_string)\n",
    "\n",
    "index = 0\n",
    "\n",
    "while index < len(separated_string):\n",
    "    print(separated_string[index])\n",
    "    \n",
    "    index += 1\n"
   ],
   "id": "2c1b8fe1c9e5dece",
   "outputs": [
    {
     "name": "stdout",
     "output_type": "stream",
     "text": [
      "['Hello,', 'my', 'dear', 'friend!', 'You', 'are', 'started', 'to', 'learn', 'Python!']\n",
      "Hello,\n",
      "my\n",
      "dear\n",
      "friend!\n",
      "You\n",
      "are\n",
      "started\n",
      "to\n",
      "learn\n",
      "Python!\n"
     ]
    }
   ],
   "execution_count": 49
  },
  {
   "metadata": {
    "ExecuteTime": {
     "end_time": "2024-10-24T08:18:29.353113Z",
     "start_time": "2024-10-24T08:18:22.698885Z"
    }
   },
   "cell_type": "code",
   "source": [
    "# us_input = input(\"Enter some numbers with comma: \")\n",
    "us_input = '1, 2, 3, 4, 5, 6, 7, 8, 9, 10'\n",
    "\n",
    "print(us_input)\n",
    "print(type(us_input))\n",
    "\n",
    "new_val = us_input.split(', ')\n",
    "\n",
    "print(new_val)"
   ],
   "id": "81f24411ebfffe67",
   "outputs": [
    {
     "name": "stdout",
     "output_type": "stream",
     "text": [
      "1, 2, 3, 4, 5, 6, 7, 8, 9, 10\n",
      "['1', '2', '3', '4', '5', '6', '7', '8', '9', '10']\n"
     ]
    }
   ],
   "execution_count": 52
  },
  {
   "metadata": {
    "ExecuteTime": {
     "end_time": "2024-10-24T08:19:13.721772Z",
     "start_time": "2024-10-24T08:19:13.718863Z"
    }
   },
   "cell_type": "code",
   "source": "print('hello')",
   "id": "efb3ffa2bb161e9d",
   "outputs": [
    {
     "name": "stdout",
     "output_type": "stream",
     "text": [
      "hello\n"
     ]
    }
   ],
   "execution_count": 54
  },
  {
   "metadata": {
    "ExecuteTime": {
     "end_time": "2024-10-24T08:22:44.169152Z",
     "start_time": "2024-10-24T08:21:35.166306Z"
    }
   },
   "cell_type": "code",
   "source": [
    "print(input())\n",
    "print(input(\"Enter something: \"))"
   ],
   "id": "387339a06050ee1f",
   "outputs": [
    {
     "name": "stdout",
     "output_type": "stream",
     "text": [
      "qwerty\n",
      "qwerty\n"
     ]
    }
   ],
   "execution_count": 55
  },
  {
   "metadata": {
    "ExecuteTime": {
     "end_time": "2024-10-24T08:34:38.241620Z",
     "start_time": "2024-10-24T08:34:38.238419Z"
    }
   },
   "cell_type": "code",
   "source": [
    "test = ['1', '2', '3', '4', '5', '6', '7', '8', '9', '10']\n",
    "\n",
    "print(test[1:5])\n",
    "print(test[7])\n",
    "\n",
    "print(\"=\" * 50)\n",
    "\n",
    "restored_string = ', '.join(test)\n",
    "\n",
    "print(restored_string)\n",
    "print(type(restored_string))"
   ],
   "id": "88195fa12497786f",
   "outputs": [
    {
     "name": "stdout",
     "output_type": "stream",
     "text": [
      "['2', '3', '4', '5']\n",
      "8\n",
      "==================================================\n",
      "1, 2, 3, 4, 5, 6, 7, 8, 9, 10\n",
      "<class 'str'>\n"
     ]
    }
   ],
   "execution_count": 67
  },
  {
   "metadata": {},
   "cell_type": "code",
   "outputs": [],
   "execution_count": null,
   "source": "",
   "id": "a25ec14fdf242a90"
  }
 ],
 "metadata": {
  "kernelspec": {
   "display_name": "Python 3",
   "language": "python",
   "name": "python3"
  },
  "language_info": {
   "codemirror_mode": {
    "name": "ipython",
    "version": 2
   },
   "file_extension": ".py",
   "mimetype": "text/x-python",
   "name": "python",
   "nbconvert_exporter": "python",
   "pygments_lexer": "ipython2",
   "version": "2.7.6"
  }
 },
 "nbformat": 4,
 "nbformat_minor": 5
}
