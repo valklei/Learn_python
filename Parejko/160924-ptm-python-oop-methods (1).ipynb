{
 "cells": [
  {
   "cell_type": "code",
   "id": "initial_id",
   "metadata": {
    "collapsed": true,
    "ExecuteTime": {
     "end_time": "2025-01-16T08:09:59.232061Z",
     "start_time": "2025-01-16T08:09:59.226367Z"
    }
   },
   "source": [
    "def func():\n",
    "    ...\n",
    "\n",
    "\n",
    "class M:\n",
    "    def __init__(self):\n",
    "        print(\"Object was created\")\n",
    "\n",
    "    def func(self):\n",
    "        print(self)\n",
    "\n",
    "\n",
    "m = M()\n",
    "\n",
    "m.func()"
   ],
   "outputs": [
    {
     "name": "stdout",
     "output_type": "stream",
     "text": [
      "Object was created\n",
      "<__main__.M object at 0x7a063751c3e0>\n"
     ]
    }
   ],
   "execution_count": 2
  },
  {
   "metadata": {},
   "cell_type": "code",
   "outputs": [],
   "execution_count": null,
   "source": "",
   "id": "f672f21baf01730a"
  },
  {
   "metadata": {
    "ExecuteTime": {
     "end_time": "2025-01-16T08:17:36.022967Z",
     "start_time": "2025-01-16T08:17:36.017775Z"
    }
   },
   "cell_type": "code",
   "source": [
    "class User:\n",
    "    def __init__(self, name=None):\n",
    "        self.name = name if name else 'ANONYM'\n",
    "\n",
    "    def greet(self):\n",
    "        return f\"Greetings, {self.name}\"\n",
    "\n",
    "\n",
    "david = User()\n",
    "print(david.greet())"
   ],
   "id": "17e98263bcf621dc",
   "outputs": [
    {
     "name": "stdout",
     "output_type": "stream",
     "text": [
      "Greetings, ANONYM\n"
     ]
    }
   ],
   "execution_count": 6
  },
  {
   "metadata": {
    "ExecuteTime": {
     "end_time": "2025-01-16T08:34:10.159889Z",
     "start_time": "2025-01-16T08:34:10.151164Z"
    }
   },
   "cell_type": "code",
   "source": [
    "class MyClass:\n",
    "    def __init__(self, name, surname, age, email, gender, role):\n",
    "        self.name = name\n",
    "        self.surname = surname\n",
    "        self.age = age\n",
    "        self.email = email\n",
    "        self.gender = gender\n",
    "        self.role = role\n",
    "\n",
    "    def __str__(self):\n",
    "        return f\"User - {self.role}\"\n",
    "\n",
    "    def __repr__(self):\n",
    "        output = \"MyClass(name={}, surname={}, age={}, email={}, gender={}, role={})\"\n",
    "\n",
    "        return output.format(\n",
    "            self.name,\n",
    "            self.surname,\n",
    "            self.age,\n",
    "            self.email,\n",
    "            self.gender,\n",
    "            self.role\n",
    "        )\n",
    "\n",
    "\n",
    "user_1 = MyClass(\"Vlad\", \"Blck\", 39, \"test.mail@gmail.com\", \"male\", \"Admin\")\n",
    "\n",
    "print(user_1)\n",
    "\n",
    "repr(user_1)"
   ],
   "id": "af5966bfcebedea9",
   "outputs": [
    {
     "name": "stdout",
     "output_type": "stream",
     "text": [
      "User - Admin\n"
     ]
    },
    {
     "data": {
      "text/plain": [
       "'MyClass(name=Vlad, surname=Blck, age=39, email=test.mail@gmail.com, gender=male, role=Admin)'"
      ]
     },
     "execution_count": 14,
     "metadata": {},
     "output_type": "execute_result"
    }
   ],
   "execution_count": 14
  },
  {
   "metadata": {},
   "cell_type": "code",
   "outputs": [],
   "execution_count": null,
   "source": "",
   "id": "483d3db0a395c419"
  },
  {
   "metadata": {},
   "cell_type": "code",
   "outputs": [],
   "execution_count": null,
   "source": "",
   "id": "dd5aed43e64fd534"
  },
  {
   "metadata": {},
   "cell_type": "code",
   "outputs": [],
   "execution_count": null,
   "source": "",
   "id": "1e366687251ae962"
  },
  {
   "metadata": {
    "ExecuteTime": {
     "end_time": "2025-01-16T09:25:03.685917Z",
     "start_time": "2025-01-16T09:25:03.682802Z"
    }
   },
   "cell_type": "code",
   "source": [
    "class Animal:\n",
    "    def __init__(self):\n",
    "        self.paws = 4\n",
    "        self.eyes = 2\n",
    "        self.tail = True\n",
    "        self.ears = 2\n",
    "        self.wool = True\n",
    "\n",
    "\n",
    "class Cat(Animal):\n",
    "    def __init__(self, name, age):\n",
    "        super().__init__()\n",
    "        self.tail = False\n",
    "        self.name = name\n",
    "        self.age = age\n",
    "\n",
    "    def say_mew(self):\n",
    "        print(f\"Your pet {self.name} say 'Mew'!\")\n",
    "\n",
    "    def __str__(self):\n",
    "        return f\"\"\"\n",
    "        Cat's name: {self.name}\n",
    "        Cat's age: {self.age}\n",
    "        Cat's paws: {self.paws}\n",
    "        Cat with tail? - {self.tail}\n",
    "        Cat's ears: {self.ears}\n",
    "        Cat have wool? - {self.wool}\n",
    "        \"\"\"\n",
    "\n",
    "\n",
    "fluffy = Cat(\"Fluffy\", 2)"
   ],
   "id": "44504e8427bc752d",
   "outputs": [],
   "execution_count": 15
  },
  {
   "metadata": {},
   "cell_type": "code",
   "outputs": [],
   "execution_count": null,
   "source": "",
   "id": "1aba057edaad37c0"
  },
  {
   "metadata": {
    "ExecuteTime": {
     "end_time": "2025-01-16T09:25:10.783337Z",
     "start_time": "2025-01-16T09:25:10.780954Z"
    }
   },
   "cell_type": "code",
   "source": "fluffy.say_mew()",
   "id": "517ae6519a7a4080",
   "outputs": [
    {
     "name": "stdout",
     "output_type": "stream",
     "text": [
      "Your pet Fluffy say 'Mew'!\n"
     ]
    }
   ],
   "execution_count": 16
  },
  {
   "metadata": {
    "ExecuteTime": {
     "end_time": "2025-01-16T09:28:11.618988Z",
     "start_time": "2025-01-16T09:28:11.616549Z"
    }
   },
   "cell_type": "code",
   "source": "print(fluffy, fluffy.say_mew())",
   "id": "cfe26ebc4710f44",
   "outputs": [
    {
     "name": "stdout",
     "output_type": "stream",
     "text": [
      "Your pet Fluffy say 'Mew'!\n",
      "\n",
      "        Cat's name: Fluffy\n",
      "        Cat's age: 2\n",
      "        Cat's paws: 4\n",
      "        Cat with tail? - True\n",
      "        Cat's ears: 2\n",
      "        Cat have wool? - True\n",
      "         None\n"
     ]
    }
   ],
   "execution_count": 19
  },
  {
   "metadata": {},
   "cell_type": "code",
   "outputs": [],
   "execution_count": null,
   "source": "",
   "id": "7f083a9f7ecc91b6"
  },
  {
   "metadata": {},
   "cell_type": "code",
   "outputs": [],
   "execution_count": null,
   "source": [
    "print(rect) -> ######\n",
    "               #    #\n",
    "               ######"
   ],
   "id": "14008725c5afaa40"
  },
  {
   "metadata": {},
   "cell_type": "code",
   "outputs": [],
   "execution_count": null,
   "source": "",
   "id": "9541062cf5a34db7"
  }
 ],
 "metadata": {
  "kernelspec": {
   "display_name": "Python 3",
   "language": "python",
   "name": "python3"
  },
  "language_info": {
   "codemirror_mode": {
    "name": "ipython",
    "version": 2
   },
   "file_extension": ".py",
   "mimetype": "text/x-python",
   "name": "python",
   "nbconvert_exporter": "python",
   "pygments_lexer": "ipython2",
   "version": "2.7.6"
  }
 },
 "nbformat": 4,
 "nbformat_minor": 5
}
