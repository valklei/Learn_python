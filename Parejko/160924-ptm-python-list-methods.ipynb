{
 "cells": [
  {
   "cell_type": "code",
   "id": "initial_id",
   "metadata": {
    "collapsed": true,
    "ExecuteTime": {
     "end_time": "2024-11-11T08:07:28.007631Z",
     "start_time": "2024-11-11T08:07:28.002780Z"
    }
   },
   "source": [
    "data = [\"Victor\", \"Anna\", \"John\"]\n",
    "\n",
    "\n",
    "data.append(\"Ihor\")\n",
    "\n",
    "print(data)"
   ],
   "outputs": [
    {
     "name": "stdout",
     "output_type": "stream",
     "text": [
      "['Victor', 'Anna', 'John', 'Ihor']\n"
     ]
    }
   ],
   "execution_count": 1
  },
  {
   "metadata": {
    "ExecuteTime": {
     "end_time": "2024-11-11T08:09:02.784664Z",
     "start_time": "2024-11-11T08:09:02.780838Z"
    }
   },
   "cell_type": "code",
   "source": [
    "data.insert(2, \"Maria\")\n",
    "\n",
    "print(data)"
   ],
   "id": "14638426bf55978a",
   "outputs": [
    {
     "name": "stdout",
     "output_type": "stream",
     "text": [
      "['Victor', 'Anna', 'Maria', 'John', 'Ihor']\n"
     ]
    }
   ],
   "execution_count": 2
  },
  {
   "metadata": {
    "ExecuteTime": {
     "end_time": "2024-11-11T08:19:51.529024Z",
     "start_time": "2024-11-11T08:19:51.523618Z"
    }
   },
   "cell_type": "code",
   "source": [
    "tasks_queue = [\"get_object_by_id()\", \"write_data()\", \"filter_result()\"]\n",
    "\n",
    "def add_new_item_to_queue(target, index, function):\n",
    "    if index > len(target):\n",
    "        target.append(function)\n",
    "    else:\n",
    "        target.insert(index, function)\n",
    "\n",
    "\n",
    "print(\"Before Updates:\")\n",
    "print(tasks_queue)\n",
    "\n",
    "\n",
    "print(\"=\"*40)\n",
    "add_new_item_to_queue(tasks_queue, 10, \"sort_data()\")\n",
    "add_new_item_to_queue(tasks_queue, 1, \"sort_data()\")\n",
    "\n",
    "print(\"After Updates:\")\n",
    "print(tasks_queue)"
   ],
   "id": "4cbbcd0ed8c4f9f",
   "outputs": [
    {
     "name": "stdout",
     "output_type": "stream",
     "text": [
      "Before Updates:\n",
      "['get_object_by_id()', 'write_data()', 'filter_result()']\n",
      "========================================\n",
      "After Updates:\n",
      "['get_object_by_id()', 'sort_data()', 'write_data()', 'filter_result()', 'sort_data()']\n"
     ]
    }
   ],
   "execution_count": 4
  },
  {
   "metadata": {
    "ExecuteTime": {
     "end_time": "2024-11-11T08:30:07.795256Z",
     "start_time": "2024-11-11T08:30:07.790639Z"
    }
   },
   "cell_type": "code",
   "source": [
    "names = [\"Ihor\", \"Valya\", \"Vacheslyav Black\", \"Ihor\"]\n",
    "\n",
    "\n",
    "names[2] = names[2].replace(\" Black\", \"\")\n",
    "names.remove(\"Ihor\")\n",
    "print(names)"
   ],
   "id": "94262c42857f9d14",
   "outputs": [
    {
     "name": "stdout",
     "output_type": "stream",
     "text": [
      "['Ihor', 'Valya', 'Vacheslyav Black', 'Ihor']\n"
     ]
    }
   ],
   "execution_count": 11
  },
  {
   "metadata": {
    "ExecuteTime": {
     "end_time": "2024-11-11T08:30:51.701673Z",
     "start_time": "2024-11-11T08:30:51.695459Z"
    }
   },
   "cell_type": "code",
   "source": "a = names[2].replace(\" Black\", \"\")",
   "id": "68cde94c77106259",
   "outputs": [],
   "execution_count": 14
  },
  {
   "metadata": {
    "ExecuteTime": {
     "end_time": "2024-11-11T08:30:53.195937Z",
     "start_time": "2024-11-11T08:30:53.190019Z"
    }
   },
   "cell_type": "code",
   "source": "a",
   "id": "34dc8abb23d1153c",
   "outputs": [
    {
     "data": {
      "text/plain": [
       "'Vacheslyav'"
      ]
     },
     "execution_count": 15,
     "metadata": {},
     "output_type": "execute_result"
    }
   ],
   "execution_count": 15
  },
  {
   "metadata": {
    "ExecuteTime": {
     "end_time": "2024-11-11T08:31:56.434673Z",
     "start_time": "2024-11-11T08:31:56.430565Z"
    }
   },
   "cell_type": "code",
   "source": [
    "t = [\"hello\", \"vlad\"]\n",
    "\n",
    "t[1] = \"WORLD!!!!!!!\""
   ],
   "id": "9183501458eea15c",
   "outputs": [],
   "execution_count": 16
  },
  {
   "metadata": {
    "ExecuteTime": {
     "end_time": "2024-11-11T08:31:58.327609Z",
     "start_time": "2024-11-11T08:31:58.321541Z"
    }
   },
   "cell_type": "code",
   "source": "t",
   "id": "64c535a8a3511d54",
   "outputs": [
    {
     "data": {
      "text/plain": [
       "['hello', 'WORLD!!!!!!!']"
      ]
     },
     "execution_count": 17,
     "metadata": {},
     "output_type": "execute_result"
    }
   ],
   "execution_count": 17
  },
  {
   "metadata": {
    "ExecuteTime": {
     "end_time": "2024-11-11T08:40:31.778259Z",
     "start_time": "2024-11-11T08:40:31.772785Z"
    }
   },
   "cell_type": "code",
   "source": [
    "data = [\"Bad\", \"Crair\", \"TV\", \"Laptop\", \"Pen\", \"Notebook\", \"Laptop\"]\n",
    "\n",
    "req_index = data.index(\"Laptop\") # 3\n",
    "\n",
    "data.insert(req_index, \"PS5\")\n",
    "\n",
    "print(data)\n",
    "\n",
    "# req_index = data.index(\"qwerty\")\n",
    "# \n",
    "# print(req_index)\n",
    "# \n",
    "# print(data[req_index])"
   ],
   "id": "735116250b5f2d13",
   "outputs": [
    {
     "name": "stdout",
     "output_type": "stream",
     "text": [
      "['Bad', 'Crair', 'TV', 'PS5', 'Laptop', 'Pen', 'Notebook', 'Laptop']\n"
     ]
    }
   ],
   "execution_count": 22
  },
  {
   "metadata": {
    "ExecuteTime": {
     "end_time": "2024-11-11T08:46:25.543153Z",
     "start_time": "2024-11-11T08:46:25.538708Z"
    }
   },
   "cell_type": "code",
   "source": [
    "data = [\"Bad\", \"Crair\", \"TV\", \"Laptop\", \"Pen\", \"Notebook\", \"Laptop\"]\n",
    "\n",
    "req_elem = \"Laptop\"\n",
    "\n",
    "print(f\"The count of '{req_elem}' is - {data.count(req_elem)}\")\n",
    "\n"
   ],
   "id": "55a3ce2c032598c",
   "outputs": [
    {
     "name": "stdout",
     "output_type": "stream",
     "text": [
      "The count of 'Laptop' is - 2\n"
     ]
    }
   ],
   "execution_count": 26
  },
  {
   "metadata": {
    "ExecuteTime": {
     "end_time": "2024-11-11T08:48:03.639643Z",
     "start_time": "2024-11-11T08:48:03.635102Z"
    }
   },
   "cell_type": "code",
   "source": [
    "data = [\"Bad\", \"Crair\", \"TV\", \"Laptop\", \"Pen\", \"Notebook\", \"Laptop\"]\n",
    "\n",
    "print(data)\n",
    "\n",
    "data.clear()\n",
    "\n",
    "print(data)"
   ],
   "id": "bf610263677aab3b",
   "outputs": [
    {
     "name": "stdout",
     "output_type": "stream",
     "text": [
      "['Bad', 'Crair', 'TV', 'Laptop', 'Pen', 'Notebook', 'Laptop']\n",
      "[]\n"
     ]
    }
   ],
   "execution_count": 28
  },
  {
   "metadata": {
    "ExecuteTime": {
     "end_time": "2024-11-11T08:50:30.988308Z",
     "start_time": "2024-11-11T08:50:30.967666Z"
    }
   },
   "cell_type": "code",
   "source": [
    "data = [\"Bad\", \"Crair\", \"TV\", \"Laptop\", \"Pen\", \"Notebook\", \"Laptop\"]\n",
    "\n",
    "elem_index = data.index(\"Laptop\") # 3\n",
    "elem_index_2 = data.index(\"Laptop\", elem_index + 1) # 3\n",
    "\n",
    "del data[elem_index]\n",
    "print(data)\n",
    "\n",
    "del data\n",
    "\n",
    "print(data)"
   ],
   "id": "209e0e204c0736de",
   "outputs": [
    {
     "name": "stdout",
     "output_type": "stream",
     "text": [
      "['Bad', 'Crair', 'TV', 'Pen', 'Notebook', 'Laptop']\n"
     ]
    },
    {
     "ename": "NameError",
     "evalue": "name 'data' is not defined",
     "output_type": "error",
     "traceback": [
      "\u001B[0;31m---------------------------------------------------------------------------\u001B[0m",
      "\u001B[0;31mNameError\u001B[0m                                 Traceback (most recent call last)",
      "Cell \u001B[0;32mIn[30], line 8\u001B[0m\n\u001B[1;32m      4\u001B[0m \u001B[38;5;28mprint\u001B[39m(data)\n\u001B[1;32m      6\u001B[0m \u001B[38;5;28;01mdel\u001B[39;00m data\n\u001B[0;32m----> 8\u001B[0m \u001B[38;5;28mprint\u001B[39m(\u001B[43mdata\u001B[49m)\n",
      "\u001B[0;31mNameError\u001B[0m: name 'data' is not defined"
     ]
    }
   ],
   "execution_count": 30
  },
  {
   "metadata": {
    "ExecuteTime": {
     "end_time": "2024-11-11T08:59:53.855247Z",
     "start_time": "2024-11-11T08:59:53.849966Z"
    }
   },
   "cell_type": "code",
   "source": [
    "data = [\"Bad\", \"Chair\", \"TV\", \"Laptop\", \"Pen\", \"Notebook\", \"Laptop\"]\n",
    "\n",
    "# for elem in data:\n",
    "#     elem.lower() ...\n",
    "\n",
    "print(data[1])"
   ],
   "id": "b52232f7622e90b6",
   "outputs": [
    {
     "name": "stdout",
     "output_type": "stream",
     "text": [
      "Chair\n"
     ]
    }
   ],
   "execution_count": 32
  },
  {
   "metadata": {
    "ExecuteTime": {
     "end_time": "2024-11-11T09:13:28.712482Z",
     "start_time": "2024-11-11T09:13:28.691067Z"
    }
   },
   "cell_type": "code",
   "source": [
    "data = [\"Bad\", \"Chair\", \"TV\", \"Laptop\", \"Pen\", \"Notebook\", \"Laptop\"]\n",
    "\n",
    "# data.pop(\"Bad\")\n",
    "\n",
    "data.append(data.pop(data.index(\"TV\")))\n",
    "\n",
    "print(data)"
   ],
   "id": "bacc55bfc5045af9",
   "outputs": [
    {
     "ename": "TypeError",
     "evalue": "'str' object cannot be interpreted as an integer",
     "output_type": "error",
     "traceback": [
      "\u001B[0;31m---------------------------------------------------------------------------\u001B[0m",
      "\u001B[0;31mTypeError\u001B[0m                                 Traceback (most recent call last)",
      "Cell \u001B[0;32mIn[35], line 3\u001B[0m\n\u001B[1;32m      1\u001B[0m data \u001B[38;5;241m=\u001B[39m [\u001B[38;5;124m\"\u001B[39m\u001B[38;5;124mBad\u001B[39m\u001B[38;5;124m\"\u001B[39m, \u001B[38;5;124m\"\u001B[39m\u001B[38;5;124mChair\u001B[39m\u001B[38;5;124m\"\u001B[39m, \u001B[38;5;124m\"\u001B[39m\u001B[38;5;124mTV\u001B[39m\u001B[38;5;124m\"\u001B[39m, \u001B[38;5;124m\"\u001B[39m\u001B[38;5;124mLaptop\u001B[39m\u001B[38;5;124m\"\u001B[39m, \u001B[38;5;124m\"\u001B[39m\u001B[38;5;124mPen\u001B[39m\u001B[38;5;124m\"\u001B[39m, \u001B[38;5;124m\"\u001B[39m\u001B[38;5;124mNotebook\u001B[39m\u001B[38;5;124m\"\u001B[39m, \u001B[38;5;124m\"\u001B[39m\u001B[38;5;124mLaptop\u001B[39m\u001B[38;5;124m\"\u001B[39m]\n\u001B[0;32m----> 3\u001B[0m \u001B[43mdata\u001B[49m\u001B[38;5;241;43m.\u001B[39;49m\u001B[43mpop\u001B[49m\u001B[43m(\u001B[49m\u001B[38;5;124;43m\"\u001B[39;49m\u001B[38;5;124;43mBad\u001B[39;49m\u001B[38;5;124;43m\"\u001B[39;49m\u001B[43m)\u001B[49m\n\u001B[1;32m      5\u001B[0m data\u001B[38;5;241m.\u001B[39mappend(data\u001B[38;5;241m.\u001B[39mpop(data\u001B[38;5;241m.\u001B[39mindex(\u001B[38;5;124m\"\u001B[39m\u001B[38;5;124mTV\u001B[39m\u001B[38;5;124m\"\u001B[39m)))\n\u001B[1;32m      7\u001B[0m \u001B[38;5;28mprint\u001B[39m(data)\n",
      "\u001B[0;31mTypeError\u001B[0m: 'str' object cannot be interpreted as an integer"
     ]
    }
   ],
   "execution_count": 35
  },
  {
   "metadata": {
    "ExecuteTime": {
     "end_time": "2024-11-11T09:18:22.548187Z",
     "start_time": "2024-11-11T09:18:22.521501Z"
    }
   },
   "cell_type": "code",
   "source": [
    "# tuple\n",
    "\n",
    "my_tuple = (2, 4.2, \"Hello\", True, None, (2, 4, 6), [3, 4, 5])\n",
    "#                                         0  1  2    0  1  2\n",
    "#           0   1      2       3    4        5          6\n",
    "\n",
    "\n",
    "\n",
    "my_tuple[2] = \"HELLO  WORLD!!!!\"\n",
    "\n",
    "print(my_tuple)"
   ],
   "id": "9aa1b7eefaafd924",
   "outputs": [
    {
     "ename": "TypeError",
     "evalue": "'tuple' object does not support item assignment",
     "output_type": "error",
     "traceback": [
      "\u001B[0;31m---------------------------------------------------------------------------\u001B[0m",
      "\u001B[0;31mTypeError\u001B[0m                                 Traceback (most recent call last)",
      "Cell \u001B[0;32mIn[36], line 6\u001B[0m\n\u001B[1;32m      1\u001B[0m \u001B[38;5;66;03m# tuple\u001B[39;00m\n\u001B[1;32m      3\u001B[0m my_tuple \u001B[38;5;241m=\u001B[39m (\u001B[38;5;241m2\u001B[39m, \u001B[38;5;241m4.2\u001B[39m, \u001B[38;5;124m\"\u001B[39m\u001B[38;5;124mHello\u001B[39m\u001B[38;5;124m\"\u001B[39m, \u001B[38;5;28;01mTrue\u001B[39;00m, \u001B[38;5;28;01mNone\u001B[39;00m, (\u001B[38;5;241m2\u001B[39m, \u001B[38;5;241m4\u001B[39m, \u001B[38;5;241m6\u001B[39m), [\u001B[38;5;241m3\u001B[39m, \u001B[38;5;241m4\u001B[39m, \u001B[38;5;241m5\u001B[39m])\n\u001B[0;32m----> 6\u001B[0m \u001B[43mmy_tuple\u001B[49m\u001B[43m[\u001B[49m\u001B[38;5;241;43m2\u001B[39;49m\u001B[43m]\u001B[49m \u001B[38;5;241m=\u001B[39m \u001B[38;5;124m\"\u001B[39m\u001B[38;5;124mHELLO  WORLD!!!!\u001B[39m\u001B[38;5;124m\"\u001B[39m\n\u001B[1;32m      8\u001B[0m \u001B[38;5;28mprint\u001B[39m(my_tuple)\n",
      "\u001B[0;31mTypeError\u001B[0m: 'tuple' object does not support item assignment"
     ]
    }
   ],
   "execution_count": 36
  },
  {
   "metadata": {
    "ExecuteTime": {
     "end_time": "2024-11-11T09:20:53.736565Z",
     "start_time": "2024-11-11T09:20:53.731932Z"
    }
   },
   "cell_type": "code",
   "source": [
    "a = 5\n",
    "b = 20\n",
    "\n",
    "a, b = b, a\n",
    "\n",
    "print(a, b)"
   ],
   "id": "222c33fb2219d394",
   "outputs": [
    {
     "name": "stdout",
     "output_type": "stream",
     "text": [
      "20 5\n"
     ]
    }
   ],
   "execution_count": 37
  },
  {
   "metadata": {
    "ExecuteTime": {
     "end_time": "2024-11-11T09:21:47.499354Z",
     "start_time": "2024-11-11T09:21:47.494128Z"
    }
   },
   "cell_type": "code",
   "source": [
    "test_var = 5, 7, 9\n",
    "\n",
    "\n",
    "print(test_var)\n",
    "print(type(test_var))"
   ],
   "id": "74affca68cf9f0f",
   "outputs": [
    {
     "name": "stdout",
     "output_type": "stream",
     "text": [
      "(5, 7, 9)\n",
      "<class 'tuple'>\n"
     ]
    }
   ],
   "execution_count": 38
  },
  {
   "metadata": {
    "ExecuteTime": {
     "end_time": "2024-11-11T09:24:29.671665Z",
     "start_time": "2024-11-11T09:24:29.667180Z"
    }
   },
   "cell_type": "code",
   "source": [
    "var = (8, (\"Chair\", \"TV\", \"Laptop\"))\n",
    "\n",
    "\n",
    "print(var[1][2])"
   ],
   "id": "f5750e7da1adb995",
   "outputs": [
    {
     "name": "stdout",
     "output_type": "stream",
     "text": [
      "Laptop\n"
     ]
    }
   ],
   "execution_count": 40
  },
  {
   "metadata": {},
   "cell_type": "code",
   "outputs": [],
   "execution_count": null,
   "source": [
    "var = [\n",
    "    [[], [], []],\n",
    "    [[], [], []],\n",
    "    [[], [], []]\n",
    "]"
   ],
   "id": "e3cd1fce7b389a3d"
  },
  {
   "metadata": {},
   "cell_type": "code",
   "outputs": [],
   "execution_count": null,
   "source": [
    "unique_ips = (\"asd87q6w9e8\", \"a9sd8f76fd98s\", \"a9sd8f76fd98s\", \"s0df7g6s9d8f\", \"as9fdg87sdf7g6s\")\n",
    "# set()\n",
    "# foo(5, 4) -> 9 # (5, 4): 9"
   ],
   "id": "4825f157e9ea9110"
  },
  {
   "metadata": {},
   "cell_type": "code",
   "outputs": [],
   "execution_count": null,
   "source": [
    "a = 5\n",
    "b = 20\n",
    "\n",
    "a, b = b, a (<link1>, <link2>) = (<link2>, <link1>)\n",
    "\n",
    "print(a, b)"
   ],
   "id": "3861214b81489540"
  },
  {
   "metadata": {},
   "cell_type": "code",
   "outputs": [],
   "execution_count": null,
   "source": "[(\"Alice\", 20, 90), (\"Bob\", 19, 80), (\"Charlie\", 21, 95), (\"David\", 18, 85)]",
   "id": "663c35db430078"
  },
  {
   "metadata": {},
   "cell_type": "code",
   "outputs": [],
   "execution_count": null,
   "source": [
    "def foo(studs, target_val):\n",
    "    ..."
   ],
   "id": "f357b8631be0c153"
  }
 ],
 "metadata": {
  "kernelspec": {
   "display_name": "Python 3",
   "language": "python",
   "name": "python3"
  },
  "language_info": {
   "codemirror_mode": {
    "name": "ipython",
    "version": 2
   },
   "file_extension": ".py",
   "mimetype": "text/x-python",
   "name": "python",
   "nbconvert_exporter": "python",
   "pygments_lexer": "ipython2",
   "version": "2.7.6"
  }
 },
 "nbformat": 4,
 "nbformat_minor": 5
}
