{
 "cells": [
  {
   "metadata": {
    "ExecuteTime": {
     "end_time": "2024-11-01T08:10:34.595087Z",
     "start_time": "2024-11-01T08:10:34.592461Z"
    }
   },
   "cell_type": "code",
   "source": [
    "names = [\"Irina\", \"Dmitry\", \"Pavel\", \"Victoria\", \"Karina\", \"Vsevolod\"]\n",
    "\n",
    "index = 0\n",
    "\n",
    "while index < len(names):\n",
    "    temp_var = names[index]\n",
    "    \n",
    "    print(temp_var, end='\\t')\n",
    "    \n",
    "    if temp_var == \"Vlad\" or temp_var == \"Anya\":\n",
    "        print(temp_var)\n",
    "    \n",
    "    index += 1\n",
    "\n",
    "\n",
    "\n"
   ],
   "id": "9ce8b17f6413b5fb",
   "outputs": [
    {
     "name": "stdout",
     "output_type": "stream",
     "text": [
      "Irina\tDmitry\tPavel\tVictoria\tKarina\tVsevolod\t"
     ]
    }
   ],
   "execution_count": 2
  },
  {
   "metadata": {
    "ExecuteTime": {
     "end_time": "2024-11-01T08:16:15.711709Z",
     "start_time": "2024-11-01T08:16:15.707943Z"
    }
   },
   "cell_type": "code",
   "source": [
    "for temporary_var in names:\n",
    "    print(temporary_var, end='\\t')"
   ],
   "id": "495974253dc22d72",
   "outputs": [
    {
     "name": "stdout",
     "output_type": "stream",
     "text": [
      "Irina\tDmitry\tPavel\tVictoria\tKarina\tVsevolod\t"
     ]
    }
   ],
   "execution_count": 4
  },
  {
   "metadata": {
    "ExecuteTime": {
     "end_time": "2024-11-01T08:19:52.567260Z",
     "start_time": "2024-11-01T08:19:52.564516Z"
    }
   },
   "cell_type": "code",
   "source": [
    "names = [\"Irina\", \"Dmitry\", \"Pavel\", \"Victoria\", \"Karina\", \"Vsevolod\"]\n",
    "\n",
    "\n",
    "for name in names:\n",
    "    for char in name:\n",
    "        print(char.upper(), end=' | ')"
   ],
   "id": "c91c9f1ecb40def2",
   "outputs": [
    {
     "name": "stdout",
     "output_type": "stream",
     "text": [
      "I | R | I | N | A | D | M | I | T | R | Y | P | A | V | E | L | V | I | C | T | O | R | I | A | K | A | R | I | N | A | V | S | E | V | O | L | O | D | "
     ]
    }
   ],
   "execution_count": 5
  },
  {
   "metadata": {
    "ExecuteTime": {
     "end_time": "2024-11-01T08:39:48.471890Z",
     "start_time": "2024-11-01T08:39:47.227684Z"
    }
   },
   "cell_type": "code",
   "source": [
    "us_data = input(\"Enter some text: \")\n",
    "\n",
    "my_file = open(\"test_data.txt\", \"a\") # append\n",
    "\n",
    "my_file.write(f\"{us_data}\\n\")\n",
    "my_file.write(f\"{us_data * 2}\\n\")\n",
    "\n",
    "my_file.close()"
   ],
   "id": "c0a2edeb7e0a9240",
   "outputs": [],
   "execution_count": 10
  },
  {
   "metadata": {
    "ExecuteTime": {
     "end_time": "2024-11-01T09:23:19.209590Z",
     "start_time": "2024-11-01T09:22:56.517053Z"
    }
   },
   "cell_type": "code",
   "source": [
    "import random\n",
    "from datetime import datetime\n",
    "\n",
    "# game_log.txt\n",
    "\n",
    "max_attempts = int(input(\"Введите количество попыток: \"))\n",
    "min_range = int(input(\"Введите начало диапазона: \"))\n",
    "max_range = int(input(\"Введите конец диапазона: \"))\n",
    "\n",
    "secret_number = random.randint(min_range, max_range)\n",
    "\n",
    "attempts = 0\n",
    "\n",
    "log_template = \"[{}] {} {}\"\n",
    "\n",
    "with open(\"game_log.txt\", \"a\") as game_log:\n",
    "    while attempts < max_attempts:\n",
    "        guess = int(input(f\"Попробуйте угадать число (попытка {attempts + 1}): \"))\n",
    "        game_log.write(log_template.format(datetime.now(), 'Попробуйте угадать число -', guess) + '\\n')\n",
    "    \n",
    "        if guess == secret_number:\n",
    "            print(f\"Поздравляем! Вы угадали число за {attempts + 1} попыток.\\n\")\n",
    "            game_log.write(log_template.format(datetime.now(), guess, f\"Поздравляем! Вы угадали число за {attempts + 1} попыток.\\n\"))\n",
    "            break\n",
    "        elif guess < secret_number:\n",
    "            print(\"Загаданное число больше.\")\n",
    "            game_log.write(log_template.format(datetime.now(), guess, \"Загаданное число больше.\\n\"))\n",
    "        else:\n",
    "            print(\"Загаданное число меньше.\")\n",
    "            game_log.write(log_template.format(datetime.now(), guess, \"Загаданное число меньше.\\n\"))\n",
    "    \n",
    "        attempts += 1\n",
    "    else:\n",
    "        print(f\"Игра окончена. Вы исчерпали все попытки. Загаданное число было {secret_number}.\")\n",
    "        game_log.write(log_template.format(datetime.now(), f\"Игра окончена. Вы исчерпали все попытки. Загаданное число было {secret_number}.\\n\", \"GAME OVER\"))"
   ],
   "id": "917471d708774418",
   "outputs": [],
   "execution_count": 14
  },
  {
   "metadata": {
    "ExecuteTime": {
     "end_time": "2024-11-01T09:27:31.715952Z",
     "start_time": "2024-11-01T09:27:31.713500Z"
    }
   },
   "cell_type": "code",
   "source": "print(f\"{datetime.now()}\")",
   "id": "f64a59d73037dd44",
   "outputs": [
    {
     "name": "stdout",
     "output_type": "stream",
     "text": [
      "2024-11-01 13:27:31.714330\n"
     ]
    }
   ],
   "execution_count": 15
  },
  {
   "metadata": {},
   "cell_type": "code",
   "outputs": [],
   "execution_count": null,
   "source": "us_input = 5\n",
   "id": "b27d25179391499e"
  },
  {
   "metadata": {
    "ExecuteTime": {
     "end_time": "2024-11-01T09:33:47.692241Z",
     "start_time": "2024-11-01T09:33:47.687892Z"
    }
   },
   "cell_type": "code",
   "source": [
    "for i in range(1, 11):\n",
    "    for j in range(1, 11):\n",
    "        print('⬜' if (i + j) % 2 == 0 else '⬛', end=' ')\n",
    "    \n",
    "    print() # \\n"
   ],
   "id": "61d99171f886138d",
   "outputs": [
    {
     "name": "stdout",
     "output_type": "stream",
     "text": [
      "⬜ ⬛ ⬜ ⬛ ⬜ ⬛ ⬜ ⬛ ⬜ ⬛ \n",
      "⬛ ⬜ ⬛ ⬜ ⬛ ⬜ ⬛ ⬜ ⬛ ⬜ \n",
      "⬜ ⬛ ⬜ ⬛ ⬜ ⬛ ⬜ ⬛ ⬜ ⬛ \n",
      "⬛ ⬜ ⬛ ⬜ ⬛ ⬜ ⬛ ⬜ ⬛ ⬜ \n",
      "⬜ ⬛ ⬜ ⬛ ⬜ ⬛ ⬜ ⬛ ⬜ ⬛ \n",
      "⬛ ⬜ ⬛ ⬜ ⬛ ⬜ ⬛ ⬜ ⬛ ⬜ \n",
      "⬜ ⬛ ⬜ ⬛ ⬜ ⬛ ⬜ ⬛ ⬜ ⬛ \n",
      "⬛ ⬜ ⬛ ⬜ ⬛ ⬜ ⬛ ⬜ ⬛ ⬜ \n",
      "⬜ ⬛ ⬜ ⬛ ⬜ ⬛ ⬜ ⬛ ⬜ ⬛ \n",
      "⬛ ⬜ ⬛ ⬜ ⬛ ⬜ ⬛ ⬜ ⬛ ⬜ \n"
     ]
    }
   ],
   "execution_count": 20
  },
  {
   "metadata": {
    "ExecuteTime": {
     "end_time": "2024-11-01T09:36:46.613994Z",
     "start_time": "2024-11-01T09:36:46.609912Z"
    }
   },
   "cell_type": "code",
   "source": "",
   "id": "10ab07780841fb02",
   "outputs": [
    {
     "name": "stdout",
     "output_type": "stream",
     "text": [
      "192.168.1.1,192.168.1.2,192.168.1.3,192.168.1.4,192.168.1.5\n",
      "Count of IP address '192.168.1.1' - 16\n",
      "Count of IP address '192.168.1.2' - 15\n",
      "Count of IP address '192.168.1.3' - 15\n",
      "Count of IP address '192.168.1.4' - 7\n",
      "Count of IP address '192.168.1.5' - 7\n"
     ]
    }
   ],
   "execution_count": 21
  },
  {
   "metadata": {},
   "cell_type": "code",
   "outputs": [],
   "execution_count": null,
   "source": "",
   "id": "fd5d6b0a920f3267"
  }
 ],
 "metadata": {
  "kernelspec": {
   "display_name": "Python 3",
   "language": "python",
   "name": "python3"
  },
  "language_info": {
   "codemirror_mode": {
    "name": "ipython",
    "version": 2
   },
   "file_extension": ".py",
   "mimetype": "text/x-python",
   "name": "python",
   "nbconvert_exporter": "python",
   "pygments_lexer": "ipython2",
   "version": "2.7.6"
  }
 },
 "nbformat": 4,
 "nbformat_minor": 5
}
