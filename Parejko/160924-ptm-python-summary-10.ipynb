{
 "cells": [
  {
   "cell_type": "code",
   "id": "initial_id",
   "metadata": {
    "collapsed": true,
    "ExecuteTime": {
     "end_time": "2024-11-29T07:31:13.025890Z",
     "start_time": "2024-11-29T07:31:13.023853Z"
    }
   },
   "source": [
    "# hash-tables\n",
    "set()  # (Множество) mutable\n",
    "frozenset() # (Неизменное Множество) immutable\n",
    "dict() # (словарь) mutable\n"
   ],
   "outputs": [],
   "execution_count": null
  },
  {
   "metadata": {
    "ExecuteTime": {
     "end_time": "2024-12-05T19:55:43.646140Z",
     "start_time": "2024-12-05T19:55:43.638744Z"
    }
   },
   "cell_type": "code",
   "source": [
    "a = {1, 3, 5}\n",
    "b = {5, 7, 9}\n",
    "\n",
    "#res = b.intersection(a)\n",
    "res = set.intersection(a, b)\n",
    "\n",
    "print(res)"
   ],
   "id": "7a73932deb6d30fc",
   "outputs": [
    {
     "name": "stdout",
     "output_type": "stream",
     "text": [
      "{5}\n"
     ]
    }
   ],
   "execution_count": 2
  },
  {
   "metadata": {
    "ExecuteTime": {
     "end_time": "2024-12-05T19:57:33.844189Z",
     "start_time": "2024-12-05T19:57:33.835568Z"
    }
   },
   "cell_type": "code",
   "source": [
    "b = {5, 7, 9}\n",
    "\n",
    "b.add(11)\n",
    "print(b)"
   ],
   "id": "361fb8429e15932c",
   "outputs": [
    {
     "name": "stdout",
     "output_type": "stream",
     "text": [
      "{9, 11, 5, 7}\n"
     ]
    }
   ],
   "execution_count": 6
  },
  {
   "metadata": {
    "ExecuteTime": {
     "end_time": "2024-12-05T19:57:55.746996Z",
     "start_time": "2024-12-05T19:57:55.739952Z"
    }
   },
   "cell_type": "code",
   "source": [
    "# b.remove(\"qwerty\")\n",
    "\n",
    "# b.discard(\"qwerty\")\n",
    "b.discard(11)"
   ],
   "id": "ac191dbc1157e6d",
   "outputs": [],
   "execution_count": 7
  },
  {
   "metadata": {
    "ExecuteTime": {
     "end_time": "2024-12-05T19:57:59.494379Z",
     "start_time": "2024-12-05T19:57:59.481620Z"
    }
   },
   "cell_type": "code",
   "source": "b",
   "id": "8e732af82cc4069a",
   "outputs": [
    {
     "data": {
      "text/plain": [
       "{5, 7, 9}"
      ]
     },
     "execution_count": 8,
     "metadata": {},
     "output_type": "execute_result"
    }
   ],
   "execution_count": 8
  },
  {
   "metadata": {},
   "cell_type": "code",
   "outputs": [],
   "execution_count": null,
   "source": [
    "# visited_nodes = set()\n",
    "# \n",
    "# if node in visited_nodes:\n",
    "#     continue"
   ],
   "id": "91bd1f3efc1e2847"
  },
  {
   "metadata": {
    "ExecuteTime": {
     "end_time": "2024-11-29T08:35:53.205829Z",
     "start_time": "2024-11-29T08:35:53.200434Z"
    }
   },
   "cell_type": "code",
   "source": [
    "user_1 = \"guitar, painting, programming, books, camping\"\n",
    "user_2 = \"camping, hiking, programming\"\n",
    "user_3 = \"\"\n",
    "\n",
    "\n",
    "def calculate_matches_percentage(*args):\n",
    "    all_hobbies = [set(elem.split(', ')) for elem in args]\n",
    "    print(all_hobbies)\n",
    "    print(\"=\"*50)\n",
    "    print(*all_hobbies)\n",
    "    common_hobbies = set.intersection(*all_hobbies)\n",
    "    result = len(common_hobbies) / (len(set.union(*all_hobbies))) * 100\n",
    "    \n",
    "    return result\n",
    "\n",
    "\n",
    "res = calculate_matches_percentage(user_1, user_2)\n",
    "\n",
    "print(f\"Percentage of common hobbies: {res:.2f}%\")"
   ],
   "id": "db955865d74dbc1c",
   "outputs": [
    {
     "name": "stdout",
     "output_type": "stream",
     "text": [
      "[{'books', 'painting', 'programming', 'guitar', 'camping'}, {'programming', 'hiking', 'camping'}]\n",
      "==================================================\n",
      "{'books', 'painting', 'programming', 'guitar', 'camping'} {'programming', 'hiking', 'camping'}\n",
      "Percentage of common hobbies: 33.33%\n"
     ]
    }
   ],
   "execution_count": 13
  },
  {
   "metadata": {},
   "cell_type": "code",
   "outputs": [],
   "execution_count": null,
   "source": [
    "new_data = [8, 4, 2, 7, 9, 3, 5, 6, 1]\n",
    "\n",
    "def bubble_sort(data):\n",
    "    data_len = len(data)\n",
    "    \n",
    "    for i in range(data_len):\n",
    "        sorted_ = True\n",
    "        \n",
    "        for j in range(data_len - i - 1):\n",
    "            if data[j] > data[j + 1]:\n",
    "                data[j], data[j + 1] = data[j + 1], data[j]\n",
    "                \n",
    "                sorted_ = False\n",
    "        if sorted_:\n",
    "            break\n",
    "    \n",
    "    return data"
   ],
   "id": "775054b39a889217"
  },
  {
   "metadata": {},
   "cell_type": "code",
   "outputs": [],
   "execution_count": null,
   "source": [
    "# Есть список словарей, где каждый словарь представляет\n",
    "# один заказ со следующими полями: 'id', 'table_number' и 'bill'.\n",
    "# Написать функцию, которая принимает этот список заказов и\n",
    "# возвращает новый список заказов, отсортированный по\n",
    "# убыванию суммы заказа. Решить сперва итеративным подходом и затем с\n",
    "# использованием функций высшего порядка (для сверки разницы кода)."
   ],
   "id": "f1851aff91f671bc"
  },
  {
   "metadata": {},
   "cell_type": "code",
   "outputs": [],
   "execution_count": null,
   "source": "",
   "id": "fc847bca4d5eb94"
  }
 ],
 "metadata": {
  "kernelspec": {
   "display_name": "Python 3",
   "language": "python",
   "name": "python3"
  },
  "language_info": {
   "codemirror_mode": {
    "name": "ipython",
    "version": 2
   },
   "file_extension": ".py",
   "mimetype": "text/x-python",
   "name": "python",
   "nbconvert_exporter": "python",
   "pygments_lexer": "ipython2",
   "version": "2.7.6"
  }
 },
 "nbformat": 4,
 "nbformat_minor": 5
}
