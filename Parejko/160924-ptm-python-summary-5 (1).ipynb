{
 "cells": [
  {
   "metadata": {
    "ExecuteTime": {
     "end_time": "2024-10-25T07:12:14.989303Z",
     "start_time": "2024-10-25T07:12:14.984879Z"
    }
   },
   "cell_type": "code",
   "source": [
    "mess = 'Hello'\n",
    "#       01234\n",
    "\n",
    "print(mess[3])"
   ],
   "id": "1a3a556bbc4342fc",
   "outputs": [
    {
     "name": "stdout",
     "output_type": "stream",
     "text": [
      "l\n"
     ]
    }
   ],
   "execution_count": 4
  },
  {
   "metadata": {
    "ExecuteTime": {
     "end_time": "2024-10-25T07:09:48.072473Z",
     "start_time": "2024-10-25T07:09:48.065513Z"
    }
   },
   "cell_type": "code",
   "source": "len(mess)",
   "id": "31d0063ee3d7070d",
   "outputs": [
    {
     "data": {
      "text/plain": [
       "5"
      ]
     },
     "execution_count": 2,
     "metadata": {},
     "output_type": "execute_result"
    }
   ],
   "execution_count": 2
  },
  {
   "metadata": {},
   "cell_type": "code",
   "outputs": [],
   "execution_count": null,
   "source": [
    "str('') #  '' -> str -> str() -> str(str)\n",
    "\"\"\n",
    "''\n",
    "\"\"\"\"\"\"\n",
    "''''''\n",
    "\n",
    "my_var = str(input())\n",
    "my_var = input()"
   ],
   "id": "54fc76f446f24936"
  },
  {
   "metadata": {},
   "cell_type": "code",
   "outputs": [],
   "execution_count": null,
   "source": "int(str(input()))",
   "id": "f3cf610b538dbc20"
  },
  {
   "metadata": {},
   "cell_type": "code",
   "outputs": [],
   "execution_count": null,
   "source": [
    "int(\"51\")\n",
    "float(\"4.5\")\n",
    "bool(\"True\") # -> True\n",
    "bool(\"False\") # -> True\n",
    "bool(\"\") # -> False\n",
    "bool(int(\"1\")) # -> True\n",
    "bool(int(\"0\")) # -> False\n"
   ],
   "id": "5cdc16eab670fb12"
  },
  {
   "metadata": {
    "ExecuteTime": {
     "end_time": "2024-10-25T07:24:30.958655Z",
     "start_time": "2024-10-25T07:24:30.954489Z"
    }
   },
   "cell_type": "code",
   "source": [
    "# \"A\" + \"B\" # -> 'AB'\n",
    "\n",
    "\"A\" * 4"
   ],
   "id": "f0953e7a5ba08ad0",
   "outputs": [
    {
     "data": {
      "text/plain": [
       "'AAAA'"
      ]
     },
     "execution_count": 6,
     "metadata": {},
     "output_type": "execute_result"
    }
   ],
   "execution_count": 6
  },
  {
   "metadata": {
    "ExecuteTime": {
     "end_time": "2024-10-25T07:26:04.122960Z",
     "start_time": "2024-10-25T07:26:04.119588Z"
    }
   },
   "cell_type": "code",
   "source": "len(' q w e r t y ')",
   "id": "ee252d1818cb40fe",
   "outputs": [
    {
     "data": {
      "text/plain": [
       "13"
      ]
     },
     "execution_count": 8,
     "metadata": {},
     "output_type": "execute_result"
    }
   ],
   "execution_count": 8
  },
  {
   "metadata": {
    "ExecuteTime": {
     "end_time": "2024-10-25T07:28:12.235724Z",
     "start_time": "2024-10-25T07:28:12.233162Z"
    }
   },
   "cell_type": "code",
   "source": [
    "print(ord('a')) # - > 97\n",
    "\n",
    "print(chr(65)) # - > 'A'"
   ],
   "id": "488ee8b021e9757e",
   "outputs": [
    {
     "name": "stdout",
     "output_type": "stream",
     "text": [
      "97\n",
      "A\n"
     ]
    }
   ],
   "execution_count": 9
  },
  {
   "metadata": {
    "ExecuteTime": {
     "end_time": "2024-10-25T07:33:00.943668Z",
     "start_time": "2024-10-25T07:33:00.940567Z"
    }
   },
   "cell_type": "code",
   "source": "print(chr(-1))",
   "id": "9c275b7e7b4092c",
   "outputs": [
    {
     "name": "stdout",
     "output_type": "stream",
     "text": [
      "A\n"
     ]
    }
   ],
   "execution_count": 22
  },
  {
   "metadata": {
    "ExecuteTime": {
     "end_time": "2024-10-25T07:34:43.512755Z",
     "start_time": "2024-10-25T07:34:43.510270Z"
    }
   },
   "cell_type": "code",
   "source": [
    "text = \"Hello, World!\"\n",
    "#       0123456789101112\n",
    "#        -6-5-4-3-2-1\n",
    "\n",
    "\n",
    "print(text[-6])"
   ],
   "id": "f38d5641b99285de",
   "outputs": [
    {
     "name": "stdout",
     "output_type": "stream",
     "text": [
      "W\n"
     ]
    }
   ],
   "execution_count": 24
  },
  {
   "metadata": {
    "ExecuteTime": {
     "end_time": "2024-10-25T07:38:41.850395Z",
     "start_time": "2024-10-25T07:38:41.846927Z"
    }
   },
   "cell_type": "code",
   "source": "print(text[7:])",
   "id": "576dd91f16db4d48",
   "outputs": [
    {
     "name": "stdout",
     "output_type": "stream",
     "text": [
      "World!\n"
     ]
    }
   ],
   "execution_count": 31
  },
  {
   "metadata": {
    "ExecuteTime": {
     "end_time": "2024-10-25T07:41:30.475019Z",
     "start_time": "2024-10-25T07:41:30.472649Z"
    }
   },
   "cell_type": "code",
   "source": "print(text[::-1]) # start : stop : step",
   "id": "6c4e5b752980d2f9",
   "outputs": [
    {
     "name": "stdout",
     "output_type": "stream",
     "text": [
      "!dlroW ,olleH\n"
     ]
    }
   ],
   "execution_count": 34
  },
  {
   "metadata": {
    "ExecuteTime": {
     "end_time": "2024-10-25T07:42:44.236757Z",
     "start_time": "2024-10-25T07:42:44.232405Z"
    }
   },
   "cell_type": "code",
   "source": "\"12321\" == \"12321\"[::-1]",
   "id": "5e9972b981f05208",
   "outputs": [
    {
     "data": {
      "text/plain": [
       "True"
      ]
     },
     "execution_count": 36,
     "metadata": {},
     "output_type": "execute_result"
    }
   ],
   "execution_count": 36
  },
  {
   "metadata": {
    "ExecuteTime": {
     "end_time": "2024-10-25T07:49:50.874099Z",
     "start_time": "2024-10-25T07:49:50.871338Z"
    }
   },
   "cell_type": "code",
   "source": [
    "t = \"Введите натуральное число\"\n",
    "\n",
    "print(len(t))\n",
    "print(len(t) - 1)\n",
    "print(t[0:len(t) - 1])"
   ],
   "id": "707c88dd406eb96e",
   "outputs": [
    {
     "name": "stdout",
     "output_type": "stream",
     "text": [
      "25\n",
      "24\n",
      "Введите натуральное числ\n"
     ]
    }
   ],
   "execution_count": 41
  },
  {
   "metadata": {},
   "cell_type": "code",
   "outputs": [],
   "execution_count": null,
   "source": "",
   "id": "de27d48e03db4e65"
  },
  {
   "metadata": {
    "ExecuteTime": {
     "end_time": "2024-10-25T07:45:46.856581Z",
     "start_time": "2024-10-25T07:45:46.843368Z"
    }
   },
   "cell_type": "code",
   "source": "t[1] = \"HELLO\"",
   "id": "e079c6944ae4af20",
   "outputs": [
    {
     "ename": "TypeError",
     "evalue": "'str' object does not support item assignment",
     "output_type": "error",
     "traceback": [
      "\u001B[0;31m---------------------------------------------------------------------------\u001B[0m",
      "\u001B[0;31mTypeError\u001B[0m                                 Traceback (most recent call last)",
      "Cell \u001B[0;32mIn[38], line 1\u001B[0m\n\u001B[0;32m----> 1\u001B[0m \u001B[43mt\u001B[49m\u001B[43m[\u001B[49m\u001B[38;5;241;43m1\u001B[39;49m\u001B[43m]\u001B[49m \u001B[38;5;241m=\u001B[39m \u001B[38;5;124m\"\u001B[39m\u001B[38;5;124mHELLO\u001B[39m\u001B[38;5;124m\"\u001B[39m\n",
      "\u001B[0;31mTypeError\u001B[0m: 'str' object does not support item assignment"
     ]
    }
   ],
   "execution_count": 38
  },
  {
   "metadata": {
    "ExecuteTime": {
     "end_time": "2024-10-25T07:48:50.660570Z",
     "start_time": "2024-10-25T07:48:50.656746Z"
    }
   },
   "cell_type": "code",
   "source": [
    "a = \"Hello\"\n",
    "b = \"World\"\n",
    "\n",
    "print(id(a))\n",
    "print(id(b))\n",
    "print(id(a + b))"
   ],
   "id": "8d8474a2735db7a2",
   "outputs": [
    {
     "name": "stdout",
     "output_type": "stream",
     "text": [
      "125309101314320\n",
      "125309099764128\n",
      "125309095393200\n"
     ]
    }
   ],
   "execution_count": 39
  },
  {
   "metadata": {
    "ExecuteTime": {
     "end_time": "2024-10-25T07:58:28.248931Z",
     "start_time": "2024-10-25T07:58:28.246162Z"
    }
   },
   "cell_type": "code",
   "source": [
    "hello = \"Greeting!\"\n",
    "\n",
    "print(hello.lower())\n",
    "print(hello.upper())"
   ],
   "id": "5275cbc6b52c3ca",
   "outputs": [
    {
     "name": "stdout",
     "output_type": "stream",
     "text": [
      "greeting!\n",
      "GREETING!\n"
     ]
    }
   ],
   "execution_count": 43
  },
  {
   "metadata": {
    "ExecuteTime": {
     "end_time": "2024-10-25T08:02:19.005051Z",
     "start_time": "2024-10-25T08:02:19.002010Z"
    }
   },
   "cell_type": "code",
   "source": "'HEL. LO!'.isupper()",
   "id": "b556018478b7177f",
   "outputs": [
    {
     "data": {
      "text/plain": [
       "True"
      ]
     },
     "execution_count": 47,
     "metadata": {},
     "output_type": "execute_result"
    }
   ],
   "execution_count": 47
  },
  {
   "metadata": {
    "ExecuteTime": {
     "end_time": "2024-10-25T08:02:47.463559Z",
     "start_time": "2024-10-25T08:02:47.460589Z"
    }
   },
   "cell_type": "code",
   "source": "'ПРИ. ВЕТ!'.isupper()",
   "id": "27a72387f28e9f3d",
   "outputs": [
    {
     "data": {
      "text/plain": [
       "True"
      ]
     },
     "execution_count": 48,
     "metadata": {},
     "output_type": "execute_result"
    }
   ],
   "execution_count": 48
  },
  {
   "metadata": {
    "ExecuteTime": {
     "end_time": "2024-10-25T08:04:23.051001Z",
     "start_time": "2024-10-25T08:04:23.047310Z"
    }
   },
   "cell_type": "code",
   "source": "'567a&?'.isdigit()",
   "id": "f42cb06a80ac9a22",
   "outputs": [
    {
     "data": {
      "text/plain": [
       "False"
      ]
     },
     "execution_count": 51,
     "metadata": {},
     "output_type": "execute_result"
    }
   ],
   "execution_count": 51
  },
  {
   "metadata": {
    "ExecuteTime": {
     "end_time": "2024-10-25T08:04:50.269459Z",
     "start_time": "2024-10-25T08:04:50.264901Z"
    }
   },
   "cell_type": "code",
   "source": "'567a&?'.isascii()",
   "id": "fefd6e718dca1f3c",
   "outputs": [
    {
     "data": {
      "text/plain": [
       "True"
      ]
     },
     "execution_count": 52,
     "metadata": {},
     "output_type": "execute_result"
    }
   ],
   "execution_count": 52
  },
  {
   "metadata": {
    "ExecuteTime": {
     "end_time": "2024-10-25T08:06:03.006253Z",
     "start_time": "2024-10-25T08:06:03.002441Z"
    }
   },
   "cell_type": "code",
   "source": "'qwerty 123'.isalnum()",
   "id": "8295b9ab450d0537",
   "outputs": [
    {
     "data": {
      "text/plain": [
       "False"
      ]
     },
     "execution_count": 55,
     "metadata": {},
     "output_type": "execute_result"
    }
   ],
   "execution_count": 55
  },
  {
   "metadata": {
    "ExecuteTime": {
     "end_time": "2024-10-25T08:18:45.077832Z",
     "start_time": "2024-10-25T08:18:45.074784Z"
    }
   },
   "cell_type": "code",
   "source": [
    "print(\"Hello\".ljust(len(\"Hello\") + 26, \"#\"))\n",
    "print(\"Hello\".rjust(len(\"Hello\") + 26, \"#\"))\n",
    "print(\"Hello\".center(len(\"Hello\") + 25, \"#\"))"
   ],
   "id": "cbcbe53521bf969d",
   "outputs": [
    {
     "name": "stdout",
     "output_type": "stream",
     "text": [
      "Hello##########################\n",
      "##########################Hello\n",
      "############Hello#############\n"
     ]
    }
   ],
   "execution_count": 65
  },
  {
   "metadata": {},
   "cell_type": "code",
   "outputs": [],
   "execution_count": null,
   "source": "",
   "id": "5e3f340a809a30e0"
  },
  {
   "metadata": {
    "ExecuteTime": {
     "end_time": "2024-10-25T06:35:54.354851Z",
     "start_time": "2024-10-25T06:35:54.352957Z"
    }
   },
   "cell_type": "code",
   "source": "",
   "id": "eab8d5baf6f81be3",
   "outputs": [],
   "execution_count": null
  },
  {
   "metadata": {},
   "cell_type": "code",
   "outputs": [],
   "execution_count": null,
   "source": "",
   "id": "54653873fe34d136"
  },
  {
   "metadata": {},
   "cell_type": "code",
   "outputs": [],
   "execution_count": null,
   "source": "",
   "id": "482bd402ee524f48"
  },
  {
   "metadata": {
    "ExecuteTime": {
     "end_time": "2024-10-24T17:27:29.879955Z",
     "start_time": "2024-10-24T17:27:27.160310Z"
    }
   },
   "cell_type": "code",
   "source": [
    "N = int(input(\"Введите натуральное число:\"))\n",
    "saveN = N # сохраняем полученное значение для дальнейших проверок\n",
    "reverseN = 0 # создаём отдельную переменную для переворачивания числа\n",
    "\n",
    "\n",
    "while N > 0: # до тех пор, пока число больше 0\n",
    "    reverseN *= 10 # число для переворачивания умножаем на 10\n",
    "    reverseN += N % 10 # к нему же добавляем результат остатка от деления от оригинального числа\n",
    "    N //= 10 # оригинальное число делим нацело на 10 (уберая тем самым последний символ из этого числа)\n",
    "if saveN == reverseN: # если после всех операций перевёрнутое число равноценно оригинальному (его копии) - это палиндром\n",
    "    print(\"Палиндром\")\n",
    "else:\n",
    "    print(\"Не палиндром\")"
   ],
   "id": "f28dadb0a8c927a8",
   "outputs": [
    {
     "name": "stdout",
     "output_type": "stream",
     "text": [
      "Палиндром\n"
     ]
    }
   ],
   "execution_count": 32
  },
  {
   "metadata": {},
   "cell_type": "code",
   "outputs": [],
   "execution_count": null,
   "source": [
    "N = int(input(\"Введите натуральное число:\"))\n",
    "counter = N\n",
    "saveN = 0\n",
    "a = 0\n",
    "\n",
    "\n",
    " # здесь вычисляется длина введённого числа (чтобы понимать на какое число нужно возводить в степень каждый символ) - можно и просто взять длину у строкового числа\n",
    "while N > 0:\n",
    "   saveN += 1\n",
    "   N //= 10\n",
    "N = counter\n",
    "\n",
    "\n",
    "while N > 0: # пока число больше 0\n",
    "   a += (N % 10) ** saveN # закидываем в переменную последнюю цифру числа в степени длины всего числа\n",
    "   N //= 10 # оригинал числа делим нацело на 10, удаляя у него последнюю цифру\n",
    "   \n",
    "\n",
    "if counter == a: # если сохранённое число равно полученному значению - число Армстронга\n",
    "    print (counter, '- число Армстронга' )\n",
    "else:\n",
    "    print (counter, '- не число Армстронга' )"
   ],
   "id": "a537f3727bb4f4c2"
  },
  {
   "cell_type": "code",
   "id": "initial_id",
   "metadata": {
    "collapsed": true,
    "ExecuteTime": {
     "end_time": "2024-10-25T08:30:35.944441Z",
     "start_time": "2024-10-25T08:30:35.939056Z"
    }
   },
   "source": [
    "import string\n",
    "my_var = \"The quick brOwn foX jumps over the laZy dog\"\n",
    "\n",
    "alphabet = string.ascii_lowercase # берём алфавит нижнего регистра\n",
    "upper_alphabet = string.ascii_uppercase # берём алфавит верхнего регистра\n",
    "\n",
    "index = 0 # индекс для прохода по алфавиту\n",
    "char = \"\" # строка для сохранения проверенных символов\n",
    "\n",
    "\n",
    "while index < len(my_var): # пока индекс меньше длины строки\n",
    "    if my_var[index] == \" \" or my_var[index] == string.digits or my_var[index] == string.punctuation: # если текущий символ - пробел, пунктуация, или цифра\n",
    "        index += 1 # перекидываем счётчик\n",
    "        continue # и тут же переходим на следующую итерацию\n",
    "    elif my_var[index] in char: # если символ уже есть в строке проверенных символов\n",
    "        index += 1 # смещаем индекс\n",
    "        continue # переходим на следующую итерацию\n",
    "    elif my_var[index] in upper_alphabet: # если текущий символ находится в строке алфавита в верхнем регистре\n",
    "        temp_var=chr(ord(my_var[index])+32) # переводим его в нижний регистр через ord(chr() + 32) (разница между символом верхнего регистра и символом нижнего регистра - 32)\n",
    "        char = char + temp_var # добавляем сразу же текущий символ в строку проверенных символов\n",
    "        index += 1 # сдвигаем индекс дальше\n",
    "        continue # переходим на новую итерацию\n",
    "    elif my_var[index] in alphabet : # так же если текущий символ в строке алфавита в нижнем регистре\n",
    "        char = char + my_var[index] # добавляем этот символ в строку проверенных символов\n",
    "    index += 1 # смещаем индекс\n",
    "if len(char) == len(alphabet) : # если длина строки с уникальными символами в нижнем регистре равна длине алфавита\n",
    "    print(\"Строка является панграммой. \") # строка - панграмма\n",
    "else : print (\"Строка  не является панграммой.\")"
   ],
   "outputs": [
    {
     "name": "stdout",
     "output_type": "stream",
     "text": [
      "Строка является панграммой. \n"
     ]
    }
   ],
   "execution_count": 70
  },
  {
   "metadata": {
    "ExecuteTime": {
     "end_time": "2024-10-25T08:25:25.590709Z",
     "start_time": "2024-10-25T08:25:25.586293Z"
    }
   },
   "cell_type": "code",
   "source": "chr(97)",
   "id": "257ff58717db286a",
   "outputs": [
    {
     "data": {
      "text/plain": [
       "'a'"
      ]
     },
     "execution_count": 66,
     "metadata": {},
     "output_type": "execute_result"
    }
   ],
   "execution_count": 66
  },
  {
   "metadata": {
    "ExecuteTime": {
     "end_time": "2024-10-24T13:46:28.862270Z",
     "start_time": "2024-10-24T13:46:28.859474Z"
    }
   },
   "cell_type": "code",
   "source": [
    "print(len(string.ascii_lowercase))\n",
    "print(len(string.ascii_uppercase))"
   ],
   "id": "ebe005d1d1eea74d",
   "outputs": [],
   "execution_count": 4
  },
  {
   "metadata": {},
   "cell_type": "code",
   "outputs": [],
   "execution_count": null,
   "source": [
    "import string\n",
    "\n",
    "my_var = \"The quick brown foX jumps over the laZy doG\"\n",
    "\n",
    "alphabet = string.ascii_lowercase\n",
    "upper_alphabet = string.ascii_uppercase\n",
    "\n",
    "index = 0\n",
    "alph_count = 26\n",
    "checked_chars = ''\n",
    "\n",
    "\n",
    "while index < len(my_var):\n",
    "    char = my_var[index]\n",
    "\n",
    "\n",
    "    if char == \" \" or char == string.digits or char == string.punctuation:\n",
    "        index += 1\n",
    "        continue\n",
    "    if char in alphabet and char not in checked_chars:\n",
    "        alph_count -= 1\n",
    "        checked_chars += char\n",
    "    if char in upper_alphabet and chr(ord(char) + 32) not in checked_chars:\n",
    "            alph_count -= 1\n",
    "            checked_chars += chr(ord(char) + 32)\n",
    "    index += 1\n",
    "\n",
    "if not alph_count:\n",
    "    print(\"Строка является панграммой.\")\n",
    "else :\n",
    "    print(\"Строка не является панграммой.\")\n",
    "\n",
    "# The quick brown fox jumps over the lazy dog"
   ],
   "id": "22eee18b0dc28994"
  },
  {
   "metadata": {
    "ExecuteTime": {
     "end_time": "2024-10-24T17:07:10.925186Z",
     "start_time": "2024-10-24T17:07:10.921923Z"
    }
   },
   "cell_type": "code",
   "source": [
    "user_string = input(\"Enter a string: \")\n",
    "index = 0\n",
    "user_vowels = 0\n",
    "user_consonants = 0\n",
    "\n",
    "consonants = \"bcdfghjklmnpqrstvwxyzBCDFGHJKLMNPQRSTYWXVZ\"\n",
    "vowels = \"aeiouAEIOU\"\n",
    "\n",
    "\n",
    "while index < len(user_string):\n",
    "    in_vowels = user_string[index] in vowels\n",
    "    in_consonants = user_string[index] in consonants\n",
    "    if in_vowels:\n",
    "        user_vowels += 1\n",
    "    elif in_consonants:\n",
    "        user_consonants += 1\n",
    "    index += 1\n",
    "print(\"vowels: \", user_vowels, \"\\nconsonants: \", user_consonants)"
   ],
   "id": "f5b5a683ffc34b17",
   "outputs": [
    {
     "name": "stdout",
     "output_type": "stream",
     "text": [
      "not panagrame\n"
     ]
    }
   ],
   "execution_count": 31
  }
 ],
 "metadata": {
  "kernelspec": {
   "display_name": "Python 3",
   "language": "python",
   "name": "python3"
  },
  "language_info": {
   "codemirror_mode": {
    "name": "ipython",
    "version": 2
   },
   "file_extension": ".py",
   "mimetype": "text/x-python",
   "name": "python",
   "nbconvert_exporter": "python",
   "pygments_lexer": "ipython2",
   "version": "2.7.6"
  }
 },
 "nbformat": 4,
 "nbformat_minor": 5
}
