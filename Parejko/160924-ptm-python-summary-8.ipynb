{
 "cells": [
  {
   "cell_type": "code",
   "id": "initial_id",
   "metadata": {
    "collapsed": true,
    "ExecuteTime": {
     "end_time": "2024-11-15T07:16:47.886612Z",
     "start_time": "2024-11-15T07:16:47.885033Z"
    }
   },
   "source": [
    ""
   ],
   "outputs": [],
   "execution_count": null
  },
  {
   "metadata": {},
   "cell_type": "code",
   "outputs": [],
   "execution_count": null,
   "source": [
    "# def filter_teacher(data: list[list], age_limit: int=30) -> list[str]:\n",
    "#     email_exit = [teacher[3] for teacher in data[1:] if teacher[2] > age_limit and teacher[-1]]\n",
    "#     \n",
    "#     return email_exit\n",
    "# \n",
    "# \n",
    "# filter_teacher(teachers) # age=30\n",
    "# filter_teacher(teachers, 35) # age=35"
   ],
   "id": "5b1c4208e1d8ca99"
  },
  {
   "metadata": {},
   "cell_type": "code",
   "outputs": [],
   "execution_count": null,
   "source": [
    "[].append()\n",
    "[].insert()"
   ],
   "id": "a2e8237c2057267e"
  },
  {
   "metadata": {
    "ExecuteTime": {
     "end_time": "2024-11-15T08:09:41.622122Z",
     "start_time": "2024-11-15T08:09:41.619348Z"
    }
   },
   "cell_type": "code",
   "source": [
    "a = 6\n",
    "data = [1, 2, 3, 4, 5]\n",
    "#       0  1  2  3  4\n",
    "\n",
    "data.insert(2, a)\n",
    "print(data)"
   ],
   "id": "b545c41356fb73d6",
   "outputs": [
    {
     "name": "stdout",
     "output_type": "stream",
     "text": [
      "[1, 2, 6, 3, 4, 5]\n"
     ]
    }
   ],
   "execution_count": 2
  },
  {
   "metadata": {
    "ExecuteTime": {
     "end_time": "2024-11-15T08:13:42.318544Z",
     "start_time": "2024-11-15T08:13:42.314442Z"
    }
   },
   "cell_type": "code",
   "source": [
    "a = [\"hello\", \"hi\", 'hello', 'hi']\n",
    "     \n",
    "m = a.remove('hi')\n",
    "\n",
    "print(a)"
   ],
   "id": "3ad07c5ff3fafd55",
   "outputs": [
    {
     "name": "stdout",
     "output_type": "stream",
     "text": [
      "['hello', 'hello', 'hi']\n"
     ]
    }
   ],
   "execution_count": 5
  },
  {
   "metadata": {
    "ExecuteTime": {
     "end_time": "2024-11-15T08:17:06.872362Z",
     "start_time": "2024-11-15T08:17:06.869816Z"
    }
   },
   "cell_type": "code",
   "source": [
    "a = [\"hello\", \"hi\", 'hello', 'hi', \"hi\"]\n",
    "\n",
    "b = a.index('hi')\n",
    "\n",
    "print(b)"
   ],
   "id": "48e68558325fb91",
   "outputs": [
    {
     "name": "stdout",
     "output_type": "stream",
     "text": [
      "1\n"
     ]
    }
   ],
   "execution_count": 7
  },
  {
   "metadata": {
    "ExecuteTime": {
     "end_time": "2024-11-15T08:22:05.543763Z",
     "start_time": "2024-11-15T08:22:05.539422Z"
    }
   },
   "cell_type": "code",
   "source": [
    "a = [\"hello\", \"hi\"]\n",
    "\n",
    "\n",
    "count_of_hi = a.count(\"hi\")\n",
    "\n",
    "for elem in a:\n",
    "    if a.count(elem) > 1:\n",
    "        print(\"Список не содержит уникальных элементов.\")\n",
    "        break\n",
    "else:\n",
    "    print(\"Список содержит уникальные элементы\")"
   ],
   "id": "d6043e36c65eab3",
   "outputs": [
    {
     "name": "stdout",
     "output_type": "stream",
     "text": [
      "Список содержит уникальные элементы\n"
     ]
    }
   ],
   "execution_count": 12
  },
  {
   "metadata": {
    "ExecuteTime": {
     "end_time": "2024-11-15T08:26:34.763418Z",
     "start_time": "2024-11-15T08:26:23.741305Z"
    }
   },
   "cell_type": "code",
   "source": [
    "data = []\n",
    "\n",
    "while True:\n",
    "    user_input = input(\"Enter some value: \")\n",
    "    \n",
    "    if user_input.strip().lower() == \"exit\":\n",
    "        break\n",
    "    \n",
    "    if user_input.strip().isdigit():\n",
    "        user_input = int(user_input)\n",
    "        data.append(user_input)\n",
    "    \n",
    "\n",
    "sum_of_values = sum(data)\n",
    "data.clear()\n",
    "\n",
    "print(sum_of_values)\n",
    "print(data)"
   ],
   "id": "a49a078d7bb7bb70",
   "outputs": [
    {
     "name": "stdout",
     "output_type": "stream",
     "text": [
      "53\n",
      "[]\n"
     ]
    }
   ],
   "execution_count": 13
  },
  {
   "metadata": {
    "ExecuteTime": {
     "end_time": "2024-11-15T08:28:04.468594Z",
     "start_time": "2024-11-15T08:28:04.465930Z"
    }
   },
   "cell_type": "code",
   "source": [
    "a = [\"hello\", \"hi\", 'hello', 'hi', \"hi\"]\n",
    "\n",
    "\n",
    "del a[-1]\n",
    "\n",
    "print(a)"
   ],
   "id": "8e1abb35899c99ff",
   "outputs": [
    {
     "name": "stdout",
     "output_type": "stream",
     "text": [
      "['hello', 'hi', 'hello', 'hi']\n"
     ]
    }
   ],
   "execution_count": 14
  },
  {
   "metadata": {
    "ExecuteTime": {
     "end_time": "2024-11-15T08:28:35.874181Z",
     "start_time": "2024-11-15T08:28:35.865116Z"
    }
   },
   "cell_type": "code",
   "source": [
    "# import gc\n",
    "\n",
    "del a\n",
    "\n",
    "print(a)"
   ],
   "id": "940cbd9cf95fbbb9",
   "outputs": [
    {
     "ename": "NameError",
     "evalue": "name 'a' is not defined",
     "output_type": "error",
     "traceback": [
      "\u001B[0;31m---------------------------------------------------------------------------\u001B[0m",
      "\u001B[0;31mNameError\u001B[0m                                 Traceback (most recent call last)",
      "Cell \u001B[0;32mIn[15], line 3\u001B[0m\n\u001B[1;32m      1\u001B[0m \u001B[38;5;28;01mdel\u001B[39;00m a\n\u001B[0;32m----> 3\u001B[0m \u001B[38;5;28mprint\u001B[39m(\u001B[43ma\u001B[49m)\n",
      "\u001B[0;31mNameError\u001B[0m: name 'a' is not defined"
     ]
    }
   ],
   "execution_count": 15
  },
  {
   "metadata": {
    "ExecuteTime": {
     "end_time": "2024-11-15T08:37:31.539935Z",
     "start_time": "2024-11-15T08:37:31.533457Z"
    }
   },
   "cell_type": "code",
   "source": [
    "# tuple\n",
    "\n",
    "my_tup = tuple([2, 3, 4])\n",
    "\n",
    "print(my_tup)\n",
    "print(type(my_tup))"
   ],
   "id": "ea885ce4ad3ae67",
   "outputs": [
    {
     "name": "stdout",
     "output_type": "stream",
     "text": [
      "(2, 3, 4)\n",
      "<class 'tuple'>\n"
     ]
    }
   ],
   "execution_count": 21
  },
  {
   "metadata": {
    "ExecuteTime": {
     "end_time": "2024-11-15T08:45:59.778Z",
     "start_time": "2024-11-15T08:45:59.774513Z"
    }
   },
   "cell_type": "code",
   "source": [
    "unique_ids = ('s9fd8gsd8f', \"sdf87g6sd9f8g6\")\n",
    "\n",
    "\n",
    "# мемоизация даннных\n",
    "# really_huge_resourse_function(4, 10) -> 40\n",
    "# (4, 10) -> 40\n",
    "\n",
    "\n",
    "def work_with_values(a, b):\n",
    "    res_1 = a + b\n",
    "    res_2 = a * b\n",
    "    \n",
    "    return res_1, res_2 # tuple(res_1, res_2)\n",
    "\n",
    "result = work_with_values(4, 5)\n",
    "\n",
    "print(result)\n",
    "\n",
    "val_1, val_2 = result"
   ],
   "id": "536c1434814f229e",
   "outputs": [
    {
     "name": "stdout",
     "output_type": "stream",
     "text": [
      "(9, 20)\n"
     ]
    }
   ],
   "execution_count": 24
  },
  {
   "metadata": {
    "ExecuteTime": {
     "end_time": "2024-11-15T08:46:07.284858Z",
     "start_time": "2024-11-15T08:46:07.282391Z"
    }
   },
   "cell_type": "code",
   "source": "print(val_1, val_2)",
   "id": "50ab0e58013b52f7",
   "outputs": [
    {
     "name": "stdout",
     "output_type": "stream",
     "text": [
      "9 20\n"
     ]
    }
   ],
   "execution_count": 25
  },
  {
   "metadata": {
    "ExecuteTime": {
     "end_time": "2024-11-15T08:55:54.614279Z",
     "start_time": "2024-11-15T08:55:54.607250Z"
    }
   },
   "cell_type": "code",
   "source": [
    "my_data = []\n",
    "\n",
    "for elem in range(1, 11, 2): # [1, 3, 5, 7, 9]\n",
    "    if elem % 3 == 0:\n",
    "        if elem < 5:\n",
    "            my_data.append(elem ** 3)\n",
    "        else:\n",
    "            my_data.append(elem ** 4)\n",
    "        \n",
    "print(my_data)\n",
    "\n",
    "# -----------------------\n",
    "\n",
    "# [элемент условие для элемента цикл + последовательность условие для всех элементов последовательности]\n",
    "my_data_v2 = [\n",
    "    elem ** 3 if elem < 5 else elem ** 4 \\ # элемент условие для элемента\n",
    "    for elem in range(1, 11, 2) \\ # цикл + последовательность\n",
    "    if elem % 3 == 0 # условие для всех элементов последовательности\n",
    "    ]\n",
    "\n",
    "print(my_data_v2)"
   ],
   "id": "3f61ec22ae52d62a",
   "outputs": [
    {
     "name": "stdout",
     "output_type": "stream",
     "text": [
      "[3, 9]\n",
      "[27, 6561]\n"
     ]
    }
   ],
   "execution_count": 28
  },
  {
   "metadata": {
    "ExecuteTime": {
     "end_time": "2024-11-15T09:01:31.538672Z",
     "start_time": "2024-11-15T09:01:08.240919Z"
    }
   },
   "cell_type": "code",
   "source": [
    "list_of_numbers = [int(elem) for elem in input().split(', ') if elem.isdigit()]\n",
    "\n",
    "print(list_of_numbers)\n",
    "\n",
    "# \"a\" if <condition> else 'b'\n",
    "\n",
    "list_of_nums = []\n",
    "\n",
    "for elem in input().split(', '): # [\"4\", \"7\", \"hi\", \"1\", \"9\", \"sun\", \"4\", \"qwerty\", \"7\"]\n",
    "    if elem.isdigit(): # [\"4\", \"7\", \"1\", \"9\", \"4\", \"7\"]\n",
    "        list_of_nums.append(int(elem))"
   ],
   "id": "a247d4713fccfd18",
   "outputs": [
    {
     "name": "stdout",
     "output_type": "stream",
     "text": [
      "[3, 5, 7, 1, 9, 8, 29]\n"
     ]
    }
   ],
   "execution_count": 29
  },
  {
   "metadata": {
    "ExecuteTime": {
     "end_time": "2024-11-15T09:21:39.633548Z",
     "start_time": "2024-11-15T09:21:39.628433Z"
    }
   },
   "cell_type": "code",
   "source": [
    "studs = [(\"Alice\", 20, 90), (\"Bob\", 19, 80), (\"Charlie\", 21, 95), (\"David\", 18, 85)]\n",
    "\n",
    "\n",
    "def find_students_by_grade(data, target_grade=80):\n",
    "    studs_names = []\n",
    "    \n",
    "    for student in data: # (\"Alice\", 20, 90), ...\n",
    "        if student[-1] > target_grade:\n",
    "            studs_names.append(student[0])\n",
    "    \n",
    "    # return studs_names\n",
    "    print('\\n'.join(result))\n",
    "\n",
    "\n",
    "# result = find_students_by_grade(studs, 90)\n",
    "\n",
    "# print(\"The names of students with the grade hiter than 80:\", , sep='\\n')\n",
    "\n",
    "find_students_by_grade(studs, 90)"
   ],
   "id": "3ad64d731c6bd49b",
   "outputs": [
    {
     "name": "stdout",
     "output_type": "stream",
     "text": [
      "Charlie\n"
     ]
    }
   ],
   "execution_count": 32
  },
  {
   "metadata": {
    "ExecuteTime": {
     "end_time": "2024-11-15T09:25:15.901455Z",
     "start_time": "2024-11-15T09:25:15.898290Z"
    }
   },
   "cell_type": "code",
   "source": [
    "test_str = 'Программирование это интересно и полезно'.split()\n",
    "\n",
    "result_list = []\n",
    "\n",
    "for word in test_str:\n",
    "    result_list.append(len(word))\n",
    "    \n",
    "\n",
    "print(tuple(result_list))"
   ],
   "id": "63f061efe676923a",
   "outputs": [
    {
     "name": "stdout",
     "output_type": "stream",
     "text": [
      "(16, 3, 9, 1, 7)\n"
     ]
    }
   ],
   "execution_count": 33
  },
  {
   "metadata": {
    "ExecuteTime": {
     "end_time": "2024-11-15T09:31:53.039184Z",
     "start_time": "2024-11-15T09:31:53.034816Z"
    }
   },
   "cell_type": "code",
   "source": [
    "test_str = 'Программирование это интересно и полезно'.split()\n",
    "\n",
    "tuple_user = ()\n",
    "\n",
    "# Через скрытый +\n",
    "\n",
    "# for word in test_str:\n",
    "#     tuple_user += (len(word),) # () -> (16,) -> (16, 3) -> (16, 3, 9) -> ... -> (16, 3, 9, 1, 7)\n",
    "\n",
    "# Через распаковку кортежей *\n",
    "for word in test_str:\n",
    "    tuple_user = (*tuple_user, len(word)) # () -> (16,)\n",
    "\n",
    "print(tuple_user)"
   ],
   "id": "46f7fc1112e58677",
   "outputs": [
    {
     "name": "stdout",
     "output_type": "stream",
     "text": [
      "(16, 3, 9, 1, 7)\n"
     ]
    }
   ],
   "execution_count": 35
  },
  {
   "metadata": {
    "ExecuteTime": {
     "end_time": "2024-11-15T09:33:03.385381Z",
     "start_time": "2024-11-15T09:33:03.382750Z"
    }
   },
   "cell_type": "code",
   "source": [
    "t = (16, 3, 9, 1, 7)\n",
    "\n",
    "\n",
    "print(*t)"
   ],
   "id": "7ea9f201893ca754",
   "outputs": [
    {
     "name": "stdout",
     "output_type": "stream",
     "text": [
      "16 3 9 1 7\n"
     ]
    }
   ],
   "execution_count": 37
  },
  {
   "metadata": {},
   "cell_type": "code",
   "outputs": [],
   "execution_count": null,
   "source": "print(16, 3, 9, 1, 7)",
   "id": "4c9e4cd78d39c729"
  }
 ],
 "metadata": {
  "kernelspec": {
   "display_name": "Python 3",
   "language": "python",
   "name": "python3"
  },
  "language_info": {
   "codemirror_mode": {
    "name": "ipython",
    "version": 2
   },
   "file_extension": ".py",
   "mimetype": "text/x-python",
   "name": "python",
   "nbconvert_exporter": "python",
   "pygments_lexer": "ipython2",
   "version": "2.7.6"
  }
 },
 "nbformat": 4,
 "nbformat_minor": 5
}
