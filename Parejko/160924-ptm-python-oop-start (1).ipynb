{
 "cells": [
  {
   "cell_type": "code",
   "id": "initial_id",
   "metadata": {
    "collapsed": true,
    "ExecuteTime": {
     "end_time": "2025-01-13T07:41:07.150843Z",
     "start_time": "2025-01-13T07:41:07.149247Z"
    }
   },
   "source": [
    ""
   ],
   "outputs": [],
   "execution_count": null
  },
  {
   "metadata": {},
   "cell_type": "markdown",
   "source": [
    "# **OOP VS FUNCTIONS:**\n",
    "\n",
    "---\n",
    "\n",
    "**Различия ООП и функций**\n",
    "\n",
    "|               | работа с классами                                                   | работа с функциями                                          |\n",
    "|---------------|---------------------------------------------------------------------|-------------------------------------------------------------|\n",
    "| определение   | Классы позволяют создавать объекты и описывать их свойства и методы | функции выполняют набор инструкций и возвращают значение    |\n",
    "| состояние     | Объекты класса могут содержать состояние(переменные)                | Функции могут использовать аргументы и локальные переменные |\n",
    "| использование | Методы класса вызываются на объектах этого класса                   | Функции вызываются с передачей аргументов                   |\n",
    "| наследование  | Классы могут наследовать свойства и методы других классов           | Функции не могут наследовать свойства и методы              |\n",
    "\n",
    "---\n",
    "\n",
    "**Плюсы и минусы работы с классами**\n",
    "\n",
    "| плюсы                                      | минусы                                              |\n",
    "|--------------------------------------------|-----------------------------------------------------|\n",
    "| Модульность и повторное использование кода | Большая сложность и уровень абстракции              |\n",
    "| Инкапсуляция данных и поведения            | Увеличение объёма кода                              |\n",
    "| Наследование и полиморфизм                 | Доп затраты на создание и поддержку класса          |\n",
    "| Организация кода в логические блоки        | Возможность возникновения ошибок из-за наследования |\n",
    "\n",
    "---\n",
    "\n",
    "**Где применяется**\n",
    "\n",
    "| Область применения                                                                                                 |\n",
    "|--------------------------------------------------------------------------------------------------------------------|\n",
    "| Разработка больших и сложных программных систем, где необходимо организовать код в модули и логические блоки       |\n",
    "| Создание объектно-ориентированных библиотек и фреймворков для повторного использования кода                        |\n",
    "| Моделирование реальных объектов и систем, схожих с реальными объектами (например, моделирование бизнесс-процессов) |\n",
    "| Создание пользовательских интерфейсов с использованием графических библиотек, таких как PyQt, или Tkinter          |\n",
    "| Разработка игр и анимаций, где объекты и их поведение являются ключевыми элементами                                |\n",
    "\n",
    "---\n"
   ],
   "id": "ac1c5f4da142a4a2"
  },
  {
   "metadata": {},
   "cell_type": "code",
   "outputs": [],
   "execution_count": null,
   "source": [
    "# mro()\n",
    "\n",
    "\n",
    "# C -> A, B -> object\n",
    "\n",
    "\n"
   ],
   "id": "2e978adf8e5fef8f"
  },
  {
   "metadata": {
    "ExecuteTime": {
     "end_time": "2025-01-13T08:38:29.672194Z",
     "start_time": "2025-01-13T08:38:29.668613Z"
    }
   },
   "cell_type": "code",
   "source": [
    "class MyClass:\n",
    "    ...\n",
    "\n",
    "\n",
    "my_class = MyClass()"
   ],
   "id": "d3db22463fa0d318",
   "outputs": [],
   "execution_count": 1
  },
  {
   "metadata": {
    "ExecuteTime": {
     "end_time": "2025-01-13T08:38:33.284104Z",
     "start_time": "2025-01-13T08:38:33.279054Z"
    }
   },
   "cell_type": "code",
   "source": "my_class",
   "id": "f71bc59e15241fc0",
   "outputs": [
    {
     "data": {
      "text/plain": [
       "<__main__.MyClass at 0x7508fdfe8a10>"
      ]
     },
     "execution_count": 2,
     "metadata": {},
     "output_type": "execute_result"
    }
   ],
   "execution_count": 2
  },
  {
   "metadata": {
    "ExecuteTime": {
     "end_time": "2025-01-13T08:39:29.242510Z",
     "start_time": "2025-01-13T08:39:29.240033Z"
    }
   },
   "cell_type": "code",
   "source": [
    "print(int)\n",
    "print(MyClass)"
   ],
   "id": "cca7746c45d747e5",
   "outputs": [
    {
     "name": "stdout",
     "output_type": "stream",
     "text": [
      "<class 'int'>\n",
      "<class '__main__.MyClass'>\n"
     ]
    }
   ],
   "execution_count": 4
  },
  {
   "metadata": {},
   "cell_type": "code",
   "outputs": [],
   "execution_count": null,
   "source": [
    "class Cube:\n",
    "    size = 6\n",
    "\n",
    "    def roll(self):\n",
    "        ..."
   ],
   "id": "b60400786f5b6960"
  },
  {
   "metadata": {},
   "cell_type": "code",
   "outputs": [],
   "execution_count": null,
   "source": "",
   "id": "496431133fc962df"
  },
  {
   "metadata": {},
   "cell_type": "code",
   "outputs": [],
   "execution_count": null,
   "source": "",
   "id": "174d7e7a7dd19f4"
  },
  {
   "metadata": {
    "ExecuteTime": {
     "end_time": "2025-01-13T09:13:43.950917Z",
     "start_time": "2025-01-13T09:13:43.947315Z"
    }
   },
   "cell_type": "code",
   "source": [
    "class Person:\n",
    "    name: str = ''\n",
    "\n",
    "\n",
    "carl = Person()\n",
    "carl.name = \"Carl\"\n",
    "\n",
    "bob = Person()\n",
    "bob.name = \"Bob\"\n",
    "\n",
    "print(carl.name)\n",
    "print(bob.name)\n",
    "print(carl.name)"
   ],
   "id": "95e66c305770f5b6",
   "outputs": [
    {
     "name": "stdout",
     "output_type": "stream",
     "text": [
      "Carl\n",
      "Bob\n",
      "Carl\n"
     ]
    }
   ],
   "execution_count": 16
  },
  {
   "metadata": {
    "ExecuteTime": {
     "end_time": "2025-01-13T08:56:00.413995Z",
     "start_time": "2025-01-13T08:56:00.410827Z"
    }
   },
   "cell_type": "code",
   "source": "print(dir(carl))",
   "id": "45f25bf95967e637",
   "outputs": [
    {
     "name": "stdout",
     "output_type": "stream",
     "text": [
      "['__annotations__', '__class__', '__delattr__', '__dict__', '__dir__', '__doc__', '__eq__', '__format__', '__ge__', '__getattribute__', '__getstate__', '__gt__', '__hash__', '__init__', '__init_subclass__', '__le__', '__lt__', '__module__', '__ne__', '__new__', '__reduce__', '__reduce_ex__', '__repr__', '__setattr__', '__sizeof__', '__str__', '__subclasshook__', '__weakref__', 'name']\n"
     ]
    }
   ],
   "execution_count": 6
  },
  {
   "metadata": {},
   "cell_type": "code",
   "outputs": [],
   "execution_count": null,
   "source": "",
   "id": "9dceb6a9fb21b643"
  },
  {
   "metadata": {
    "ExecuteTime": {
     "end_time": "2025-01-13T09:01:41.728177Z",
     "start_time": "2025-01-13T09:01:41.725197Z"
    }
   },
   "cell_type": "code",
   "source": [
    "class TestClass:\n",
    "    static_attr: str = \"Class Field\"  # static attribute\n",
    "\n",
    "\n",
    "test_object = TestClass()\n"
   ],
   "id": "21f3ba36fc6d2e21",
   "outputs": [],
   "execution_count": 7
  },
  {
   "metadata": {
    "ExecuteTime": {
     "end_time": "2025-01-13T09:02:27.803384Z",
     "start_time": "2025-01-13T09:02:27.800116Z"
    }
   },
   "cell_type": "code",
   "source": "test_object.object_filed = 'Instance Field'",
   "id": "f311a8bc9a76d6ed",
   "outputs": [],
   "execution_count": 9
  },
  {
   "metadata": {
    "ExecuteTime": {
     "end_time": "2025-01-13T09:03:29.325960Z",
     "start_time": "2025-01-13T09:03:29.321531Z"
    }
   },
   "cell_type": "code",
   "source": "test_object.static_attr",
   "id": "4faaa9166d0d198f",
   "outputs": [
    {
     "data": {
      "text/plain": [
       "'Class Field'"
      ]
     },
     "execution_count": 10,
     "metadata": {},
     "output_type": "execute_result"
    }
   ],
   "execution_count": 10
  },
  {
   "metadata": {
    "ExecuteTime": {
     "end_time": "2025-01-13T09:04:03.858536Z",
     "start_time": "2025-01-13T09:04:03.855332Z"
    }
   },
   "cell_type": "code",
   "source": "test_object.object_filed",
   "id": "b3ba537c7778196f",
   "outputs": [
    {
     "data": {
      "text/plain": [
       "'Instance Field'"
      ]
     },
     "execution_count": 12,
     "metadata": {},
     "output_type": "execute_result"
    }
   ],
   "execution_count": 12
  },
  {
   "metadata": {
    "ExecuteTime": {
     "end_time": "2025-01-13T09:07:08.980853Z",
     "start_time": "2025-01-13T09:07:08.833113Z"
    }
   },
   "cell_type": "code",
   "source": "TestClass.object_filed",
   "id": "46c098f6169a3065",
   "outputs": [
    {
     "ename": "AttributeError",
     "evalue": "type object 'TestClass' has no attribute 'object_filed'",
     "output_type": "error",
     "traceback": [
      "\u001B[0;31m---------------------------------------------------------------------------\u001B[0m",
      "\u001B[0;31mAttributeError\u001B[0m                            Traceback (most recent call last)",
      "Cell \u001B[0;32mIn[13], line 1\u001B[0m\n\u001B[0;32m----> 1\u001B[0m \u001B[43mTestClass\u001B[49m\u001B[38;5;241;43m.\u001B[39;49m\u001B[43mobject_filed\u001B[49m\n",
      "\u001B[0;31mAttributeError\u001B[0m: type object 'TestClass' has no attribute 'object_filed'"
     ]
    }
   ],
   "execution_count": 13
  },
  {
   "metadata": {
    "ExecuteTime": {
     "end_time": "2025-01-13T09:12:43.722296Z",
     "start_time": "2025-01-13T09:12:43.719369Z"
    }
   },
   "cell_type": "code",
   "source": "new_object = TestClass()",
   "id": "8f2f6b7cfa0f29f1",
   "outputs": [],
   "execution_count": 14
  },
  {
   "metadata": {
    "ExecuteTime": {
     "end_time": "2025-01-13T09:12:50.445846Z",
     "start_time": "2025-01-13T09:12:50.441737Z"
    }
   },
   "cell_type": "code",
   "source": "new_object.static_attr",
   "id": "de6a64d95ce39e9e",
   "outputs": [
    {
     "data": {
      "text/plain": [
       "'Class Field'"
      ]
     },
     "execution_count": 15,
     "metadata": {},
     "output_type": "execute_result"
    }
   ],
   "execution_count": 15
  },
  {
   "metadata": {},
   "cell_type": "code",
   "outputs": [],
   "execution_count": null,
   "source": "",
   "id": "aacf3b3ba536487b"
  },
  {
   "metadata": {
    "ExecuteTime": {
     "end_time": "2025-01-13T09:25:00.030388Z",
     "start_time": "2025-01-13T09:25:00.026651Z"
    }
   },
   "cell_type": "code",
   "source": [
    "class ColorConstructor:\n",
    "    def __init__(self, r, g, b):\n",
    "        self.r = r\n",
    "        self.g = g\n",
    "        self.b = b\n",
    "\n",
    "\n",
    "class Rectangle:\n",
    "    def __init__(self, width: float, high: float):\n",
    "        self.width = width\n",
    "        self.high = high\n",
    "        self.color = 'Red'\n",
    "\n",
    "\n",
    "rect_1 = Rectangle(5.7, 3.2)\n",
    "rect_2 = Rectangle(10.8, 7.4)\n",
    "\n",
    "print(rect_1.width, rect_1.high, rect_1.color)\n",
    "print(rect_2.width, rect_2.high, rect_2.color)"
   ],
   "id": "c9c1ca10fa45eeb7",
   "outputs": [
    {
     "name": "stdout",
     "output_type": "stream",
     "text": [
      "5.7 3.2 Red\n",
      "10.8 7.4 Red\n"
     ]
    }
   ],
   "execution_count": 19
  },
  {
   "metadata": {},
   "cell_type": "code",
   "outputs": [],
   "execution_count": null,
   "source": "",
   "id": "8efafc88dbc94430"
  },
  {
   "metadata": {
    "ExecuteTime": {
     "end_time": "2025-01-13T09:34:29.137463Z",
     "start_time": "2025-01-13T09:34:29.133890Z"
    }
   },
   "cell_type": "code",
   "source": [
    "def create_person(name, age, gender):\n",
    "    def get_info(obj):\n",
    "        return f\"Name: {obj.name}, Age: {obj.age}, Gender: {obj.gender}\"\n",
    "\n",
    "    def greet(obj):\n",
    "        print(f\"Привет! Я {obj.name}.\")\n",
    "\n",
    "    def person():\n",
    "        pass\n",
    "\n",
    "    person.name = name\n",
    "    person.age = age\n",
    "    person.gender = gender\n",
    "    person.get_info = get_info\n",
    "    person.greet = greet\n",
    "\n",
    "    return person\n"
   ],
   "id": "8005ed10b5477ecf",
   "outputs": [],
   "execution_count": 20
  },
  {
   "metadata": {
    "ExecuteTime": {
     "end_time": "2025-01-13T09:35:06.066538Z",
     "start_time": "2025-01-13T09:35:06.063574Z"
    }
   },
   "cell_type": "code",
   "source": [
    "vlad = create_person(\"Vlad\", 20, \"male\")\n",
    "\n",
    "print(vlad.get_info(vlad))\n",
    "vlad.greet(vlad)"
   ],
   "id": "4a8884c796c53ae4",
   "outputs": [
    {
     "name": "stdout",
     "output_type": "stream",
     "text": [
      "Name: Vlad, Age: 20, Gender: male\n",
      "Привет! Я Vlad.\n"
     ]
    }
   ],
   "execution_count": 21
  },
  {
   "metadata": {
    "ExecuteTime": {
     "end_time": "2025-01-13T09:38:19.889763Z",
     "start_time": "2025-01-13T09:38:19.885262Z"
    }
   },
   "cell_type": "code",
   "source": [
    "class Person:\n",
    "    def __init__(self, name, age, gender):\n",
    "        self.name = name\n",
    "        self.age = age\n",
    "        self.gender = gender\n",
    "\n",
    "    def get_info(self):\n",
    "        return f\"Name: {self.name}, Age: {self.age}, Gender: {self.gender}\"\n",
    "\n",
    "    def greet(self):\n",
    "        print(f\"Привет! Я {self.name}.\")\n",
    "\n",
    "\n",
    "\n",
    "dmitry = Person('Dmitry', 25, \"male\")\n",
    "\n",
    "print(dmitry.get_info())\n",
    "dmitry.greet()"
   ],
   "id": "e6d3f7cb44007e50",
   "outputs": [
    {
     "name": "stdout",
     "output_type": "stream",
     "text": [
      "Name: Dmitry, Age: 25, Gender: male\n",
      "Привет! Я Dmitry.\n"
     ]
    }
   ],
   "execution_count": 22
  },
  {
   "metadata": {},
   "cell_type": "code",
   "outputs": [],
   "execution_count": null,
   "source": "",
   "id": "3a6d2710ced2bff6"
  },
  {
   "metadata": {},
   "cell_type": "code",
   "outputs": [],
   "execution_count": null,
   "source": "",
   "id": "7b6d91ce52ef92e2"
  },
  {
   "metadata": {},
   "cell_type": "code",
   "outputs": [],
   "execution_count": null,
   "source": "",
   "id": "a5cf0d5d3245bfd0"
  },
  {
   "metadata": {
    "ExecuteTime": {
     "end_time": "2025-01-13T10:10:48.292477Z",
     "start_time": "2025-01-13T10:10:48.288778Z"
    }
   },
   "cell_type": "code",
   "source": [
    "class Person:\n",
    "    def __init__(self, name, age, gender):\n",
    "        self.name = name\n",
    "        self._age = age  # protected\n",
    "        self.__gender = gender  # private\n",
    "\n",
    "    def get_info(self):\n",
    "        return f\"Name: {self.name}, Age: {self._age}, Gender: {self.__gender}\"\n",
    "\n",
    "    def greet(self):\n",
    "        print(f\"Привет! Я {self.name}.\")\n",
    "\n",
    "    def update_age(self, age):\n",
    "        self._age = age\n",
    "\n",
    "    def change_gender(self, gender):\n",
    "        self.__gender = gender\n",
    "\n",
    "\n",
    "oleg = Person('Oleg', 30, \"male\")\n",
    "\n",
    "print(oleg.get_info())\n",
    "oleg.greet()\n",
    "\n",
    "print(oleg._age)\n",
    "# print(oleg.__gender)\n",
    "\n",
    "# print(<object_name>._<class name>__gender>)\n",
    "print(oleg._Person__gender)"
   ],
   "id": "4c947990bd6f6264",
   "outputs": [
    {
     "name": "stdout",
     "output_type": "stream",
     "text": [
      "Name: Oleg, Age: 30, Gender: male\n",
      "Привет! Я Oleg.\n",
      "30\n",
      "male\n"
     ]
    }
   ],
   "execution_count": 30
  },
  {
   "metadata": {
    "ExecuteTime": {
     "end_time": "2025-01-13T10:20:33.467538Z",
     "start_time": "2025-01-13T10:19:58.019140Z"
    }
   },
   "cell_type": "code",
   "source": [
    "class Account:\n",
    "    def __init__(self, name, balance):\n",
    "        self._name = name          # Protected attribute\n",
    "        self.__balance = balance   # Private attribute\n",
    "\n",
    "    def cache_operation(self, operation: str, amount: float):\n",
    "        return self.__update_balance(operation, amount)\n",
    "\n",
    "    def __update_balance(self, operation, amount):    # Private method\n",
    "        match operation.strip().lower():\n",
    "            case \"withdraw\":\n",
    "                if 0 < amount <= self.__balance:\n",
    "                    self.__balance -= amount\n",
    "                else:\n",
    "                    return \"Недостаточно средств на счетe\"\n",
    "            case \"deposit\":\n",
    "                self.__balance += amount\n",
    "            case _:\n",
    "                return \"Операция не распознана.\"\n",
    "        return f\"Баланс обновлен. Новый баланс: {self.__balance}\"\n",
    "\n",
    "\n",
    "my_acc = Account(\"Card\", 1000)\n",
    "\n",
    "print(my_acc.cache_operation(\n",
    "    operation=input(\"Enter the operation you needed [withdraw, deposit]: \"),\n",
    "    amount=float(input(\"Enter the amount of cash: \"))\n",
    "))\n"
   ],
   "id": "cff32972910df900",
   "outputs": [
    {
     "name": "stdout",
     "output_type": "stream",
     "text": [
      "Баланс обновлен. Новый баланс: 1500.0\n"
     ]
    }
   ],
   "execution_count": 34
  },
  {
   "metadata": {
    "ExecuteTime": {
     "end_time": "2025-01-13T10:23:09.243841Z",
     "start_time": "2025-01-13T10:22:56.185830Z"
    }
   },
   "cell_type": "code",
   "source": [
    "print(my_acc.cache_operation(\n",
    "    operation=input(\"Enter the operation you needed [withdraw, deposit]: \"),\n",
    "    amount=float(input(\"Enter the amount of cash: \"))\n",
    "))"
   ],
   "id": "f41c0e727998afac",
   "outputs": [
    {
     "name": "stdout",
     "output_type": "stream",
     "text": [
      "Недостаточно средств на счетe\n"
     ]
    }
   ],
   "execution_count": 36
  },
  {
   "metadata": {},
   "cell_type": "code",
   "outputs": [],
   "execution_count": null,
   "source": "",
   "id": "91f84ae2e7f4343f"
  },
  {
   "metadata": {},
   "cell_type": "code",
   "outputs": [],
   "execution_count": null,
   "source": [
    "class Car:\n",
    "    def __init__(self, model, year, color):\n",
    "        self.model = model\n",
    "        self.year = year\n",
    "        self.color = color\n",
    "\n",
    "\n",
    "cars = [\n",
    "    Car('model_1', 1990, 'blue'),\n",
    "    Car('model_2', 1991, 'black'),\n",
    "    Car('model_3', 1992, 'black'),\n",
    "    Car('model_4', 1993, 'blue'),\n",
    "    Car('model_5', 1994, 'white'),\n",
    "    Car('model_6', 1995, 'black'),\n",
    "    Car('model_7', 1996, 'blue'),\n",
    "    Car('model_8', 1997, 'white'),\n",
    "    Car('model_9', 1998, 'black'),\n",
    "    Car('model_10', 1999, 'black')\n",
    "]\n",
    "\n",
    "\n",
    "\n",
    "def get_cars_info(cars_list: list[Car], req_color: str) -> str:\n",
    "    filtered_cars = filter(lambda car: car.color == req_color, cars_list)\n",
    "\n",
    "    cars_info = [f\"{car.model} - {car.year} - {car.color}\" for car in filtered_cars]\n",
    "\n",
    "    return \"\\n\".join(cars_info)\n",
    "\n",
    "\n",
    "print(get_cars_info(cars, 'black'))"
   ],
   "id": "8cd92b123ff5b52d"
  },
  {
   "metadata": {},
   "cell_type": "code",
   "outputs": [],
   "execution_count": null,
   "source": "",
   "id": "ccd25989ee933048"
  },
  {
   "metadata": {
    "ExecuteTime": {
     "end_time": "2025-01-13T12:28:22.533848Z",
     "start_time": "2025-01-13T12:28:22.527562Z"
    }
   },
   "cell_type": "code",
   "source": [
    "import datetime\n",
    "\n",
    "class Person:\n",
    "    def __init__(self, name: str, b_date: datetime):\n",
    "        self.name = name\n",
    "        self.b_date: int = b_date\n",
    "        self.person_age = self.convert_str_date(self.b_date)\n",
    "\n",
    "    def convert_str_date(self, person_b_date):\n",
    "        cur_year = datetime.datetime.now().date()\n",
    "        birth_year = datetime.datetime.strptime(\n",
    "            person_b_date,\n",
    "            '%d-%m-%Y'\n",
    "        ).date()\n",
    "        age = cur_year.year - birth_year.year\n",
    "\n",
    "        if ((cur_year.month, cur_year.day)\n",
    "                < (birth_year.month, birth_year.day)):\n",
    "            age -= 1\n",
    "\n",
    "        return age\n",
    "\n",
    "class Employee:\n",
    "    def __init__(self, name: str, age: int):\n",
    "        self.name = name\n",
    "        self.age = age\n",
    "\n",
    "\n",
    "    def get_employee_info(self):\n",
    "        return f\"<Employee {self.name}, {self.age} years old.>\"\n",
    "\n",
    "\n",
    "persons = [\n",
    "    Person('John', '20-04-1996'),\n",
    "    Person('Kris', '15-03-1993'),\n",
    "    Person('Valeriy', '20-04-1985'),\n",
    "    Person('Alex', '13-07-1998'),\n",
    "    Person('Kris', '27-11-2009'),\n",
    "    Person('Adam', '04-12-2005'),\n",
    "    Person('Mariya', '01-02-2011'),\n",
    "    Person('Julia', '20-06-1997'),\n",
    "    Person('Mariya', '11-08-2002'),\n",
    "    Person('Alesya', '27-10-1999'),\n",
    "]\n",
    "\n",
    "\n",
    "def create_list_of_employees(persons_data: list[Person]):\n",
    "    filtered_data = filter(\n",
    "        lambda person: person.person_age > 18,\n",
    "        persons_data\n",
    "    )\n",
    "\n",
    "    return [Employee(name=person.name, age=person.person_age) for person in filtered_data]\n",
    "\n",
    "\n",
    "employees = create_list_of_employees(persons)\n",
    "\n",
    "def for_all(emps: list[Employee]):\n",
    "    if all(e.age > 18 for e in emps):\n",
    "        print(\"All employees are adult\")\n",
    "        for employee in emps:\n",
    "            print(employee.get_employee_info())\n",
    "    else:\n",
    "        print(\"your company has hired a minor.\")\n",
    "\n",
    "\n",
    "for_all(emps=employees)"
   ],
   "id": "162ce944cb0f1d3c",
   "outputs": [
    {
     "name": "stdout",
     "output_type": "stream",
     "text": [
      "All employees are adult\n",
      "<Employee John, 28 years old.>\n",
      "<Employee Kris, 31 years old.>\n",
      "<Employee Valeriy, 39 years old.>\n",
      "<Employee Alex, 26 years old.>\n",
      "<Employee Adam, 19 years old.>\n",
      "<Employee Julia, 27 years old.>\n",
      "<Employee Mariya, 22 years old.>\n",
      "<Employee Alesya, 25 years old.>\n"
     ]
    }
   ],
   "execution_count": 15
  },
  {
   "metadata": {},
   "cell_type": "code",
   "outputs": [],
   "execution_count": null,
   "source": "",
   "id": "978ef42be92be631"
  }
 ],
 "metadata": {
  "kernelspec": {
   "display_name": "Python 3",
   "language": "python",
   "name": "python3"
  },
  "language_info": {
   "codemirror_mode": {
    "name": "ipython",
    "version": 2
   },
   "file_extension": ".py",
   "mimetype": "text/x-python",
   "name": "python",
   "nbconvert_exporter": "python",
   "pygments_lexer": "ipython2",
   "version": "2.7.6"
  }
 },
 "nbformat": 4,
 "nbformat_minor": 5
}
