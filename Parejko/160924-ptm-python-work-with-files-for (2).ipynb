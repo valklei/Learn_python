{
 "cells": [
  {
   "metadata": {
    "ExecuteTime": {
     "end_time": "2024-10-31T08:06:56.660061Z",
     "start_time": "2024-10-31T08:06:56.619864Z"
    }
   },
   "cell_type": "code",
   "source": [
    "text = \"HELLO\"\n",
    "index = 0\n",
    "\n",
    "while index < len(text):\n",
    "    print(text[index])\n",
    "    index += 1"
   ],
   "id": "269cdde797296ab4",
   "outputs": [
    {
     "name": "stdout",
     "output_type": "stream",
     "text": [
      "H\n",
      "E\n",
      "L\n",
      "L\n",
      "O\n"
     ]
    }
   ],
   "execution_count": 1
  },
  {
   "metadata": {},
   "cell_type": "code",
   "outputs": [],
   "execution_count": null,
   "source": [
    "# for <variable> in <collection>:\n",
    "#     <block of code>"
   ],
   "id": "ccc2df67fc0be76c"
  },
  {
   "metadata": {},
   "cell_type": "code",
   "outputs": [],
   "execution_count": null,
   "source": [
    "text = \"HELLO\"\n",
    "index = 0\n",
    "char = ''\n",
    "\n",
    "# 1) check condition\n",
    "# 2) Run iteration\n",
    "while index < len(text):\n",
    "    char = text[index]\n",
    "    print(char)\n",
    "    index += 1"
   ],
   "id": "119cb205de59d3fb"
  },
  {
   "metadata": {
    "ExecuteTime": {
     "end_time": "2024-10-31T08:08:53.529318Z",
     "start_time": "2024-10-31T08:08:53.524309Z"
    }
   },
   "cell_type": "code",
   "source": [
    "text = \"HELLO\"\n",
    "\n",
    "\n",
    "for char in text: # iteration value = len(text)\n",
    "    print(char)"
   ],
   "id": "befe72b75f58631d",
   "outputs": [
    {
     "name": "stdout",
     "output_type": "stream",
     "text": [
      "H\n",
      "E\n",
      "L\n",
      "L\n",
      "O\n"
     ]
    }
   ],
   "execution_count": 2
  },
  {
   "metadata": {
    "ExecuteTime": {
     "end_time": "2024-10-31T08:27:01.048368Z",
     "start_time": "2024-10-31T08:26:52.696102Z"
    }
   },
   "cell_type": "code",
   "source": [
    "user_input = input(\"Enter some numbers with comma-space: \").split(', ')\n",
    "\n",
    "\n",
    "for elem in user_input:\n",
    "    if elem.isdigit():\n",
    "        print(int(elem) ** 2)\n",
    "    elif elem.isalpha():\n",
    "        continue"
   ],
   "id": "aaa0d743298b656d",
   "outputs": [
    {
     "name": "stdout",
     "output_type": "stream",
     "text": [
      "4\n",
      "16\n",
      "36\n",
      "64\n",
      "100\n"
     ]
    }
   ],
   "execution_count": 4
  },
  {
   "metadata": {
    "ExecuteTime": {
     "end_time": "2024-10-31T08:30:40.851767Z",
     "start_time": "2024-10-31T08:30:40.848696Z"
    }
   },
   "cell_type": "code",
   "source": [
    "# print(range(9)) # [0, 1, 2, 3, 4, 5, 6, 7, 8]\n",
    "\n",
    "for _ in range(5): # [0, 1, 2, 3, 4] i = 0, i = 1, i = 2, ..., i = 4\n",
    "    print(\"HELLO\")"
   ],
   "id": "1516eecbefc47863",
   "outputs": [
    {
     "name": "stdout",
     "output_type": "stream",
     "text": [
      "HELLO\n",
      "HELLO\n",
      "HELLO\n",
      "HELLO\n",
      "HELLO\n"
     ]
    }
   ],
   "execution_count": 5
  },
  {
   "metadata": {
    "ExecuteTime": {
     "end_time": "2024-10-31T08:37:22.768122Z",
     "start_time": "2024-10-31T08:37:22.764780Z"
    }
   },
   "cell_type": "code",
   "source": [
    "for i in range(2, 10, 2): # [2, 4, 6, 8]\n",
    "    print(i, end='\\n')"
   ],
   "id": "c937e493961ce0e8",
   "outputs": [
    {
     "name": "stdout",
     "output_type": "stream",
     "text": [
      "2\n",
      "4\n",
      "6\n",
      "8\n"
     ]
    }
   ],
   "execution_count": 8
  },
  {
   "metadata": {
    "ExecuteTime": {
     "end_time": "2024-10-31T08:45:26.592820Z",
     "start_time": "2024-10-31T08:45:26.588257Z"
    }
   },
   "cell_type": "code",
   "source": [
    "print(list(range(8))) # start=0 end=8 step=1 -> [0, 1, 2, 3, 4, 5, 6, 7]\n",
    "print(range(1, 9)) # start=1 end=9 step=1 -> [1, 2, 3, 4, 5, 6, 7, 8]\n",
    "print(range(2, 10, 2)) # start=2 end=10 step=2 -> [2, 4, 6, 8]\n",
    "print(list(range(-5, 0)))\n",
    "print(range(-10, -2))\n",
    "print(range(-1, -11, -1))"
   ],
   "id": "88be664d9c5ccd96",
   "outputs": [
    {
     "name": "stdout",
     "output_type": "stream",
     "text": [
      "[0, 1, 2, 3, 4, 5, 6, 7]\n",
      "range(1, 9)\n",
      "range(2, 10, 2)\n",
      "[-5, -4, -3, -2, -1]\n",
      "range(-10, -2)\n",
      "range(-1, -11, -1)\n"
     ]
    }
   ],
   "execution_count": 14
  },
  {
   "metadata": {
    "ExecuteTime": {
     "end_time": "2024-10-31T08:49:40.002959Z",
     "start_time": "2024-10-31T08:49:39.997619Z"
    }
   },
   "cell_type": "code",
   "source": "print(list(range(-5, 0))) # start=0 end=-5 step=1",
   "id": "243f331c9994b361",
   "outputs": [
    {
     "name": "stdout",
     "output_type": "stream",
     "text": [
      "[-5, -4, -3, -2, -1]\n"
     ]
    }
   ],
   "execution_count": 16
  },
  {
   "metadata": {
    "ExecuteTime": {
     "end_time": "2024-10-31T08:55:22.727850Z",
     "start_time": "2024-10-31T08:55:22.722165Z"
    }
   },
   "cell_type": "code",
   "source": [
    "# list -> [2, 5, -5, True, False, None, \"HELLO\", 5.5]\n",
    "\n",
    "test_list = [2, 5, -5, True, False, None, \"HELLO\", 5.5]\n",
    "\n",
    "\n",
    "for item in test_list:\n",
    "    print(item)\n",
    "else:\n",
    "    print(\"FINALLY!!!!!\")"
   ],
   "id": "4e8e7a9e12480896",
   "outputs": [
    {
     "name": "stdout",
     "output_type": "stream",
     "text": [
      "2\n",
      "5\n",
      "-5\n",
      "True\n",
      "False\n",
      "None\n",
      "HELLO\n",
      "5.5\n",
      "FINALLY!!!!!\n"
     ]
    }
   ],
   "execution_count": 18
  },
  {
   "metadata": {},
   "cell_type": "code",
   "outputs": [],
   "execution_count": null,
   "source": "\"Hello, World\"# -> .split(', ') -> [\"Hello\", \"World\"]",
   "id": "108a4c52a62e949a"
  },
  {
   "metadata": {
    "ExecuteTime": {
     "end_time": "2024-10-31T09:12:46.490215Z",
     "start_time": "2024-10-31T09:12:46.483400Z"
    }
   },
   "cell_type": "code",
   "source": [
    "# file_data = open('path/to/your/file/article.txt')\n",
    "file_data = open('article.txt', 'r', encoding='utf-8') # read table\n",
    "\n",
    "# data = file_data.read() # читает содержимое файла. Возвращает ВЕСЬ файл, как одну большую строку\n",
    "\n",
    "\n",
    "data = file_data.readlines()\n",
    "\n",
    "print(type(data))\n",
    "print(data)\n",
    "\n",
    "\n",
    "# print(file_data.readline())\n",
    "# print(file_data.readline())\n",
    "# print(file_data.readline())\n",
    "# print(file_data.readline())\n",
    "\n",
    "file_data.close()"
   ],
   "id": "49a59db7f136e957",
   "outputs": [
    {
     "name": "stdout",
     "output_type": "stream",
     "text": [
      "<class 'list'>\n",
      "['Вечерело\\n', 'Жужжали мухи\\n', 'Светил фонарик\\n', 'Кипела вода в чайнике\\n', 'Венера зажглась на небе\\n', 'Деревья шумели\\n', 'Тучи разошлись\\n', 'Листва зеленела']\n"
     ]
    }
   ],
   "execution_count": 24
  },
  {
   "metadata": {
    "ExecuteTime": {
     "end_time": "2024-10-31T09:37:23.412690Z",
     "start_time": "2024-10-31T09:37:23.404753Z"
    }
   },
   "cell_type": "code",
   "source": [
    "# file_data = open('article.txt', 'r', encoding='utf-8')\n",
    "\n",
    "\n",
    "with open('article.txt', 'r', encoding='utf-8') as my_data:\n",
    "    data = my_data.readlines()\n",
    "    \n",
    "    for row in data:\n",
    "        print(row.strip('\\n'))\n",
    "\n",
    "    "
   ],
   "id": "f3a289f802e6a00",
   "outputs": [
    {
     "name": "stdout",
     "output_type": "stream",
     "text": [
      "Вечерело\n",
      "Жужжали мухи\n",
      "Светил фонарик\n",
      "Кипела вода в чайнике\n",
      "Венера зажглась на небе\n",
      "Деревья шумели\n",
      "Тучи разошлись\n",
      "Листва зеленела\n"
     ]
    }
   ],
   "execution_count": 29
  },
  {
   "metadata": {
    "ExecuteTime": {
     "end_time": "2024-10-31T09:28:28.028488Z",
     "start_time": "2024-10-31T09:28:28.024136Z"
    }
   },
   "cell_type": "code",
   "source": [
    "for char in \"hello\":\n",
    "    print(char)"
   ],
   "id": "a9282c7ddfdb227e",
   "outputs": [
    {
     "name": "stdout",
     "output_type": "stream",
     "text": [
      "h\n",
      "e\n",
      "l\n",
      "l\n",
      "o\n"
     ]
    }
   ],
   "execution_count": 27
  },
  {
   "metadata": {
    "ExecuteTime": {
     "end_time": "2024-10-31T16:55:32.502852Z",
     "start_time": "2024-10-31T16:55:32.499856Z"
    }
   },
   "cell_type": "code",
   "source": "",
   "id": "d301b512ba785df7",
   "outputs": [
    {
     "name": "stdout",
     "output_type": "stream",
     "text": [
      "1\t2\t3\t4\t5\t\n",
      "2\t4\t6\t8\t10\t\n",
      "3\t6\t9\t12\t15\t\n",
      "4\t8\t12\t16\t20\t\n",
      "5\t10\t15\t20\t25\t\n"
     ]
    }
   ],
   "execution_count": 18
  }
 ],
 "metadata": {
  "kernelspec": {
   "display_name": "Python 3",
   "language": "python",
   "name": "python3"
  },
  "language_info": {
   "codemirror_mode": {
    "name": "ipython",
    "version": 2
   },
   "file_extension": ".py",
   "mimetype": "text/x-python",
   "name": "python",
   "nbconvert_exporter": "python",
   "pygments_lexer": "ipython2",
   "version": "2.7.6"
  }
 },
 "nbformat": 4,
 "nbformat_minor": 5
}
