{
 "cells": [
  {
   "cell_type": "code",
   "id": "initial_id",
   "metadata": {
    "collapsed": true,
    "ExecuteTime": {
     "end_time": "2024-11-04T07:14:32.686074Z",
     "start_time": "2024-11-04T07:14:32.684481Z"
    }
   },
   "source": [
    "name = 'Andry'\n",
    "age = 28\n",
    "country = \"France\"\n",
    "\n",
    "\n",
    "result = f\"Hi, my name is {name}. I'm {age} years old and I'm from {country}.\"\n",
    "\n",
    "print(result)\n",
    "\n",
    "...\n",
    "...\n",
    "...\n",
    "...\n",
    "name = 'Andry'\n",
    "age = 28\n",
    "country = \"France\"\n",
    "\n",
    "\n",
    "result = f\"Hi, my name is {name}. I'm {age} years old and I'm from {country}.\""
   ],
   "outputs": [],
   "execution_count": null
  },
  {
   "metadata": {
    "ExecuteTime": {
     "end_time": "2024-11-04T08:20:59.979900Z",
     "start_time": "2024-11-04T08:20:59.977247Z"
    }
   },
   "cell_type": "code",
   "source": [
    "def print_greeting(message, name):\n",
    "    result = f\"[{message}, {name}] {'❤' * 10}\"\n",
    "    \n",
    "    print(result)\n"
   ],
   "id": "9d319c29cb898df6",
   "outputs": [],
   "execution_count": 10
  },
  {
   "metadata": {
    "ExecuteTime": {
     "end_time": "2024-11-04T08:14:25.616955Z",
     "start_time": "2024-11-04T08:14:25.614234Z"
    }
   },
   "cell_type": "code",
   "source": "print_greeting(\"Greetings\", \"Dmitry\")",
   "id": "71fb3f411375349d",
   "outputs": [
    {
     "name": "stdout",
     "output_type": "stream",
     "text": [
      "Greetings, Dmitry\n"
     ]
    }
   ],
   "execution_count": 3
  },
  {
   "metadata": {
    "ExecuteTime": {
     "end_time": "2024-11-04T08:17:03.251918Z",
     "start_time": "2024-11-04T08:16:47.469298Z"
    }
   },
   "cell_type": "code",
   "source": [
    "name = input(\"Enter your name: \")\n",
    "age = input(\"Enter your age: \")\n",
    "country = input(\"Enter your country: \")\n",
    "\n",
    "\n"
   ],
   "id": "8207e7a7eb156e7a",
   "outputs": [],
   "execution_count": 4
  },
  {
   "metadata": {
    "ExecuteTime": {
     "end_time": "2024-11-04T08:17:34.680084Z",
     "start_time": "2024-11-04T08:17:34.677229Z"
    }
   },
   "cell_type": "code",
   "source": [
    "my_result = f\"Hi, my name is {name}. I'm {age} years old and I'm from {country}.\"\n",
    "\n",
    "print(my_result)"
   ],
   "id": "608ccf0a7cc8a3f3",
   "outputs": [
    {
     "name": "stdout",
     "output_type": "stream",
     "text": [
      "Hi, my name is vlad. I'm 20 years old and I'm from France.\n"
     ]
    }
   ],
   "execution_count": 5
  },
  {
   "metadata": {
    "ExecuteTime": {
     "end_time": "2024-11-04T08:21:06.486373Z",
     "start_time": "2024-11-04T08:21:06.483061Z"
    }
   },
   "cell_type": "code",
   "source": "print_greeting(\"Happy B-day\", \"Lia!!!\")",
   "id": "873ab547f426a003",
   "outputs": [
    {
     "name": "stdout",
     "output_type": "stream",
     "text": [
      "[Happy B-day, Lia!!!] ❤❤❤❤❤❤❤❤❤❤\n"
     ]
    }
   ],
   "execution_count": 11
  },
  {
   "metadata": {},
   "cell_type": "code",
   "outputs": [],
   "execution_count": null,
   "source": [
    "def sum_two_nums(a, b):\n",
    "    if type(a) == str or type(b) == str:\n",
    "        return \"ERROR\"\n",
    "    else:\n",
    "        return a + b"
   ],
   "id": "be1c78b8aef5f483"
  },
  {
   "metadata": {
    "ExecuteTime": {
     "end_time": "2024-11-04T08:33:44.337285Z",
     "start_time": "2024-11-04T08:33:44.334468Z"
    }
   },
   "cell_type": "code",
   "source": "print(print())",
   "id": "3fde115da6e29c09",
   "outputs": [
    {
     "name": "stdout",
     "output_type": "stream",
     "text": [
      "\n",
      "None\n"
     ]
    }
   ],
   "execution_count": 12
  },
  {
   "metadata": {
    "ExecuteTime": {
     "end_time": "2024-11-04T08:43:06.298359Z",
     "start_time": "2024-11-04T08:43:06.295698Z"
    }
   },
   "cell_type": "code",
   "source": [
    "total = 15 # global\n",
    "\n",
    "\n",
    "def change_total():\n",
    "    # global total\n",
    "    total = 15 # local (function)\n",
    "    total += 5\n",
    "    \n",
    "    return total"
   ],
   "id": "fe0782d49e2da00c",
   "outputs": [],
   "execution_count": 18
  },
  {
   "metadata": {
    "ExecuteTime": {
     "end_time": "2024-11-04T08:43:08.879495Z",
     "start_time": "2024-11-04T08:43:08.876247Z"
    }
   },
   "cell_type": "code",
   "source": "print(change_total())",
   "id": "761f16ea4b7c6644",
   "outputs": [
    {
     "name": "stdout",
     "output_type": "stream",
     "text": [
      "20\n"
     ]
    }
   ],
   "execution_count": 19
  },
  {
   "metadata": {
    "ExecuteTime": {
     "end_time": "2024-11-04T08:46:23.636357Z",
     "start_time": "2024-11-04T08:46:23.633940Z"
    }
   },
   "cell_type": "code",
   "source": [
    "total = 15 # global\n",
    "\n",
    "\n",
    "def change_total(glob_var):\n",
    "    total = glob_var # local (function)\n",
    "    total += 5\n",
    "    \n",
    "    return total"
   ],
   "id": "77447d175bf4e67f",
   "outputs": [],
   "execution_count": 20
  },
  {
   "metadata": {},
   "cell_type": "code",
   "outputs": [],
   "execution_count": null,
   "source": "change_total(total)",
   "id": "f73b8d5f2aca8162"
  },
  {
   "metadata": {},
   "cell_type": "code",
   "outputs": [],
   "execution_count": null,
   "source": [
    "# build-in\n",
    "print()\n",
    "input()\n",
    "min()\n",
    "max()\n",
    "sum()\n",
    "round()\n",
    "range()\n",
    "..."
   ],
   "id": "c44c345d7b2776e0"
  },
  {
   "metadata": {
    "ExecuteTime": {
     "end_time": "2024-11-04T09:10:15.125498Z",
     "start_time": "2024-11-04T09:10:15.122130Z"
    }
   },
   "cell_type": "code",
   "source": [
    "def smth():\n",
    "    i=100\n",
    "    print(i)\n",
    "\n",
    "i=1\n",
    "for _ in range(10): # 10 iteration\n",
    "    if i%2==0:\n",
    "        print(i)\n",
    "    else:\n",
    "        smth()\n",
    "    i+=1"
   ],
   "id": "d943e8c3486f7976",
   "outputs": [
    {
     "name": "stdout",
     "output_type": "stream",
     "text": [
      "100\n",
      "2\n",
      "100\n",
      "4\n",
      "100\n",
      "6\n",
      "100\n",
      "8\n",
      "100\n",
      "10\n"
     ]
    }
   ],
   "execution_count": 26
  },
  {
   "metadata": {
    "ExecuteTime": {
     "end_time": "2024-11-04T09:02:24.338950Z",
     "start_time": "2024-11-04T09:02:24.335982Z"
    }
   },
   "cell_type": "code",
   "source": [
    "def test():\n",
    "    my_var = 10\n",
    "    \n",
    "    return my_var\n",
    "\n",
    "\n",
    "res = test()\n",
    "print(res)"
   ],
   "id": "c86692a08dd03917",
   "outputs": [
    {
     "name": "stdout",
     "output_type": "stream",
     "text": [
      "10\n"
     ]
    }
   ],
   "execution_count": 24
  },
  {
   "metadata": {
    "ExecuteTime": {
     "end_time": "2024-11-04T09:10:30.309429Z",
     "start_time": "2024-11-04T09:10:30.305620Z"
    }
   },
   "cell_type": "code",
   "source": [
    "def smth():\n",
    "    global i # i = 1\n",
    "    i=100\n",
    "    print(i)\n",
    "\n",
    "i=1\n",
    "for _ in range(10): # [0, 1, 2, 3, 4, 5, 6, 7, 8, 9]\n",
    "    if i%2==0:\n",
    "        print(i)\n",
    "    else:\n",
    "        smth()\n",
    "    i+=1\n"
   ],
   "id": "4fd7ac6dbb314e3f",
   "outputs": [
    {
     "name": "stdout",
     "output_type": "stream",
     "text": [
      "100\n",
      "100\n",
      "100\n",
      "100\n",
      "100\n",
      "100\n",
      "100\n",
      "100\n",
      "100\n",
      "100\n"
     ]
    }
   ],
   "execution_count": 28
  },
  {
   "metadata": {},
   "cell_type": "code",
   "outputs": [],
   "execution_count": null,
   "source": [
    "if ...:\n",
    "    ...\n",
    "\n"
   ],
   "id": "44055ba32a742ed7"
  },
  {
   "metadata": {},
   "cell_type": "code",
   "outputs": [],
   "execution_count": null,
   "source": [
    "company1 = \"Apple\"\n",
    "company2 = \"Samsung\"\n",
    "\n",
    "\n",
    "def sum_len(text1, text2):\n",
    "    result = len(text1) + len(text2)\n",
    "    \n",
    "    return result\n",
    "\n",
    "\n",
    "print(sum_len(company1, company2))"
   ],
   "id": "c56e84f8f03ee59f"
  },
  {
   "metadata": {
    "ExecuteTime": {
     "end_time": "2024-11-04T09:27:52.076358Z",
     "start_time": "2024-11-04T09:27:52.072672Z"
    }
   },
   "cell_type": "code",
   "source": [
    "company1 = 'Apple'\n",
    "company2 = 'Samsung'\n",
    "\n",
    "num=len(company1)\n",
    "num1=len(company2)\n",
    "\n",
    "\n",
    "def s(num, num1):\n",
    "    res = num + num1\n",
    "    \n",
    "    return res\n",
    "\n",
    "print(s(num, num1))"
   ],
   "id": "c7f7515247defd45",
   "outputs": [
    {
     "name": "stdout",
     "output_type": "stream",
     "text": [
      "12\n"
     ]
    }
   ],
   "execution_count": 29
  },
  {
   "metadata": {},
   "cell_type": "code",
   "outputs": [],
   "execution_count": null,
   "source": [
    "# def <function_name>(<arg1>, <arg2>, ..., <arg3>):\n",
    "#     <block of code>\n"
   ],
   "id": "8e1d77352aa64562"
  },
  {
   "metadata": {},
   "cell_type": "code",
   "outputs": [],
   "execution_count": null,
   "source": "",
   "id": "3dd3ec6da86fdaf9"
  },
  {
   "metadata": {},
   "cell_type": "code",
   "outputs": [],
   "execution_count": null,
   "source": [
    "company1 = \"Apple\"\n",
    "company2 = \"Samsung\"\n",
    "\n",
    "\n",
    "def sum_len(text1, text2):\n",
    "    result = len(text1) + len(text2)\n",
    "    \n",
    "    return result\n",
    "\n",
    "\n",
    "print(sum_len(company1, company2))"
   ],
   "id": "c36f21bea20c4639"
  },
  {
   "metadata": {
    "ExecuteTime": {
     "end_time": "2024-11-04T09:31:10.656350Z",
     "start_time": "2024-11-04T09:31:10.653239Z"
    }
   },
   "cell_type": "code",
   "source": [
    "def sum_len():\n",
    "    result = len(\"Apple\") + len(\"Samsung\")\n",
    "    \n",
    "    return result\n",
    "\n",
    "\n",
    "print(sum_len())"
   ],
   "id": "e4e8119a3e8adaf",
   "outputs": [
    {
     "name": "stdout",
     "output_type": "stream",
     "text": [
      "12\n"
     ]
    }
   ],
   "execution_count": 30
  },
  {
   "metadata": {},
   "cell_type": "code",
   "outputs": [],
   "execution_count": null,
   "source": [
    "def check_age(age):\n",
    "    if age >= 18:\n",
    "        return \"Adult\"\n",
    "    else:\n",
    "        return \"Minor\"\n"
   ],
   "id": "451ddd0d3e455690"
  },
  {
   "metadata": {
    "ExecuteTime": {
     "end_time": "2024-11-04T11:35:42.558122Z",
     "start_time": "2024-11-04T11:35:42.554635Z"
    }
   },
   "cell_type": "code",
   "source": [
    "def test(a, b):\n",
    "    return a, b\n",
    "\n",
    "\n",
    "print(test(2, 4))\n",
    "print(type(test(2, 4)))\n",
    "\n",
    "\n",
    "sum()\n",
    "min()\n",
    "max()"
   ],
   "id": "e991af802b017986",
   "outputs": [
    {
     "name": "stdout",
     "output_type": "stream",
     "text": [
      "(2, 4)\n",
      "<class 'tuple'>\n"
     ]
    }
   ],
   "execution_count": 32
  },
  {
   "metadata": {
    "ExecuteTime": {
     "end_time": "2024-11-04T11:38:04.285527Z",
     "start_time": "2024-11-04T11:38:04.271967Z"
    }
   },
   "cell_type": "code",
   "source": [
    "sum([4, 2])\n",
    "\n",
    "\n",
    "a = 3\n",
    "b = 4\n",
    "\n",
    "sum = 3 + 4\n",
    "print(sum)\n",
    "\n",
    "\n",
    "print(sum([a, b]))"
   ],
   "id": "d6fff9d12be1246e",
   "outputs": [
    {
     "name": "stdout",
     "output_type": "stream",
     "text": [
      "7\n"
     ]
    },
    {
     "ename": "TypeError",
     "evalue": "'int' object is not callable",
     "output_type": "error",
     "traceback": [
      "\u001B[0;31m---------------------------------------------------------------------------\u001B[0m",
      "\u001B[0;31mTypeError\u001B[0m                                 Traceback (most recent call last)",
      "Cell \u001B[0;32mIn[33], line 11\u001B[0m\n\u001B[1;32m      7\u001B[0m \u001B[38;5;28msum\u001B[39m \u001B[38;5;241m=\u001B[39m \u001B[38;5;241m3\u001B[39m \u001B[38;5;241m+\u001B[39m \u001B[38;5;241m4\u001B[39m\n\u001B[1;32m      8\u001B[0m \u001B[38;5;28mprint\u001B[39m(\u001B[38;5;28msum\u001B[39m)\n\u001B[0;32m---> 11\u001B[0m \u001B[38;5;28mprint\u001B[39m(\u001B[38;5;28;43msum\u001B[39;49m\u001B[43m(\u001B[49m\u001B[43m[\u001B[49m\u001B[43ma\u001B[49m\u001B[43m,\u001B[49m\u001B[43m \u001B[49m\u001B[43mb\u001B[49m\u001B[43m]\u001B[49m\u001B[43m)\u001B[49m)\n",
      "\u001B[0;31mTypeError\u001B[0m: 'int' object is not callable"
     ]
    }
   ],
   "execution_count": 33
  },
  {
   "metadata": {},
   "cell_type": "code",
   "outputs": [],
   "execution_count": null,
   "source": [
    "import string\n",
    "def check_password(password):\n",
    "    if len(password) < 12 or len(password) > 22:\n",
    "        return False\n",
    "    symbols = '!@#$%^&*?_|<>{}'\n",
    "    low = False\n",
    "    upp = False\n",
    "    symb = False\n",
    "    numb = False\n",
    "    for i in password:\n",
    "        if i in string.ascii_uppercase: \n",
    "            upp = True\n",
    "        elif i in string.ascii_lowercase:\n",
    "            low = True\n",
    "        elif i in string.digits:\n",
    "            numb = True\n",
    "        elif i in symbols:\n",
    "            symb = True\n",
    "    return low and symb and numb and upp\n",
    "print(check_password('ggddgg52qweR?'))"
   ],
   "id": "39dec935dd16fb80"
  },
  {
   "metadata": {},
   "cell_type": "code",
   "outputs": [],
   "execution_count": null,
   "source": [
    "import string\n",
    "password = input(\"Enter your password: \")\n",
    "def check_password(password):\n",
    "  if len(password) < 12 or len(password) > 22:\n",
    "    return False\n",
    "    \n",
    "  symbols = \"!@#$%^&*?_|<>{}()\" \n",
    "  low = False \n",
    "  upp = False \n",
    "  symb = False \n",
    "  numb = False\n",
    "  for i in password:\n",
    "    if i in string.ascii_uppercase: \n",
    "      upp = True\n",
    "    elif i in string.ascii_lowercase: \n",
    "      low = True\n",
    "    elif i in string.digits: \n",
    "      numb = True\n",
    "    elif i in symbols: \n",
    "      symb = True  \n",
    "  return low and upp and symb and numb\n",
    "print(check_password(password))"
   ],
   "id": "2e75403b42fcdb8"
  }
 ],
 "metadata": {
  "kernelspec": {
   "display_name": "Python 3",
   "language": "python",
   "name": "python3"
  },
  "language_info": {
   "codemirror_mode": {
    "name": "ipython",
    "version": 2
   },
   "file_extension": ".py",
   "mimetype": "text/x-python",
   "name": "python",
   "nbconvert_exporter": "python",
   "pygments_lexer": "ipython2",
   "version": "2.7.6"
  }
 },
 "nbformat": 4,
 "nbformat_minor": 5
}
