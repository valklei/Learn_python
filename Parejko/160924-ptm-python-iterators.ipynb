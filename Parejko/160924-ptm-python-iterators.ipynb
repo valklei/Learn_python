{
 "cells": [
  {
   "cell_type": "code",
   "id": "initial_id",
   "metadata": {
    "collapsed": true,
    "ExecuteTime": {
     "end_time": "2024-12-09T08:12:07.665439Z",
     "start_time": "2024-12-09T08:12:07.663308Z"
    }
   },
   "source": [
    ""
   ],
   "outputs": [],
   "execution_count": null
  },
  {
   "metadata": {
    "ExecuteTime": {
     "end_time": "2024-12-11T19:11:09.493002Z",
     "start_time": "2024-12-11T19:11:09.484879Z"
    }
   },
   "cell_type": "code",
   "source": [
    "names = [\"Alex\", \"John\", \"Jane\", \"Emily\", \"Michael\", \"Sarah\", \"David\", \"Laura\"]\n",
    "\n",
    "\n",
    "print(names[0])\n",
    "print(type(names))\n",
    "\n",
    "names_iterator = iter(names)  # __iter__()\n",
    "\n",
    "print(type(names_iterator))\n",
    " "
   ],
   "id": "e3ae3e78b28ac767",
   "outputs": [
    {
     "name": "stdout",
     "output_type": "stream",
     "text": [
      "Alex\n",
      "<class 'list'>\n",
      "<class 'list_iterator'>\n"
     ]
    }
   ],
   "execution_count": 5
  },
  {
   "metadata": {
    "ExecuteTime": {
     "end_time": "2024-12-09T08:16:22.410239Z",
     "start_time": "2024-12-09T08:16:22.406260Z"
    }
   },
   "cell_type": "code",
   "source": [
    "import sys\n",
    "\n",
    "\n",
    "print(sys.getsizeof(names))\n",
    "print(sys.getsizeof(names_iterator))"
   ],
   "id": "fb2b27d9ddc5ca65",
   "outputs": [
    {
     "name": "stdout",
     "output_type": "stream",
     "text": [
      "120\n",
      "48\n"
     ]
    }
   ],
   "execution_count": 4
  },
  {
   "metadata": {
    "ExecuteTime": {
     "end_time": "2024-12-09T08:17:17.905438Z",
     "start_time": "2024-12-09T08:17:17.721154Z"
    }
   },
   "cell_type": "code",
   "source": "print(names_iterator[0])",
   "id": "927bd5d2b8e408c8",
   "outputs": [
    {
     "ename": "TypeError",
     "evalue": "'list_iterator' object is not subscriptable",
     "output_type": "error",
     "traceback": [
      "\u001B[0;31m---------------------------------------------------------------------------\u001B[0m",
      "\u001B[0;31mTypeError\u001B[0m                                 Traceback (most recent call last)",
      "Cell \u001B[0;32mIn[5], line 1\u001B[0m\n\u001B[0;32m----> 1\u001B[0m \u001B[38;5;28mprint\u001B[39m(\u001B[43mnames_iterator\u001B[49m\u001B[43m[\u001B[49m\u001B[38;5;241;43m0\u001B[39;49m\u001B[43m]\u001B[49m)\n",
      "\u001B[0;31mTypeError\u001B[0m: 'list_iterator' object is not subscriptable"
     ]
    }
   ],
   "execution_count": 5
  },
  {
   "metadata": {
    "ExecuteTime": {
     "end_time": "2024-12-11T19:14:10.292300Z",
     "start_time": "2024-12-11T19:14:10.283172Z"
    }
   },
   "cell_type": "code",
   "source": "print(next(names_iterator))  # names_iterator.__next__()",
   "id": "5ee06e97d964c336",
   "outputs": [
    {
     "name": "stdout",
     "output_type": "stream",
     "text": [
      "Sarah\n"
     ]
    }
   ],
   "execution_count": 11
  },
  {
   "metadata": {
    "ExecuteTime": {
     "end_time": "2024-12-11T19:14:21.108761Z",
     "start_time": "2024-12-11T19:14:18.484594Z"
    }
   },
   "cell_type": "code",
   "source": [
    "print(next(names_iterator))\n",
    "print(next(names_iterator))\n",
    "print(next(names_iterator))\n",
    "print(next(names_iterator))\n",
    "print(next(names_iterator))\n",
    "print(next(names_iterator))\n",
    "print(next(names_iterator))\n",
    "print(next(names_iterator))"
   ],
   "id": "908767d78d126575",
   "outputs": [
    {
     "name": "stdout",
     "output_type": "stream",
     "text": [
      "David\n",
      "Laura\n"
     ]
    },
    {
     "ename": "StopIteration",
     "evalue": "",
     "output_type": "error",
     "traceback": [
      "\u001B[1;31m---------------------------------------------------------------------------\u001B[0m",
      "\u001B[1;31mStopIteration\u001B[0m                             Traceback (most recent call last)",
      "Cell \u001B[1;32mIn[12], line 3\u001B[0m\n\u001B[0;32m      1\u001B[0m \u001B[38;5;28mprint\u001B[39m(\u001B[38;5;28mnext\u001B[39m(names_iterator))\n\u001B[0;32m      2\u001B[0m \u001B[38;5;28mprint\u001B[39m(\u001B[38;5;28mnext\u001B[39m(names_iterator))\n\u001B[1;32m----> 3\u001B[0m \u001B[38;5;28mprint\u001B[39m(\u001B[38;5;28;43mnext\u001B[39;49m\u001B[43m(\u001B[49m\u001B[43mnames_iterator\u001B[49m\u001B[43m)\u001B[49m)\n\u001B[0;32m      4\u001B[0m \u001B[38;5;28mprint\u001B[39m(\u001B[38;5;28mnext\u001B[39m(names_iterator))\n\u001B[0;32m      5\u001B[0m \u001B[38;5;28mprint\u001B[39m(\u001B[38;5;28mnext\u001B[39m(names_iterator))\n",
      "\u001B[1;31mStopIteration\u001B[0m: "
     ]
    }
   ],
   "execution_count": 12
  },
  {
   "metadata": {
    "ExecuteTime": {
     "end_time": "2024-12-11T19:14:27.478967Z",
     "start_time": "2024-12-11T19:14:27.468657Z"
    }
   },
   "cell_type": "code",
   "source": "print(names)",
   "id": "69a5c48c41d9f178",
   "outputs": [
    {
     "name": "stdout",
     "output_type": "stream",
     "text": [
      "['Alex', 'John', 'Jane', 'Emily', 'Michael', 'Sarah', 'David', 'Laura']\n"
     ]
    }
   ],
   "execution_count": 13
  },
  {
   "metadata": {
    "ExecuteTime": {
     "end_time": "2024-12-11T19:14:31.378882Z",
     "start_time": "2024-12-11T19:14:31.346988Z"
    }
   },
   "cell_type": "code",
   "source": "iter(5)",
   "id": "9977bd626cbdefb7",
   "outputs": [
    {
     "ename": "TypeError",
     "evalue": "'int' object is not iterable",
     "output_type": "error",
     "traceback": [
      "\u001B[1;31m---------------------------------------------------------------------------\u001B[0m",
      "\u001B[1;31mTypeError\u001B[0m                                 Traceback (most recent call last)",
      "Cell \u001B[1;32mIn[14], line 1\u001B[0m\n\u001B[1;32m----> 1\u001B[0m \u001B[38;5;28;43miter\u001B[39;49m\u001B[43m(\u001B[49m\u001B[38;5;241;43m5\u001B[39;49m\u001B[43m)\u001B[49m\n",
      "\u001B[1;31mTypeError\u001B[0m: 'int' object is not iterable"
     ]
    }
   ],
   "execution_count": 14
  },
  {
   "metadata": {},
   "cell_type": "code",
   "outputs": [],
   "execution_count": null,
   "source": "int.__iter__()",
   "id": "dc009c83930a27f3"
  },
  {
   "metadata": {},
   "cell_type": "code",
   "outputs": [],
   "execution_count": null,
   "source": "list.__iter__()",
   "id": "ff0d58b6a9ae5b8"
  },
  {
   "metadata": {
    "ExecuteTime": {
     "end_time": "2024-12-11T19:14:54.571393Z",
     "start_time": "2024-12-11T19:14:54.502765Z"
    }
   },
   "cell_type": "code",
   "source": [
    "# Объясните ученице ее ошибку и предложите способ исправления ситуации: \n",
    "# ученица в целях экономии памяти компьютера вместо последовательности чисел от 1 до миллиона в виде списка решила создать ленивый итератор numbers с помощью функции range(). Затем в двух разных местах своего скрипта она делала проверку того, есть ли число 2000 в этой коллекции. \n",
    "\n",
    "numbers = iter(range(1, 1_000_001))\n",
    "print(2000 in numbers)\n",
    "print(2000 in numbers)"
   ],
   "id": "92da58db497b4b12",
   "outputs": [
    {
     "name": "stdout",
     "output_type": "stream",
     "text": [
      "True\n",
      "False\n"
     ]
    }
   ],
   "execution_count": 15
  },
  {
   "metadata": {
    "ExecuteTime": {
     "end_time": "2024-12-09T08:31:39.332932Z",
     "start_time": "2024-12-09T08:31:39.330019Z"
    }
   },
   "cell_type": "code",
   "source": [
    "elems = [5, 4, 3, 7, 5, 9, 2, 7, 0, 5, 7]\n",
    "\n",
    "\n",
    "iter_elems = iter(elems)\n",
    "\n",
    "print(5 in iter_elems)\n",
    "print(5 in iter_elems)\n",
    "print(next(iter_elems))"
   ],
   "id": "a346c202b72356ca",
   "outputs": [
    {
     "name": "stdout",
     "output_type": "stream",
     "text": [
      "True\n",
      "True\n",
      "9\n"
     ]
    }
   ],
   "execution_count": 13
  },
  {
   "metadata": {},
   "cell_type": "code",
   "outputs": [],
   "execution_count": null,
   "source": [
    "# for elem in 5: # 5.__iter__()\n",
    "    "
   ],
   "id": "82cf40f55f46fa17"
  },
  {
   "metadata": {
    "ExecuteTime": {
     "end_time": "2024-12-11T19:40:03.967022Z",
     "start_time": "2024-12-11T19:40:03.884164Z"
    }
   },
   "cell_type": "code",
   "source": [
    "test_names = [\"Alex\", \"John\", \"Jane\", \"Emily\", \"Michael\", \"Sarah\", \"David\", \"Laura\"]\n",
    "\n",
    "\n",
    "# for name in 5:\n",
    "#     print(name, end=\" \")\n",
    "\n",
    "\n",
    "try:\n",
    "    iter_object = test_names.__iter__()\n",
    "\n",
    "    while True:\n",
    "        try:\n",
    "            name = iter_object.__next__()\n",
    "            print(name, end=\" \")\n",
    "        except StopIteration:\n",
    "            break\n",
    "except TypeError as err:\n",
    "    print(f\"ERROR: [{err}]\")"
   ],
   "id": "d41dd0d488b6aa56",
   "outputs": [
    {
     "name": "stdout",
     "output_type": "stream",
     "text": [
      "Alex John Jane Emily Michael Sarah David Laura "
     ]
    }
   ],
   "execution_count": 16
  },
  {
   "metadata": {
    "ExecuteTime": {
     "end_time": "2024-12-11T19:43:33.369930Z",
     "start_time": "2024-12-11T19:43:33.337786Z"
    }
   },
   "cell_type": "code",
   "source": [
    "# Список имен пользователей (некоторые повторяются):\n",
    "users = [\"alice\", \"bob\", \"charlie\", \"alice\", \"david\", \"eve\", \"charlie\", \"anna\", \"rob\", \"alexander\"]\n",
    "\n",
    "# 1. Списковое включение для фильтрации и преобразования\n",
    "# Мы итерируем по списку users, выбираем только имена короче 8 символов,\n",
    "# и сразу приводим их к верхнему регистру.\n",
    "filtered_names = [user.upper() for user in users if len(user) < 8]\n",
    "\n",
    "# Теперь filtered_names — это список, полученный из users путём итерации.\n",
    "# Например, если \"alexander\" длинное имя, оно не войдет.\n",
    "print(\"Отфильтрованные имена:\", filtered_names)\n",
    "\n",
    "# 2. Создадим множество уникальных имен.\n",
    "# Сетевое включение (set comprehension) берет filtered_names и создает из них множество.\n",
    "unique_names = {name for name in filtered_names}\n",
    "print(\"Уникальные имена (множество):\", unique_names)\n",
    "\n",
    "# 3. Теперь создадим словарь, где ключ — имя, а значение — длина имени.\n",
    "# Опять же, используем словарное включение (dict comprehension).\n",
    "names_length = {name: len(name) for name in unique_names}\n",
    "print(\"Имена со значениями длины:\", names_length)"
   ],
   "id": "ae56560228eb1049",
   "outputs": [
    {
     "name": "stdout",
     "output_type": "stream",
     "text": [
      "Отфильтрованные имена: ['ALICE', 'BOB', 'CHARLIE', 'ALICE', 'DAVID', 'EVE', 'CHARLIE', 'ANNA', 'ROB']\n",
      "Уникальные имена (множество): {'EVE', 'DAVID', 'ALICE', 'CHARLIE', 'BOB', 'ROB', 'ANNA'}\n",
      "Имена со значениями длины: {'EVE': 3, 'DAVID': 5, 'ALICE': 5, 'CHARLIE': 7, 'BOB': 3, 'ROB': 3, 'ANNA': 4}\n"
     ]
    }
   ],
   "execution_count": 17
  },
  {
   "metadata": {
    "ExecuteTime": {
     "end_time": "2024-12-09T08:52:47.945071Z",
     "start_time": "2024-12-09T08:52:10.093237Z"
    }
   },
   "cell_type": "code",
   "source": [
    "# подсчитать частоту встречаемости транзакций по каждой merchant_category, а также\n",
    "# подсчитать, сколько из них были мошенническими (is_fraud = True). Мы хотим сделать\n",
    "# это, не загружая все данные в память сразу, а используя итеративный подход.\n",
    "# \n",
    "# Напишите скрипт на Python, который:\n",
    "# \n",
    "# 1. Читает исходный CSV-файл транзакций построчно.\n",
    "# 2. Для каждого merchant_category подсчитывает:\n",
    "# 2.1 Общее количество транзакций;\n",
    "# 2.2 Количество мошеннических транзакций.\n",
    "# 3. Выводит результат после полной обработки файла, либо сохраняет в отдельный CSV-файл.\n",
    "\n",
    "\n",
    "import csv\n",
    "\n",
    "# Путь к вашему большому CSV-файлу с данными транзакций.\n",
    "input_file = 'archive/synthetic_fraud_data.csv'\n",
    "\n",
    "# Словарь, где ключи – это категории мерчантов (merchant_category),\n",
    "# а значения – словари с подсчётами.\n",
    "# Структура:\n",
    "# stats = {\n",
    "#     'Retail': {'total': 100, 'fraud': 5},\n",
    "#     'Grocery': {'total': 200, 'fraud': 2},\n",
    "#     ...\n",
    "# }\n",
    "stats = {}\n",
    "\n",
    "with open(input_file, 'r', encoding='utf-8') as f:\n",
    "    reader = csv.DictReader(f)  # -> [{...}, {...}, {...}]\n",
    "    for row in reader:\n",
    "        category = row['merchant_category']\n",
    "        is_fraud = row['is_fraud'].strip().lower() == 'true'\n",
    "\n",
    "        if category not in stats:\n",
    "            stats[category] = {'total': 0, 'fraud': 0}\n",
    "\n",
    "        stats[category]['total'] += 1\n",
    "        if is_fraud:\n",
    "            stats[category]['fraud'] += 1\n",
    "\n",
    "\n",
    "# После обработки всех строк вы можете вывести результат на экран\n",
    "# или сохранить в отдельный CSV.\n",
    "\n",
    "output_file = 'merchant_category_stats.csv'\n",
    "\n",
    "\n",
    "with open(output_file, 'w', newline='', encoding='utf-8') as out_f:\n",
    "    fieldnames = ['merchant_category', 'total_transactions', 'fraud_transactions']\n",
    "    writer = csv.DictWriter(out_f, fieldnames=fieldnames)\n",
    "    writer.writeheader()\n",
    "    for cat, counts in stats.items():\n",
    "        writer.writerow({\n",
    "            'merchant_category': cat,\n",
    "            'total_transactions': counts['total'],\n",
    "            'fraud_transactions': counts['fraud']\n",
    "        })\n",
    "\n",
    "print(\"Статистика успешно сохранена в\", output_file)\n"
   ],
   "id": "a2f01a19af53f7cd",
   "outputs": [
    {
     "name": "stdout",
     "output_type": "stream",
     "text": [
      "Статистика успешно сохранена в merchant_category_stats.csv\n"
     ]
    }
   ],
   "execution_count": 21
  },
  {
   "metadata": {
    "ExecuteTime": {
     "end_time": "2024-12-11T20:19:46.137076Z",
     "start_time": "2024-12-11T20:19:46.111060Z"
    }
   },
   "cell_type": "code",
   "source": [
    "def my_generator():\n",
    "    return  #  полностью остановит и закроет генератор\n",
    "    yield 1  # вернёт текущее значение генератора и заснёт до след. вызова(сохранив при этом своё состояние)\n",
    "    yield 2\n",
    "    yield 3\n",
    "\n",
    "\n",
    "test_gen = my_generator()"
   ],
   "id": "9db8fa0028fe539c",
   "outputs": [],
   "execution_count": 21
  },
  {
   "metadata": {
    "ExecuteTime": {
     "end_time": "2024-12-09T09:01:48.353943Z",
     "start_time": "2024-12-09T09:01:48.348789Z"
    }
   },
   "cell_type": "code",
   "source": "test_gen",
   "id": "8bd407e58279eddf",
   "outputs": [
    {
     "data": {
      "text/plain": [
       "<generator object my_generator at 0x7e3ed8376da0>"
      ]
     },
     "execution_count": 23,
     "metadata": {},
     "output_type": "execute_result"
    }
   ],
   "execution_count": 23
  },
  {
   "metadata": {
    "ExecuteTime": {
     "end_time": "2024-12-11T20:19:48.835585Z",
     "start_time": "2024-12-11T20:19:48.790858Z"
    }
   },
   "cell_type": "code",
   "source": [
    "print(next(test_gen))\n",
    "print(next(test_gen))\n",
    "print(next(test_gen))\n",
    "print(next(test_gen))"
   ],
   "id": "9736fa0612780dc9",
   "outputs": [
    {
     "name": "stdout",
     "output_type": "stream",
     "text": [
      "1\n",
      "2\n",
      "3\n"
     ]
    },
    {
     "ename": "StopIteration",
     "evalue": "",
     "output_type": "error",
     "traceback": [
      "\u001B[1;31m---------------------------------------------------------------------------\u001B[0m",
      "\u001B[1;31mStopIteration\u001B[0m                             Traceback (most recent call last)",
      "Cell \u001B[1;32mIn[22], line 4\u001B[0m\n\u001B[0;32m      2\u001B[0m \u001B[38;5;28mprint\u001B[39m(\u001B[38;5;28mnext\u001B[39m(test_gen))\n\u001B[0;32m      3\u001B[0m \u001B[38;5;28mprint\u001B[39m(\u001B[38;5;28mnext\u001B[39m(test_gen))\n\u001B[1;32m----> 4\u001B[0m \u001B[38;5;28mprint\u001B[39m(\u001B[38;5;28;43mnext\u001B[39;49m\u001B[43m(\u001B[49m\u001B[43mtest_gen\u001B[49m\u001B[43m)\u001B[49m)\n",
      "\u001B[1;31mStopIteration\u001B[0m: "
     ]
    }
   ],
   "execution_count": 22
  },
  {
   "metadata": {
    "ExecuteTime": {
     "end_time": "2024-12-11T20:22:46.561059Z",
     "start_time": "2024-12-11T20:22:46.492199Z"
    }
   },
   "cell_type": "code",
   "source": [
    "my_generator = (x for x in range(10))\n",
    "\n",
    "print(next(my_generator))\n",
    "print(next(my_generator))\n",
    "print(next(my_generator))\n",
    "print(next(my_generator))\n",
    "print(next(my_generator))\n",
    "print(next(my_generator))\n",
    "print(next(my_generator))\n",
    "print(next(my_generator))\n",
    "print(next(my_generator))\n",
    "print(next(my_generator))\n",
    "print(next(my_generator))\n",
    "print(next(my_generator))"
   ],
   "id": "8d7a64764e9ac7a0",
   "outputs": [
    {
     "name": "stdout",
     "output_type": "stream",
     "text": [
      "0\n",
      "1\n",
      "2\n",
      "3\n",
      "4\n",
      "5\n",
      "6\n",
      "7\n",
      "8\n",
      "9\n"
     ]
    },
    {
     "ename": "StopIteration",
     "evalue": "",
     "output_type": "error",
     "traceback": [
      "\u001B[1;31m---------------------------------------------------------------------------\u001B[0m",
      "\u001B[1;31mStopIteration\u001B[0m                             Traceback (most recent call last)",
      "Cell \u001B[1;32mIn[23], line 13\u001B[0m\n\u001B[0;32m     11\u001B[0m \u001B[38;5;28mprint\u001B[39m(\u001B[38;5;28mnext\u001B[39m(my_generator))\n\u001B[0;32m     12\u001B[0m \u001B[38;5;28mprint\u001B[39m(\u001B[38;5;28mnext\u001B[39m(my_generator))\n\u001B[1;32m---> 13\u001B[0m \u001B[38;5;28mprint\u001B[39m(\u001B[38;5;28;43mnext\u001B[39;49m\u001B[43m(\u001B[49m\u001B[43mmy_generator\u001B[49m\u001B[43m)\u001B[49m)\n\u001B[0;32m     14\u001B[0m \u001B[38;5;28mprint\u001B[39m(\u001B[38;5;28mnext\u001B[39m(my_generator))\n",
      "\u001B[1;31mStopIteration\u001B[0m: "
     ]
    }
   ],
   "execution_count": 23
  },
  {
   "metadata": {
    "ExecuteTime": {
     "end_time": "2024-12-11T20:23:17.981300Z",
     "start_time": "2024-12-11T20:23:17.973239Z"
    }
   },
   "cell_type": "code",
   "source": [
    "def basic_gen():\n",
    "    for x in range(10):\n",
    "        yield x\n",
    "        \n",
    "\n",
    "bas_gen = basic_gen()"
   ],
   "id": "85619b18fbe347eb",
   "outputs": [],
   "execution_count": 24
  },
  {
   "metadata": {
    "ExecuteTime": {
     "end_time": "2024-12-09T09:11:25.494447Z",
     "start_time": "2024-12-09T09:11:25.491419Z"
    }
   },
   "cell_type": "code",
   "source": "print(next(bas_gen))",
   "id": "1c3edb375621229d",
   "outputs": [
    {
     "name": "stdout",
     "output_type": "stream",
     "text": [
      "0\n"
     ]
    }
   ],
   "execution_count": 29
  },
  {
   "metadata": {
    "ExecuteTime": {
     "end_time": "2024-12-11T20:23:42.992007Z",
     "start_time": "2024-12-11T20:23:42.944875Z"
    }
   },
   "cell_type": "code",
   "source": "print(next(bas_gen))",
   "id": "96fc931fd683f02d",
   "outputs": [
    {
     "ename": "StopIteration",
     "evalue": "",
     "output_type": "error",
     "traceback": [
      "\u001B[1;31m---------------------------------------------------------------------------\u001B[0m",
      "\u001B[1;31mStopIteration\u001B[0m                             Traceback (most recent call last)",
      "Cell \u001B[1;32mIn[35], line 1\u001B[0m\n\u001B[1;32m----> 1\u001B[0m \u001B[38;5;28mprint\u001B[39m(\u001B[38;5;28;43mnext\u001B[39;49m\u001B[43m(\u001B[49m\u001B[43mbas_gen\u001B[49m\u001B[43m)\u001B[49m)\n",
      "\u001B[1;31mStopIteration\u001B[0m: "
     ]
    }
   ],
   "execution_count": 35
  },
  {
   "metadata": {
    "ExecuteTime": {
     "end_time": "2024-12-11T20:36:37.868885Z",
     "start_time": "2024-12-11T20:36:37.859762Z"
    }
   },
   "cell_type": "code",
   "source": [
    "gen_expr = (x * x for x in range(20))\n",
    "\n",
    "\n",
    "def fib_gen():\n",
    "  for x in gen_expr:\n",
    "    yield x\n",
    "gen_fibo = fib_gen()\n",
    "print(next(gen_fibo))\n",
    " "
   ],
   "id": "41aac51252b9db4f",
   "outputs": [
    {
     "name": "stdout",
     "output_type": "stream",
     "text": [
      "0\n"
     ]
    }
   ],
   "execution_count": 53
  },
  {
   "metadata": {
    "ExecuteTime": {
     "end_time": "2024-12-11T20:37:29.545210Z",
     "start_time": "2024-12-11T20:37:29.530857Z"
    }
   },
   "cell_type": "code",
   "source": [
    "def infinite_counter():\n",
    "    num = 0\n",
    "    while True:\n",
    "        yield num\n",
    "        num += 1\n",
    "        \n",
    "\n",
    "inf_gen = infinite_counter()"
   ],
   "id": "74b527727b52be4",
   "outputs": [],
   "execution_count": 54
  },
  {
   "metadata": {
    "ExecuteTime": {
     "end_time": "2024-12-11T20:37:37.859530Z",
     "start_time": "2024-12-11T20:37:37.841044Z"
    }
   },
   "cell_type": "code",
   "source": [
    "print(next(inf_gen))\n",
    "print(next(inf_gen))\n",
    "print(next(inf_gen))\n",
    "print(next(inf_gen))\n",
    "print(next(inf_gen))\n",
    "print(next(inf_gen))\n",
    "print(next(inf_gen))\n",
    "print(next(inf_gen))\n",
    "print(next(inf_gen))\n",
    "print(next(inf_gen))\n",
    "print(next(inf_gen))\n",
    "print(next(inf_gen))\n",
    "print(next(inf_gen))\n",
    "print(next(inf_gen))\n",
    "print(next(inf_gen))\n",
    "print(next(inf_gen))"
   ],
   "id": "6f2b85a19b7f7dcf",
   "outputs": [
    {
     "name": "stdout",
     "output_type": "stream",
     "text": [
      "0\n",
      "1\n",
      "2\n",
      "3\n",
      "4\n",
      "5\n",
      "6\n",
      "7\n",
      "8\n",
      "9\n",
      "10\n",
      "11\n",
      "12\n",
      "13\n",
      "14\n",
      "15\n"
     ]
    }
   ],
   "execution_count": 55
  },
  {
   "metadata": {},
   "cell_type": "code",
   "outputs": [],
   "execution_count": null,
   "source": [
    "def count_up_to(limit):\n",
    "    count = 0\n",
    "    while count < limit:\n",
    "        new_value = yield count\n",
    "        if new_value is not None:\n",
    "            count = new_value\n",
    "        else:\n",
    "            count += 1"
   ],
   "id": "5d1fa4c2038a3dd9"
  },
  {
   "metadata": {},
   "cell_type": "code",
   "outputs": [],
   "execution_count": null,
   "source": [
    "for num in gen:\n",
    "    if num == 5:\n",
    "        gen.send(1)\n",
    "    else:\n",
    "        print(num)"
   ],
   "id": "cc803e6a869be924"
  },
  {
   "metadata": {
    "ExecuteTime": {
     "end_time": "2024-12-09T09:30:56.931310Z",
     "start_time": "2024-12-09T09:30:56.928114Z"
    }
   },
   "cell_type": "code",
   "source": [
    "def show_letters(some_str):\n",
    "    # <- 'asdfgsfg9765asd7f6'\n",
    "    # -> 'asdfgsfgasdf'\n",
    "    clean_str = ''.join([letter for letter in some_str if letter.isalpha()])\n",
    "    for symbol in clean_str:\n",
    "        yield symbol\n",
    "        \n",
    "\n",
    "\n",
    "test_str = \"asdfgsfg9765asd7f6\"\n",
    "lett_gen = show_letters(test_str)"
   ],
   "id": "105722fd01805117",
   "outputs": [],
   "execution_count": 38
  },
  {
   "metadata": {
    "ExecuteTime": {
     "end_time": "2024-12-09T09:31:20.222361Z",
     "start_time": "2024-12-09T09:31:20.210566Z"
    }
   },
   "cell_type": "code",
   "source": "print(next(lett_gen))",
   "id": "c647c850ac497e7",
   "outputs": [
    {
     "ename": "StopIteration",
     "evalue": "",
     "output_type": "error",
     "traceback": [
      "\u001B[0;31m---------------------------------------------------------------------------\u001B[0m",
      "\u001B[0;31mStopIteration\u001B[0m                             Traceback (most recent call last)",
      "Cell \u001B[0;32mIn[51], line 1\u001B[0m\n\u001B[0;32m----> 1\u001B[0m \u001B[38;5;28mprint\u001B[39m(\u001B[38;5;28;43mnext\u001B[39;49m\u001B[43m(\u001B[49m\u001B[43mlett_gen\u001B[49m\u001B[43m)\u001B[49m)\n",
      "\u001B[0;31mStopIteration\u001B[0m: "
     ]
    }
   ],
   "execution_count": 51
  },
  {
   "metadata": {
    "ExecuteTime": {
     "end_time": "2024-12-09T09:30:16.084700Z",
     "start_time": "2024-12-09T09:30:16.081564Z"
    }
   },
   "cell_type": "code",
   "source": "print(next(lett_gen))",
   "id": "bb2a78cd994ab3b3",
   "outputs": [
    {
     "name": "stdout",
     "output_type": "stream",
     "text": [
      "s\n"
     ]
    }
   ],
   "execution_count": 37
  },
  {
   "metadata": {},
   "cell_type": "code",
   "outputs": [],
   "execution_count": null,
   "source": [
    "def show_letters(some_str):\n",
    "    yield from ''.join([letter for letter in some_str if letter.isalpha()])"
   ],
   "id": "29a7d9a76bbe8081"
  },
  {
   "metadata": {},
   "cell_type": "code",
   "outputs": [],
   "execution_count": null,
   "source": "",
   "id": "8e05cc2f259263e9"
  },
  {
   "metadata": {},
   "cell_type": "code",
   "outputs": [],
   "execution_count": null,
   "source": [
    "def gen_range(*, start: int=0, end: int=0, step: int=1):\n",
    "    if not (isinstance(start, int), isinstance(end, int), isinstance(step, int)):\n",
    "        raise ValueError(f\"ValueError! Все параметры должны быть целыми числами! {start, end, step}\")\n",
    "    if step == 0:\n",
    "        raise ValueError(f\"ValueError! Шаг не может быть равным 0! {step}\")\n",
    "    # if end < start:\n",
    "    #     raise ValueError(f\"ValueError! Начальное значение не может быть больше конечного значения! {start, step}\")\n",
    "\n",
    "    count = start\n",
    "    if step < 0:\n",
    "        while count > end:\n",
    "            yield count\n",
    "            count += step\n",
    "    else:\n",
    "        while count < end:\n",
    "            yield count\n",
    "            count += step\n",
    "\n",
    "\n",
    "try:\n",
    "    test = gen_range(start=5, end=1, step=-1)\n",
    "    for i in test:\n",
    "        print(i)\n",
    "except Exception as e:\n",
    "    print(e)"
   ],
   "id": "8a59ec7fbe84b837"
  },
  {
   "metadata": {
    "ExecuteTime": {
     "end_time": "2024-12-09T11:38:00.881075Z",
     "start_time": "2024-12-09T11:38:00.877098Z"
    }
   },
   "cell_type": "code",
   "source": [
    "import datetime\n",
    "\n",
    "test_d = (datetime.datetime.today() - datetime.datetime.strptime(\"2023-01-01\", \"%Y-%m-%d\")) // 365\n",
    "print(test_d)"
   ],
   "id": "9c405d5f57c95463",
   "outputs": [
    {
     "name": "stdout",
     "output_type": "stream",
     "text": [
      "1 day, 22:35:46.522954\n"
     ]
    }
   ],
   "execution_count": 58
  },
  {
   "metadata": {
    "ExecuteTime": {
     "end_time": "2024-12-09T11:35:18.897366Z",
     "start_time": "2024-12-09T11:35:18.890431Z"
    }
   },
   "cell_type": "code",
   "source": "datetime.datetime.today()",
   "id": "b710e18166c37549",
   "outputs": [
    {
     "data": {
      "text/plain": [
       "datetime.datetime(2024, 12, 9, 15, 35, 18, 892129)"
      ]
     },
     "execution_count": 53,
     "metadata": {},
     "output_type": "execute_result"
    }
   ],
   "execution_count": 53
  },
  {
   "metadata": {},
   "cell_type": "code",
   "outputs": [],
   "execution_count": null,
   "source": [
    "from _datetime import datetime\n",
    "\n",
    "customers_data = [\n",
    "    (\"Иван\", \"Иванов\", \"2005-05-10\", \"DE1234567890123456789012\"),  # Молод, будет ошибка возраста\n",
    "    (\"\", \"Петров\", \"1990-01-01\", \"DE1234567890123456789012\"),  # Пустое имя\n",
    "    (\"Сидор\", \"Сидоров\", \"1980-12-12\", \"DE123456789012345\"),  # Неправильный IBAN (короткий)\n",
    "    (\"Анна\", \"Каренина\", \"1970-07-07\", \"DE1234567890123456789012\")  # Всё ок\n",
    "]\n",
    "\n",
    "\n",
    "def validate_foul_name(name,sur_name):\n",
    "    if not name.strip():\n",
    "        raise ValueError(\"name имя не должно быть пустым\")\n",
    "    if not sur_name.strip():\n",
    "        raise ValueError(\"sur_name имя не должно быть пустым\")\n",
    "\n",
    "\n",
    "def validate_age(birth_data):\n",
    "    try:\n",
    "        birth_data = datetime.strptime(birth_data,\"%Y-%m-%d\")\n",
    "    except ValueError:\n",
    "        return \"Неверный формат даты.\"\n",
    "    today = datetime.today()\n",
    "    age = today.year - birth_data.year\n",
    "    if (today.month,today.day)< (birth_data.month,birth_data.day):\n",
    "        age -= 1\n",
    "    if age < 18:\n",
    "        raise ValueError (\"Возраст должен быть не меньше 18 лет\")\n",
    "    #Возраст должен быть не меньше 18 лет"
   ],
   "id": "f949c0392a0eff32"
  },
  {
   "metadata": {},
   "cell_type": "code",
   "outputs": [],
   "execution_count": null,
   "source": "\\",
   "id": "330715390fa221f7"
  }
 ],
 "metadata": {
  "kernelspec": {
   "display_name": "Python 3",
   "language": "python",
   "name": "python3"
  },
  "language_info": {
   "codemirror_mode": {
    "name": "ipython",
    "version": 2
   },
   "file_extension": ".py",
   "mimetype": "text/x-python",
   "name": "python",
   "nbconvert_exporter": "python",
   "pygments_lexer": "ipython2",
   "version": "2.7.6"
  }
 },
 "nbformat": 4,
 "nbformat_minor": 5
}
