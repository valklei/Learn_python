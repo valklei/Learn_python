{
 "cells": [
  {
   "cell_type": "code",
   "id": "initial_id",
   "metadata": {
    "collapsed": true,
    "ExecuteTime": {
     "end_time": "2024-11-14T07:31:41.123674Z",
     "start_time": "2024-11-14T07:31:41.121930Z"
    }
   },
   "source": [
    "# [возвращаемое_значение цикл итерируемый объект]\n",
    "# [возвращаемое_значение условие цикл итерируемый объект]\n",
    "# [возвращаемое_значение цикл итерируемый объект условие]\n",
    "# [возвращаемое_значение условие цикл итерируемый объект условие]\n",
    "# [возвращаемое_значение цикл итерируемый объект возвращаемое_значение цикл итерируемый объект]"
   ],
   "outputs": [],
   "execution_count": null
  },
  {
   "metadata": {},
   "cell_type": "code",
   "outputs": [],
   "execution_count": null,
   "source": [
    "# d = {\n",
    "#     (2, 4): 6\n",
    "# }\n",
    "\n"
   ],
   "id": "80551f122e2a7d1f"
  },
  {
   "metadata": {
    "ExecuteTime": {
     "end_time": "2024-11-14T08:12:26.949911Z",
     "start_time": "2024-11-14T08:12:26.946224Z"
    }
   },
   "cell_type": "code",
   "source": [
    "test_list = []\n",
    "\n",
    "\n",
    "for x in range(1, 11):\n",
    "    test_list.append(x ** 2)\n",
    "\n",
    "print(test_list)\n",
    "\n",
    "\n",
    "# -----------------------------\n",
    "\n",
    "# list comprehansion [возвращаемое_значение цикл итерируемый объект]\n",
    "\n",
    "test_list_1 = [x ** 2 for x in range(1, 11)]\n",
    "\n",
    "print(test_list_1)"
   ],
   "id": "7d8e3fcfb93bf342",
   "outputs": [
    {
     "name": "stdout",
     "output_type": "stream",
     "text": [
      "[1, 4, 9, 16, 25, 36, 49, 64, 81, 100]\n",
      "[1, 4, 9, 16, 25, 36, 49, 64, 81, 100]\n"
     ]
    }
   ],
   "execution_count": 2
  },
  {
   "metadata": {
    "ExecuteTime": {
     "end_time": "2024-11-14T08:17:04.128769Z",
     "start_time": "2024-11-14T08:17:04.125215Z"
    }
   },
   "cell_type": "code",
   "source": [
    "test_list_2 = []\n",
    "\n",
    "for x in range(1, 11):\n",
    "    if x % 2 == 0:\n",
    "        test_list_2.append(x)\n",
    "\n",
    "print(test_list_2)\n",
    "\n",
    "# ------------------------------------\n",
    "\n",
    "# [возвращаемое_значение цикл итерируемый объект условие]\n",
    "\n",
    "list_comp = [x for x in range(1, 11) if x % 2 == 0]\n",
    "\n",
    "print(list_comp)"
   ],
   "id": "a24b2579dfe160b5",
   "outputs": [
    {
     "name": "stdout",
     "output_type": "stream",
     "text": [
      "[2, 4, 6, 8, 10]\n",
      "[2, 4, 6, 8, 10]\n"
     ]
    }
   ],
   "execution_count": 4
  },
  {
   "metadata": {
    "ExecuteTime": {
     "end_time": "2024-11-14T08:23:41.161850Z",
     "start_time": "2024-11-14T08:23:41.159275Z"
    }
   },
   "cell_type": "code",
   "source": [
    "tup = tuple(x for x in range(1, 11) if x % 2 == 0)\n",
    "\n",
    "print(tup)"
   ],
   "id": "c4872c84c499d4a",
   "outputs": [
    {
     "name": "stdout",
     "output_type": "stream",
     "text": [
      "(2, 4, 6, 8, 10)\n"
     ]
    }
   ],
   "execution_count": 7
  },
  {
   "metadata": {
    "ExecuteTime": {
     "end_time": "2024-11-14T08:27:20.468561Z",
     "start_time": "2024-11-14T08:26:55.971133Z"
    }
   },
   "cell_type": "code",
   "source": [
    "x = []\n",
    "a = input().split()\n",
    "for i in a:\n",
    "    if i.isdigit():\n",
    "        x.append(int(i)) # добавление только если i - число\n",
    "print(x)\n",
    "\n",
    "\n",
    "x2 = [int(a) for a in input().split() if a.isdigit()]\n",
    "print(x2)"
   ],
   "id": "ad578f28db7a89f8",
   "outputs": [
    {
     "name": "stdout",
     "output_type": "stream",
     "text": [
      "[2, 4, 6, 7, 9, 0, 18]\n",
      "[2, 4, 6, 7, 9, 0, 18]\n"
     ]
    }
   ],
   "execution_count": 8
  },
  {
   "metadata": {
    "ExecuteTime": {
     "end_time": "2024-11-14T08:32:10.521043Z",
     "start_time": "2024-11-14T08:32:10.517405Z"
    }
   },
   "cell_type": "code",
   "source": [
    "test_d = []\n",
    "\n",
    "for i in range(1, 11):\n",
    "    if i < 5:\n",
    "        test_d.append('small')\n",
    "    else:\n",
    "        test_d.append('large')\n",
    "\n",
    "print(test_d)\n",
    "\n",
    "\n",
    "# --------------------------------------\n",
    "\n",
    "test_d_2 = ['small' if i < 5 else 'large' for i in range(1, 11)]\n",
    "\n",
    "print(test_d_2)"
   ],
   "id": "95f56705fb950063",
   "outputs": [
    {
     "name": "stdout",
     "output_type": "stream",
     "text": [
      "['small', 'small', 'small', 'small', 'large', 'large', 'large', 'large', 'large', 'large']\n",
      "['small', 'small', 'small', 'small', 'large', 'large', 'large', 'large', 'large', 'large']\n"
     ]
    }
   ],
   "execution_count": 10
  },
  {
   "metadata": {
    "ExecuteTime": {
     "end_time": "2024-11-14T08:47:51.351467Z",
     "start_time": "2024-11-14T08:47:51.346698Z"
    }
   },
   "cell_type": "code",
   "source": [
    "# pairs = []\n",
    "# \n",
    "# for i in range(1, 5):\n",
    "#     for j in range(1, 5):\n",
    "#         pairs.append((i, j))\n",
    "# \n",
    "# print(pairs)\n",
    "\n",
    "# ---------------------------------------\n",
    "\n",
    "\n",
    "pairs_2 = [(i, j) for i in range(1, 5) for j in range(1, 5) if i % 3 == 0 and j % 2 == 0]\n",
    "\n",
    "print(pairs_2)"
   ],
   "id": "ef0b65339f658913",
   "outputs": [
    {
     "name": "stdout",
     "output_type": "stream",
     "text": [
      "[(3, 2), (3, 4)]\n"
     ]
    }
   ],
   "execution_count": 15
  },
  {
   "metadata": {
    "ExecuteTime": {
     "end_time": "2024-11-14T08:49:46.468958Z",
     "start_time": "2024-11-14T08:49:46.465620Z"
    }
   },
   "cell_type": "code",
   "source": [
    "names = ('sdf8g7s9d8f7g', 'asd8^f7g5d', 'sd8f7g6df9h8j6f', 's09dfg6&s8d7fg6', 's0d9fg6sd98fg')\n",
    "\n",
    "\n",
    "clean_ids = [id_.upper() for id_ in names if id_.isalnum()]\n",
    "\n",
    "print(clean_ids)"
   ],
   "id": "784ac1fb789dba8",
   "outputs": [
    {
     "name": "stdout",
     "output_type": "stream",
     "text": [
      "['SDF8G7S9D8F7G', 'SD8F7G6DF9H8J6F', 'S0D9FG6SD98FG']\n"
     ]
    }
   ],
   "execution_count": 16
  },
  {
   "metadata": {},
   "cell_type": "code",
   "outputs": [],
   "execution_count": null,
   "source": [
    "# двумерный массив\n",
    "matrix = [\n",
    "    [1, 2, 3],\n",
    "    [4, 5, 6],\n",
    "    [7, 8, 9],\n",
    "]\n",
    "\n",
    "\n",
    "# многомерный массив\n",
    "matrix_2 = [\n",
    "    [\n",
    "        [1, 2, 3],\n",
    "        [4, 5, 6],\n",
    "        [7, 8, 9]\n",
    "    ],\n",
    "    [\n",
    "        [1, 2, 3],\n",
    "        [4, 5, 6],\n",
    "        [7, 8, 9]\n",
    "    ],\n",
    "    [\n",
    "        [1, 2, 3],\n",
    "        [4, 5, 6],\n",
    "        [7, 8, 9]\n",
    "    ],\n",
    "]"
   ],
   "id": "2adc1f172dfc59b7"
  },
  {
   "metadata": {
    "ExecuteTime": {
     "end_time": "2024-11-14T08:59:03.245106Z",
     "start_time": "2024-11-14T08:59:03.240178Z"
    }
   },
   "cell_type": "code",
   "source": [
    "users = [\n",
    "    [\"name\", \"surname\", \"age\", \"email\"],\n",
    "    [\"Alex\", \"Black\", 29, \"a.black@gmail.com\"],\n",
    "    [\"John\", \"Doe\", 35, \"j.doe@example.com\"],\n",
    "    [\"Jane\", \"Smith\", 28, \"j.smith@example.com\"],\n",
    "    [\"Emily\", \"Johnson\", 40, \"e.johnson@example.com\"],\n",
    "    [\"Michael\", \"Brown\", 33, \"m.brown@example.com\"],\n",
    "]\n",
    "\n",
    "names = []\n",
    "\n",
    "for user in users[1:]:\n",
    "    if user[2] > 30:\n",
    "        names.append(user[0])\n",
    "\n",
    "\n",
    "print(names)\n",
    "\n",
    "# ------------------------\n",
    "\n",
    "emails = [user[-1] for user in users[1:] if user[2] > 30]\n",
    "\n",
    "print(emails)"
   ],
   "id": "f8604b10fb162b97",
   "outputs": [
    {
     "name": "stdout",
     "output_type": "stream",
     "text": [
      "['John', 'Emily', 'Michael']\n",
      "['j.doe@example.com', 'e.johnson@example.com', 'm.brown@example.com']\n"
     ]
    }
   ],
   "execution_count": 18
  },
  {
   "metadata": {},
   "cell_type": "code",
   "outputs": [],
   "execution_count": null,
   "source": "",
   "id": "3838b2be078d91a9"
  },
  {
   "metadata": {
    "ExecuteTime": {
     "end_time": "2024-11-14T09:02:56.046331Z",
     "start_time": "2024-11-14T09:02:56.044094Z"
    }
   },
   "cell_type": "code",
   "source": [
    "emails.pop()\n",
    "\n",
    "print(emails)\n",
    "\n",
    "emails.append(55)\n",
    "print(emails)\n",
    "\n",
    "\n",
    "emails.pop()\n",
    "print(emails)"
   ],
   "id": "ec913fc69d99ed30",
   "outputs": [
    {
     "name": "stdout",
     "output_type": "stream",
     "text": [
      "['j.doe@example.com']\n",
      "['j.doe@example.com', 55]\n",
      "['j.doe@example.com']\n"
     ]
    }
   ],
   "execution_count": 20
  },
  {
   "metadata": {
    "ExecuteTime": {
     "end_time": "2024-11-14T09:11:44.935814Z",
     "start_time": "2024-11-14T09:11:44.931745Z"
    }
   },
   "cell_type": "code",
   "source": [
    "from collections import deque  # FIFO\n",
    "\n",
    "queue = deque()\n",
    "\n",
    "print(queue)\n",
    "\n",
    "queue.append(1)\n",
    "queue.append(2)\n",
    "queue.append(3)\n",
    "queue.append(4)\n",
    "queue.append(5)\n",
    "queue.append(6)\n",
    "queue.appendleft(88)\n",
    "print(queue)\n",
    "\n",
    "queue.pop()\n",
    "print(queue)\n",
    "\n",
    "queue.popleft()\n",
    "print(queue)"
   ],
   "id": "54de32936ac4ec02",
   "outputs": [
    {
     "name": "stdout",
     "output_type": "stream",
     "text": [
      "deque([])\n",
      "deque([88, 1, 2, 3, 4, 5, 6])\n",
      "deque([88, 1, 2, 3, 4, 5])\n",
      "deque([1, 2, 3, 4, 5])\n"
     ]
    }
   ],
   "execution_count": 25
  },
  {
   "metadata": {
    "ExecuteTime": {
     "end_time": "2024-11-14T09:20:11.661598Z",
     "start_time": "2024-11-14T09:20:11.657061Z"
    }
   },
   "cell_type": "code",
   "source": [
    "names = deque()\n",
    "\n",
    "names.append(\"Alice\") # добавление в конец\n",
    "names.append(\"John\") # добавление в конец\n",
    "names.append(\"Mark\") # добавление в конец\n",
    "\n",
    "\n",
    "print(names)\n",
    "\n",
    "names.appendleft(\"Maria\") # добавление в начало\n",
    "print(names)\n",
    "\n",
    "\n",
    "names.pop()\n",
    "print(names)\n",
    "\n",
    "names.popleft()\n",
    "print(names)"
   ],
   "id": "125d09b8890b5445",
   "outputs": [
    {
     "name": "stdout",
     "output_type": "stream",
     "text": [
      "deque(['Alice', 'John', 'Mark'])\n",
      "deque(['Maria', 'Alice', 'John', 'Mark'])\n",
      "deque(['Maria', 'Alice', 'John'])\n",
      "deque(['Alice', 'John'])\n"
     ]
    }
   ],
   "execution_count": 28
  },
  {
   "metadata": {
    "ExecuteTime": {
     "end_time": "2024-11-14T09:25:07.987891Z",
     "start_time": "2024-11-14T09:25:07.983795Z"
    }
   },
   "cell_type": "code",
   "source": [
    "ids = [6, 4, 3, 9, 7, 1, 9, 5, 7, 33, 14, 13]\n",
    "\n",
    "\n",
    "ids.sort(reverse=True)\n",
    "\n",
    "print(ids)\n"
   ],
   "id": "3c3737997e0839b9",
   "outputs": [
    {
     "name": "stdout",
     "output_type": "stream",
     "text": [
      "[33, 14, 13, 9, 9, 7, 7, 6, 5, 4, 3, 1]\n"
     ]
    }
   ],
   "execution_count": 31
  },
  {
   "metadata": {
    "ExecuteTime": {
     "end_time": "2024-11-14T09:33:52.827205Z",
     "start_time": "2024-11-14T09:33:52.823147Z"
    }
   },
   "cell_type": "code",
   "source": [
    "data = ['beta', '1', 'Alpha', '5', 'Delta', '3', 'GAMMA', '7']\n",
    "#         0      1      0      1      0      1      0      1\n",
    "#         0      0      0      0      1      1      1      1\n",
    "\n",
    "data.sort(key=str.isdigit, reverse=True)\n",
    "\n",
    "print(data)"
   ],
   "id": "9456978b883b884",
   "outputs": [
    {
     "name": "stdout",
     "output_type": "stream",
     "text": [
      "['1', '5', '3', '7', 'beta', 'Alpha', 'Delta', 'GAMMA']\n"
     ]
    }
   ],
   "execution_count": 34
  },
  {
   "metadata": {
    "ExecuteTime": {
     "end_time": "2024-11-14T09:31:58.050048Z",
     "start_time": "2024-11-14T09:31:58.045868Z"
    }
   },
   "cell_type": "code",
   "source": [
    "'hello'.isdigit() # False = 0\n",
    "'5'.isdigit() # True = 1\n",
    "\n"
   ],
   "id": "b240f1205449ddf4",
   "outputs": [
    {
     "data": {
      "text/plain": [
       "False"
      ]
     },
     "execution_count": 33,
     "metadata": {},
     "output_type": "execute_result"
    }
   ],
   "execution_count": 33
  },
  {
   "metadata": {},
   "cell_type": "code",
   "outputs": [],
   "execution_count": null,
   "source": [
    "# найти тех учителей, чей возраст больше 30 и они возглавляют совет школы\n",
    "\n",
    "teachers = [\n",
    "    [\"name\", \"surname\", \"age\", \"email\", \"phone\", \"discipline\", \"is_head\"],\n",
    "    [\"Alex\", \"Black\", 29, \"a.black@gmail.com\", \"123-456-7890\", \"Math\", False],\n",
    "    [\"John\", \"Doe\", 35, \"j.doe@example.com\", \"123-456-7891\", \"Physics\", True],\n",
    "    [\"Jane\", \"Smith\", 28, \"j.smith@example.com\", \"123-456-7892\", \"Chemistry\", False],\n",
    "    [\"Emily\", \"Johnson\", 40, \"e.johnson@example.com\", \"123-456-7893\", \"Biology\", True],\n",
    "    [\"Michael\", \"Brown\", 33, \"m.brown@example.com\", \"123-456-7894\", \"History\", False],\n",
    "    [\"Sarah\", \"Davis\", 37, \"s.davis@example.com\", \"123-456-7895\", \"Literature\", True],\n",
    "    [\"David\", \"Wilson\", 45, \"d.wilson@example.com\", \"123-456-7896\", \"Geography\", False],\n",
    "    [\"Laura\", \"Martin\", 29, \"l.martin@example.com\", \"123-456-7897\", \"Art\", True],\n",
    "]"
   ],
   "id": "ea28d5871775557f"
  },
  {
   "metadata": {},
   "cell_type": "code",
   "outputs": [],
   "execution_count": null,
   "source": [
    "data = [\n",
    "    ['PassengerId', 'Survived', 'Pclass', 'Name', 'Sex', 'Age', 'SibSp', 'Parch', 'Ticket', 'Fare', 'Cabin', 'Embarked'],\n",
    "    ['1', '0', '3', 'Braund, Mr. Owen Harris', 'male', '22', '1', '0', 'A/5 21171', '7.25', '', 'S'],\n",
    "    ['2', '1', '1', 'Cumings, Mrs. John Bradley (Florence Briggs Thayer)', 'female', '38', '1', '0', 'PC 17599', '71.2833', 'C85', 'C'],\n",
    "    ['3', '1', '3', 'Heikkinen, Miss. Laina', 'female', '26', '0', '0', 'STON/O2. 3101282', '7.925', '', 'S'],\n",
    "    ['4', '1', '1', 'Futrelle, Mrs. Jacques Heath (Lily May Peel)', 'female', '35', '1', '0', '113803', '53.1', 'C123', 'S'],\n",
    "    ['5', '0', '3', 'Allen, Mr. William Henry', 'male', '35', '0', '0', '373450', '8.05', '', 'S'],\n",
    "    ['6', '0', '3', 'Moran, Mr. James', 'male', '', '0', '0', '330877', '8.4583', '', 'Q'],\n",
    "    ['7', '0', '1', 'McCarthy, Mr. Timothy J', 'male', '54', '0', '0', '17463', '51.8625', 'E46', 'S'],\n",
    "    ['8', '0', '3', 'Palsson, Master. Gosta Leonard', 'male', '2', '3', '1', '349909', '21.075', '', 'S'],\n",
    "    ['9', '1', '3', 'Johnson, Mrs. Oscar W (Elisabeth Vilhelmina Berg)', 'female', '27', '0', '2', '347742', '11.1333', '', 'S'],\n",
    "    ['10', '1', '2', 'Nasser, Mrs. Nicholas (Adele Achem)', 'female', '14', '1', '0', '237736', '30.0708', '', 'C'],\n",
    "    ['11', '1', '3', 'Sandstrom, Miss. Marguerite Rut', 'female', '4', '1', '1', 'PP 9549', '16.7', 'G6', 'S'],\n",
    "    ['12', '1', '1', 'Bonnell, Miss. Elizabeth', 'female', '58', '0', '0', '113783', '26.55', 'C103', 'S'],\n",
    "    ['13', '0', '3', 'Saundercock, Mr. William Henry', 'male', '20', '0', '0', 'A/5. 2151', '8.05', '', 'S'],\n",
    "    ['14', '0', '3', 'Andersson, Mr. Anders Johan', 'male', '39', '1', '5', '347082', '31.275', '', 'S'],\n",
    "    ['15', '0', '3', 'Vestrom, Miss. Hulda Amanda Adolfina', 'female', '14', '0', '0', '350406', '7.8542', '', 'S'],\n",
    "    ['16', '1', '2', 'Hewlett, Mrs. (Mary D Kingcome) ', 'female', '55', '0', '0', '248706', '16', '', 'S'],\n",
    "    ['17', '0', '3', 'Rice, Master. Eugene', 'male', '2', '4', '1', '382652', '29.125', '', 'Q'],\n",
    "    ['18', '1', '2', 'Williams, Mr. Charles Eugene', 'male', '', '0', '0', '244373', '13', '', 'S'],\n",
    "    ['19', '0', '3', 'Vander Planke, Mrs. Julius (Emelia Maria Vandemoortele)', 'female', '31', '1', '0', '345763', '18', '', 'S'],\n",
    "    ['20', '1', '3', 'Masselmani, Mrs. Fatima', 'female', '', '0', '0', '2649', '7.225', '', 'C'],\n",
    "    ['21', '0', '2', 'Fynney, Mr. Joseph J', 'male', '35', '0', '0', '239865', '26', '', 'S'],\n",
    "    ['22', '1', '2', 'Beesley, Mr. Lawrence', 'male', '34', '0', '0', '248698', '13', 'D56', 'S'],\n",
    "    ['23', '1', '3', 'McGowan, Miss. Anna \"Annie\"', 'female', '15', '0', '0', '330923', '8.0292', '', 'Q'],\n",
    "    ['24', '1', '1', 'Sloper, Mr. William Thompson', 'male', '28', '0', '0', '113788', '35.5', 'A6', 'S'],\n",
    "    ['25', '0', '3', 'Palsson, Miss. Torborg Danira', 'female', '8', '3', '1', '349909', '21.075', '', 'S']\n",
    "]"
   ],
   "id": "ac33e8e8b1018fd7"
  },
  {
   "metadata": {
    "ExecuteTime": {
     "end_time": "2024-11-14T11:30:00.159424Z",
     "start_time": "2024-11-14T11:30:00.155655Z"
    }
   },
   "cell_type": "code",
   "source": "my_var = 15",
   "id": "7d9582cec31b2e4a",
   "outputs": [],
   "execution_count": 35
  },
  {
   "metadata": {},
   "cell_type": "code",
   "outputs": [],
   "execution_count": null,
   "source": "",
   "id": "99df2e6807009c40"
  },
  {
   "metadata": {},
   "cell_type": "code",
   "outputs": [],
   "execution_count": null,
   "source": [
    "list_ = 5\n",
    "\n",
    "list()"
   ],
   "id": "239d1175de0e77cb"
  },
  {
   "metadata": {},
   "cell_type": "code",
   "outputs": [],
   "execution_count": null,
   "source": "",
   "id": "ce0ddb8aaad0a1af"
  },
  {
   "metadata": {
    "ExecuteTime": {
     "end_time": "2024-11-14T11:30:46.591261Z",
     "start_time": "2024-11-14T11:30:46.327084Z"
    }
   },
   "cell_type": "code",
   "source": "print(my_var ** 2)",
   "id": "6e0b82b3f296aae9",
   "outputs": [
    {
     "ename": "NameError",
     "evalue": "name 'my_var' is not defined",
     "output_type": "error",
     "traceback": [
      "\u001B[0;31m---------------------------------------------------------------------------\u001B[0m",
      "\u001B[0;31mNameError\u001B[0m                                 Traceback (most recent call last)",
      "Cell \u001B[0;32mIn[1], line 1\u001B[0m\n\u001B[0;32m----> 1\u001B[0m \u001B[38;5;28mprint\u001B[39m(\u001B[43mmy_var\u001B[49m \u001B[38;5;241m*\u001B[39m\u001B[38;5;241m*\u001B[39m \u001B[38;5;241m2\u001B[39m)\n",
      "\u001B[0;31mNameError\u001B[0m: name 'my_var' is not defined"
     ]
    }
   ],
   "execution_count": 1
  },
  {
   "metadata": {
    "ExecuteTime": {
     "end_time": "2024-11-14T11:41:30.998132Z",
     "start_time": "2024-11-14T11:41:30.992307Z"
    }
   },
   "cell_type": "code",
   "source": [
    "list_of_values = [1, 2, 3, 4, 5, 6, 7, 8, 9, 10, 11, 12, 13, 14, 15, 16, 17, 18, 19, 20]\n",
    "\n",
    "\n",
    "list_of_values.sort(reverse=True)\n",
    "\n",
    "print(list_of_values)"
   ],
   "id": "52fb5032e8fb7da6",
   "outputs": [
    {
     "name": "stdout",
     "output_type": "stream",
     "text": [
      "[20, 19, 18, 17, 16, 15, 14, 13, 12, 11, 10, 9, 8, 7, 6, 5, 4, 3, 2, 1]\n"
     ]
    }
   ],
   "execution_count": 2
  },
  {
   "metadata": {
    "ExecuteTime": {
     "end_time": "2024-11-14T11:44:24.360505Z",
     "start_time": "2024-11-14T11:44:24.355808Z"
    }
   },
   "cell_type": "code",
   "source": [
    "def sort_even_values(item):\n",
    "    if item % 2 == 0:\n",
    "        return True\n",
    "    return False\n",
    "\n",
    "\n",
    "list_of_values.sort(key=sort_even_values, reverse=True)\n",
    "\n",
    "print(list_of_values)"
   ],
   "id": "edae4cb86f9742b5",
   "outputs": [
    {
     "name": "stdout",
     "output_type": "stream",
     "text": [
      "[20, 18, 16, 14, 12, 10, 8, 6, 4, 2, 19, 17, 15, 13, 11, 9, 7, 5, 3, 1]\n"
     ]
    }
   ],
   "execution_count": 4
  },
  {
   "metadata": {},
   "cell_type": "code",
   "outputs": [],
   "execution_count": null,
   "source": [
    "def filter_teacher(data: list[list]) -> list[str]:\n",
    "    email_exit = [teacher[3] for teacher in data[1:] if i[2] > 30 and i[-1]  ]\n",
    "    \n",
    "    return email_exit\n"
   ],
   "id": "ee4ca366a4b6c48e"
  },
  {
   "metadata": {},
   "cell_type": "code",
   "outputs": [],
   "execution_count": null,
   "source": "",
   "id": "20209a01f0481222"
  }
 ],
 "metadata": {
  "kernelspec": {
   "display_name": "Python 3",
   "language": "python",
   "name": "python3"
  },
  "language_info": {
   "codemirror_mode": {
    "name": "ipython",
    "version": 2
   },
   "file_extension": ".py",
   "mimetype": "text/x-python",
   "name": "python",
   "nbconvert_exporter": "python",
   "pygments_lexer": "ipython2",
   "version": "2.7.6"
  }
 },
 "nbformat": 4,
 "nbformat_minor": 5
}
