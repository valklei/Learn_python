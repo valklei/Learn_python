{
 "cells": [
  {
   "cell_type": "code",
   "id": "initial_id",
   "metadata": {
    "collapsed": true,
    "ExecuteTime": {
     "end_time": "2024-10-11T06:52:30.996957Z",
     "start_time": "2024-10-11T06:52:30.993743Z"
    }
   },
   "source": "# \"7\" + \"2\" + \"4\" => \"72\" => \"724\"",
   "outputs": [],
   "execution_count": null
  },
  {
   "metadata": {
    "ExecuteTime": {
     "end_time": "2024-10-11T07:04:40.763260Z",
     "start_time": "2024-10-11T07:04:40.760587Z"
    }
   },
   "cell_type": "code",
   "source": [
    "print(\"7\", end=', ')\n",
    "print(\"2\", end=', ')\n",
    "print(\"4\")"
   ],
   "id": "2a589529c56d7e27",
   "outputs": [
    {
     "name": "stdout",
     "output_type": "stream",
     "text": [
      "7, 2, 4\n"
     ]
    }
   ],
   "execution_count": 6
  },
  {
   "metadata": {
    "ExecuteTime": {
     "end_time": "2024-10-11T07:39:14.678407Z",
     "start_time": "2024-10-11T07:39:14.672307Z"
    }
   },
   "cell_type": "code",
   "source": "1 + 2 + 3 + 4 + 5 + 6 + 7",
   "id": "ae61c38dfa2f5edd",
   "outputs": [
    {
     "data": {
      "text/plain": [
       "28"
      ]
     },
     "execution_count": 7,
     "metadata": {},
     "output_type": "execute_result"
    }
   ],
   "execution_count": 7
  },
  {
   "metadata": {
    "ExecuteTime": {
     "end_time": "2024-10-11T07:40:39.528683Z",
     "start_time": "2024-10-11T07:40:36.163916Z"
    }
   },
   "cell_type": "code",
   "source": [
    "number = int(input(\"Введите число: \"))\n",
    "a = 1\n",
    "sum_ = 0\n",
    "\n",
    "while a <= number:\n",
    "  sum_ += a\n",
    "  print(\"Промежуточный результат суммы =\", sum_)\n",
    "  a += 1\n",
    "\n",
    "\n",
    "print(\"Сумма чисел :  \", sum_ )"
   ],
   "id": "2c2db712e2437178",
   "outputs": [
    {
     "name": "stdout",
     "output_type": "stream",
     "text": [
      "Промежуточный результат суммы = 1\n",
      "Промежуточный результат суммы = 3\n",
      "Промежуточный результат суммы = 6\n",
      "Промежуточный результат суммы = 10\n",
      "Промежуточный результат суммы = 15\n",
      "Промежуточный результат суммы = 21\n",
      "Промежуточный результат суммы = 28\n",
      "Сумма чисел :   28\n"
     ]
    }
   ],
   "execution_count": 8
  },
  {
   "metadata": {},
   "cell_type": "code",
   "outputs": [],
   "execution_count": null,
   "source": "",
   "id": "3e5766245c3ca3ef"
  },
  {
   "metadata": {
    "ExecuteTime": {
     "end_time": "2024-10-11T08:20:14.375115Z",
     "start_time": "2024-10-11T08:20:10.237801Z"
    }
   },
   "cell_type": "code",
   "source": [
    "a = int(input(\"Введите первое число: \")) #5\n",
    "b = int(input(\"Введите второе число: \")) #2\n",
    "c = int(input(\"Введите третье число: \")) #7\n",
    "\n",
    "big = 0\n",
    "mid = 0\n",
    "small = 0\n",
    "\n",
    "if a > b and a > c:\n",
    "    big = a\n",
    "elif (b > a and b > c) or (c > a > b):\n",
    "    mid = a\n",
    "else:\n",
    "    small = a\n",
    "\n",
    "if b > a and b > c:\n",
    "    big = b\n",
    "elif (a > b > c) or (c > b > a):\n",
    "    mid = b\n",
    "else:\n",
    "    small = b\n",
    "\n",
    "if c > b and c > a:\n",
    "    big = c\n",
    "elif (a > c > b) or (b > c > a):\n",
    "    mid = c\n",
    "else:\n",
    "    small = c\n",
    "\n",
    "print(\"Числа в порядке возрастания:\", small, mid, big)"
   ],
   "id": "5282276564d2a64d",
   "outputs": [
    {
     "name": "stdout",
     "output_type": "stream",
     "text": [
      "Числа в порядке возрастания: 2 5 7\n"
     ]
    }
   ],
   "execution_count": 10
  },
  {
   "metadata": {
    "ExecuteTime": {
     "end_time": "2024-10-11T08:24:28.277658Z",
     "start_time": "2024-10-11T08:24:16.985345Z"
    }
   },
   "cell_type": "code",
   "source": [
    "num_1 = int(input(\"Введите первое число: \")) #5\n",
    "num_2 = int(input(\"Введите второе число: \")) #2\n",
    "num_3 = int(input(\"Введите третье число: \")) #7\n",
    "\n",
    "\n",
    "max_value = max(num_1, num_2, num_3)\n",
    "min_value = min(num_1, num_2, num_3)\n",
    "\n",
    "medium_value = (num_1 + num_2 + num_3) - (max_value + min_value)\n",
    "\n",
    "print(\"Числа в порядке возрастания:\", min_value, medium_value, max_value)"
   ],
   "id": "e2e58858caf0ad03",
   "outputs": [
    {
     "name": "stdout",
     "output_type": "stream",
     "text": [
      "Числа в порядке возрастания: 1 7 10\n"
     ]
    }
   ],
   "execution_count": 13
  },
  {
   "metadata": {
    "ExecuteTime": {
     "end_time": "2024-10-11T08:22:12.443784Z",
     "start_time": "2024-10-11T08:22:12.439557Z"
    }
   },
   "cell_type": "code",
   "source": "max(2, 6, 3, 7, 8, 19, 10, 20)",
   "id": "3a248eed637524cd",
   "outputs": [
    {
     "data": {
      "text/plain": [
       "20"
      ]
     },
     "execution_count": 11,
     "metadata": {},
     "output_type": "execute_result"
    }
   ],
   "execution_count": 11
  },
  {
   "metadata": {
    "ExecuteTime": {
     "end_time": "2024-10-11T08:22:26.849856Z",
     "start_time": "2024-10-11T08:22:26.845634Z"
    }
   },
   "cell_type": "code",
   "source": "min(2, 6, 3, 7, 8, 19, 10, 20)",
   "id": "355e7ee570071c73",
   "outputs": [
    {
     "data": {
      "text/plain": [
       "2"
      ]
     },
     "execution_count": 12,
     "metadata": {},
     "output_type": "execute_result"
    }
   ],
   "execution_count": 12
  },
  {
   "metadata": {
    "ExecuteTime": {
     "end_time": "2024-10-11T08:26:53.082119Z",
     "start_time": "2024-10-11T08:26:49.408638Z"
    }
   },
   "cell_type": "code",
   "source": [
    "year = int(input(\"Введите год: \"))\n",
    "\n",
    "if (year % 4 == 0 and year % 100 != 0) or year % 400 == 0:\n",
    "    print(\"Год является високосным.\")\n",
    "else:\n",
    "    print(\"Год не является високосным.\")"
   ],
   "id": "8362c09333f98808",
   "outputs": [
    {
     "name": "stdout",
     "output_type": "stream",
     "text": [
      "Год является високосным.\n"
     ]
    }
   ],
   "execution_count": 14
  },
  {
   "metadata": {
    "ExecuteTime": {
     "end_time": "2024-10-11T08:36:53.332121Z",
     "start_time": "2024-10-11T08:36:30.663881Z"
    }
   },
   "cell_type": "code",
   "source": [
    "import random\n",
    "\n",
    "max_attempts = int(input(\"Введите кол-во попыток: \"))\n",
    "min_range = int(input(\"Введите старт диапазона: \"))\n",
    "max_range = int(input(\"Введите конец диапазона: \"))\n",
    "\n",
    "secret_number = random.randint(min_range, max_range)\n",
    "\n",
    "attempts = 0\n",
    "\n",
    "while attempts < max_attempts:\n",
    "    guess = int(input(\"Введите ваше число: \"))\n",
    "    \n",
    "    if guess == secret_number:\n",
    "        print(\"Поздравляю, вы победили! Загаданное число =\", secret_number)\n",
    "        break\n",
    "    elif guess < secret_number:\n",
    "        print(\"Загаданное число больше\")\n",
    "    else:\n",
    "        print(\"Загаданное число меньше\")\n",
    "    \n",
    "    attempts += 1\n",
    "else:\n",
    "    print(\"Игра окончена. Вы потратили все попытки. Загаданное число =\", secret_number)"
   ],
   "id": "794d1184c430a27c",
   "outputs": [
    {
     "name": "stdout",
     "output_type": "stream",
     "text": [
      "Загаданное число меньше\n",
      "Загаданное число меньше\n",
      "Загаданное число меньше\n",
      "Игра окончена. Вы потратили все попытки. Загаданное число = 1\n"
     ]
    }
   ],
   "execution_count": 15
  },
  {
   "metadata": {},
   "cell_type": "code",
   "outputs": [],
   "execution_count": null,
   "source": [
    "Напишите программу, которая генерирует случайное число от 1 до 100, \n",
    "\n",
    "\n",
    "\n",
    "а затем предлагает пользователю угадать это число. Если пользователь угадывает число, программа выводит сообщение о победе. Если пользователь не угадывает число, программа сообщает, больше или меньше загаданное число и предлагает попробовать снова. Используйте цикл с инструкцией break, чтобы остановить выполнение цикла, когда число угадано."
   ],
   "id": "aa15f942b469a600"
  }
 ],
 "metadata": {
  "kernelspec": {
   "display_name": "Python 3",
   "language": "python",
   "name": "python3"
  },
  "language_info": {
   "codemirror_mode": {
    "name": "ipython",
    "version": 2
   },
   "file_extension": ".py",
   "mimetype": "text/x-python",
   "name": "python",
   "nbconvert_exporter": "python",
   "pygments_lexer": "ipython2",
   "version": "2.7.6"
  }
 },
 "nbformat": 4,
 "nbformat_minor": 5
}
