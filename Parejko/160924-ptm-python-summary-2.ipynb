{
 "cells": [
  {
   "cell_type": "code",
   "execution_count": 2,
   "id": "52117039-229e-4513-a993-61c16ad601e8",
   "metadata": {},
   "outputs": [
    {
     "name": "stdin",
     "output_type": "stream",
     "text": [
      " True\n",
      " Fasle\n"
     ]
    },
    {
     "name": "stdout",
     "output_type": "stream",
     "text": [
      "False\n",
      "False\n",
      "False\n"
     ]
    }
   ],
   "source": [
    "f = input() # True -> 'True' -> True, так как строка не пустая\n",
    "r = input() # False -> 'False' -> True, так как строка не пустая\n",
    "\n",
    "\n",
    "print(not f)\n",
    "print(not r)\n",
    "\n",
    "print(f == r)"
   ]
  },
  {
   "cell_type": "code",
   "execution_count": 3,
   "id": "b3e2a22c-d989-417e-9507-5d4d45b89b8f",
   "metadata": {},
   "outputs": [
    {
     "name": "stdin",
     "output_type": "stream",
     "text": [
      " 0\n"
     ]
    }
   ],
   "source": [
    "test = bool(int(input()))"
   ]
  },
  {
   "cell_type": "code",
   "execution_count": 4,
   "id": "9a861569-2ff8-43e6-8ce2-5e7276035184",
   "metadata": {},
   "outputs": [
    {
     "data": {
      "text/plain": [
       "False"
      ]
     },
     "execution_count": 4,
     "metadata": {},
     "output_type": "execute_result"
    }
   ],
   "source": [
    "test"
   ]
  },
  {
   "cell_type": "code",
   "execution_count": 7,
   "id": "571ae077-dc45-4af9-bc83-07cb3d4c363c",
   "metadata": {},
   "outputs": [
    {
     "name": "stdout",
     "output_type": "stream",
     "text": [
      "24\n",
      "-12\n",
      "108\n",
      "0.3333333333333333\n",
      "6\n",
      "0\n",
      "101559956668416\n",
      "5.196152422706632\n"
     ]
    }
   ],
   "source": [
    "a = 6\n",
    "b = 18\n",
    "\n",
    "print(a + b)\n",
    "print(a - b)\n",
    "print(a * b)\n",
    "print(a / b)\n",
    "print(a % b)\n",
    "print(a // b)\n",
    "print(a ** b)\n",
    "print(27 ** 0.5) # квадратный корень, работает только на числе 0.5\n"
   ]
  },
  {
   "cell_type": "code",
   "execution_count": 8,
   "id": "0f922332-0fa4-49ce-955c-3fec6d3e04f9",
   "metadata": {},
   "outputs": [
    {
     "data": {
      "text/plain": [
       "5.0"
      ]
     },
     "execution_count": 8,
     "metadata": {},
     "output_type": "execute_result"
    }
   ],
   "source": [
    "float(5) # преобразует целое число в дробное. Дробная часть будет равна 0"
   ]
  },
  {
   "cell_type": "code",
   "execution_count": 17,
   "id": "f880d752-e9a7-4268-a010-4f1593fe4c6b",
   "metadata": {},
   "outputs": [
    {
     "data": {
      "text/plain": [
       "2.4"
      ]
     },
     "execution_count": 17,
     "metadata": {},
     "output_type": "execute_result"
    }
   ],
   "source": [
    "0.3 + 0.3 + 0.3 # погрешность в хранении дробных остатков в битах"
   ]
  },
  {
   "cell_type": "code",
   "execution_count": 18,
   "id": "23b9d4c4-e925-481e-9ff5-d751e2898958",
   "metadata": {},
   "outputs": [
    {
     "data": {
      "text/plain": [
       "False"
      ]
     },
     "execution_count": 18,
     "metadata": {},
     "output_type": "execute_result"
    }
   ],
   "source": [
    "0.2 + 0.2 + 0.2 == 0.6 # из-за этой самой погрешности такое сравнение не будет валидным, получим False"
   ]
  },
  {
   "cell_type": "code",
   "execution_count": 19,
   "id": "72c8d700-28c2-413a-9e1d-020df5c1e377",
   "metadata": {},
   "outputs": [
    {
     "data": {
      "text/plain": [
       "0.6000000000000001"
      ]
     },
     "execution_count": 19,
     "metadata": {},
     "output_type": "execute_result"
    }
   ],
   "source": [
    "0.2 + 0.2 + 0.2"
   ]
  },
  {
   "cell_type": "code",
   "execution_count": 20,
   "id": "dff2538a-84e0-42f3-a5bf-a6f398b33d83",
   "metadata": {},
   "outputs": [
    {
     "name": "stdout",
     "output_type": "stream",
     "text": [
      "0\n",
      "15\n",
      "10\n",
      "2\n"
     ]
    }
   ],
   "source": [
    "a = 5\n",
    "b = 10\n",
    "\n",
    "print(a & b) # 0101 & 1010 -> 0000 -> 0\n",
    "print(a | b) # 0101 & 1010 -> 1111 -> 15\n",
    "print(a << 1) # 0101 -> << 1 bit -> 1010 -> 10\n",
    "print(a >> 1) # 0101 -> >> 1 bit -> 0010 -> 2\n"
   ]
  },
  {
   "cell_type": "code",
   "execution_count": 24,
   "id": "94560e0b-82bf-4502-87f7-9ca724420362",
   "metadata": {},
   "outputs": [
    {
     "name": "stdout",
     "output_type": "stream",
     "text": [
      "2\n",
      "30\n",
      "0\n",
      "24\n",
      "15.85\n",
      "125\n"
     ]
    }
   ],
   "source": [
    "print(abs(-2)) # возвращает абсолют числа. Помогает преобразовывать негативные числа в позитивные\n",
    "print(sum((2, 4, 6, 8, 10))) # передаём одно значение, как множество чисел через запятую, в скобках. Складывает все числа, вычислая их сумму\n",
    "print(min(4, 1, 7, 12, 24, 1, 0)) # передаём просто много чисел через запятую. Находит самое минимальное.\n",
    "print(max(4, 1, 7, 12, 24, 1, 0)) # передаём просто много чисел через запятую. Находит самое максимальное.\n",
    "print(round(15.846542, 2)) # помогает округлить число a до n знаков после точки. round(15.8465, 2) -> 15.84\n",
    "print(pow(5, 3)) # возводит число a в степень n -> pow(5, 3) -> 5 ** 3 -> 125"
   ]
  },
  {
   "cell_type": "code",
   "execution_count": null,
   "id": "00c287c9-23ff-4cd4-9fd0-2302087212ae",
   "metadata": {},
   "outputs": [],
   "source": [
    "sum((2, 4, 6, 8, 10)) # -> (2, 4, 6, 8, 10) -> 2 + 4 + 6 + 8 + 10 = 30"
   ]
  },
  {
   "cell_type": "code",
   "execution_count": null,
   "id": "27cde246-f1ae-485d-9317-9eff14048fc2",
   "metadata": {},
   "outputs": [],
   "source": [
    "# () - приоритетность 1000\n",
    "# ** - приоритетность 500\n",
    "# *, /, //, % - приоритетность 250\n",
    "# +, -  приоритетность 125\n",
    "# <<, >> - приоритетность 67,5"
   ]
  },
  {
   "cell_type": "code",
   "execution_count": null,
   "id": "0e161f84-5dc6-4664-b018-1777c56abda6",
   "metadata": {},
   "outputs": [],
   "source": [
    "# 10 + 2 * (7 - 3) ** 2 -> сперва скобки\n",
    "# 10 + 2 * 4 ** 2 -> затем возведение в степень\n",
    "# 10 + 2 * 16 -> после умножение\n",
    "# 10 + 32 -> после сложение\n",
    "# 42"
   ]
  },
  {
   "cell_type": "code",
   "execution_count": 25,
   "id": "e0581544-4a6e-4b5a-852b-9bf5d6eb7463",
   "metadata": {},
   "outputs": [
    {
     "name": "stdout",
     "output_type": "stream",
     "text": [
      "35\n"
     ]
    }
   ],
   "source": [
    "# приращение в переопределении переменной (с мат. операторами)\n",
    "my_pos_val = 25\n",
    "\n",
    "my_pos_val = my_pos_val + 10 # обычный вариант: переменная = переменная + доп. значение\n",
    "\n",
    "print(my_pos_val)\n",
    "\n",
    "my_new_val = 35\n",
    "\n",
    "my_new_val += 10 # облегчённый вариант через приращение: переменная += доп. значение\n",
    "\n",
    "print(my_new_val)"
   ]
  },
  {
   "cell_type": "code",
   "execution_count": null,
   "id": "2c780d81-bf2f-4557-b5f3-007d6a3fbfa4",
   "metadata": {},
   "outputs": [],
   "source": [
    "# операторы приращения\n",
    "# += добавить и тут же присвоить\n",
    "# -= отнять и тут же присвоить\n",
    "# *= умножить и тут же присвоить\n",
    "# /= поделить и тут же присвоить\n",
    "# //= поделить нацело и тут же присвоить\n",
    "# %= взять остаток от деления и тут же присвоить\n",
    "# **= возвести в степень и тут же присвоить"
   ]
  },
  {
   "cell_type": "code",
   "execution_count": 2,
   "id": "191ff9ff-1639-4808-abe4-f5449a61fc40",
   "metadata": {},
   "outputs": [
    {
     "name": "stdout",
     "output_type": "stream",
     "text": [
      "1\n"
     ]
    }
   ],
   "source": [
    "a = 15\n",
    "\n",
    "a %= 2 # 15 % 2 -> 1 (ближайшее число, умноженное на 2, к 15 - это 14. В остатке остаётся 1. Это и есть новое значение для нашей a)\n",
    "\n",
    "print(a)"
   ]
  },
  {
   "cell_type": "code",
   "execution_count": null,
   "id": "7940ccf8-d139-4b12-885e-77d0c9dd458a",
   "metadata": {},
   "outputs": [],
   "source": [
    "# bool (True = 1), (False = 0)\n",
    "# AND всё должно быть True\n",
    "# OR хоть одно из выражений должно быть True\n",
    "# NOT конвертирует выражения\n",
    "# None"
   ]
  },
  {
   "cell_type": "code",
   "execution_count": 4,
   "id": "73aa19c1-57ad-4b1b-841f-941622fcf221",
   "metadata": {},
   "outputs": [],
   "source": [
    "is_register = None\n",
    "\n",
    "# ...\n",
    "# ...\n",
    "# ...\n",
    "# ...\n",
    "\n",
    "# is_register = 1"
   ]
  },
  {
   "cell_type": "code",
   "execution_count": 5,
   "id": "73e82575-ef12-4beb-94e8-ebf94eb0a89b",
   "metadata": {},
   "outputs": [
    {
     "name": "stdout",
     "output_type": "stream",
     "text": [
      "True\n",
      "False\n"
     ]
    }
   ],
   "source": [
    "print(is_register is None)\n",
    "print(is_register is not None)"
   ]
  },
  {
   "cell_type": "code",
   "execution_count": 34,
   "id": "bfe9de13-5470-438e-bb16-4d79ae428ce8",
   "metadata": {},
   "outputs": [
    {
     "data": {
      "text/plain": [
       "False"
      ]
     },
     "execution_count": 34,
     "metadata": {},
     "output_type": "execute_result"
    }
   ],
   "source": [
    "# 5 != 10\n",
    "# 5 == 10\n",
    "# 5 > 10\n",
    "# 5 < 10\n",
    "# 5 >= 10\n",
    "# 5 <= 10"
   ]
  },
  {
   "cell_type": "code",
   "execution_count": 7,
   "id": "34a69fee-0ac2-4b61-927d-ed6550b5e40c",
   "metadata": {},
   "outputs": [
    {
     "data": {
      "text/plain": [
       "False"
      ]
     },
     "execution_count": 7,
     "metadata": {},
     "output_type": "execute_result"
    }
   ],
   "source": [
    "# двойные условия помогают сократить код:\n",
    "\n",
    "# обычный способ\n",
    "test_var = 15\n",
    "\n",
    "test_var > 30 and test_var != True # 15 больше 30 и 15 не равно True\n",
    "\n",
    "\n",
    "# \"синтаксис сахар\" (двойное условие)\n",
    "30 < test_var != True # 15 больше 30 и 15 не равно True"
   ]
  },
  {
   "cell_type": "code",
   "execution_count": 36,
   "id": "48932a5f-5085-446c-b2b6-8cbf39ba8eff",
   "metadata": {},
   "outputs": [
    {
     "name": "stdout",
     "output_type": "stream",
     "text": [
      "True\n",
      "True\n"
     ]
    }
   ],
   "source": [
    "test_var = 55\n",
    "\n",
    "test_var = test_var * 2 # обычный способ\n",
    "\n",
    "test_var *= 2 # \"синтаксис сахар\"\n",
    "\n",
    "print(test_var > 40 and test_var < 60) # обычный способ\n",
    "print(40 < test_var < 60) # \"синтаксис сахар\""
   ]
  },
  {
   "cell_type": "code",
   "execution_count": 39,
   "id": "de7862a7-db7e-4dcf-a79d-b4674ada8b7f",
   "metadata": {},
   "outputs": [
    {
     "data": {
      "text/plain": [
       "True"
      ]
     },
     "execution_count": 39,
     "metadata": {},
     "output_type": "execute_result"
    }
   ],
   "source": [
    "(True == 1 and 55 % 5 > 2) or ((\"hello\" == \"hellO\" and 3 !=4) or (False == 0 and 0 != 15))"
   ]
  },
  {
   "cell_type": "code",
   "execution_count": 46,
   "id": "a409061d-f8b4-4ed1-8f2d-63d02020313c",
   "metadata": {},
   "outputs": [
    {
     "name": "stdin",
     "output_type": "stream",
     "text": [
      "Enter first val:  5\n",
      "Enter second val:  15\n"
     ]
    },
    {
     "name": "stdout",
     "output_type": "stream",
     "text": [
      "first_val + second_val =  20\n",
      "first_val - second_val =  -10\n",
      "first_val * second_val =  75\n",
      "first_val / second_val =  0.3333333333333333\n",
      "first_val // second_val =  0\n",
      "first_val % second_val =  5\n",
      "first_val ** second_val =  30517578125\n"
     ]
    }
   ],
   "source": [
    "# calc\n",
    "\n",
    "first_val = int(input(\"Enter first val: \"))\n",
    "second_val = int(input(\"Enter second val: \"))\n",
    "\n",
    "\n",
    "print(\"first_val + second_val = \", first_val + second_val)\n",
    "print(\"first_val - second_val = \", first_val - second_val)\n",
    "print(\"first_val * second_val = \", first_val * second_val)\n",
    "print(\"first_val / second_val = \", first_val / second_val)\n",
    "print(\"first_val // second_val = \", first_val // second_val)\n",
    "print(\"first_val % second_val = \", first_val % second_val)\n",
    "print(\"first_val ** second_val = \", first_val ** second_val)\n"
   ]
  },
  {
   "cell_type": "code",
   "execution_count": 45,
   "id": "8fb62697-0d94-4676-99c6-1f1cc475c37a",
   "metadata": {},
   "outputs": [
    {
     "data": {
      "text/plain": [
       "'Hello, World!'"
      ]
     },
     "execution_count": 45,
     "metadata": {},
     "output_type": "execute_result"
    }
   ],
   "source": [
    "\"Hello, \" + \"World!\""
   ]
  },
  {
   "cell_type": "code",
   "execution_count": 50,
   "id": "4c5902d4-15b8-415e-91a6-b8b2242443f3",
   "metadata": {},
   "outputs": [
    {
     "name": "stdin",
     "output_type": "stream",
     "text": [
      "Enter a value of circle radius:  5.40\n"
     ]
    }
   ],
   "source": [
    "r = float(input(\"Enter a value of circle radius: \"))"
   ]
  },
  {
   "cell_type": "code",
   "execution_count": 51,
   "id": "3b10f1fe-9168-4824-b53e-ac924368e0c8",
   "metadata": {},
   "outputs": [
    {
     "name": "stdout",
     "output_type": "stream",
     "text": [
      "33.93\n",
      "91.61\n"
     ]
    }
   ],
   "source": [
    "# 2 * pi * r, где pi\n",
    "\n",
    "my_pi = 3.14159\n",
    "\n",
    "first_step = 2 * my_pi * r\n",
    "\n",
    "S = my_pi * r ** 2\n",
    "\n",
    "print(round(first_step, 2))\n",
    "print(round(S, 2))"
   ]
  },
  {
   "cell_type": "code",
   "execution_count": null,
   "id": "85a1a3bf-277f-4baf-a524-add3dc2c8a4d",
   "metadata": {},
   "outputs": [],
   "source": [
    "# ¬((A ∨ B) ∧ (C ∨ D)) и ((¬A ∧ ¬B) ∨ (¬C ∧ ¬D))\n",
    "\n",
    "A = True\n",
    "B = False\n",
    "C = True\n",
    "D = False\n",
    "\n",
    "\n",
    "first_expression = not ((A or B) and (C or D)) # здесь можно раскрыть условие, применив закон де Моргана.\n",
    "second_expression = (not A and not B) or (not C and not D) # тут в целом уже ок.\n",
    "\n",
    "\n",
    "# первичное раскрытие первого выражения\n",
    "first_expression_step1 = not (A or B) or not (C or D)\n",
    "\n",
    "# Второй шаг: применяем закон де Моргана к каждому отрицанию из первого выражения\n",
    "first_expression_step2 = (not A and not B) or (not C and not D)\n",
    "\n",
    "# Теперь first_expression_step2 эквивалентно second_expression\n",
    "print(second_expression == first_expression_step2)"
   ]
  }
 ],
 "metadata": {
  "kernelspec": {
   "display_name": "Python 3 (ipykernel)",
   "language": "python",
   "name": "python3"
  },
  "language_info": {
   "codemirror_mode": {
    "name": "ipython",
    "version": 3
   },
   "file_extension": ".py",
   "mimetype": "text/x-python",
   "name": "python",
   "nbconvert_exporter": "python",
   "pygments_lexer": "ipython3",
   "version": "3.10.15"
  }
 },
 "nbformat": 4,
 "nbformat_minor": 5
}
