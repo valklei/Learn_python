{
 "cells": [
  {
   "metadata": {},
   "cell_type": "code",
   "outputs": [],
   "execution_count": null,
   "source": [
    "\n",
    "\n",
    "\"Names\"\n",
    "\"Surname\"\n",
    "\"+1 147 258-56-42\"\n",
    "\"test.email@gmail.com\"\n",
    "\"Huge text description\"\n",
    "\"Title\"\n",
    "\"Nicknames\""
   ],
   "id": "7af968f93eac99bb"
  },
  {
   "metadata": {},
   "cell_type": "code",
   "outputs": [],
   "execution_count": null,
   "source": [
    "'My test string'\n",
    "\n",
    "\"My test string\"\n",
    "\n",
    "\"\"\"My test string\"\"\" # - Hyperstring\n",
    "'''My test string''' # - Hyperstring\n",
    "\n",
    "\"You have an message in \\\"Telegram\\\" messanger\"\n",
    "\n"
   ],
   "id": "244455d8d9e5b837"
  },
  {
   "metadata": {
    "ExecuteTime": {
     "end_time": "2024-10-21T07:13:04.978644Z",
     "start_time": "2024-10-21T07:13:04.971093Z"
    }
   },
   "cell_type": "code",
   "source": [
    "\"\"\"You \n",
    "    have\n",
    "        an\n",
    "            message\n",
    "                in\n",
    "                    'Telegram'\n",
    "                        messanger\"\"\""
   ],
   "id": "4caedcfa2251a4a8",
   "outputs": [
    {
     "data": {
      "text/plain": [
       "\"You \\n    have\\n        an\\n            message\\n                in\\n                    'Telegram'\\n                        messanger\""
      ]
     },
     "execution_count": 2,
     "metadata": {},
     "output_type": "execute_result"
    }
   ],
   "execution_count": 2
  },
  {
   "metadata": {
    "ExecuteTime": {
     "end_time": "2024-10-21T07:16:36.050299Z",
     "start_time": "2024-10-21T07:16:36.047415Z"
    }
   },
   "cell_type": "code",
   "source": "print(\"Hello,\\tWorld!\")",
   "id": "6a2671346b159640",
   "outputs": [
    {
     "name": "stdout",
     "output_type": "stream",
     "text": [
      "Hello,\tWorld!\n"
     ]
    }
   ],
   "execution_count": 5
  },
  {
   "metadata": {
    "ExecuteTime": {
     "end_time": "2024-10-21T07:19:02.057738Z",
     "start_time": "2024-10-21T07:19:02.054867Z"
    }
   },
   "cell_type": "code",
   "source": [
    "print(int(\"5\"))\n",
    "print(int(\"-5\"))\n",
    "print(int(\"5\"))"
   ],
   "id": "13f854672d99a968",
   "outputs": [
    {
     "name": "stdout",
     "output_type": "stream",
     "text": [
      "5\n",
      "-5\n",
      "5\n"
     ]
    }
   ],
   "execution_count": 11
  },
  {
   "metadata": {
    "ExecuteTime": {
     "end_time": "2024-10-21T07:20:08.949483Z",
     "start_time": "2024-10-21T07:20:08.937904Z"
    }
   },
   "cell_type": "code",
   "source": [
    "print(float(\"5\"))\n",
    "print(float(\"-5\"))\n",
    "print(float(\"5.14\"))\n",
    "print(float(\"5.14n\"))"
   ],
   "id": "89db50bac03a6fd",
   "outputs": [
    {
     "name": "stdout",
     "output_type": "stream",
     "text": [
      "5.0\n",
      "-5.0\n",
      "5.14\n"
     ]
    },
    {
     "ename": "ValueError",
     "evalue": "could not convert string to float: '5.14n'",
     "output_type": "error",
     "traceback": [
      "\u001B[0;31m---------------------------------------------------------------------------\u001B[0m",
      "\u001B[0;31mValueError\u001B[0m                                Traceback (most recent call last)",
      "Cell \u001B[0;32mIn[12], line 4\u001B[0m\n\u001B[1;32m      2\u001B[0m \u001B[38;5;28mprint\u001B[39m(\u001B[38;5;28mfloat\u001B[39m(\u001B[38;5;124m\"\u001B[39m\u001B[38;5;124m-5\u001B[39m\u001B[38;5;124m\"\u001B[39m))\n\u001B[1;32m      3\u001B[0m \u001B[38;5;28mprint\u001B[39m(\u001B[38;5;28mfloat\u001B[39m(\u001B[38;5;124m\"\u001B[39m\u001B[38;5;124m5.14\u001B[39m\u001B[38;5;124m\"\u001B[39m))\n\u001B[0;32m----> 4\u001B[0m \u001B[38;5;28mprint\u001B[39m(\u001B[38;5;28;43mfloat\u001B[39;49m\u001B[43m(\u001B[49m\u001B[38;5;124;43m\"\u001B[39;49m\u001B[38;5;124;43m5.14n\u001B[39;49m\u001B[38;5;124;43m\"\u001B[39;49m\u001B[43m)\u001B[49m)\n",
      "\u001B[0;31mValueError\u001B[0m: could not convert string to float: '5.14n'"
     ]
    }
   ],
   "execution_count": 12
  },
  {
   "metadata": {
    "ExecuteTime": {
     "end_time": "2024-10-21T07:22:38.725289Z",
     "start_time": "2024-10-21T07:22:38.721604Z"
    }
   },
   "cell_type": "code",
   "source": [
    "print(bool(\"5\"))\n",
    "print(bool(\" \"))\n",
    "print(bool(\"\"))\n",
    "print(bool(\"{}\"))\n",
    "print(bool(int(\"1\")))\n",
    "print(bool(int(\"0\")))"
   ],
   "id": "87be6d4edbe68e80",
   "outputs": [
    {
     "name": "stdout",
     "output_type": "stream",
     "text": [
      "True\n",
      "True\n",
      "False\n",
      "True\n",
      "True\n",
      "False\n"
     ]
    }
   ],
   "execution_count": 14
  },
  {
   "metadata": {
    "ExecuteTime": {
     "end_time": "2024-10-21T07:23:32.767208Z",
     "start_time": "2024-10-21T07:23:32.764298Z"
    }
   },
   "cell_type": "code",
   "source": "print(str(5 + 15* (4 ** 2) / (25 ** 0.5)))",
   "id": "f33cebf3dd700bf",
   "outputs": [
    {
     "name": "stdout",
     "output_type": "stream",
     "text": [
      "53.0\n"
     ]
    }
   ],
   "execution_count": 15
  },
  {
   "metadata": {
    "ExecuteTime": {
     "end_time": "2024-10-21T07:24:08.917135Z",
     "start_time": "2024-10-21T07:24:08.913300Z"
    }
   },
   "cell_type": "code",
   "source": "\"print()\"",
   "id": "fcca7a88aedff687",
   "outputs": [
    {
     "data": {
      "text/plain": [
       "'print()'"
      ]
     },
     "execution_count": 16,
     "metadata": {},
     "output_type": "execute_result"
    }
   ],
   "execution_count": 16
  },
  {
   "metadata": {
    "ExecuteTime": {
     "end_time": "2024-10-21T07:25:17.349816Z",
     "start_time": "2024-10-21T07:25:17.345866Z"
    }
   },
   "cell_type": "code",
   "source": "\"Hello,\" + \" World!\" # \"Hello,\"  +  \" World!\"    =   'Hello, World!'",
   "id": "cb60324cf9062731",
   "outputs": [
    {
     "data": {
      "text/plain": [
       "'Hello, World!'"
      ]
     },
     "execution_count": 17,
     "metadata": {},
     "output_type": "execute_result"
    }
   ],
   "execution_count": 17
  },
  {
   "metadata": {
    "ExecuteTime": {
     "end_time": "2024-10-21T07:28:04.097914Z",
     "start_time": "2024-10-21T07:28:04.095016Z"
    }
   },
   "cell_type": "code",
   "source": [
    "print(\" hi \" * 3)\n",
    "\n",
    "print(\"=\" * 50)"
   ],
   "id": "b291b6286d654819",
   "outputs": [
    {
     "name": "stdout",
     "output_type": "stream",
     "text": [
      " hi  hi  hi \n",
      "==================================================\n"
     ]
    }
   ],
   "execution_count": 20
  },
  {
   "metadata": {
    "ExecuteTime": {
     "end_time": "2024-10-21T07:32:00.018357Z",
     "start_time": "2024-10-21T07:31:56.169725Z"
    }
   },
   "cell_type": "code",
   "source": [
    "us_input = input(\"Enter some message: \")\n",
    "\n",
    "if len(us_input) < 10:\n",
    "    print(\"Too short text\")\n",
    "else:\n",
    "    print(\"Great\")"
   ],
   "id": "7b508841a07a2ce5",
   "outputs": [
    {
     "name": "stdout",
     "output_type": "stream",
     "text": [
      "Too short text\n"
     ]
    }
   ],
   "execution_count": 22
  },
  {
   "metadata": {
    "ExecuteTime": {
     "end_time": "2024-10-21T07:32:07.292716Z",
     "start_time": "2024-10-21T07:32:07.289626Z"
    }
   },
   "cell_type": "code",
   "source": "len(\"qwerty\")",
   "id": "cce21705b5b478a0",
   "outputs": [
    {
     "data": {
      "text/plain": [
       "6"
      ]
     },
     "execution_count": 23,
     "metadata": {},
     "output_type": "execute_result"
    }
   ],
   "execution_count": 23
  },
  {
   "metadata": {
    "ExecuteTime": {
     "end_time": "2024-10-21T07:36:09.432670Z",
     "start_time": "2024-10-21T07:36:09.429931Z"
    }
   },
   "cell_type": "code",
   "source": [
    "# ord()\n",
    "# chr()\n",
    "\n",
    "print(ord(\"A\"))\n",
    "print(chr(65))\n",
    "\n",
    "\n",
    "print(ord(\"a\"))\n",
    "print(chr(97))"
   ],
   "id": "b7a5955a0e379a1c",
   "outputs": [
    {
     "name": "stdout",
     "output_type": "stream",
     "text": [
      "65\n",
      "A\n",
      "97\n"
     ]
    }
   ],
   "execution_count": 26
  },
  {
   "metadata": {
    "ExecuteTime": {
     "end_time": "2024-10-21T07:49:56.916493Z",
     "start_time": "2024-10-21T07:49:56.913915Z"
    }
   },
   "cell_type": "code",
   "source": "print(\"hello\" < \"Hell\")",
   "id": "30c3b06b044d54d0",
   "outputs": [
    {
     "name": "stdout",
     "output_type": "stream",
     "text": [
      "False\n"
     ]
    }
   ],
   "execution_count": 29
  },
  {
   "metadata": {
    "ExecuteTime": {
     "end_time": "2024-10-21T07:50:51.167501Z",
     "start_time": "2024-10-21T07:50:51.165088Z"
    }
   },
   "cell_type": "code",
   "source": "print(ord(\"h\"), ord(\"H\"))",
   "id": "b488e7b30570b575",
   "outputs": [
    {
     "name": "stdout",
     "output_type": "stream",
     "text": [
      "104 72\n"
     ]
    }
   ],
   "execution_count": 30
  },
  {
   "metadata": {
    "ExecuteTime": {
     "end_time": "2024-10-21T07:56:56.120748Z",
     "start_time": "2024-10-21T07:56:56.117777Z"
    }
   },
   "cell_type": "code",
   "source": "print(len(\"hello\") < len(\"Hello World\")) #  если сравнивать по количеству?",
   "id": "ae00a3d742da1ac1",
   "outputs": [
    {
     "name": "stdout",
     "output_type": "stream",
     "text": [
      "True\n"
     ]
    }
   ],
   "execution_count": 31
  },
  {
   "metadata": {
    "ExecuteTime": {
     "end_time": "2024-10-21T08:02:59.362629Z",
     "start_time": "2024-10-21T08:02:59.359655Z"
    }
   },
   "cell_type": "code",
   "source": [
    "test_str = \"Hello World\"\n",
    "#           012345678910\n",
    "#               -4-3-2-1\n",
    "\n",
    "print(test_str[-6])"
   ],
   "id": "8091823e316157aa",
   "outputs": [
    {
     "name": "stdout",
     "output_type": "stream",
     "text": [
      " \n"
     ]
    }
   ],
   "execution_count": 36
  },
  {
   "metadata": {
    "ExecuteTime": {
     "end_time": "2024-10-21T08:07:14.594295Z",
     "start_time": "2024-10-21T08:07:14.581738Z"
    }
   },
   "cell_type": "code",
   "source": [
    "nickname = 'vasily'\n",
    "nickname[0] = 'V'\n",
    "\n",
    "print(nickname)"
   ],
   "id": "36b308283a21cfcd",
   "outputs": [
    {
     "ename": "TypeError",
     "evalue": "'str' object does not support item assignment",
     "output_type": "error",
     "traceback": [
      "\u001B[0;31m---------------------------------------------------------------------------\u001B[0m",
      "\u001B[0;31mTypeError\u001B[0m                                 Traceback (most recent call last)",
      "Cell \u001B[0;32mIn[37], line 3\u001B[0m\n\u001B[1;32m      1\u001B[0m nickname \u001B[38;5;241m=\u001B[39m \u001B[38;5;124m'\u001B[39m\u001B[38;5;124mvasily\u001B[39m\u001B[38;5;124m'\u001B[39m\n\u001B[0;32m----> 3\u001B[0m \u001B[43mnickname\u001B[49m\u001B[43m[\u001B[49m\u001B[38;5;241;43m0\u001B[39;49m\u001B[43m]\u001B[49m \u001B[38;5;241m=\u001B[39m \u001B[38;5;124m'\u001B[39m\u001B[38;5;124mV\u001B[39m\u001B[38;5;124m'\u001B[39m\n\u001B[1;32m      5\u001B[0m \u001B[38;5;28mprint\u001B[39m(nickname)\n",
      "\u001B[0;31mTypeError\u001B[0m: 'str' object does not support item assignment"
     ]
    }
   ],
   "execution_count": 37
  },
  {
   "metadata": {
    "ExecuteTime": {
     "end_time": "2024-10-21T08:18:45.787089Z",
     "start_time": "2024-10-21T08:18:45.782246Z"
    }
   },
   "cell_type": "code",
   "source": [
    "text = \"Hello, World!\"\n",
    "#       0123456789101112\n",
    "\n",
    "print(text[0:5])\n",
    "print(text[:5])\n",
    "print(text[6:11])\n",
    "print(text[-7:-1])\n",
    "\n",
    "\n",
    "\n",
    "print(text[0:7:2])\n",
    "print(text[-7:-1])\n",
    "print(text[-7:-1])"
   ],
   "id": "ea63367e3d49a98e",
   "outputs": [
    {
     "name": "stdout",
     "output_type": "stream",
     "text": [
      "Hello\n",
      "Hello\n",
      " Worl\n",
      " World\n"
     ]
    }
   ],
   "execution_count": 42
  },
  {
   "metadata": {
    "ExecuteTime": {
     "end_time": "2024-10-21T08:24:26.747416Z",
     "start_time": "2024-10-21T08:24:26.742897Z"
    }
   },
   "cell_type": "code",
   "source": [
    "text = \"Hello, World!\"\n",
    "\n",
    "print(text[0:7:2]) # start = 0 stop = -1"
   ],
   "id": "d2d1f76766c7c94a",
   "outputs": [
    {
     "name": "stdout",
     "output_type": "stream",
     "text": [
      "Hlo \n"
     ]
    }
   ],
   "execution_count": 44
  },
  {
   "metadata": {
    "ExecuteTime": {
     "end_time": "2024-10-21T08:25:25.558715Z",
     "start_time": "2024-10-21T08:25:25.556622Z"
    }
   },
   "cell_type": "code",
   "source": [
    "text = \"Hello, World!\"\n",
    "\n",
    "print(text[::-1])  # start = 0 stop = -1 step = 1"
   ],
   "id": "ca68477e9420460a",
   "outputs": [
    {
     "name": "stdout",
     "output_type": "stream",
     "text": [
      "!dlroW ,olleH\n"
     ]
    }
   ],
   "execution_count": 45
  },
  {
   "metadata": {
    "ExecuteTime": {
     "end_time": "2024-10-21T08:28:15.409818Z",
     "start_time": "2024-10-21T08:28:15.397859Z"
    }
   },
   "cell_type": "code",
   "source": [
    "text = \"Hello, World!\"\n",
    "index = 0\n",
    "counter = 0\n",
    "\n",
    "while index < len(text):\n",
    "    if text[index] == ' ':\n",
    "        index += 1\n",
    "        continue\n",
    "    else:\n",
    "        counter += 1\n",
    "    index += 1"
   ],
   "id": "74292c4e573a11e5",
   "outputs": [
    {
     "ename": "IndexError",
     "evalue": "string index out of range",
     "output_type": "error",
     "traceback": [
      "\u001B[0;31m---------------------------------------------------------------------------\u001B[0m",
      "\u001B[0;31mIndexError\u001B[0m                                Traceback (most recent call last)",
      "Cell \u001B[0;32mIn[48], line 6\u001B[0m\n\u001B[1;32m      1\u001B[0m text \u001B[38;5;241m=\u001B[39m \u001B[38;5;124m\"\u001B[39m\u001B[38;5;124mHello, World!\u001B[39m\u001B[38;5;124m\"\u001B[39m\n\u001B[1;32m      3\u001B[0m index \u001B[38;5;241m=\u001B[39m \u001B[38;5;241m0\u001B[39m\n\u001B[0;32m----> 6\u001B[0m \u001B[38;5;28mprint\u001B[39m(\u001B[43mtext\u001B[49m\u001B[43m[\u001B[49m\u001B[38;5;241;43m28\u001B[39;49m\u001B[43m]\u001B[49m)\n\u001B[1;32m      7\u001B[0m \u001B[38;5;66;03m# while index < len(text)\u001B[39;00m\n",
      "\u001B[0;31mIndexError\u001B[0m: string index out of range"
     ]
    }
   ],
   "execution_count": 48
  },
  {
   "metadata": {},
   "cell_type": "code",
   "outputs": [],
   "execution_count": null,
   "source": [
    "\"hlo\"\n",
    "#012"
   ],
   "id": "4ef7632f3380ce73"
  },
  {
   "metadata": {
    "ExecuteTime": {
     "end_time": "2024-10-21T08:36:24.824301Z",
     "start_time": "2024-10-21T08:36:24.821226Z"
    }
   },
   "cell_type": "code",
   "source": "\"L\" in \"hello\"",
   "id": "a2b519413885b6f7",
   "outputs": [
    {
     "data": {
      "text/plain": [
       "False"
      ]
     },
     "execution_count": 51,
     "metadata": {},
     "output_type": "execute_result"
    }
   ],
   "execution_count": 51
  },
  {
   "metadata": {},
   "cell_type": "code",
   "outputs": [],
   "execution_count": null,
   "source": "",
   "id": "bfe463e6892b0f6e"
  },
  {
   "cell_type": "code",
   "id": "initial_id",
   "metadata": {
    "collapsed": true,
    "ExecuteTime": {
     "end_time": "2024-10-22T07:09:01.933124Z",
     "start_time": "2024-10-22T07:09:01.928428Z"
    }
   },
   "source": [
    "# Есть строка 'python is awesome'. Необходимо написать программу\n",
    "# которая проверит, состоит ли строчка только из уникальных символов.\n",
    "# Если в строке все символы уникальны - вывести соответствующее сообщение\n",
    "# Если хоть один символ будет повторяться - вывести соответствующее сообщение\n",
    "# \n",
    "#\n",
    "\n",
    "import string\n",
    "\n",
    "user_input = input(\"enter a string: \")\n",
    "\n",
    "len_user_input = len(user_input)\n",
    "index = 0\n",
    "unic_chars = \"\"\n",
    "ascii_table = string.ascii_lowercase\n",
    "is_unic = True\n",
    "\n",
    "\n",
    "while index < len_user_input:\n",
    "    if user_input[index] in ascii_table and user_input[index] not in unic_chars:\n",
    "        unic_chars += user_input[index]\n",
    "    elif user_input[index] in string.digits or user_input[index] \\\n",
    "            in string.punctuation or user_input[index] == \" \":\n",
    "        index += 1\n",
    "        continue\n",
    "    else:\n",
    "        is_unic = False\n",
    "        break\n",
    "    index += 1\n",
    "    \n",
    "\n",
    "if not is_unic:\n",
    "    print(\"not unic\")\n",
    "else:\n",
    "    print(\"unic\")"
   ],
   "outputs": [
    {
     "name": "stdout",
     "output_type": "stream",
     "text": [
      "The string you've provided has no include unique characters\n"
     ]
    }
   ],
   "execution_count": 2
  },
  {
   "metadata": {
    "ExecuteTime": {
     "end_time": "2024-10-22T08:50:26.712360Z",
     "start_time": "2024-10-22T08:50:26.686306Z"
    }
   },
   "cell_type": "code",
   "source": [
    "# Есть строка с зашифрованным посланием:\n",
    "# \"92 114 120 35 102 100 113 35 103 114 35 108 119 36 35 92 114 120 35 100 117 104 35 106 117 104 100 119 35 100 113 103 35 76 35 101 104 111 108 104 121 104 35 108 113 35 124 114 120 36\"\n",
    "# \n",
    "# Всё, что было приложено к этой строке - это небольшой набор слов: \"ave CaEsAr\".\n",
    "# \n",
    "# Кажется нам было отправлено сообщение по шифру Цезаря. Его принцип - сдвиг\n",
    "# каждой буквы вправо по алфавиту. Сдвиг может быть на n символов. В нашем\n",
    "# послении есть зацепка - слово \"Цезарь\" использует три буквы в верхнем регистре.\n",
    "# \n",
    "# Учитывая все вводные нужно расшифровать посланное нам сообщение.\n",
    "\n",
    "resp = '92 114 120 35 102 100 113 35 103 114 35 108 119 36 35 92 114 120 35 100 117 104 35 106 117 104 100 119 35 100 113 103 35 76 35 101 104 111 108 104 121 104 35 108 113 35 124 114 120 36'\n",
    "\n",
    "index = 0  # Инициализация счетчика, который будет использоваться для прохода по строке\n",
    "converted_char = ''  # Переменная для хранения текущего символа, который будет конвертироваться\n",
    "repair_message = ''  # Переменная для накопления восстановленного сообщения\n",
    "caesar_shift = 3  # Величина смещения для обратного преобразования по шифру Цезаря\n",
    "\n",
    "while index <= len(resp):  # Цикл, который проходит по всей строке resp\n",
    "    # Добавлено условие для последнего символа, когда index == len(resp)\n",
    "    if index < len(resp) and resp[index] != ' ': # если текущий символ не равен пробелу\n",
    "        converted_char += resp[index]  # Добавляем цифру к текущему символу\n",
    "    else: # если текущий символ - пробел или индекс дошел до конца строки\n",
    "        if converted_char: # Проверяем, есть ли что обрабатывать\n",
    "            repair = chr(int(converted_char) - caesar_shift)  # Преобразуем число обратно в символ, уменьшая значение на caesar_shift\n",
    "            repair_message += repair  # Добавляем восстановленный символ к итоговому сообщению\n",
    "            converted_char = ''  # Сбрасываем переменную для следующего символа\n",
    "    index += 1  # Переходим к следующему символу после пробела\n",
    "\n",
    "print(repair_message)  # Выводим восстановленное сообщение"
   ],
   "id": "ee6b95e16d9df0aa",
   "outputs": [
    {
     "ename": "IndexError",
     "evalue": "string index out of range",
     "output_type": "error",
     "traceback": [
      "\u001B[0;31m---------------------------------------------------------------------------\u001B[0m",
      "\u001B[0;31mIndexError\u001B[0m                                Traceback (most recent call last)",
      "Cell \u001B[0;32mIn[25], line 21\u001B[0m\n\u001B[1;32m     17\u001B[0m caesar_shift \u001B[38;5;241m=\u001B[39m \u001B[38;5;241m3\u001B[39m  \u001B[38;5;66;03m# Величина смещения для обратного преобразования по шифру Цезаря\u001B[39;00m\n\u001B[1;32m     19\u001B[0m \u001B[38;5;28;01mwhile\u001B[39;00m index \u001B[38;5;241m<\u001B[39m\u001B[38;5;241m=\u001B[39m \u001B[38;5;28mlen\u001B[39m(resp):  \u001B[38;5;66;03m# Цикл, который проходит по всей строке resp\u001B[39;00m\n\u001B[1;32m     20\u001B[0m     \u001B[38;5;66;03m# Добавлено условие для последнего символа, когда index == len(resp)\u001B[39;00m\n\u001B[0;32m---> 21\u001B[0m     \u001B[38;5;28;01mif\u001B[39;00m \u001B[43mresp\u001B[49m\u001B[43m[\u001B[49m\u001B[43mindex\u001B[49m\u001B[43m]\u001B[49m \u001B[38;5;241m!=\u001B[39m \u001B[38;5;124m'\u001B[39m\u001B[38;5;124m \u001B[39m\u001B[38;5;124m'\u001B[39m: \u001B[38;5;66;03m# если текущий символ не равен пробелу\u001B[39;00m\n\u001B[1;32m     22\u001B[0m         converted_char \u001B[38;5;241m+\u001B[39m\u001B[38;5;241m=\u001B[39m resp[index]  \u001B[38;5;66;03m# Добавляем цифру к текущему символу\u001B[39;00m\n\u001B[1;32m     23\u001B[0m     \u001B[38;5;28;01melse\u001B[39;00m: \u001B[38;5;66;03m# если текущий символ - пробел или индекс дошел до конца строки\u001B[39;00m\n",
      "\u001B[0;31mIndexError\u001B[0m: string index out of range"
     ]
    }
   ],
   "execution_count": 25
  },
  {
   "metadata": {
    "ExecuteTime": {
     "end_time": "2024-10-20T14:19:10.273350Z",
     "start_time": "2024-10-20T14:19:10.270448Z"
    }
   },
   "cell_type": "code",
   "source": [
    "# Теперь нужно отправить ответ. Мы уже примерно поняли по каким принципам\n",
    "# работает шифр Цезаря. Нужно составить какой-то ответ на прошлое сообщение\n",
    "# и закодировать его с таким же сдвигом, который был указан в послении.\n",
    "\n",
    "original_message = 'You can do it! You are great and I believe in you!'\n",
    "index = 0\n",
    "\n",
    "caesar_shift = 3\n",
    "resp = ''\n",
    "\n",
    "while index < len(original_message):\n",
    "    resp += str(ord(original_message[index]) + caesar_shift) + ' '\n",
    "    index += 1\n",
    "    \n",
    "print(resp)"
   ],
   "id": "29a6b5c62a55175a",
   "outputs": [],
   "execution_count": 42
  },
  {
   "metadata": {
    "ExecuteTime": {
     "end_time": "2024-10-21T08:34:52.317091Z",
     "start_time": "2024-10-21T08:34:52.314449Z"
    }
   },
   "cell_type": "code",
   "source": [
    "import string\n",
    "\n",
    "\n",
    "print(string.ascii_lowercase)\n",
    "print(string.ascii_uppercase)\n",
    "print(string.ascii_letters)\n",
    "print(string.digits)\n",
    "print(string.punctuation)"
   ],
   "id": "bf7a5f8589707c2",
   "outputs": [
    {
     "name": "stdout",
     "output_type": "stream",
     "text": [
      "abcdefghijklmnopqrstuvwxyz\n",
      "ABCDEFGHIJKLMNOPQRSTUVWXYZ\n",
      "abcdefghijklmnopqrstuvwxyzABCDEFGHIJKLMNOPQRSTUVWXYZ\n",
      "0123456789\n",
      "!\"#$%&'()*+,-./:;<=>?@[\\]^_`{|}~\n"
     ]
    }
   ],
   "execution_count": 49
  },
  {
   "metadata": {
    "ExecuteTime": {
     "end_time": "2024-10-21T19:37:44.231717Z",
     "start_time": "2024-10-21T19:37:44.228340Z"
    }
   },
   "cell_type": "code",
   "source": [
    "# Программа запрашивает у пользователя предложение и подсчитывает количество слов\n",
    "# в нем. Считайте, что слова разделены одним пробелом.\n",
    "\n",
    "us_res = input(\"Введите предложение: \")\n",
    "index = 0\n",
    "words_counter = 0\n",
    "while index < len(us_res):\n",
    "    if us_res[index] == ' ':\n",
    "        words_counter += 1\n",
    "    index += 1\n",
    "\n",
    "# Adding one to count the final word if the string is not empty\n",
    "if us_res:\n",
    "    words_counter += 1\n",
    "\n",
    "print(\"Кол-во слов в предложении =\", words_counter)\n"
   ],
   "id": "eb26fd53a6ba2322",
   "outputs": [
    {
     "name": "stdout",
     "output_type": "stream",
     "text": [
      "Кол-во слов в предложении = 2\n"
     ]
    }
   ],
   "execution_count": 2
  },
  {
   "metadata": {
    "ExecuteTime": {
     "end_time": "2024-10-21T19:59:27.535205Z",
     "start_time": "2024-10-21T19:59:27.531904Z"
    }
   },
   "cell_type": "code",
   "source": [
    "# Напишите программу, которая проверяет, правильно ли расставлены скобки в введённой строке.\n",
    "# Строка может содержать только круглые скобки ( и ). Выведите \"Корректно\", если скобки\n",
    "# расставлены правильно, и \"Некорректно\", если нет.\n",
    "\n",
    "\n",
    "answ = \"(()())\"\n",
    "\n",
    "index = 0\n",
    "brackets_counter = 0\n",
    "\n",
    "\n",
    "while index < len(answ):\n",
    "    if answ[index] == '(':\n",
    "        brackets_counter += 1\n",
    "    else:\n",
    "        brackets_counter -= 1\n",
    "    \n",
    "    if brackets_counter < 0:\n",
    "        print('Uncorrect, negative')\n",
    "        break\n",
    "    index += 1\n",
    "    \n",
    "if brackets_counter == 0:\n",
    "    print(\"Correct\")\n",
    "elif brackets_counter > 0:\n",
    "    print(\"Uncorrect, more than 0\")"
   ],
   "id": "8970ffce0b97c6c0",
   "outputs": [
    {
     "name": "stdout",
     "output_type": "stream",
     "text": [
      "Uncorrect, more than 0\n"
     ]
    }
   ],
   "execution_count": 11
  },
  {
   "metadata": {
    "ExecuteTime": {
     "end_time": "2024-10-22T07:01:38.443334Z",
     "start_time": "2024-10-22T07:01:38.438660Z"
    }
   },
   "cell_type": "code",
   "source": [
    "import string\n",
    "\n",
    "\n",
    "print(string.ascii_lowercase)\n",
    "print(string.ascii_uppercase)\n",
    "print(string.ascii_letters)\n",
    "print(string.digits)\n",
    "print(string.punctuation)"
   ],
   "id": "15a08174423521d9",
   "outputs": [
    {
     "name": "stdout",
     "output_type": "stream",
     "text": [
      "abcdefghijklmnopqrstuvwxyz\n",
      "ABCDEFGHIJKLMNOPQRSTUVWXYZ\n",
      "abcdefghijklmnopqrstuvwxyzABCDEFGHIJKLMNOPQRSTUVWXYZ\n",
      "0123456789\n",
      "!\"#$%&'()*+,-./:;<=>?@[\\]^_`{|}~\n"
     ]
    }
   ],
   "execution_count": 1
  },
  {
   "metadata": {
    "ExecuteTime": {
     "end_time": "2024-10-22T07:01:18.312046Z",
     "start_time": "2024-10-22T07:01:18.310304Z"
    }
   },
   "cell_type": "code",
   "source": "",
   "id": "191c45f21e297f5e",
   "outputs": [],
   "execution_count": null
  },
  {
   "metadata": {},
   "cell_type": "code",
   "outputs": [],
   "execution_count": null,
   "source": [
    "user_input = input(\"enter a string: \")\n",
    "\n",
    "len_user_input = len(user_input)\n",
    "index = 0\n",
    "unic_chars = \"\"\n",
    "ascii_table = string.ascii_lowercase\n",
    "is_unic = True\n",
    "\n",
    "\n",
    "while index < len_user_input:\n",
    "    if user_input[index] in ascii_table and user_input[index] not in unic_chars:\n",
    "        unic_chars += user_input[index]\n",
    "    elif user_input[index] in string.digits or user_input[index] \\\n",
    "            in string.punctuation or user_input[index] == \" \":\n",
    "        index += 1\n",
    "        continue\n",
    "    else:\n",
    "        is_unic = False\n",
    "        break\n",
    "    index += 1\n",
    "    \n",
    "\n",
    "if not is_unic:\n",
    "    print(\"not unic\")\n",
    "else:\n",
    "    print(\"unic\")"
   ],
   "id": "61ae2a3a8c000d4c"
  },
  {
   "metadata": {
    "ExecuteTime": {
     "end_time": "2024-10-22T07:49:59.124520Z",
     "start_time": "2024-10-22T07:49:59.121641Z"
    }
   },
   "cell_type": "code",
   "source": "\"qwerty. 3y\"[8]",
   "id": "48c54bce67a04e6d",
   "outputs": [
    {
     "data": {
      "text/plain": [
       "' '"
      ]
     },
     "execution_count": 13,
     "metadata": {},
     "output_type": "execute_result"
    }
   ],
   "execution_count": 13
  },
  {
   "metadata": {
    "ExecuteTime": {
     "end_time": "2024-10-22T07:48:48.620131Z",
     "start_time": "2024-10-22T07:48:48.616477Z"
    }
   },
   "cell_type": "code",
   "source": [
    "import string\n",
    "\n",
    "string.digits"
   ],
   "id": "8ac42565e1d3d45e",
   "outputs": [
    {
     "data": {
      "text/plain": [
       "'0123456789'"
      ]
     },
     "execution_count": 11,
     "metadata": {},
     "output_type": "execute_result"
    }
   ],
   "execution_count": 11
  },
  {
   "metadata": {
    "ExecuteTime": {
     "end_time": "2024-10-22T07:49:13.468322Z",
     "start_time": "2024-10-22T07:49:13.465Z"
    }
   },
   "cell_type": "code",
   "source": "string.punctuation",
   "id": "fba09dc9612af304",
   "outputs": [
    {
     "data": {
      "text/plain": [
       "'!\"#$%&\\'()*+,-./:;<=>?@[\\\\]^_`{|}~'"
      ]
     },
     "execution_count": 12,
     "metadata": {},
     "output_type": "execute_result"
    }
   ],
   "execution_count": 12
  },
  {
   "metadata": {},
   "cell_type": "code",
   "outputs": [],
   "execution_count": null,
   "source": "",
   "id": "305fd33587ce3014"
  },
  {
   "metadata": {
    "ExecuteTime": {
     "end_time": "2024-10-22T08:27:34.021567Z",
     "start_time": "2024-10-22T08:27:34.018022Z"
    }
   },
   "cell_type": "code",
   "source": [
    "secret_string = \"92 114 120 35 102 100 113 35 103 114 35 108 119 36 35 92 114 120 35 100 117 104 35 106 117 104 100 119 35 100 113 103 35 76 35 101 104 111 108 104 121 104 35 108 113 35 124 114 120 36\"\n",
    "key = 3\n",
    "index = 0\n",
    "conv_char = \"\"\n",
    "reaper_masag = \"\"\n",
    "while index < len(secret_string):\n",
    "    if secret_string[index] != \" \":\n",
    "        conv_char += secret_string[index]\n",
    "    elif index + 1 == len(secret_string):\n",
    "        reaper = chr(int(conv_char) - key)\n",
    "        reaper_masag += reaper\n",
    "        conv_char = \"\"\n",
    "    else:\n",
    "        reaper = chr(int(conv_char) - key)\n",
    "        reaper_masag += reaper\n",
    "        conv_char = \"\"\n",
    "    index += 1\n",
    "print(reaper_masag)"
   ],
   "id": "5025ae9e02b645e4",
   "outputs": [
    {
     "name": "stdout",
     "output_type": "stream",
     "text": [
      "You can do it! You are great and I believe in you\n"
     ]
    }
   ],
   "execution_count": 19
  },
  {
   "metadata": {
    "ExecuteTime": {
     "end_time": "2024-10-22T08:20:31.089258Z",
     "start_time": "2024-10-22T08:20:31.085392Z"
    }
   },
   "cell_type": "code",
   "source": "chr(33)",
   "id": "4a7f89376fad9777",
   "outputs": [
    {
     "data": {
      "text/plain": [
       "'!'"
      ]
     },
     "execution_count": 15,
     "metadata": {},
     "output_type": "execute_result"
    }
   ],
   "execution_count": 15
  },
  {
   "metadata": {},
   "cell_type": "code",
   "outputs": [],
   "execution_count": null,
   "source": [
    "# Теперь нужно отправить ответ. Мы уже примерно поняли по каким принципам\n",
    "# работает шифр Цезаря. Нужно составить какой-то ответ на прошлое сообщение\n",
    "# и закодировать его с таким же сдвигом, который был указан в послении.\n",
    "\n",
    "# Input: \"I don't understand you\"\n",
    "# \n",
    "# Output: \"92 114 120 35 102 100 113 35 103\""
   ],
   "id": "422d3f7a3d3b711e"
  },
  {
   "metadata": {},
   "cell_type": "code",
   "outputs": [],
   "execution_count": null,
   "source": "",
   "id": "9f96b2518b266518"
  }
 ],
 "metadata": {
  "kernelspec": {
   "display_name": "Python 3",
   "language": "python",
   "name": "python3"
  },
  "language_info": {
   "codemirror_mode": {
    "name": "ipython",
    "version": 2
   },
   "file_extension": ".py",
   "mimetype": "text/x-python",
   "name": "python",
   "nbconvert_exporter": "python",
   "pygments_lexer": "ipython2",
   "version": "2.7.6"
  }
 },
 "nbformat": 4,
 "nbformat_minor": 5
}
