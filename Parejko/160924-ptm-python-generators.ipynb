{
 "cells": [
  {
   "cell_type": "code",
   "id": "initial_id",
   "metadata": {
    "collapsed": true,
    "ExecuteTime": {
     "end_time": "2024-12-12T08:10:33.679875Z",
     "start_time": "2024-12-12T08:10:33.677104Z"
    }
   },
   "source": "my_new_gen = (x for x in range(11) if x % 3 == 0) # iterator(0, 1, 2, 3, 4, 5, 6, 7, 8, 10)",
   "outputs": [],
   "execution_count": 2
  },
  {
   "metadata": {
    "ExecuteTime": {
     "end_time": "2024-12-12T08:10:35.392853Z",
     "start_time": "2024-12-12T08:10:35.389991Z"
    }
   },
   "cell_type": "code",
   "source": [
    "for elem in my_new_gen:\n",
    "    print(elem)"
   ],
   "id": "4c53f108d4564f23",
   "outputs": [
    {
     "name": "stdout",
     "output_type": "stream",
     "text": [
      "0\n",
      "3\n",
      "6\n",
      "9\n"
     ]
    }
   ],
   "execution_count": 3
  },
  {
   "metadata": {
    "ExecuteTime": {
     "end_time": "2024-12-12T08:15:50.736548Z",
     "start_time": "2024-12-12T08:15:50.734136Z"
    }
   },
   "cell_type": "code",
   "source": [
    "def my_gen():\n",
    "    yield 10\n",
    "    yield 15\n",
    "    \n",
    "\n",
    "my_g = my_gen()"
   ],
   "id": "b4a4dd2f1b44ed70",
   "outputs": [],
   "execution_count": 7
  },
  {
   "metadata": {
    "ExecuteTime": {
     "end_time": "2024-12-12T08:15:51.785067Z",
     "start_time": "2024-12-12T08:15:51.781719Z"
    }
   },
   "cell_type": "code",
   "source": [
    "print(next(my_g))\n",
    "print(next(my_g))"
   ],
   "id": "17fdc2eb4c05c826",
   "outputs": [
    {
     "name": "stdout",
     "output_type": "stream",
     "text": [
      "10\n",
      "15\n"
     ]
    }
   ],
   "execution_count": 8
  },
  {
   "metadata": {},
   "cell_type": "code",
   "outputs": [],
   "execution_count": null,
   "source": [
    "try:\n",
    "    my_iter = my_g.__iter__()\n",
    "    \n",
    "    while True:\n",
    "        try:\n",
    "            variable = my_iter.__next__()\n",
    "            print(variable)\n",
    "        except StopIteration:\n",
    "            break\n",
    "except TypeError:\n",
    "    print(\"That object is not iterable\")"
   ],
   "id": "af3a5e6eed53d3f8"
  },
  {
   "metadata": {},
   "cell_type": "code",
   "outputs": [],
   "execution_count": null,
   "source": "",
   "id": "ec796602b627881c"
  },
  {
   "metadata": {},
   "cell_type": "code",
   "outputs": [],
   "execution_count": null,
   "source": "",
   "id": "b6a487d070f526f6"
  },
  {
   "metadata": {
    "ExecuteTime": {
     "end_time": "2024-12-12T08:25:37.172061Z",
     "start_time": "2024-12-12T08:25:37.167874Z"
    }
   },
   "cell_type": "code",
   "source": [
    "def endless_counter():\n",
    "    counter = 0\n",
    "    \n",
    "    try:\n",
    "        while True:\n",
    "            yield counter\n",
    "            counter += 1\n",
    "    except GeneratorExit:\n",
    "        print(\"Generator was closed by 'close()' method\")\n",
    "    except ValueError as e:\n",
    "        print(f\"The Exception was catched: [{e}], end work.\")"
   ],
   "id": "8a0113a312b4b375",
   "outputs": [],
   "execution_count": 9
  },
  {
   "metadata": {
    "ExecuteTime": {
     "end_time": "2024-12-12T08:25:47.358419Z",
     "start_time": "2024-12-12T08:25:47.355240Z"
    }
   },
   "cell_type": "code",
   "source": "gen = endless_counter()",
   "id": "3802c012563347d9",
   "outputs": [],
   "execution_count": 10
  },
  {
   "metadata": {
    "ExecuteTime": {
     "end_time": "2024-12-12T08:26:26.572372Z",
     "start_time": "2024-12-12T08:26:26.568017Z"
    }
   },
   "cell_type": "code",
   "source": [
    "print(next(gen))\n",
    "print(next(gen))\n",
    "print(next(gen))\n",
    "\n",
    "# if <expression>:\n",
    "#     gen.close()"
   ],
   "id": "84000ecf069995d5",
   "outputs": [
    {
     "name": "stdout",
     "output_type": "stream",
     "text": [
      "3\n",
      "4\n",
      "5\n",
      "Generator was closed by 'close()' method\n"
     ]
    }
   ],
   "execution_count": 12
  },
  {
   "metadata": {
    "ExecuteTime": {
     "end_time": "2024-12-12T08:31:31.865285Z",
     "start_time": "2024-12-12T08:31:31.862734Z"
    }
   },
   "cell_type": "code",
   "source": "gen2 = endless_counter()",
   "id": "26a86c1d635d131c",
   "outputs": [],
   "execution_count": 13
  },
  {
   "metadata": {
    "ExecuteTime": {
     "end_time": "2024-12-12T08:33:11.369263Z",
     "start_time": "2024-12-12T08:33:11.350947Z"
    }
   },
   "cell_type": "code",
   "source": [
    "print(gen2)\n",
    "print(next(gen2))\n",
    "print(next(gen2))\n",
    "print(next(gen2))\n",
    "print(next(gen2))\n",
    "\n",
    "\n",
    "gen2.throw(ValueError(\"ERROR SIMULATION\"))"
   ],
   "id": "cef2e5ce6394b898",
   "outputs": [
    {
     "name": "stdout",
     "output_type": "stream",
     "text": [
      "<generator object endless_counter at 0x7ade76bd66c0>\n",
      "0\n",
      "1\n",
      "2\n",
      "3\n",
      "The Exception was catched: [ERROR SIMULATION], end work.\n"
     ]
    },
    {
     "ename": "StopIteration",
     "evalue": "",
     "output_type": "error",
     "traceback": [
      "\u001B[0;31m---------------------------------------------------------------------------\u001B[0m",
      "\u001B[0;31mStopIteration\u001B[0m                             Traceback (most recent call last)",
      "Cell \u001B[0;32mIn[14], line 8\u001B[0m\n\u001B[1;32m      4\u001B[0m \u001B[38;5;28mprint\u001B[39m(\u001B[38;5;28mnext\u001B[39m(gen2))\n\u001B[1;32m      5\u001B[0m \u001B[38;5;28mprint\u001B[39m(\u001B[38;5;28mnext\u001B[39m(gen2))\n\u001B[0;32m----> 8\u001B[0m \u001B[43mgen2\u001B[49m\u001B[38;5;241;43m.\u001B[39;49m\u001B[43mthrow\u001B[49m\u001B[43m(\u001B[49m\u001B[38;5;167;43;01mValueError\u001B[39;49;00m\u001B[43m(\u001B[49m\u001B[38;5;124;43m\"\u001B[39;49m\u001B[38;5;124;43mERROR SIMULATION\u001B[39;49m\u001B[38;5;124;43m\"\u001B[39;49m\u001B[43m)\u001B[49m\u001B[43m)\u001B[49m\n",
      "\u001B[0;31mStopIteration\u001B[0m: "
     ]
    }
   ],
   "execution_count": 14
  },
  {
   "metadata": {},
   "cell_type": "code",
   "outputs": [],
   "execution_count": null,
   "source": "\"asodfasfdyasd89f7a6sd0\"",
   "id": "d24d83e2b8b37194"
  },
  {
   "metadata": {
    "ExecuteTime": {
     "end_time": "2024-12-12T08:39:42.091800Z",
     "start_time": "2024-12-12T08:39:42.088809Z"
    }
   },
   "cell_type": "code",
   "source": [
    "def id_generator(prefix=\"obj\"):\n",
    "    counter = 1\n",
    "    \n",
    "    while True:\n",
    "        yield f\"{prefix}_{counter}\"\n",
    "        counter += 1\n",
    "\n",
    "id_gen = id_generator(\"user\")"
   ],
   "id": "a8495fb9a51493cc",
   "outputs": [],
   "execution_count": 17
  },
  {
   "metadata": {
    "ExecuteTime": {
     "end_time": "2024-12-12T08:39:50.979008Z",
     "start_time": "2024-12-12T08:39:50.976477Z"
    }
   },
   "cell_type": "code",
   "source": [
    "print(next(id_gen))\n",
    "print(next(id_gen))\n",
    "print(next(id_gen))\n",
    "print(next(id_gen))"
   ],
   "id": "726d1e0ec0dbf4d7",
   "outputs": [
    {
     "name": "stdout",
     "output_type": "stream",
     "text": [
      "user_5\n",
      "user_6\n",
      "user_7\n",
      "user_8\n"
     ]
    }
   ],
   "execution_count": 19
  },
  {
   "metadata": {},
   "cell_type": "code",
   "outputs": [],
   "execution_count": null,
   "source": "",
   "id": "dae10c0f0446530e"
  },
  {
   "metadata": {
    "ExecuteTime": {
     "end_time": "2024-12-12T09:02:51.948148Z",
     "start_time": "2024-12-12T09:02:51.945366Z"
    }
   },
   "cell_type": "code",
   "source": [
    "import time\n",
    "\n",
    "def follow_log(filepath):\n",
    "    with open(filepath, \"r\", encoding=\"utf-8\") as f:\n",
    "        f.seek(0, 2)  # limit offset\n",
    "        \n",
    "        while True:\n",
    "            line = f.readline()\n",
    "            \n",
    "            if not line:\n",
    "                print(\"NOTHING NEW\")\n",
    "                time.sleep(3)\n",
    "                continue\n",
    "            yield line.split()"
   ],
   "id": "12d2a4a42a0e398b",
   "outputs": [],
   "execution_count": 23
  },
  {
   "metadata": {
    "ExecuteTime": {
     "end_time": "2024-12-12T09:02:53.054289Z",
     "start_time": "2024-12-12T09:02:53.050849Z"
    }
   },
   "cell_type": "code",
   "source": "file_reader = follow_log(\"site_journal.log\")",
   "id": "4d77879572c41711",
   "outputs": [],
   "execution_count": 24
  },
  {
   "metadata": {
    "ExecuteTime": {
     "end_time": "2024-12-12T09:04:17.583052Z",
     "start_time": "2024-12-12T09:04:08.671166Z"
    }
   },
   "cell_type": "code",
   "source": [
    "# for line in file_reader:\n",
    "#     print(f\"NEW RECORD:\", line, sep='\\n')\n",
    "\n",
    "print(next(file_reader))"
   ],
   "id": "e339971ed9608413",
   "outputs": [
    {
     "name": "stdout",
     "output_type": "stream",
     "text": [
      "NOTHING NEW\n",
      "NOTHING NEW\n",
      "NOTHING NEW\n"
     ]
    },
    {
     "ename": "KeyboardInterrupt",
     "evalue": "",
     "output_type": "error",
     "traceback": [
      "\u001B[0;31m---------------------------------------------------------------------------\u001B[0m",
      "\u001B[0;31mKeyboardInterrupt\u001B[0m                         Traceback (most recent call last)",
      "Cell \u001B[0;32mIn[26], line 4\u001B[0m\n\u001B[1;32m      1\u001B[0m \u001B[38;5;66;03m# for line in file_reader:\u001B[39;00m\n\u001B[1;32m      2\u001B[0m \u001B[38;5;66;03m#     print(f\"NEW RECORD:\", line, sep='\\n')\u001B[39;00m\n\u001B[0;32m----> 4\u001B[0m \u001B[38;5;28mprint\u001B[39m(\u001B[38;5;28;43mnext\u001B[39;49m\u001B[43m(\u001B[49m\u001B[43mfile_reader\u001B[49m\u001B[43m)\u001B[49m)\n",
      "Cell \u001B[0;32mIn[23], line 12\u001B[0m, in \u001B[0;36mfollow_log\u001B[0;34m(filepath)\u001B[0m\n\u001B[1;32m     10\u001B[0m \u001B[38;5;28;01mif\u001B[39;00m \u001B[38;5;129;01mnot\u001B[39;00m line:\n\u001B[1;32m     11\u001B[0m     \u001B[38;5;28mprint\u001B[39m(\u001B[38;5;124m\"\u001B[39m\u001B[38;5;124mNOTHING NEW\u001B[39m\u001B[38;5;124m\"\u001B[39m)\n\u001B[0;32m---> 12\u001B[0m     \u001B[43mtime\u001B[49m\u001B[38;5;241;43m.\u001B[39;49m\u001B[43msleep\u001B[49m\u001B[43m(\u001B[49m\u001B[38;5;241;43m3\u001B[39;49m\u001B[43m)\u001B[49m\n\u001B[1;32m     13\u001B[0m     \u001B[38;5;28;01mcontinue\u001B[39;00m\n\u001B[1;32m     14\u001B[0m \u001B[38;5;28;01myield\u001B[39;00m line\u001B[38;5;241m.\u001B[39msplit()\n",
      "\u001B[0;31mKeyboardInterrupt\u001B[0m: "
     ]
    }
   ],
   "execution_count": 26
  },
  {
   "metadata": {},
   "cell_type": "code",
   "outputs": [],
   "execution_count": null,
   "source": [
    "[2024-12-12 13:20:32] WARNING: Invalid input received.\n",
    "[2024-12-12 13:20:58] ERROR: Unauthorized access attempt.\n",
    "[2024-12-12 13:20:59] ERROR: Unauthorized access attempt.\n",
    "[2024-12-12 13:21:00] ERROR: Unauthorized access attempt."
   ],
   "id": "76766db40015fc0e"
  },
  {
   "metadata": {},
   "cell_type": "code",
   "outputs": [],
   "execution_count": null,
   "source": "",
   "id": "9d9b4906ce7fd195"
  },
  {
   "metadata": {},
   "cell_type": "code",
   "outputs": [],
   "execution_count": null,
   "source": "",
   "id": "10a9d65a0a045d54"
  },
  {
   "metadata": {},
   "cell_type": "code",
   "outputs": [],
   "execution_count": null,
   "source": "",
   "id": "42f85e97ceaf1a87"
  },
  {
   "metadata": {
    "ExecuteTime": {
     "end_time": "2024-12-12T09:10:35.442193Z",
     "start_time": "2024-12-12T09:10:35.439298Z"
    }
   },
   "cell_type": "code",
   "source": [
    "def dynamic_step_iterator(start=0):\n",
    "    step = 1\n",
    "    current = start\n",
    "    \n",
    "    while True:\n",
    "        incoming = yield current\n",
    "        \n",
    "        if incoming is not None:\n",
    "            step = incoming\n",
    "        current += step\n",
    "        \n",
    "my_iter = dynamic_step_iterator()"
   ],
   "id": "9e3a17cd9a62e252",
   "outputs": [],
   "execution_count": 27
  },
  {
   "metadata": {
    "ExecuteTime": {
     "end_time": "2024-12-12T09:11:26.934306Z",
     "start_time": "2024-12-12T09:11:26.931682Z"
    }
   },
   "cell_type": "code",
   "source": [
    "print(next(my_iter))\n",
    "print(next(my_iter))\n",
    "print(next(my_iter))\n",
    "\n",
    "my_iter.send(5)\n",
    "\n",
    "print(next(my_iter))\n",
    "print(next(my_iter))\n",
    "print(next(my_iter))"
   ],
   "id": "853b4a26b307627c",
   "outputs": [
    {
     "name": "stdout",
     "output_type": "stream",
     "text": [
      "0\n",
      "1\n",
      "2\n",
      "12\n",
      "17\n",
      "22\n"
     ]
    }
   ],
   "execution_count": 28
  },
  {
   "metadata": {
    "ExecuteTime": {
     "end_time": "2024-12-12T09:27:11.373170Z",
     "start_time": "2024-12-12T09:27:11.369832Z"
    }
   },
   "cell_type": "code",
   "source": [
    "def test():\n",
    "    s = 0\n",
    "    while True:\n",
    "        x = yield s  # x = 0 None если yield ничего не передали\n",
    "        s += x  # s += 0\n",
    "\n",
    "t = test()\n",
    "\n",
    "print(next(t))\n",
    "\n",
    "print(t.send(111))\n",
    "\n",
    "print(t.send(123))\n",
    "\n",
    "\n"
   ],
   "id": "278b2ca381b16345",
   "outputs": [
    {
     "name": "stdout",
     "output_type": "stream",
     "text": [
      "0\n",
      "111\n",
      "234\n"
     ]
    }
   ],
   "execution_count": 31
  },
  {
   "metadata": {},
   "cell_type": "code",
   "outputs": [],
   "execution_count": null,
   "source": "",
   "id": "d139a49571fc0e52"
  }
 ],
 "metadata": {
  "kernelspec": {
   "display_name": "Python 3",
   "language": "python",
   "name": "python3"
  },
  "language_info": {
   "codemirror_mode": {
    "name": "ipython",
    "version": 2
   },
   "file_extension": ".py",
   "mimetype": "text/x-python",
   "name": "python",
   "nbconvert_exporter": "python",
   "pygments_lexer": "ipython2",
   "version": "2.7.6"
  }
 },
 "nbformat": 4,
 "nbformat_minor": 5
}
