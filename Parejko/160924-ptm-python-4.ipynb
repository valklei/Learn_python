{
 "cells": [
  {
   "cell_type": "code",
   "execution_count": null,
   "id": "316a7a1a-4b97-4eaa-abbd-d5df88100cb3",
   "metadata": {},
   "outputs": [],
   "source": [
    "bool() # - логический тип данных\n",
    "\n",
    "#  True   |   False\n",
    "#   1     |     0\n",
    "\n"
   ]
  },
  {
   "cell_type": "code",
   "execution_count": null,
   "id": "236b2f27-7ae7-4940-a8e5-d9988ecf7bd7",
   "metadata": {},
   "outputs": [],
   "source": [
    "# В Python будет как Ложь (False):\n",
    "\n",
    "\n",
    "# None (NoneType) = False\n",
    "# False = False\n",
    "# 0 = False\n",
    "# 0.0 = False\n",
    "# '' \"\" \"\"\"\"\"\" = False\n",
    "# () = False\n",
    "# [] = False\n",
    "# {} = False\n",
    "# set() = False\n"
   ]
  },
  {
   "cell_type": "code",
   "execution_count": 14,
   "id": "a54e82b1-7aa0-46ef-935d-65e8317eae0c",
   "metadata": {},
   "outputs": [
    {
     "data": {
      "text/plain": [
       "False"
      ]
     },
     "execution_count": 14,
     "metadata": {},
     "output_type": "execute_result"
    }
   ],
   "source": [
    "bool(None)"
   ]
  },
  {
   "cell_type": "code",
   "execution_count": null,
   "id": "dbe9cd2f-1931-4fee-b026-5cf6814f3bba",
   "metadata": {},
   "outputs": [],
   "source": [
    "==\n",
    "!=\n",
    ">\n",
    "<\n",
    ">=\n",
    "<="
   ]
  },
  {
   "cell_type": "code",
   "execution_count": 16,
   "id": "73ee71fc-8383-42f3-920e-69e695f24774",
   "metadata": {},
   "outputs": [
    {
     "name": "stdout",
     "output_type": "stream",
     "text": [
      "False\n",
      "True\n",
      "False\n",
      "True\n",
      "False\n",
      "True\n",
      "True\n"
     ]
    }
   ],
   "source": [
    "first_val = 15\n",
    "second_val = 31\n",
    "\n",
    "print(first_val == second_val)\n",
    "print(first_val != second_val)\n",
    "print(first_val > second_val)\n",
    "print(first_val < second_val)\n",
    "print(first_val >= second_val)\n",
    "print(first_val <= second_val)\n",
    "\n",
    "print(15 >= 15)\n"
   ]
  },
  {
   "cell_type": "code",
   "execution_count": 18,
   "id": "de434e5b-43df-40a9-8e2c-b0a8cb3b48fe",
   "metadata": {},
   "outputs": [
    {
     "name": "stdout",
     "output_type": "stream",
     "text": [
      "True\n"
     ]
    }
   ],
   "source": [
    "print(True == False) # -> True = 1, False = 0 -> 1 == 0 - Fasle -> 0"
   ]
  },
  {
   "cell_type": "code",
   "execution_count": 19,
   "id": "30622efd-00ce-46b0-bacd-54972c6563f8",
   "metadata": {},
   "outputs": [
    {
     "name": "stdout",
     "output_type": "stream",
     "text": [
      "True\n"
     ]
    }
   ],
   "source": [
    "print(True == 1)"
   ]
  },
  {
   "cell_type": "code",
   "execution_count": 23,
   "id": "0eda7a8d-5c87-44e6-86a1-5f07a14b320b",
   "metadata": {},
   "outputs": [
    {
     "name": "stdout",
     "output_type": "stream",
     "text": [
      "False\n",
      "False\n",
      "True\n"
     ]
    }
   ],
   "source": [
    "#                     V - РУССКАЯ о\n",
    "print(\"hello\" == \"hellо\")\n",
    "print(\"Hello\" > \"hello\")\n",
    "print(\"Hello\" < \"hello\")\n",
    "\n",
    "\n"
   ]
  },
  {
   "cell_type": "code",
   "execution_count": 26,
   "id": "af8e41de-92e0-43b8-8490-067f1dc46838",
   "metadata": {},
   "outputs": [
    {
     "name": "stdout",
     "output_type": "stream",
     "text": [
      "ERROR\n"
     ]
    }
   ],
   "source": [
    "error_mess = None\n",
    "...\n",
    "...\n",
    "...\n",
    "...\n",
    "\n",
    "\n",
    "error_mess = 'ERROR'\n",
    "print(error_mess)"
   ]
  },
  {
   "cell_type": "code",
   "execution_count": 27,
   "id": "ded53ccd-6103-4889-b3b7-2435ffee07df",
   "metadata": {},
   "outputs": [
    {
     "data": {
      "text/plain": [
       "False"
      ]
     },
     "execution_count": 27,
     "metadata": {},
     "output_type": "execute_result"
    }
   ],
   "source": [
    "False == None"
   ]
  },
  {
   "cell_type": "code",
   "execution_count": 31,
   "id": "527a6394-1455-41e4-8b03-600b666f14ab",
   "metadata": {},
   "outputs": [
    {
     "name": "stdout",
     "output_type": "stream",
     "text": [
      "False\n"
     ]
    }
   ],
   "source": [
    "a = 257\n",
    "b = 257\n",
    "\n",
    "print(a is b)\n",
    "\n"
   ]
  },
  {
   "cell_type": "code",
   "execution_count": null,
   "id": "de0840a6-2c53-435e-bc64-c97ccf8d46f1",
   "metadata": {},
   "outputs": [],
   "source": [
    "b = "
   ]
  },
  {
   "cell_type": "code",
   "execution_count": 34,
   "id": "46201aa0-b7b3-4d16-bd5d-3aa5202cef4f",
   "metadata": {},
   "outputs": [
    {
     "name": "stdout",
     "output_type": "stream",
     "text": [
      "True\n",
      "False\n",
      "True\n"
     ]
    }
   ],
   "source": [
    "error_msg = None\n",
    "\n",
    "print(error_msg is None)\n",
    "\n",
    "error_msg = \"ERROR MESSAGE\"\n",
    "\n",
    "print(error_msg is None)\n",
    "print(error_msg is not None)"
   ]
  },
  {
   "cell_type": "code",
   "execution_count": 25,
   "id": "4a897941-b73e-483c-9204-d1c66dad193c",
   "metadata": {},
   "outputs": [],
   "source": [
    "a = 1000\n",
    "b = 1000\n",
    "\n",
    "print(a == b)\n",
    "print(a is b)"
   ]
  },
  {
   "cell_type": "code",
   "execution_count": 26,
   "id": "ff334741-cf8f-4364-a638-7fef2d3766ab",
   "metadata": {},
   "outputs": [],
   "source": [
    "a = 100\n",
    "b = 100\n",
    "\n",
    "print(a == b)\n",
    "print(a is b)"
   ]
  },
  {
   "cell_type": "code",
   "execution_count": 27,
   "id": "f027ebbb-3329-42e7-a402-9550b7c41c5d",
   "metadata": {},
   "outputs": [],
   "source": [
    "a = \"hello\"\n",
    "b = \"hello\"\n",
    "\n",
    "print(a == b)\n",
    "print(a is b)"
   ]
  },
  {
   "cell_type": "code",
   "execution_count": 30,
   "id": "8ce4bedd-3ea0-4237-9165-daa9ac1f4bac",
   "metadata": {},
   "outputs": [],
   "source": [
    "a = \"hello, world!\"\n",
    "b = \"hello, world!\"\n",
    "\n",
    "print(a == b)\n",
    "print(a is b)"
   ]
  },
  {
   "cell_type": "code",
   "execution_count": 37,
   "id": "a67fec83-44b0-43bd-be07-49c90eb3d4bd",
   "metadata": {},
   "outputs": [
    {
     "name": "stdout",
     "output_type": "stream",
     "text": [
      "False\n",
      "True\n"
     ]
    }
   ],
   "source": [
    "print(not True)\n",
    "print(not False)\n"
   ]
  },
  {
   "cell_type": "code",
   "execution_count": 41,
   "id": "8df788c8-8d15-4cb0-8c82-f12d006fc9b2",
   "metadata": {},
   "outputs": [
    {
     "name": "stdout",
     "output_type": "stream",
     "text": [
      "False\n",
      "False\n",
      "True\n"
     ]
    }
   ],
   "source": [
    "print(True and False)\n",
    "print(5 < 7 and 15 != 100)\n",
    "print(5 < 7 or 15 == 100)"
   ]
  },
  {
   "cell_type": "code",
   "execution_count": null,
   "id": "6d2a8540-d6d3-4dab-8bf0-52e1b54c5aa8",
   "metadata": {},
   "outputs": [],
   "source": []
  },
  {
   "cell_type": "code",
   "execution_count": null,
   "id": "f2e499cb-f15c-4f55-b0a9-cb30493ea0b0",
   "metadata": {},
   "outputs": [],
   "source": [
    "# De Morgan's rules\n",
    "\n",
    "\n",
    "# Отрицание \"И\" превращается в \"ИЛИ\". Не (A и B) = (Не A) или (Не B)\n",
    "# Если мы отрицаем, что оба события происходят вместе, значит, хотя бы одно из них не происходит вовсе.\n",
    "\n",
    "\n",
    "\n",
    "# Отрицание \"ИЛИ\" превращается в \"И\". Не (A или B) = (Не A) и (Не B)\n",
    "# Если мы отрицаем, что происходит хотя бы одно из событий, значит, ни одно из них не происходит.\n",
    "\n"
   ]
  },
  {
   "cell_type": "code",
   "execution_count": null,
   "id": "4a477061-2af0-41a8-9905-718b35ff9c76",
   "metadata": {},
   "outputs": [],
   "source": [
    "# конъюкция - логическое И (AND) A ^ B\n",
    "# дизъюкция - логическое ИЛИ (OR) A ∨ B\n",
    "# отрицание - логическое НЕ (NOT)\n",
    "# исключающее ИЛИ - (XOR) - выглядит, как шляпка ^"
   ]
  },
  {
   "cell_type": "code",
   "execution_count": null,
   "id": "abb60978-b269-4510-935d-350c59d685d1",
   "metadata": {},
   "outputs": [],
   "source": [
    "# \"AND\" требует, чтобы оба условия были истинными.\n",
    "# \"OR\" требует, чтобы хотя бы одно условие было истинным.\n",
    "# \"NOT\" меняет истину на ложь и наоборот"
   ]
  },
  {
   "cell_type": "code",
   "execution_count": null,
   "id": "18ebaa9a-7973-4674-a02e-5edbab436ce3",
   "metadata": {},
   "outputs": [],
   "source": [
    "# Чтобы проще жилось с этими страшными терминами:\n",
    "\n",
    "# Python | Math\n",
    "#   OR      v\n",
    "#   AND     ^\n",
    "#   NOT     ¬\n",
    "# \n",
    "# \n",
    "# ¬(A^B) -> not(A and B)\n"
   ]
  },
  {
   "cell_type": "code",
   "execution_count": 42,
   "id": "3cc859d5-eced-4289-a159-1ce7e48448e3",
   "metadata": {},
   "outputs": [
    {
     "data": {
      "text/plain": [
       "True"
      ]
     },
     "execution_count": 42,
     "metadata": {},
     "output_type": "execute_result"
    }
   ],
   "source": [
    "not (True and False) == (not True or not False)"
   ]
  },
  {
   "cell_type": "code",
   "execution_count": null,
   "id": "b69f0b47-8276-4355-87f2-93cd4bdd12e9",
   "metadata": {},
   "outputs": [],
   "source": [
    "# Life's examples:\n",
    "\n",
    "Положительный случай: \"Чтобы войти в систему, нужен правильный логин и пароль.\"\n",
    "\n",
    "Отрицательный случай: \"Я не смогу войти, если у меня неверный логин или неверный пароль.\""
   ]
  },
  {
   "cell_type": "code",
   "execution_count": 42,
   "id": "9be97c6f-a90d-4527-af30-3620b706a2de",
   "metadata": {},
   "outputs": [
    {
     "name": "stdout",
     "output_type": "stream",
     "text": [
      "True\n",
      "True\n"
     ]
    }
   ],
   "source": [
    "# A -> user_is_active\n",
    "# B -> has_permission\n",
    "# C -> is_admin\n",
    "\n",
    "# (¬A) v (¬(B v C)) -> \n",
    "# (¬A) v ((¬B) ^ (¬C))\n",
    "\n",
    "user_is_active = True\n",
    "has_permission = False\n",
    "is_admin = False\n",
    "\n",
    "denied_status = (not user_is_active) or (not (has_permission or is_admin))\n",
    "#                               False                                   True\n",
    "#                               Fasle           V        True            ^          True\n",
    "de_morgan_denied_status = (not user_is_active) or ((not has_permission) and (not is_admin))\n",
    "\n",
    "(user_is_active and has_permission) or (user_is_active and is_admin)\n",
    "\n",
    "\n",
    "print(denied_status)\n",
    "print(de_morgan_denied_status)\n"
   ]
  }
 ],
 "metadata": {
  "kernelspec": {
   "display_name": "Python 3 (ipykernel)",
   "language": "python",
   "name": "python3"
  },
  "language_info": {
   "codemirror_mode": {
    "name": "ipython",
    "version": 3
   },
   "file_extension": ".py",
   "mimetype": "text/x-python",
   "name": "python",
   "nbconvert_exporter": "python",
   "pygments_lexer": "ipython3",
   "version": "3.10.15"
  }
 },
 "nbformat": 4,
 "nbformat_minor": 5
}
