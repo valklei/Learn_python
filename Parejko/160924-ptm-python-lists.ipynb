{
 "cells": [
  {
   "cell_type": "code",
   "id": "initial_id",
   "metadata": {
    "collapsed": true,
    "ExecuteTime": {
     "end_time": "2024-11-07T08:12:40.889136Z",
     "start_time": "2024-11-07T08:12:40.885565Z"
    }
   },
   "source": [
    "my_list = [5, 5.12, \"Hello\", True, None, [2, 3, 4]]\n",
    "#                                         0  1  2\n",
    "#          0    1      2       3     4        5"
   ],
   "outputs": [],
   "execution_count": 2
  },
  {
   "metadata": {
    "ExecuteTime": {
     "end_time": "2024-11-07T08:19:36.805332Z",
     "start_time": "2024-11-07T08:19:36.801549Z"
    }
   },
   "cell_type": "code",
   "source": [
    "print(my_list[2])\n",
    "print(my_list[:4])\n",
    "print(my_list[2:])\n",
    "print(my_list[::-1])\n",
    "print(my_list[::2])\n",
    "\n",
    "print(\"=\" * 50)\n",
    "print(my_list[5])\n",
    "print(my_list[5][1])\n",
    "print(\"=\" * 50)\n",
    "print(my_list[2][2])"
   ],
   "id": "be075e1e64ae24e8",
   "outputs": [
    {
     "name": "stdout",
     "output_type": "stream",
     "text": [
      "Hello\n",
      "[5, 5.12, 'Hello', True]\n",
      "['Hello', True, None, [2, 3, 4]]\n",
      "[[2, 3, 4], None, True, 'Hello', 5.12, 5]\n",
      "[5, 'Hello', None]\n",
      "==================================================\n",
      "[2, 3, 4]\n",
      "3\n",
      "==================================================\n",
      "l\n"
     ]
    }
   ],
   "execution_count": 8
  },
  {
   "metadata": {
    "ExecuteTime": {
     "end_time": "2024-11-07T08:36:12.025326Z",
     "start_time": "2024-11-07T08:36:12.022360Z"
    }
   },
   "cell_type": "code",
   "source": "my_list[1] = \"PYAT'.DVENADCAT'\"",
   "id": "2faa77b6c4133753",
   "outputs": [],
   "execution_count": 9
  },
  {
   "metadata": {
    "ExecuteTime": {
     "end_time": "2024-11-07T08:36:34.175340Z",
     "start_time": "2024-11-07T08:36:34.171857Z"
    }
   },
   "cell_type": "code",
   "source": "print(my_list)",
   "id": "34abbc4cdcf9b303",
   "outputs": [
    {
     "name": "stdout",
     "output_type": "stream",
     "text": [
      "[5, \"PYAT'.DVENADCAT'\", 'Hello', True, None, [2, 3, 4]]\n"
     ]
    }
   ],
   "execution_count": 10
  },
  {
   "metadata": {
    "ExecuteTime": {
     "end_time": "2024-11-07T08:37:41.820464Z",
     "start_time": "2024-11-07T08:37:41.818200Z"
    }
   },
   "cell_type": "code",
   "source": "my_list += [4]",
   "id": "b6300e4f29cd77f5",
   "outputs": [],
   "execution_count": 11
  },
  {
   "metadata": {
    "ExecuteTime": {
     "end_time": "2024-11-07T08:37:49.935123Z",
     "start_time": "2024-11-07T08:37:49.931138Z"
    }
   },
   "cell_type": "code",
   "source": "print(my_list)",
   "id": "cb4be8d3061aaada",
   "outputs": [
    {
     "name": "stdout",
     "output_type": "stream",
     "text": [
      "[5, \"PYAT'.DVENADCAT'\", 'Hello', True, None, [2, 3, 4], 4]\n"
     ]
    }
   ],
   "execution_count": 12
  },
  {
   "metadata": {
    "ExecuteTime": {
     "end_time": "2024-11-07T08:48:02.808509Z",
     "start_time": "2024-11-07T08:48:02.802471Z"
    }
   },
   "cell_type": "code",
   "source": [
    "import gc\n",
    "\n",
    "last_name_list = [\"Petrov\", \"Sydorov\", \"Smith\", \"Black\", \"Grey\"]\n",
    "#                     0         1         2        3        4\n",
    "\n",
    "for elem in last_name_list:\n",
    "    print(elem.upper())\n"
   ],
   "id": "99da0830b8af8ea5",
   "outputs": [
    {
     "name": "stdout",
     "output_type": "stream",
     "text": [
      "PETROV\n",
      "SYDOROV\n",
      "SMITH\n",
      "BLACK\n",
      "GREY\n"
     ]
    }
   ],
   "execution_count": 13
  },
  {
   "metadata": {
    "ExecuteTime": {
     "end_time": "2024-11-07T08:48:09.675988Z",
     "start_time": "2024-11-07T08:48:09.673672Z"
    }
   },
   "cell_type": "code",
   "source": "del last_name_list[4]",
   "id": "63413c2808334c42",
   "outputs": [],
   "execution_count": 14
  },
  {
   "metadata": {
    "ExecuteTime": {
     "end_time": "2024-11-07T08:48:14.849699Z",
     "start_time": "2024-11-07T08:48:14.846055Z"
    }
   },
   "cell_type": "code",
   "source": "print(last_name_list)",
   "id": "b066b3bfbf1dd435",
   "outputs": [
    {
     "name": "stdout",
     "output_type": "stream",
     "text": [
      "['Petrov', 'Sydorov', 'Smith', 'Black']\n"
     ]
    }
   ],
   "execution_count": 15
  },
  {
   "metadata": {
    "ExecuteTime": {
     "end_time": "2024-11-07T08:55:15.832514Z",
     "start_time": "2024-11-07T08:55:15.829279Z"
    }
   },
   "cell_type": "code",
   "source": "\"Petrov, Sydorov, Smith, Black, Grey\".split(\", \") # sep=\" \"",
   "id": "d3acc22c358af87e",
   "outputs": [
    {
     "data": {
      "text/plain": [
       "['Petrov', 'Sydorov', 'Smith', 'Black', 'Grey']"
      ]
     },
     "execution_count": 18,
     "metadata": {},
     "output_type": "execute_result"
    }
   ],
   "execution_count": 18
  },
  {
   "metadata": {
    "ExecuteTime": {
     "end_time": "2024-11-07T08:56:24.181816Z",
     "start_time": "2024-11-07T08:56:24.178616Z"
    }
   },
   "cell_type": "code",
   "source": "'  |  '.join(\"Petrov, Sydorov, Smith, Black, Grey\".split(\", \"))",
   "id": "86d10cceb5e3ffdd",
   "outputs": [
    {
     "data": {
      "text/plain": [
       "'Petrov  |  Sydorov  |  Smith  |  Black  |  Grey'"
      ]
     },
     "execution_count": 19,
     "metadata": {},
     "output_type": "execute_result"
    }
   ],
   "execution_count": 19
  },
  {
   "metadata": {},
   "cell_type": "code",
   "outputs": [],
   "execution_count": null,
   "source": "",
   "id": "77d9d90925c12a9e"
  },
  {
   "metadata": {
    "ExecuteTime": {
     "end_time": "2024-11-07T09:05:58.938056Z",
     "start_time": "2024-11-07T09:04:24.149426Z"
    }
   },
   "cell_type": "code",
   "source": [
    "guests_white_list = []\n",
    "black_list = ['Oleg']\n",
    "\n",
    "while True:\n",
    "    guest_surname = input(\"Enter yor name: \")\n",
    "    \n",
    "    if guest_surname.strip().lower() == 'end':\n",
    "        break\n",
    "    \n",
    "    if guest_surname.strip().capitalize() in black_list: # '   oLeG   ' -> 'oLeG' -> 'Oleg'\n",
    "        print(\"You're not welcome!!!!!\")\n",
    "        continue\n",
    "    else:\n",
    "        guests_white_list.append(guest_surname.strip().capitalize())\n",
    "        print(f\"Welcome, {guest_surname.strip().capitalize()}!!\")\n",
    "\n",
    "\n",
    "if guests_white_list:\n",
    "    print(\"The full list of guests:\", '\\n'.join(guests_white_list), sep='\\n')"
   ],
   "id": "5974edb1232771bf",
   "outputs": [
    {
     "name": "stdout",
     "output_type": "stream",
     "text": [
      "Welcome, Ira!!\n",
      "Welcome, John!!\n",
      "Welcome, Dmitry!!\n",
      "Welcome, Anna!!\n",
      "Welcome, Anatoliy!!\n",
      "Welcome, Kristina!!\n",
      "You're not welcome!!!!!\n",
      "You're not welcome!!!!!\n",
      "You're not welcome!!!!!\n",
      "The full list of guests:\n",
      "Ira\n",
      "John\n",
      "Dmitry\n",
      "Anna\n",
      "Anatoliy\n",
      "Kristina\n"
     ]
    }
   ],
   "execution_count": 20
  },
  {
   "metadata": {
    "ExecuteTime": {
     "end_time": "2024-11-07T09:14:20.301026Z",
     "start_time": "2024-11-07T09:14:20.297577Z"
    }
   },
   "cell_type": "code",
   "source": [
    "a = [2, 4, 6]\n",
    "\n",
    "b = [8, 10, 12]\n",
    "\n",
    "a.extend(b)\n",
    "\n",
    "print(a)\n",
    "\n",
    "b.extend(a)"
   ],
   "id": "6a4693916d7d27c1",
   "outputs": [
    {
     "name": "stdout",
     "output_type": "stream",
     "text": [
      "[2, 4, 6, 8, 10, 12]\n"
     ]
    }
   ],
   "execution_count": 23
  },
  {
   "metadata": {
    "ExecuteTime": {
     "end_time": "2024-11-07T09:14:25.825553Z",
     "start_time": "2024-11-07T09:14:25.822288Z"
    }
   },
   "cell_type": "code",
   "source": "print(b)",
   "id": "d0ec9ebee52a310a",
   "outputs": [
    {
     "name": "stdout",
     "output_type": "stream",
     "text": [
      "[8, 10, 12, 2, 4, 6, 8, 10, 12]\n"
     ]
    }
   ],
   "execution_count": 24
  },
  {
   "metadata": {},
   "cell_type": "code",
   "outputs": [],
   "execution_count": null,
   "source": "",
   "id": "995899cd9f82a10b"
  }
 ],
 "metadata": {
  "kernelspec": {
   "display_name": "Python 3",
   "language": "python",
   "name": "python3"
  },
  "language_info": {
   "codemirror_mode": {
    "name": "ipython",
    "version": 2
   },
   "file_extension": ".py",
   "mimetype": "text/x-python",
   "name": "python",
   "nbconvert_exporter": "python",
   "pygments_lexer": "ipython2",
   "version": "2.7.6"
  }
 },
 "nbformat": 4,
 "nbformat_minor": 5
}
