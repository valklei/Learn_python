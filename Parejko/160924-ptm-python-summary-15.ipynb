{
 "cells": [
  {
   "cell_type": "code",
   "id": "initial_id",
   "metadata": {
    "collapsed": true,
    "ExecuteTime": {
     "end_time": "2025-01-17T08:13:39.367655Z",
     "start_time": "2025-01-17T08:13:39.362199Z"
    }
   },
   "source": [
    "class Cat:\n",
    "    paws = 4\n",
    "    eyes = 2\n",
    "    ears = 2\n",
    "\n",
    "    def __init__(self, name='Cat'):\n",
    "        self.color = \"Black\"\n",
    "        self.name = name\n",
    "\n",
    "    def say_mew(self):\n",
    "        return f\"{self.name} say 'Mew'\"\n",
    "\n",
    "    def get_breakfast(self):\n",
    "        return \"Your pet is breakfast now\"\n",
    "\n",
    "\n",
    "fluffy = Cat(name=\"Fluffy\")\n",
    "\n",
    "print(fluffy.get_breakfast())"
   ],
   "outputs": [
    {
     "name": "stdout",
     "output_type": "stream",
     "text": [
      "Your pet is breakfast now\n"
     ]
    }
   ],
   "execution_count": 2
  },
  {
   "metadata": {
    "ExecuteTime": {
     "end_time": "2025-01-17T08:11:46.749988Z",
     "start_time": "2025-01-17T08:11:46.744133Z"
    }
   },
   "cell_type": "code",
   "source": [
    "def foo(a, b):\n",
    "    return a + b\n",
    "\n",
    "\n",
    "print(foo(a=5, b=7))"
   ],
   "id": "cd7e65c54ac24f54",
   "outputs": [
    {
     "name": "stdout",
     "output_type": "stream",
     "text": [
      "12\n"
     ]
    }
   ],
   "execution_count": 1
  },
  {
   "metadata": {},
   "cell_type": "code",
   "outputs": [],
   "execution_count": null,
   "source": "",
   "id": "1996dd21d8d7c589"
  },
  {
   "metadata": {},
   "cell_type": "code",
   "outputs": [],
   "execution_count": null,
   "source": [
    "# class User:\n",
    "#     def __init__(self, name, surname, email):\n",
    "#         self.name = name\n",
    "#         self.surname = surname\n",
    "#         self.email = email\n",
    "#\n",
    "#\n",
    "# class Employee:\n",
    "#     def __init__(self, name, surname, email, position, experience, department):\n",
    "#         self.name = name\n",
    "#         self.surname = surname\n",
    "#         self.email = email\n",
    "#         self.position = position\n",
    "#         self.experience = experience\n",
    "#         self.department = department\n",
    "#\n",
    "#\n",
    "# class Client:\n",
    "#     def __init__(self, name, surname, email, phone, region, city):\n",
    "#         self.name = name\n",
    "#         self.surname = surname\n",
    "#         self.email = email\n",
    "#         self.phone = phone\n",
    "#         self.region = region\n",
    "#         self.city = city"
   ],
   "id": "644699f1ffab4944"
  },
  {
   "metadata": {
    "ExecuteTime": {
     "end_time": "2025-01-17T08:40:29.737889Z",
     "start_time": "2025-01-17T08:40:29.732496Z"
    }
   },
   "cell_type": "code",
   "source": [
    "class User:\n",
    "    def __init__(self, name, surname, email):\n",
    "        self.name = name\n",
    "        self.surname = surname\n",
    "        self.email = email\n",
    "\n",
    "    def greeting(self):\n",
    "        print(f\"Greeting! I'm {self.name} {self.surname}. My email is - '{self.email}'\")\n",
    "\n",
    "\n",
    "class Employee(User):\n",
    "    def __init__(self, name, surname, email, position, experience, department):\n",
    "        # User.__init__(self, name, surname, email)\n",
    "        super().__init__(name, surname, email)\n",
    "        self.position = position\n",
    "        self.experience = experience\n",
    "        self.department = department\n",
    "\n",
    "\n",
    "class Client(User):\n",
    "    def __init__(self, name, surname, email, phone, region, city):\n",
    "        super().__init__(name, surname, email)\n",
    "        self.phone = phone\n",
    "        self.region = region\n",
    "        self.city = city\n",
    "\n",
    "\n",
    "user = User(\"John\", \"Black\", \"t.email@gmail.com\")\n",
    "employee = Employee(\"Kseniya\", \"Green\", \"k.green@gmail.com\", \"Python Developer\", 5, \"IT\")\n",
    "client = Client(\"Mariya\", \"Gryffindor\", \"m.gryf@icloud.com\", \"+123456789\", \"South Carolina\", \"Test city\")\n",
    "\n"
   ],
   "id": "574350061b739c76",
   "outputs": [],
   "execution_count": 8
  },
  {
   "metadata": {
    "ExecuteTime": {
     "end_time": "2025-01-17T08:34:42.213214Z",
     "start_time": "2025-01-17T08:34:42.209097Z"
    }
   },
   "cell_type": "code",
   "source": [
    "print(user.name, user.surname, user.email)\n",
    "print(\"=\" * 45)\n",
    "print(employee.name, employee.surname, employee.email)\n",
    "print(\"=\" * 45)\n",
    "print(client.name, client.surname, client.email)"
   ],
   "id": "c29991fa79c849d3",
   "outputs": [
    {
     "name": "stdout",
     "output_type": "stream",
     "text": [
      "John Black t.email@gmail.com\n",
      "=============================================\n",
      "Kseniya Green k.green@gmail.com\n",
      "=============================================\n",
      "Mariya Gryffindor m.gryf@icloud.com\n"
     ]
    }
   ],
   "execution_count": 4
  },
  {
   "metadata": {
    "ExecuteTime": {
     "end_time": "2025-01-17T08:36:41.140392Z",
     "start_time": "2025-01-17T08:36:41.136496Z"
    }
   },
   "cell_type": "code",
   "source": "employee.greeting()",
   "id": "575b6b289ccb23d8",
   "outputs": [
    {
     "name": "stdout",
     "output_type": "stream",
     "text": [
      "Greeting! I'm Kseniya Green. My email is - 'k.green@gmail.com'\n"
     ]
    }
   ],
   "execution_count": 6
  },
  {
   "metadata": {},
   "cell_type": "code",
   "outputs": [],
   "execution_count": null,
   "source": "",
   "id": "65b5ef8b08a5aad7"
  },
  {
   "metadata": {},
   "cell_type": "code",
   "outputs": [],
   "execution_count": null,
   "source": "",
   "id": "201fd0f72eee9cd4"
  },
  {
   "metadata": {
    "ExecuteTime": {
     "end_time": "2025-01-17T08:54:36.001821Z",
     "start_time": "2025-01-17T08:54:35.997454Z"
    }
   },
   "cell_type": "code",
   "source": [
    "class Vehicle:\n",
    "    def drive(self):\n",
    "        return \"DRIVE VEHICLE\"\n",
    "\n",
    "\n",
    "class Bike(Vehicle):\n",
    "    def drive(self):\n",
    "        return \"Наш байк удачно завёлся и поехал вдаль\"\n",
    "\n",
    "\n",
    "vehicle = Vehicle()\n",
    "bike = Bike()\n",
    "\n",
    "print(bike.drive())\n",
    "\n",
    "print(vehicle.drive())"
   ],
   "id": "bb381aa937ef1683",
   "outputs": [
    {
     "name": "stdout",
     "output_type": "stream",
     "text": [
      "Наш байк удачно завёлся и поехал вдаль\n",
      "DRIVE VEHICLE\n"
     ]
    }
   ],
   "execution_count": 13
  },
  {
   "metadata": {},
   "cell_type": "code",
   "outputs": [],
   "execution_count": null,
   "source": "",
   "id": "991c3ac38d3b74e"
  },
  {
   "metadata": {},
   "cell_type": "code",
   "outputs": [],
   "execution_count": null,
   "source": "",
   "id": "3867d4012ddc74e3"
  },
  {
   "metadata": {},
   "cell_type": "code",
   "outputs": [],
   "execution_count": null,
   "source": [
    "# mro()\n",
    "\n"
   ],
   "id": "82cafac3278dc867"
  },
  {
   "metadata": {
    "ExecuteTime": {
     "end_time": "2025-01-17T09:05:25.941747Z",
     "start_time": "2025-01-17T09:05:25.938119Z"
    }
   },
   "cell_type": "code",
   "source": [
    "class Bird:\n",
    "    def fly(self):\n",
    "        print(\"The bird is flying!\")\n",
    "\n",
    "\n",
    "class Ostrich(Bird):  # страус\n",
    "    def fly(self):\n",
    "        super().fly()\n",
    "        print(\"Ostrich can not fly :(\")\n",
    "\n",
    "\n",
    "bird = Bird()\n",
    "ostrich = Ostrich()\n",
    "\n",
    "bird.fly()\n",
    "print(\"=\" * 50)\n",
    "ostrich.fly()\n"
   ],
   "id": "57492a318206887b",
   "outputs": [
    {
     "name": "stdout",
     "output_type": "stream",
     "text": [
      "The bird is flying!\n",
      "==================================================\n",
      "The bird is flying!\n",
      "Ostrich can not fly :(\n"
     ]
    }
   ],
   "execution_count": 16
  },
  {
   "metadata": {},
   "cell_type": "code",
   "outputs": [],
   "execution_count": null,
   "source": "",
   "id": "3ce968cda0a3c41b"
  },
  {
   "metadata": {},
   "cell_type": "code",
   "outputs": [],
   "execution_count": null,
   "source": [
    "from datetime import datetime\n",
    "\n",
    "\n",
    "class Logger:\n",
    "    def log(self, message):\n",
    "        raise NotImplementedError(\"Subclasses should implement this!\")\n",
    "\n",
    "\n",
    "class TextLogger(Logger):\n",
    "    def __init__(self, filename, mode):\n",
    "        self.filename = filename\n",
    "        self.mode = mode\n",
    "\n",
    "    def log(self, message):\n",
    "        with open(self.filename, self.mode) as log_data:\n",
    "            log_data.write(f\"[{datetime.now()}] {message}\\n\")\n",
    "\n",
    "\n",
    "class CSVLogger(Logger):\n",
    "    def __init__(self, filename, mode):\n",
    "        self.filename = filename\n",
    "        self.mode = mode\n",
    "        self.ID = 0\n",
    "\n",
    "    def log(self, message):\n",
    "        import csv\n",
    "        with open(self.filename, self.mode) as csv_log_data:\n",
    "            headers = [\"ID\", \"message\"]\n",
    "            writer = csv.DictWriter(csv_log_data, fieldnames=headers)\n",
    "\n",
    "            writer.writeheader()\n",
    "\n",
    "            message = f\"[{datetime.now()}] {message}\"\n",
    "            self.ID += 1\n",
    "            data = {\n",
    "                \"ID\": self.ID,\n",
    "                \"message\": message\n",
    "            }\n",
    "\n",
    "            writer.writerow(data)\n",
    "\n",
    "\n",
    "# Создаем экземпляры логгеров\n",
    "text_logger = TextLogger(\"test_text.txt\", \"w\")\n",
    "csv_logger = CSVLogger(\"test_csv.csv\", \"w\")\n",
    "\n",
    "# Логгируем сообщения\n",
    "text_logger.log(\"Something happened\")\n",
    "csv_logger.log(\"Something else happened\")"
   ],
   "id": "c3ee97b20912f286"
  }
 ],
 "metadata": {
  "kernelspec": {
   "display_name": "Python 3",
   "language": "python",
   "name": "python3"
  },
  "language_info": {
   "codemirror_mode": {
    "name": "ipython",
    "version": 2
   },
   "file_extension": ".py",
   "mimetype": "text/x-python",
   "name": "python",
   "nbconvert_exporter": "python",
   "pygments_lexer": "ipython2",
   "version": "2.7.6"
  }
 },
 "nbformat": 4,
 "nbformat_minor": 5
}
