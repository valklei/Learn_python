{
 "cells": [
  {
   "cell_type": "code",
   "id": "initial_id",
   "metadata": {
    "collapsed": true,
    "ExecuteTime": {
     "end_time": "2024-11-08T07:31:27.885977Z",
     "start_time": "2024-11-08T07:31:27.884086Z"
    }
   },
   "source": [
    ""
   ],
   "outputs": [],
   "execution_count": null
  },
  {
   "metadata": {
    "ExecuteTime": {
     "end_time": "2024-11-08T08:07:56.807462Z",
     "start_time": "2024-11-08T08:07:56.804472Z"
    }
   },
   "cell_type": "code",
   "source": [
    "def return_true_if_age_is_odd(a):\n",
    "    if a % 2 == 0:\n",
    "        return True\n",
    "    return False\n",
    "\n"
   ],
   "id": "4c374dcbc3f788c3",
   "outputs": [],
   "execution_count": 1
  },
  {
   "metadata": {
    "ExecuteTime": {
     "end_time": "2024-11-08T08:09:52.716816Z",
     "start_time": "2024-11-08T08:09:52.713752Z"
    }
   },
   "cell_type": "code",
   "source": [
    "print(return_true_if_age_is_odd(10))\n",
    "print(return_true_if_age_is_odd(12))\n",
    "print(return_true_if_age_is_odd(13))\n",
    "print(return_true_if_age_is_odd(11))\n",
    "print(return_true_if_age_is_odd(24))\n",
    "print(return_true_if_age_is_odd(9))\n",
    "print(return_true_if_age_is_odd(5))"
   ],
   "id": "4a7378fbb563090e",
   "outputs": [
    {
     "name": "stdout",
     "output_type": "stream",
     "text": [
      "True\n",
      "True\n",
      "False\n",
      "False\n",
      "True\n",
      "False\n",
      "False\n"
     ]
    }
   ],
   "execution_count": 4
  },
  {
   "metadata": {},
   "cell_type": "code",
   "outputs": [],
   "execution_count": null,
   "source": "",
   "id": "9f9e96430ab00e96"
  },
  {
   "metadata": {
    "ExecuteTime": {
     "end_time": "2024-11-08T08:13:46.791390Z",
     "start_time": "2024-11-08T08:13:46.789021Z"
    }
   },
   "cell_type": "code",
   "source": [
    "def print_greeting():\n",
    "    print(\"Hello!\") # возвращает None, если нет явного return\n",
    "#"
   ],
   "id": "78b72d4a8f2a6fda",
   "outputs": [],
   "execution_count": 5
  },
  {
   "metadata": {
    "ExecuteTime": {
     "end_time": "2024-11-08T08:14:16.315983Z",
     "start_time": "2024-11-08T08:14:16.311909Z"
    }
   },
   "cell_type": "code",
   "source": "print(print_greeting())",
   "id": "1b42b66916cff526",
   "outputs": [
    {
     "name": "stdout",
     "output_type": "stream",
     "text": [
      "Hello!\n",
      "None\n"
     ]
    }
   ],
   "execution_count": 7
  },
  {
   "metadata": {
    "ExecuteTime": {
     "end_time": "2024-11-08T08:20:11.219161Z",
     "start_time": "2024-11-08T08:20:11.215458Z"
    }
   },
   "cell_type": "code",
   "source": [
    "global_variable = 10\n",
    "\n",
    "\n",
    "with ...\n",
    "if ...\n",
    "while...\n",
    "for ...\n",
    "def ..."
   ],
   "id": "95b8442de3b14fce",
   "outputs": [
    {
     "ename": "SyntaxError",
     "evalue": "expected ':' (921305971.py, line 4)",
     "output_type": "error",
     "traceback": [
      "\u001B[0;36m  Cell \u001B[0;32mIn[8], line 4\u001B[0;36m\u001B[0m\n\u001B[0;31m    with ...\u001B[0m\n\u001B[0m            ^\u001B[0m\n\u001B[0;31mSyntaxError\u001B[0m\u001B[0;31m:\u001B[0m expected ':'\n"
     ]
    }
   ],
   "execution_count": 8
  },
  {
   "metadata": {
    "ExecuteTime": {
     "end_time": "2024-11-08T08:26:50.776915Z",
     "start_time": "2024-11-08T08:26:50.772768Z"
    }
   },
   "cell_type": "code",
   "source": [
    "def test_function():\n",
    "    global my_var\n",
    "    # local\n",
    "    my_var = \"Hello\"\n",
    "    return my_var\n",
    "\n",
    "\n",
    "my_var = 15\n",
    "\n",
    "\n",
    "def sum_global_var(arg1): # arg1 - параметр функции\n",
    "    return arg1 ** 2\n",
    "\n",
    "\n",
    "print(sum_global_var(my_var))"
   ],
   "id": "2c974a217abdea49",
   "outputs": [
    {
     "name": "stdout",
     "output_type": "stream",
     "text": [
      "225\n"
     ]
    }
   ],
   "execution_count": 15
  },
  {
   "metadata": {
    "ExecuteTime": {
     "end_time": "2024-11-08T08:25:12.889240Z",
     "start_time": "2024-11-08T08:25:12.886141Z"
    }
   },
   "cell_type": "code",
   "source": "print(my_var)",
   "id": "209351e088eef4c2",
   "outputs": [
    {
     "name": "stdout",
     "output_type": "stream",
     "text": [
      "15\n"
     ]
    }
   ],
   "execution_count": 14
  },
  {
   "metadata": {
    "ExecuteTime": {
     "end_time": "2024-11-08T08:38:43.535062Z",
     "start_time": "2024-11-08T08:38:43.532725Z"
    }
   },
   "cell_type": "code",
   "source": [
    "my_var = 15\n",
    "\n",
    "\n",
    "def sum_global_var2(arg1=10): # arg1 - параметр функции\n",
    "    return arg1 ** 2\n",
    "\n",
    "\n",
    "print(sum_global_var2())\n",
    "print(sum_global_var2(my_var))"
   ],
   "id": "528db93f635dd96a",
   "outputs": [
    {
     "name": "stdout",
     "output_type": "stream",
     "text": [
      "100\n",
      "225\n"
     ]
    }
   ],
   "execution_count": 18
  },
  {
   "metadata": {
    "ExecuteTime": {
     "end_time": "2024-11-08T08:46:49.607975Z",
     "start_time": "2024-11-08T08:46:49.602931Z"
    }
   },
   "cell_type": "code",
   "source": [
    "# нужно собрать e-mail адреса из двух разных источников и\n",
    "# создать один общий список для рассылки.\n",
    "\n",
    "# Написать программу, которая:\n",
    "# Считывает e-mail адреса из обоих файлов.\n",
    "# Преобразует строки с адресами в два списка с помощью split().\n",
    "# Объединяет оба списка с помощью extend().\n",
    "# Создать итоговую строку с e-mail адресами, разделёнными\n",
    "# запятой с пробелом (, ) и вывести её.\n",
    "\n",
    "\n",
    "# with open('emails_from_aws.txt') as f:\n",
    "#     ...\n",
    "# \n",
    "# with open('emails_from_ibm.txt') as f2:\n",
    "#     ...\n",
    "\n",
    "\n",
    "def extract_data_from_file(filename):\n",
    "    emails = []\n",
    "    \n",
    "    with open(filename) as f:\n",
    "        for row in f.readlines():\n",
    "            emails.extend(row.strip('\\n').split(','))\n",
    "    \n",
    "    return emails"
   ],
   "id": "91941447a91659b1",
   "outputs": [],
   "execution_count": 19
  },
  {
   "metadata": {
    "ExecuteTime": {
     "end_time": "2024-11-08T08:48:19.438362Z",
     "start_time": "2024-11-08T08:48:19.434092Z"
    }
   },
   "cell_type": "code",
   "source": [
    "files = [\"emails_from_aws.txt\", \"emails_from_ibm.txt\"]\n",
    "\n",
    "full_emails = []\n",
    "\n",
    "for file in files:\n",
    "    full_emails.extend(extract_data_from_file(file))\n",
    "    \n",
    "\n",
    "print(full_emails)"
   ],
   "id": "61f469614c02e931",
   "outputs": [
    {
     "name": "stdout",
     "output_type": "stream",
     "text": [
      "['alice@example.com', 'bob@example.com', 'test.email@gmail.com', 'v.dmitruick@yahoo.com', 'a.vasilyev@icloud.com', 'alesya.smirnykh@gmail.com', 'vasilyeva.d@gmail.com', 'g.yahoov@yhahoo.com', 'g.gmailov@gmail.com', 'grebenjko.v@gmail.com', 'test.cloud@icloud.com', 'kris.stin@icloud.com']\n"
     ]
    }
   ],
   "execution_count": 20
  },
  {
   "metadata": {
    "ExecuteTime": {
     "end_time": "2024-11-08T08:56:01.714952Z",
     "start_time": "2024-11-08T08:56:01.712153Z"
    }
   },
   "cell_type": "code",
   "source": [
    "# Напишите программу, которая принимает два числа и возвращает\n",
    "# их сумму и произведение в виде кортежа (sum, product).\n",
    "# Используйте функцию для вычисления суммы и произведения.\n",
    "# Выведите результат на экран с помощью команды print.\n",
    "\n",
    "var_1 = 15\n",
    "var_2 = 3\n",
    "\n",
    "# def calculate_sum_prod(a, b):\n",
    "#     return (a + b), (a * b)\n",
    "\n",
    "def calculate_sum_prod(a, b):\n",
    "    sum_ = a + b\n",
    "    prod_ = a * b\n",
    "    return sum_, prod_"
   ],
   "id": "e7e8f819505a8735",
   "outputs": [],
   "execution_count": 25
  },
  {
   "metadata": {
    "ExecuteTime": {
     "end_time": "2024-11-08T08:56:02.351529Z",
     "start_time": "2024-11-08T08:56:02.348332Z"
    }
   },
   "cell_type": "code",
   "source": "print(calculate_sum_prod(var_1, var_2))",
   "id": "277dc860fa42666",
   "outputs": [
    {
     "name": "stdout",
     "output_type": "stream",
     "text": [
      "(18, 45)\n"
     ]
    }
   ],
   "execution_count": 26
  },
  {
   "metadata": {
    "ExecuteTime": {
     "end_time": "2024-11-08T09:08:25.761552Z",
     "start_time": "2024-11-08T09:07:52.669065Z"
    }
   },
   "cell_type": "code",
   "source": [
    "# Напишите программу, которая принимает список чисел и возвращает сумму,\n",
    "# минимальное и максимальное значение из списка. Используйте функцию для\n",
    "# обработки списка чисел и возврата трех значений. Выведите результат на\n",
    "# экран с помощью команды print.\n",
    "\n",
    "\n",
    "# list_of_data = [3, 7, 2, 9, 1, 5]\n",
    "\n",
    "list_of_data = input(\"Enter your values [with spaces]: \").strip().split()\n",
    "# 4 3 7 hello hi 3 q 0 28 17\n",
    "\n",
    "# my_data = [int(x) for x in list_of_data]\n",
    "my_data = []\n",
    "\n",
    "\n",
    "for elem in list_of_data:\n",
    "    if elem.isdigit():\n",
    "        my_data.append(int(elem))\n",
    "    \n",
    "\n",
    "def return_values_data(data):\n",
    "    return sum(data), min(data), max(data)"
   ],
   "id": "bf03b80a7762ffc5",
   "outputs": [],
   "execution_count": 30
  },
  {
   "metadata": {
    "ExecuteTime": {
     "end_time": "2024-11-08T09:16:33.697508Z",
     "start_time": "2024-11-08T09:16:33.684293Z"
    }
   },
   "cell_type": "code",
   "source": "int('q')",
   "id": "e65dbe22a7623d45",
   "outputs": [
    {
     "ename": "ValueError",
     "evalue": "invalid literal for int() with base 10: 'q'",
     "output_type": "error",
     "traceback": [
      "\u001B[0;31m---------------------------------------------------------------------------\u001B[0m",
      "\u001B[0;31mValueError\u001B[0m                                Traceback (most recent call last)",
      "Cell \u001B[0;32mIn[33], line 1\u001B[0m\n\u001B[0;32m----> 1\u001B[0m \u001B[38;5;28;43mint\u001B[39;49m\u001B[43m(\u001B[49m\u001B[38;5;124;43m'\u001B[39;49m\u001B[38;5;124;43mq\u001B[39;49m\u001B[38;5;124;43m'\u001B[39;49m\u001B[43m)\u001B[49m\n",
      "\u001B[0;31mValueError\u001B[0m: invalid literal for int() with base 10: 'q'"
     ]
    }
   ],
   "execution_count": 33
  },
  {
   "metadata": {
    "ExecuteTime": {
     "end_time": "2024-11-08T09:08:34.446930Z",
     "start_time": "2024-11-08T09:08:34.444496Z"
    }
   },
   "cell_type": "code",
   "source": "print(my_data)",
   "id": "1902cc8cedec5f80",
   "outputs": [
    {
     "name": "stdout",
     "output_type": "stream",
     "text": [
      "[4, 2, 3, 17, 8, 0, 9]\n"
     ]
    }
   ],
   "execution_count": 31
  },
  {
   "metadata": {
    "ExecuteTime": {
     "end_time": "2024-11-08T09:08:59.677545Z",
     "start_time": "2024-11-08T09:08:59.674808Z"
    }
   },
   "cell_type": "code",
   "source": [
    "sum_, min_, max_ = return_values_data(my_data)\n",
    "\n",
    "print(f\"Sum of data = {sum_}\")\n",
    "print(f\"Min of data = {min_}\")\n",
    "print(f\"Max of data = {max_}\")"
   ],
   "id": "fc6beb4485a4dd46",
   "outputs": [
    {
     "name": "stdout",
     "output_type": "stream",
     "text": [
      "Sum of data = 43\n",
      "Min of data = 0\n",
      "Max of data = 17\n"
     ]
    }
   ],
   "execution_count": 32
  },
  {
   "metadata": {
    "ExecuteTime": {
     "end_time": "2024-11-08T09:26:40.139872Z",
     "start_time": "2024-11-08T09:26:37.346408Z"
    }
   },
   "cell_type": "code",
   "source": [
    "N = int(input(\"Введите число N: \"))\n",
    "print(\"Таблица умножения:\")\n",
    "\n",
    "\n",
    "for i in range(1, N + 1): # i = 5\n",
    "    for j in range(1, N + 1): # j = 1, j = 2, j = 3, j = 4, j = 5, ..., j = n\n",
    "        print(i * j, end='\\t') # 1 * 1, 1 * 2, 1 * 3, 1 * 4, 1 * 5, ..., 1 * n\n",
    "    print()"
   ],
   "id": "f21b03b831f9e1ce",
   "outputs": [
    {
     "name": "stdout",
     "output_type": "stream",
     "text": [
      "Таблица умножения:\n",
      "1\t2\t3\t4\t5\t\n",
      "2\t4\t6\t8\t10\t\n",
      "3\t6\t9\t12\t15\t\n",
      "4\t8\t12\t16\t20\t\n",
      "5\t10\t15\t20\t25\t\n"
     ]
    }
   ],
   "execution_count": 37
  },
  {
   "metadata": {
    "ExecuteTime": {
     "end_time": "2024-11-08T09:29:54.536950Z",
     "start_time": "2024-11-08T09:29:51.922607Z"
    }
   },
   "cell_type": "code",
   "source": [
    "N = int(input(\"Введите число N: \"))\n",
    "max_len_num = len(str(N * N))\n",
    "\n",
    "for i in range(1, N + 1):\n",
    "    full_line = \"\" #  1  2  3  4  5\n",
    "    for j in range(1, N + 1):\n",
    "        line = str(i * j).rjust(max_len_num)\n",
    "        full_line += f\"{line} \"\n",
    "    print(full_line.rstrip())"
   ],
   "id": "336cb64387a0fe6c",
   "outputs": [
    {
     "name": "stdout",
     "output_type": "stream",
     "text": [
      " 1  2  3  4  5\n",
      " 2  4  6  8 10\n",
      " 3  6  9 12 15\n",
      " 4  8 12 16 20\n",
      " 5 10 15 20 25\n"
     ]
    }
   ],
   "execution_count": 38
  },
  {
   "metadata": {},
   "cell_type": "code",
   "outputs": [],
   "execution_count": null,
   "source": "",
   "id": "a89490c5290fe306"
  }
 ],
 "metadata": {
  "kernelspec": {
   "display_name": "Python 3",
   "language": "python",
   "name": "python3"
  },
  "language_info": {
   "codemirror_mode": {
    "name": "ipython",
    "version": 2
   },
   "file_extension": ".py",
   "mimetype": "text/x-python",
   "name": "python",
   "nbconvert_exporter": "python",
   "pygments_lexer": "ipython2",
   "version": "2.7.6"
  }
 },
 "nbformat": 4,
 "nbformat_minor": 5
}
