{
 "cells": [
  {
   "cell_type": "code",
   "execution_count": null,
   "id": "initial_id",
   "metadata": {
    "collapsed": true
   },
   "outputs": [],
   "source": [
    ""
   ]
  },
  {
   "metadata": {},
   "cell_type": "code",
   "outputs": [],
   "execution_count": null,
   "source": [
    "# Напишите программу, которая запрашивает у пользователя URL-адрес веб-страницы,\n",
    "# использует библиотеку Beautiful Soup для парсинга HTML \n",
    "# и выводит список всех ссылок на странице.\n",
    "\n",
    "import requests\n",
    "from bs4 import BeautifulSoup\n",
    "\n",
    "def get_links(url):\n",
    "    try:\n",
    "        response = requests.get(url)\n",
    "        if response.status_code == 200:\n",
    "            soup = BeautifulSoup(response.content, 'html.parser')\n",
    "            tags = ['a', 'link', 'script', 'img', 'form']\n",
    "            links = []\n",
    "\n",
    "            for tag in tags:\n",
    "                for element in soup.find_all(tag):\n",
    "                    if tag == 'a':\n",
    "                        href = element.get('href')\n",
    "                        if href:\n",
    "                            links.append(href)\n",
    "                    elif tag == 'link' or tag == 'script':\n",
    "                        href = element.get('href') or element.get('src')\n",
    "                        if href:\n",
    "                            links.append(href)\n",
    "                    elif tag == 'img':\n",
    "                        src = element.get('src')\n",
    "                        if src:\n",
    "                            links.append(src)\n",
    "                    elif tag == 'form':\n",
    "                        action = element.get('action')\n",
    "                        if action:\n",
    "                            links.append(action)\n",
    " \n",
    "            print(\"Список всех ссылок на странице:\")\n",
    "            for link in links:\n",
    "                print(link)\n",
    "        else:\n",
    "            print('Не удалось скачать страницу.')\n",
    "    except Exception as e:\n",
    "        print(f'Произошла ошибка: {e}')\n",
    " \n",
    "url = input(\"Введите URL-адрес веб-страницы: \")\n",
    "get_links(url)\n"
   ],
   "id": "1bb938a0a3b62ecc"
  },
  {
   "metadata": {},
   "cell_type": "code",
   "outputs": [],
   "execution_count": null,
   "source": [
    "# Напишите программу, которая запрашивает у пользователя URL-адрес веб-страницы\n",
    "# и уровень заголовков, а затем использует библиотеку Beautiful Soup \n",
    "# для парсинга HTML и извлекает заголовки нужного уровня \n",
    "# (теги h1, h2, h3 и т.д.) с их текстом.\n",
    "\n",
    "import requests\n",
    "from bs4 import BeautifulSoup\n",
    "\n",
    "def get_head(url, head_level):\n",
    "    try:\n",
    "        response = requests.get(url)\n",
    " \n",
    "        if response.status_code == 200:\n",
    "            soup = BeautifulSoup(response.content, 'html.parser')\n",
    "            head_name = f'h{head_level}'\n",
    "            heads = soup.find_all(head_name)\n",
    "            print(f\"Заголовки уровня {head_level} на странице:\")\n",
    "           #print(head_name, heads)\n",
    "            for head in heads:\n",
    "                print(head.get_text(strip=True))\n",
    "        else:\n",
    "            print('Не удалось скачать страницу.')\n",
    "    except Exception as e:\n",
    "        print(f'Произошла ошибка: {e}')\n",
    " \n",
    "url = input(\"Введите URL-адрес веб-страницы: \")\n",
    "head_level = input(\"Введите уровень заголовков (например, 1 для h1): \")\n",
    " \n",
    "get_head(url, head_level)\n"
   ],
   "id": "f169daeccd3c2b48"
  }
 ],
 "metadata": {
  "kernelspec": {
   "display_name": "Python 3",
   "language": "python",
   "name": "python3"
  },
  "language_info": {
   "codemirror_mode": {
    "name": "ipython",
    "version": 2
   },
   "file_extension": ".py",
   "mimetype": "text/x-python",
   "name": "python",
   "nbconvert_exporter": "python",
   "pygments_lexer": "ipython2",
   "version": "2.7.6"
  }
 },
 "nbformat": 4,
 "nbformat_minor": 5
}
