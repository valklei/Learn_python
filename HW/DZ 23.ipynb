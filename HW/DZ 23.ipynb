{
 "cells": [
  {
   "metadata": {},
   "cell_type": "code",
   "outputs": [],
   "execution_count": null,
   "source": [
    "def my_generator():\n",
    "    yield 5\n",
    "    yield 6\n",
    "    yield 8\n",
    "\n",
    "\n",
    "gen = my_generator()\n",
    "print(gen)  # Выводит 1 \n",
    "print(gen)  # Выводит 2 \n",
    "print(gen)  # Выводит 3"
   ],
   "id": "29219adc77a05bda"
  },
  {
   "metadata": {
    "ExecuteTime": {
     "end_time": "2024-12-11T20:58:30.704822Z",
     "start_time": "2024-12-11T20:58:25.921625Z"
    }
   },
   "cell_type": "code",
   "source": [
    "def generate_squares(N):\n",
    "    \"\"\"\n",
    "    Генерирует квадраты чисел от 1 до N с использованием генераторного выражения.\n",
    "\n",
    "    :param N: Число, до которого нужно сгенерировать квадраты чисел.\n",
    "    :return: Генератор квадратов чисел.\n",
    "    \"\"\"\n",
    "    return (x**2 for x in range(1, N + 1))\n",
    "\n",
    "# Ввод пользователя\n",
    "N = int(input(\"Введите число N: \"))\n",
    "\n",
    "# Генерация квадратов и вывод\n",
    "for square in generate_squares(N):\n",
    "    print(square)\n"
   ],
   "id": "587fff845bd16f3b",
   "outputs": [
    {
     "name": "stdout",
     "output_type": "stream",
     "text": [
      "1\n",
      "4\n",
      "9\n",
      "16\n",
      "25\n"
     ]
    }
   ],
   "execution_count": 7
  },
  {
   "metadata": {
    "ExecuteTime": {
     "end_time": "2024-12-11T23:02:04.550189Z",
     "start_time": "2024-12-11T23:02:01.613105Z"
    }
   },
   "cell_type": "code",
   "source": [
    "def gen_func(N):\n",
    "    result = (i**2 for i in range(1, N + 1))\n",
    "    return result \n",
    "N = int(input(\"Input number N: \"))    \n",
    "squares = gen_func(N)\n",
    " print   \n",
    "for elem in squares:\n",
    "    print(elem)\n",
    "    \n",
    "\n",
    " "
   ],
   "id": "c3225ed2a4824b35",
   "outputs": [
    {
     "name": "stdout",
     "output_type": "stream",
     "text": [
      "1\n",
      "4\n",
      "9\n",
      "16\n",
      "25\n",
      "36\n",
      "49\n"
     ]
    }
   ],
   "execution_count": 10
  },
  {
   "metadata": {
    "ExecuteTime": {
     "end_time": "2024-12-13T08:20:13.131336Z",
     "start_time": "2024-12-13T08:20:10.225791Z"
    }
   },
   "cell_type": "code",
   "source": [
    "def gen_fibo():\n",
    "    a, b = 0, 1\n",
    "    while True:\n",
    "        yield a\n",
    "        a, b = b, a + b\n",
    "\n",
    "N = int(input(\"Enter the number of Fibonacci: \"))\n",
    "num_fib = gen_fibo()\n",
    "for i in range(N):\n",
    "    print(next(num_fib), type(num_fib))\n",
    "\n",
    " \n",
    " \n",
    "\n",
    " "
   ],
   "id": "5ee6606768eaed3e",
   "outputs": [
    {
     "name": "stdout",
     "output_type": "stream",
     "text": [
      "0 <class 'generator'>\n",
      "1 <class 'generator'>\n",
      "1 <class 'generator'>\n",
      "2 <class 'generator'>\n",
      "3 <class 'generator'>\n",
      "5 <class 'generator'>\n"
     ]
    }
   ],
   "execution_count": 3
  },
  {
   "metadata": {},
   "cell_type": "code",
   "outputs": [],
   "execution_count": null,
   "source": "",
   "id": "e4e1d1a0793ecc6f"
  }
 ],
 "metadata": {
  "kernelspec": {
   "display_name": "Python 3",
   "language": "python",
   "name": "python3"
  },
  "language_info": {
   "codemirror_mode": {
    "name": "ipython",
    "version": 2
   },
   "file_extension": ".py",
   "mimetype": "text/x-python",
   "name": "python",
   "nbconvert_exporter": "python",
   "pygments_lexer": "ipython2",
   "version": "2.7.6"
  }
 },
 "nbformat": 4,
 "nbformat_minor": 5
}
