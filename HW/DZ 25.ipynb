{
 "cells": [
  {
   "cell_type": "code",
   "id": "initial_id",
   "metadata": {
    "collapsed": true,
    "ExecuteTime": {
     "end_time": "2024-12-18T23:10:26.290792Z",
     "start_time": "2024-12-18T23:10:26.279096Z"
    }
   },
   "source": [
    "# Напишите функцию find_longest_word, которая будет принимать список слов и возвращать\n",
    "# самое длинное слово из списка.\n",
    "# Аннотируйте типы аргументов и возвращаемого значения функции.\n",
    "# Пример вызова функции и ожидаемого вывода:\n",
    "# words = [\"apple\", \"banana\", \"cherry\", \"dragonfruit\"]\n",
    "# result = find_longest_word(words)\n",
    "# print(result) # Ожидаемый вывод: \"dragonfruit\"\n",
    "words = [\"apple\", \"banana\", \"cherry\", \"dragonfruit\"]\n",
    "def find_longest_word(data: list[str]) -> str:\n",
    "    sorted_data = sorted(data, reverse=True)\n",
    "    return sorted_data[0]\n",
    "result = find_longest_word(words)\n",
    "print(result)"
   ],
   "outputs": [
    {
     "name": "stdout",
     "output_type": "stream",
     "text": [
      "dragonfruit\n"
     ]
    }
   ],
   "execution_count": 1
  },
  {
   "metadata": {
    "ExecuteTime": {
     "end_time": "2024-12-18T23:14:13.765213Z",
     "start_time": "2024-12-18T23:14:13.755297Z"
    }
   },
   "cell_type": "code",
   "source": [
    "# a. Напишите программу, которая будет считывать данные о продуктах из файла и\n",
    "# использовать аннотации типов для аргументов и возвращаемых значений функций.\n",
    "# Создайте текстовый файл \"products.txt\", в котором каждая строка будет содержать\n",
    "# информацию о продукте в формате \"название, цена, количество\".\n",
    "# Пример:\n",
    "# Apple, 1.50, 10\n",
    "# Banana, 0.75, 15\n",
    "\n",
    "# b. В программе определите функцию calculate_total_price, которая будет принимать\n",
    "# список продуктов и возвращать общую стоимость.\n",
    "\n",
    "# c. Продумайте, какая аннотация должна быть у аргумента.\n",
    "\n",
    "# d. Считайте данные из файла, разделите строки на составляющие и создайте список\n",
    "# продуктов.\n",
    "\n",
    "# e. Вызовите функцию calculate_total_price с этим списком и выведите результат.\n",
    "\n",
    "\n",
    "\n",
    "\n",
    "\n",
    "\n",
    "def extract_data(filename: str) -> float:\n",
    "    products = []\n",
    "    \n",
    "    try:\n",
    "        with open(filename, 'r', encoding='utf-8') as f:\n",
    "            for row in f.readlines():\n",
    "                products.append(row.strip('\\n').split(','))\n",
    "    except FileNotFoundError as err:\n",
    "        print(f\"Файл {filename} не найден.\")\n",
    "        return err\n",
    "    except IOError as err:\n",
    "        print(f\"Ошибка при чтении файла {filename}.\")\n",
    "        return err \n",
    "\n",
    "    def calculate_total_price(data: list[list[str]]) -> float:\n",
    "        total_price = 0.0\n",
    "        for product in data:\n",
    "            try:\n",
    "                price = float(product[1])\n",
    "                quantity = float(product[2])\n",
    "                total_price += price * quantity\n",
    "            except (ValueError, IndexError) as error:\n",
    "                print(f\"Ошибка при обработке продукта {product}: {error}\")\n",
    "        return total_price\n",
    "\n",
    "    return calculate_total_price(products)\n",
    "\n",
    "filename = 'products.txt'  \n",
    "total = extract_data(filename)\n",
    "print(f\"Общая стоимость продуктов: {total:.2f}\")"
   ],
   "id": "572b6ec080f392ed",
   "outputs": [
    {
     "name": "stdout",
     "output_type": "stream",
     "text": [
      "Общая стоимость продуктов: 161.50\n"
     ]
    }
   ],
   "execution_count": 3
  },
  {
   "metadata": {
    "ExecuteTime": {
     "end_time": "2025-01-05T12:33:16.549153Z",
     "start_time": "2025-01-05T12:33:16.543718Z"
    }
   },
   "cell_type": "code",
   "source": [
    "my_text = [75,111]\n",
    "my_s =''.join(chr(x) for x in my_text)\n",
    "print(my_s)"
   ],
   "id": "e3f06f011629b7c2",
   "outputs": [
    {
     "name": "stdout",
     "output_type": "stream",
     "text": [
      "Ko\n"
     ]
    }
   ],
   "execution_count": 8
  },
  {
   "metadata": {
    "ExecuteTime": {
     "end_time": "2025-01-05T13:05:00.107756Z",
     "start_time": "2025-01-05T13:05:00.097226Z"
    }
   },
   "cell_type": "code",
   "source": [
    "words = [\"apple\", \"banana\", \"cherry\"]\n",
    "filtered_words = [word for word in words if \"n\" not in word]\n",
    "print(filtered_words)\n"
   ],
   "id": "71e93887dc2a9c15",
   "outputs": [
    {
     "name": "stdout",
     "output_type": "stream",
     "text": [
      "['apple', 'cherry']\n"
     ]
    }
   ],
   "execution_count": 11
  },
  {
   "metadata": {
    "ExecuteTime": {
     "end_time": "2025-01-05T13:26:14.291095Z",
     "start_time": "2025-01-05T13:26:14.284370Z"
    }
   },
   "cell_type": "code",
   "source": [
    "text = \"AI\"\n",
    "for i in range(len(text)):\n",
    "    print(f\"Символ на позиции {i}: {text[i]}\")\n"
   ],
   "id": "bfc76f07087743bd",
   "outputs": [
    {
     "name": "stdout",
     "output_type": "stream",
     "text": [
      "Символ на позиции 0: A\n",
      "Символ на позиции 1: I\n"
     ]
    }
   ],
   "execution_count": 18
  },
  {
   "metadata": {
    "ExecuteTime": {
     "end_time": "2025-01-05T15:04:33.642363Z",
     "start_time": "2025-01-05T15:04:33.633596Z"
    }
   },
   "cell_type": "code",
   "source": [
    "text = \"Immutable\"\n",
    "copy_text = text[:]\n",
    " \n",
    "print(id(text) == id(copy_text))  # True, так как строки неизменяемы\n"
   ],
   "id": "6c701ec7933293ce",
   "outputs": [
    {
     "name": "stdout",
     "output_type": "stream",
     "text": [
      "True\n"
     ]
    }
   ],
   "execution_count": 27
  },
  {
   "metadata": {
    "ExecuteTime": {
     "end_time": "2025-01-05T15:31:47.944031Z",
     "start_time": "2025-01-05T15:31:47.937038Z"
    }
   },
   "cell_type": "code",
   "source": [
    "numbers = [2, 3, 6, 8]\n",
    "print(any(num % 2 == 0 for num in numbers))  \n",
    "\n"
   ],
   "id": "56fc126cd587b81f",
   "outputs": [
    {
     "name": "stdout",
     "output_type": "stream",
     "text": [
      "True\n"
     ]
    }
   ],
   "execution_count": 32
  }
 ],
 "metadata": {
  "kernelspec": {
   "display_name": "Python 3",
   "language": "python",
   "name": "python3"
  },
  "language_info": {
   "codemirror_mode": {
    "name": "ipython",
    "version": 2
   },
   "file_extension": ".py",
   "mimetype": "text/x-python",
   "name": "python",
   "nbconvert_exporter": "python",
   "pygments_lexer": "ipython2",
   "version": "2.7.6"
  }
 },
 "nbformat": 4,
 "nbformat_minor": 5
}
