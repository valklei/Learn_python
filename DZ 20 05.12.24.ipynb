{
 "cells": [
  {
   "cell_type": "code",
   "id": "initial_id",
   "metadata": {
    "collapsed": true,
    "ExecuteTime": {
     "end_time": "2024-12-05T19:35:32.655569Z",
     "start_time": "2024-12-05T19:35:32.648797Z"
    }
   },
   "source": [
    "stuff = {7: 'ааа', 2: 'ббб', 4: 'ввв'} \n",
    "print(stuff[7])"
   ],
   "outputs": [
    {
     "name": "stdout",
     "output_type": "stream",
     "text": [
      "ааа\n"
     ]
    }
   ],
   "execution_count": 2
  },
  {
   "metadata": {},
   "cell_type": "code",
   "outputs": [],
   "execution_count": null,
   "source": "#Для данных в формате фамилия-имя-год рождения-курс-количество баллов реализовать функцию, которой на вход будет приходить поле по которому надо искать и значение, которое надо найти. Если есть, то вернуть все подходящие записи, если нет – вывести сообщение об ошибке. ",
   "id": "5c41adbf51ecb54e"
  },
  {
   "metadata": {
    "ExecuteTime": {
     "end_time": "2024-12-08T17:54:58.659869Z",
     "start_time": "2024-12-08T17:54:58.593754Z"
    }
   },
   "cell_type": "code",
   "source": [
    "#1. Напишите функцию merge_dicts, которая принимает произвольное количество словарей в качестве аргументов и возвращает новый словарь, объединяющий все входные словари. Если ключи повторяются, значения должны быть объединены в список. Функция должна использовать аргумент **kwargs для принятия произвольного числа аргументов словаря.\n",
    "\n",
    "\n",
    "# Пример ввода:\n",
    "\n",
    "my_first = {'a': 1, 'b': 2}\n",
    "my_second = {'b': 3, 'c': 4}\n",
    "my_third = {'c': 5, 'd': 6}\n",
    "\n",
    "def merge_dicts(**kwargs):\n",
    "    merged_dict = {}\n",
    "    for dict_ in kwargs.values():\n",
    "        for key, value in dict_.items():\n",
    "            if key in merged_dict:\n",
    "                if isinstance(merged_dict[key], list):\n",
    "                    merged_dict[key].append(value)\n",
    "                else:\n",
    "                    merged_dict[key] = [merged_dict[key], value]\n",
    "            else:\n",
    "                merged_dict[key] = value\n",
    "\n",
    "    return merged_dict\n",
    "print(merge_dicts(dict1=my_first, dict2=my_second, dict3=my_third))\n",
    "\n",
    "#Пример вывода:\n",
    "\n",
    "\n",
    "#{'a': [1], 'b': [2, 3], 'c': [4, 5], 'd': ["
   ],
   "id": "10e57a31b5857d3e",
   "outputs": [
    {
     "name": "stdout",
     "output_type": "stream",
     "text": [
      "{'a': 1, 'b': [2, 3], 'c': [4, 5], 'd': 6}\n"
     ]
    }
   ],
   "execution_count": 15
  },
  {
   "metadata": {
    "ExecuteTime": {
     "end_time": "2024-12-08T18:02:38.749177Z",
     "start_time": "2024-12-08T18:02:24.990424Z"
    }
   },
   "cell_type": "code",
   "source": [
    "def str_unique(user_str):\n",
    "    user_str = user_str.lower().replace(\" \", \"\")\n",
    "    unique_ch = set(user_str)\n",
    "    return len(unique_ch)\n",
    "user_input = input(\"Insert string: \")\n",
    "unique_cnt = str_unique(user_input)\n",
    "print(f\"Number of unique characters: {unique_cnt}\")"
   ],
   "id": "be307da8795e2d98",
   "outputs": [
    {
     "name": "stdout",
     "output_type": "stream",
     "text": [
      "Number of unique characters: 8\n"
     ]
    }
   ],
   "execution_count": 17
  },
  {
   "metadata": {
    "ExecuteTime": {
     "end_time": "2024-12-08T18:23:35.685299Z",
     "start_time": "2024-12-08T18:23:35.667741Z"
    }
   },
   "cell_type": "code",
   "source": [
    "grades = {\n",
    "\n",
    "    'Alice': [85, 90, 92],\n",
    "\n",
    "    'Bob': [78, 80, 84],\n",
    "\n",
    "    'Carol': [92, 88, 95]\n",
    "\n",
    "}\n",
    "\n",
    "def  calculate_average_grade(us_dict):\n",
    "    new_grades = {}\n",
    "     \n",
    "    for key in us_dict:\n",
    "        cnt_grade = 0\n",
    "        for cnt in us_dict[key]:\n",
    "            cnt_grade += cnt\n",
    "        new_grades[key] = cnt_grade / len(us_dict[key])\n",
    "    return(new_grades)\n",
    "\n",
    "print(calculate_average_grade(grades))"
   ],
   "id": "9a989adad6917090",
   "outputs": [
    {
     "name": "stdout",
     "output_type": "stream",
     "text": [
      "{'Alice': 89.0, 'Bob': 80.66666666666667, 'Carol': 91.66666666666667}\n"
     ]
    }
   ],
   "execution_count": 19
  },
  {
   "metadata": {
    "ExecuteTime": {
     "end_time": "2024-12-08T19:32:56.360840Z",
     "start_time": "2024-12-08T19:32:39.057723Z"
    }
   },
   "cell_type": "code",
   "source": [
    "from collections import Counter\n",
    "us_str = input(\"Insert string: \")\n",
    "format_list = us_str.lower().split()\n",
    "def  count_words(temp_list):\n",
    "    us_dict = dict(Counter(temp_list))\n",
    "    return us_dict\n",
    "a = count_words(format_list)\n",
    "max_us = sorted(a.items(), key=lambda item: item[1], reverse=True)\n",
    "\n",
    "print(max_us[0], a)"
   ],
   "id": "485b7fba3f410d21",
   "outputs": [
    {
     "name": "stdout",
     "output_type": "stream",
     "text": [
      "('one', 3) {'one': 3, 'two': 1, 'tt': 1}\n"
     ]
    }
   ],
   "execution_count": 30
  },
  {
   "metadata": {
    "ExecuteTime": {
     "end_time": "2024-12-08T19:52:54.715638Z",
     "start_time": "2024-12-08T19:52:54.693166Z"
    }
   },
   "cell_type": "code",
   "source": [
    "from collections import namedtuple\n",
    "\n",
    "Person = namedtuple('Person', ['name', 'age', 'city'])\n",
    " \n",
    "people = [\n",
    "    Person(name=\"Alice\", age=25, city=\"New York\"),\n",
    "    Person(name=\"Bob\", age=30, city=\"London\"),\n",
    "    Person(name=\"Carol\", age=35, city=\"Paris\")\n",
    "]\n",
    "\n",
    "for person in people:\n",
    "    print(f\"Имя: {person.name}, Возраст: {person.age}, Город: {person.city}\")"
   ],
   "id": "c7d250ae81729bd8",
   "outputs": [
    {
     "name": "stdout",
     "output_type": "stream",
     "text": [
      "Имя: Alice, Возраст: 25, Город: New York\n",
      "Имя: Bob, Возраст: 30, Город: London\n",
      "Имя: Carol, Возраст: 35, Город: Paris\n"
     ]
    }
   ],
   "execution_count": 33
  },
  {
   "metadata": {
    "ExecuteTime": {
     "end_time": "2024-12-08T20:30:17.415542Z",
     "start_time": "2024-12-08T20:30:07.302001Z"
    }
   },
   "cell_type": "code",
   "source": [
    "my_dict = {'apple': 5, 'banana': 6, 'cherry': 7}\n",
    "my_key = input('Insert key: ')\n",
    "def get_value_from_dict(user_dict, key):\n",
    "   a = input('Использовать метод get (y/n)?: ')\n",
    "   if a == 'y':\n",
    "       return user_dict.get(key)\n",
    "   else: \n",
    "       return user_dict.setdefault(key)\n",
    "print(get_value_from_dict(my_dict, my_key))"
   ],
   "id": "acd4d9984fa8789e",
   "outputs": [
    {
     "name": "stdout",
     "output_type": "stream",
     "text": [
      "5\n"
     ]
    }
   ],
   "execution_count": 38
  },
  {
   "metadata": {
    "ExecuteTime": {
     "end_time": "2024-12-05T22:01:51.771945Z",
     "start_time": "2024-12-05T22:01:50.603094Z"
    }
   },
   "cell_type": "code",
   "source": [
    "from collections import defaultdict\n",
    "\n",
    "def tank_group(f_list):\n",
    "    fishes = defaultdict(list)\n",
    "    for fish in f_list:\n",
    "        fishes[fish[-1]].append(fish[:-1])\n",
    "    return fishes\n",
    "for fish in tank_group(fish_inventory).items():\n",
    "    print(fish)"
   ],
   "id": "84b48b02d06c0ef9",
   "outputs": [
    {
     "ename": "NameError",
     "evalue": "name 'fish_inventory' is not defined",
     "output_type": "error",
     "traceback": [
      "\u001B[1;31m---------------------------------------------------------------------------\u001B[0m",
      "\u001B[1;31mNameError\u001B[0m                                 Traceback (most recent call last)",
      "Cell \u001B[1;32mIn[3], line 8\u001B[0m\n\u001B[0;32m      6\u001B[0m         fishes[fish[\u001B[38;5;241m-\u001B[39m\u001B[38;5;241m1\u001B[39m]]\u001B[38;5;241m.\u001B[39mappend(fish[:\u001B[38;5;241m-\u001B[39m\u001B[38;5;241m1\u001B[39m])\n\u001B[0;32m      7\u001B[0m     \u001B[38;5;28;01mreturn\u001B[39;00m fishes\n\u001B[1;32m----> 8\u001B[0m \u001B[38;5;28;01mfor\u001B[39;00m fish \u001B[38;5;129;01min\u001B[39;00m tank_group(\u001B[43mfish_inventory\u001B[49m)\u001B[38;5;241m.\u001B[39mitems():\n\u001B[0;32m      9\u001B[0m     \u001B[38;5;28mprint\u001B[39m(fish)\n",
      "\u001B[1;31mNameError\u001B[0m: name 'fish_inventory' is not defined"
     ]
    }
   ],
   "execution_count": 3
  },
  {
   "metadata": {},
   "cell_type": "code",
   "outputs": [],
   "execution_count": null,
   "source": [
    "# есть JSON-строка, содержащая список пользователей социальной сети с их именами\n",
    "# и городами проживания. Необходимо написать функцию, которая десериализует эту\n",
    "# строку в Python-объекты, подсчитывает количество пользователей из каждого города\n",
    "# и сериализует результат обратно в JSON-строку.\n",
    "json_data = '''\n",
    "[\n",
    "{\"name\": \"Anna\", \"city\": \"Washington\"},\n",
    "{\"name\": \"Ivan\", \"city\": \"Colorado\"},\n",
    "{\"name\": \"Maria\", \"city\": \"Paris\"},\n",
    "{\"name\": \"Dmitry\", \"city\": \"Yafo\"},\n",
    "{\"name\": \"Alexey\", \"city\": \"Ako\"},\n",
    "{\"name\": \"Ksenia\", \"city\": \"Colorado\"},\n",
    "{\"name\": \"Diana\", \"city\": \"Yafo\"},\n",
    "{\"name\": \"Leonid\", \"city\": \"Paris\"}\n",
    "]\n",
    "'''"
   ],
   "id": "b88f8b3b01aa"
  },
  {
   "metadata": {
    "ExecuteTime": {
     "end_time": "2024-12-06T08:42:31.659680Z",
     "start_time": "2024-12-06T08:42:31.626548Z"
    }
   },
   "cell_type": "code",
   "source": "import json\n",
   "id": "f5518759ed2cfceb",
   "outputs": [],
   "execution_count": 4
  },
  {
   "metadata": {},
   "cell_type": "code",
   "outputs": [],
   "execution_count": null,
   "source": "",
   "id": "b41e700ab5f8afc5"
  },
  {
   "metadata": {
    "ExecuteTime": {
     "end_time": "2024-12-06T09:12:16.803155Z",
     "start_time": "2024-12-06T09:12:16.691659Z"
    }
   },
   "cell_type": "code",
   "source": [
    " \n",
    "# предоставлен список транзакций в формате JSON, где каждая транзакция может содержать\n",
    "# поле \"amount\". Напишите функцию, которая десериализует данные\n",
    "# для подсчета количества транзакций по каждой сумме, и обрабатывает возможные исключения\n",
    "# при отсутствии поля \"amount\" в транзакции\n",
    "json_transactions = '''\n",
    "[\n",
    "{\"id\": 1, \"amount\": 100},\n",
    "{\"id\": 2, \"amount\": 200},\n",
    "{\"id\": 3},\n",
    "{\"id\": 4, \"amount\": 123},\n",
    "{\"id\": 5, \"amount\": 523},\n",
    "{\"id\": 6, \"amount\": 1500},\n",
    "{\"id\": 7},\n",
    "{\"id\": 8, \"amount\": 4232},\n",
    "{\"id\": 9},\n",
    "{\"id\": 10, \"amount\": 700}\n",
    "]\n",
    "'''\n",
    "\n",
    "json_data = '''\n",
    "[\n",
    "{\"name\": \"Anna\", \"city\": \"Washington\"},\n",
    "{\"name\": \"Ivan\", \"city\": \"Colorado\"},\n",
    "{\"name\": \"Maria\", \"city\": \"Paris\"},\n",
    "{\"name\": \"Dmitry\", \"city\": \"Yafo\"},\n",
    "{\"name\": \"Alexey\", \"city\": \"Ako\"},\n",
    "{\"name\": \"Ksenia\", \"city\": \"Colorado\"},\n",
    "{\"name\": \"Diana\", \"city\": \"Yafo\"},\n",
    "{\"name\": \"Leonid\", \"city\": \"Paris\"}\n",
    "]\n",
    " import json\n",
    "def count_cities(data):\n",
    "  try:\n",
    "    users = json.loads(data)\n",
    "  except json.JSONDecodeError as err: \n",
    "    raise ValueError(f\"Ошибка десериализации JSON: {err}\")\n",
    "  cities = {}\n",
    "  for user in users:\n",
    "    if user.get(\"city\") in cities:\n",
    "      cities[user.get(\"city\")] += 1\n",
    "    else:\n",
    "      cities[user.get(\"city\")] = 1\n",
    "  return json.dumps(cities, indent=4)\n",
    "print(count_cities(json_data))"
   ],
   "id": "3ecf81ad10d94617",
   "outputs": [
    {
     "ename": "IndentationError",
     "evalue": "unexpected indent (2416435655.py, line 20)",
     "output_type": "error",
     "traceback": [
      "\u001B[1;36m  Cell \u001B[1;32mIn[5], line 20\u001B[1;36m\u001B[0m\n\u001B[1;33m    import json\u001B[0m\n\u001B[1;37m    ^\u001B[0m\n\u001B[1;31mIndentationError\u001B[0m\u001B[1;31m:\u001B[0m unexpected indent\n"
     ]
    }
   ],
   "execution_count": 5
  },
  {
   "metadata": {
    "ExecuteTime": {
     "end_time": "2024-12-06T09:23:25.013069Z",
     "start_time": "2024-12-06T09:23:24.997691Z"
    }
   },
   "cell_type": "code",
   "source": [
    "json_data = '''\n",
    "[\n",
    "{\"name\": \"Anna\", \"city\": \"Washington\"},\n",
    "{\"name\": \"Ivan\", \"city\": \"Colorado\"},\n",
    "{\"name\": \"Maria\", \"city\": \"Paris\"},\n",
    "{\"name\": \"Dmitry\", \"city\": \"Yafo\"},\n",
    "{\"name\": \"Alexey\", \"city\": \"Ako\"},\n",
    "{\"name\": \"Ksenia\", \"city\": \"Colorado\"},\n",
    "{\"name\": \"Diana\", \"city\": \"Yafo\"},\n",
    "{\"name\": \"Leonid\", \"city\": \"Paris\"}\n",
    "]\n",
    "'''\n",
    "\n",
    "import json\n",
    "def count_cities(data):\n",
    "  try:\n",
    "    users = json.loads(data)\n",
    "  except json.JSONDecodeError as err: \n",
    "    raise ValueError(f\"Ошибка десериализации JSON: {err}\")\n",
    "  cities = {}\n",
    "  for user in users:\n",
    "    if user.get(\"city\") in cities:\n",
    "      cities[user.get(\"city\")] += 1\n",
    "    else:\n",
    "      cities[user.get(\"city\")] = 1\n",
    "  return json.dumps(cities, indent=4)\n",
    "print(count_cities(json_data))\n",
    "result = count_cities(json_data)\n",
    "print(type(result))"
   ],
   "id": "3e3a0e81955eb462",
   "outputs": [
    {
     "name": "stdout",
     "output_type": "stream",
     "text": [
      "{\n",
      "    \"Washington\": 1,\n",
      "    \"Colorado\": 2,\n",
      "    \"Paris\": 2,\n",
      "    \"Yafo\": 2,\n",
      "    \"Ako\": 1\n",
      "}\n",
      "<class 'str'>\n"
     ]
    }
   ],
   "execution_count": 9
  },
  {
   "metadata": {},
   "cell_type": "code",
   "outputs": [],
   "execution_count": null,
   "source": [
    "json_transactions = '''\n",
    "[\n",
    "{\"id\": 1, \"amount\": 100},\n",
    "{\"id\": 2, \"amount\": 200},\n",
    "{\"id\": 3},\n",
    "{\"id\": 4, \"amount\": 123},\n",
    "{\"id\": 5, \"amount\": 523},\n",
    "{\"id\": 6, \"amount\": 1500},\n",
    "{\"id\": 7},\n",
    "{\"id\": 8, \"amount\": 4232},\n",
    "{\"id\": 9},\n",
    "{\"id\": 10, \"amount\": 700}\n",
    "]\n",
    "'''\n",
    "# предоставлен список транзакций в формате JSON, где каждая транзакция может содержать\n",
    "# поле \"amount\". Напишите функцию, которая десериализует данные\n",
    "# для подсчета количества транзакций по каждой сумме, и обрабатывает возможные исключения\n",
    "# при отсутствии поля \"amount\" в транзакции"
   ],
   "id": "951929daee221c30"
  },
  {
   "metadata": {},
   "cell_type": "code",
   "outputs": [],
   "execution_count": null,
   "source": [
    "json_transactions = '''\n",
    "'''\n",
    "import json\n",
    "def deserialize(json_data: json):\n",
    "  try: \n",
    "    result = json.loads(json_data)\n",
    "  except json.JSONDecodeError as err:\n",
    "    raise ValueError(f\"Ошибка JSONDecodeError! {err}\")\n",
    "  return result\n",
    "def serialize(python_data, par_indent = 4):\n",
    "  try: \n",
    "    result = json.dumps(python_data, indent = par_indent)\n",
    "  except Exception as err:\n",
    "    raise ValueError(f\"Ошибка! {err}\")\n",
    "  return result\n",
    "try:\n",
    "  transactions = deserialize(json_transactions)\n",
    "  amounts = {}\n",
    "  for amount in transactions:\n",
    "    try:\n",
    "      temp = amount[\"amount\"]\n",
    "      if temp in amounts:\n",
    "        amounts[temp] += 1\n",
    "      else:       \n",
    "          amounts[temp] = 1\n",
    "    except KeyError as err:\n",
    "      print(f\"Ошибка KeyError! {err}\")\n",
    "  \n",
    "    # if amount.get(\"amount\") in amounts:\n",
    "    #   amounts[amount.get(\"amount\")] += 1\n",
    "    # else:\n",
    "    #   if amount.get(\"amount\") is not None:\n",
    "    #     amounts[amount.get(\"amount\")] = 1\n",
    "  print(serialize(amounts))\n",
    "except Exception as err:\n",
    "  print(err)"
   ],
   "id": "7eb9bda2f04dea40"
  },
  {
   "metadata": {},
   "cell_type": "code",
   "outputs": [],
   "execution_count": null,
   "source": [
    "son_users = '''\n",
    "[\n",
    "{\"name\": \"Elena\", \"age\": 28, \"friends\": [\"Ivan\", \"Maria\"]},\n",
    "{\"name\": \"Ivan\", \"age\": 34, \"friends\": [\"Elena\"]},\n",
    "{\"name\": \"Julia\", \"friends\": [\"Elena\"]},\n",
    "{\"name\": \"Alexey\", \"age\": 40},\n",
    "{\"name\": \"Maria\", \"age\": 24, \"friends\": [\"Elena\", \"Ivan\", \"Julia\"]},\n",
    "{\"name\": \"Dmitry\", \"age\": 21, \"friends\": [\"Elena\", \"Ivan\", \"Julia\", \"Alexey\"]},\n",
    "{\"name\": \"Margaret\", \"age\": 32, \"friends\": [\"Julia\", \"Alexey\"]},\n",
    "{\"name\": \"Yana\", \"age\": 33, \"friends\": [\"Elena\", \"Julia\", \"Margaret\"]},\n",
    "{\"name\": \"John\", \"age\": 19, \"friends\": [\"Elena\", \"Ivan\", \"Julia\", \"Dmitry\"]}\n",
    "]\n",
    "'''\n",
    "# Работаем над анализом данных социальной сети. Необходимо написать программу, которая:\n",
    "# \n",
    "# Считывает JSON-строку с данными пользователей (имя, возраст, список друзей).\n",
    "# Десериализует данные.\n",
    "# Использует несколько функций для анализа данных:\n",
    "# Одна функция подсчитывает средний возраст пользователей.\n",
    "# Другая строит словарь, где ключ — имя пользователя, а значение — количество друзей.\n",
    "# Обрабатывает возможные исключения при отсутствии полей в данных\n",
    "# В конце сериализует результаты анализа обратно в JSON.\n"
   ],
   "id": "85225742d12096d1"
  }
 ],
 "metadata": {
  "kernelspec": {
   "display_name": "Python 3",
   "language": "python",
   "name": "python3"
  },
  "language_info": {
   "codemirror_mode": {
    "name": "ipython",
    "version": 2
   },
   "file_extension": ".py",
   "mimetype": "text/x-python",
   "name": "python",
   "nbconvert_exporter": "python",
   "pygments_lexer": "ipython2",
   "version": "2.7.6"
  }
 },
 "nbformat": 4,
 "nbformat_minor": 5
}
