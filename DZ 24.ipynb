{
 "cells": [
  {
   "cell_type": "code",
   "execution_count": null,
   "id": "initial_id",
   "metadata": {
    "collapsed": true
   },
   "outputs": [],
   "source": "1. Напишите генератор, который будет принимать на вход числа и возвращать их сумму. Генератор должен использовать инструкцию yield для возврата текущей суммы и должен продолжать принимать новые числа для добавления к сумме. Если генератор получает на вход число 0, он должен прекращать работу и вернуть окончательную сумму. Напишите программу, которая будет использовать этот генератор для пошагового расчета суммы чисел, вводимых пользователем.\n"
  },
  {
   "metadata": {
    "ExecuteTime": {
     "end_time": "2024-12-12T22:51:36.555982Z",
     "start_time": "2024-12-12T22:51:33.814812Z"
    }
   },
   "cell_type": "code",
   "source": [
    " \n",
    "def sum_counter():\n",
    "    counter = int(input('Введите числа для суммирования (0 для окончания): ' ))\n",
    "    print('counter: ', counter)\n",
    "     \n",
    "    #try:\n",
    "     \n",
    "    yield counter\n",
    "    print('sum: ', counter)\n",
    "    counter += b\n",
    "    print('Sum = ', b)\n",
    "    #except GeneratorExit:\n",
    "        #print(\"Generator was closed by 'close()' method\")\n",
    "    #except ValueError as e:\n",
    "        #print(f\"The Exception was catched: [{e}], end work.\")\n",
    "     \n",
    "gen = sum_counter()       \n",
    "for i in gen:\n",
    "    print('i',i)\n",
    "     \n",
    "     "
   ],
   "id": "a94b6c68362631a2",
   "outputs": [
    {
     "name": "stdout",
     "output_type": "stream",
     "text": [
      "counter:  4\n",
      "i 4\n",
      "b:  None\n"
     ]
    },
    {
     "ename": "TypeError",
     "evalue": "unsupported operand type(s) for +=: 'int' and 'NoneType'",
     "output_type": "error",
     "traceback": [
      "\u001B[1;31m---------------------------------------------------------------------------\u001B[0m",
      "\u001B[1;31mTypeError\u001B[0m                                 Traceback (most recent call last)",
      "Cell \u001B[1;32mIn[25], line 17\u001B[0m\n\u001B[0;32m     11\u001B[0m     \u001B[38;5;66;03m#except GeneratorExit:\u001B[39;00m\n\u001B[0;32m     12\u001B[0m         \u001B[38;5;66;03m#print(\"Generator was closed by 'close()' method\")\u001B[39;00m\n\u001B[0;32m     13\u001B[0m     \u001B[38;5;66;03m#except ValueError as e:\u001B[39;00m\n\u001B[0;32m     14\u001B[0m         \u001B[38;5;66;03m#print(f\"The Exception was catched: [{e}], end work.\")\u001B[39;00m\n\u001B[0;32m     16\u001B[0m gen \u001B[38;5;241m=\u001B[39m sum_counter()       \n\u001B[1;32m---> 17\u001B[0m \u001B[38;5;28;43;01mfor\u001B[39;49;00m\u001B[43m \u001B[49m\u001B[43mi\u001B[49m\u001B[43m \u001B[49m\u001B[38;5;129;43;01min\u001B[39;49;00m\u001B[43m \u001B[49m\u001B[43mgen\u001B[49m\u001B[43m:\u001B[49m\n\u001B[0;32m     18\u001B[0m \u001B[43m    \u001B[49m\u001B[38;5;28;43mprint\u001B[39;49m\u001B[43m(\u001B[49m\u001B[38;5;124;43m'\u001B[39;49m\u001B[38;5;124;43mi\u001B[39;49m\u001B[38;5;124;43m'\u001B[39;49m\u001B[43m,\u001B[49m\u001B[43mi\u001B[49m\u001B[43m)\u001B[49m\n",
      "Cell \u001B[1;32mIn[25], line 9\u001B[0m, in \u001B[0;36msum_counter\u001B[1;34m()\u001B[0m\n\u001B[0;32m      7\u001B[0m b \u001B[38;5;241m=\u001B[39m \u001B[38;5;28;01myield\u001B[39;00m counter\n\u001B[0;32m      8\u001B[0m \u001B[38;5;28mprint\u001B[39m(\u001B[38;5;124m'\u001B[39m\u001B[38;5;124mb: \u001B[39m\u001B[38;5;124m'\u001B[39m, b)\n\u001B[1;32m----> 9\u001B[0m \u001B[43mcounter\u001B[49m\u001B[43m \u001B[49m\u001B[38;5;241;43m+\u001B[39;49m\u001B[38;5;241;43m=\u001B[39;49m\u001B[43m \u001B[49m\u001B[43mb\u001B[49m\n\u001B[0;32m     10\u001B[0m \u001B[38;5;28mprint\u001B[39m(\u001B[38;5;124m'\u001B[39m\u001B[38;5;124mSum = \u001B[39m\u001B[38;5;124m'\u001B[39m, b)\n",
      "\u001B[1;31mTypeError\u001B[0m: unsupported operand type(s) for +=: 'int' and 'NoneType'"
     ]
    }
   ],
   "execution_count": 25
  },
  {
   "metadata": {
    "ExecuteTime": {
     "end_time": "2024-12-12T23:42:59.789919Z",
     "start_time": "2024-12-12T23:42:52.536255Z"
    }
   },
   "cell_type": "code",
   "source": [
    "def dynamic_step_iterator(s):\n",
    "    \n",
    "    current = s\n",
    "\n",
    "    while True:\n",
    "        incoming = yield current\n",
    "        print(current)\n",
    "        if incoming is not None:\n",
    "               \n",
    "           current += incoming\n",
    "           \n",
    "\n",
    "#my_iter = dynamic_step_iterator()\n",
    "for i in my_iter:\n",
    "    a = int(input('Введите число: ')) \n",
    "    my_iter = dynamic_step_iterator(a)\n",
    "     \n",
    "     \n",
    " "
   ],
   "id": "39706afb84d3a36",
   "outputs": [
    {
     "ename": "KeyboardInterrupt",
     "evalue": "Interrupted by user",
     "output_type": "error",
     "traceback": [
      "\u001B[1;31m---------------------------------------------------------------------------\u001B[0m",
      "\u001B[1;31mKeyboardInterrupt\u001B[0m                         Traceback (most recent call last)",
      "Cell \u001B[1;32mIn[34], line 15\u001B[0m\n\u001B[0;32m     13\u001B[0m \u001B[38;5;66;03m#my_iter = dynamic_step_iterator()\u001B[39;00m\n\u001B[0;32m     14\u001B[0m \u001B[38;5;28;01mfor\u001B[39;00m i \u001B[38;5;129;01min\u001B[39;00m my_iter:\n\u001B[1;32m---> 15\u001B[0m     a \u001B[38;5;241m=\u001B[39m \u001B[38;5;28mint\u001B[39m(\u001B[38;5;28;43minput\u001B[39;49m\u001B[43m(\u001B[49m\u001B[38;5;124;43m'\u001B[39;49m\u001B[38;5;124;43mВведите число: \u001B[39;49m\u001B[38;5;124;43m'\u001B[39;49m\u001B[43m)\u001B[49m) \n\u001B[0;32m     16\u001B[0m     my_iter \u001B[38;5;241m=\u001B[39m dynamic_step_iterator(a)\n",
      "File \u001B[1;32m~\\AppData\\Local\\Programs\\Python\\Python312\\Lib\\site-packages\\ipykernel\\kernelbase.py:1282\u001B[0m, in \u001B[0;36mKernel.raw_input\u001B[1;34m(self, prompt)\u001B[0m\n\u001B[0;32m   1280\u001B[0m     msg \u001B[38;5;241m=\u001B[39m \u001B[38;5;124m\"\u001B[39m\u001B[38;5;124mraw_input was called, but this frontend does not support input requests.\u001B[39m\u001B[38;5;124m\"\u001B[39m\n\u001B[0;32m   1281\u001B[0m     \u001B[38;5;28;01mraise\u001B[39;00m StdinNotImplementedError(msg)\n\u001B[1;32m-> 1282\u001B[0m \u001B[38;5;28;01mreturn\u001B[39;00m \u001B[38;5;28;43mself\u001B[39;49m\u001B[38;5;241;43m.\u001B[39;49m\u001B[43m_input_request\u001B[49m\u001B[43m(\u001B[49m\n\u001B[0;32m   1283\u001B[0m \u001B[43m    \u001B[49m\u001B[38;5;28;43mstr\u001B[39;49m\u001B[43m(\u001B[49m\u001B[43mprompt\u001B[49m\u001B[43m)\u001B[49m\u001B[43m,\u001B[49m\n\u001B[0;32m   1284\u001B[0m \u001B[43m    \u001B[49m\u001B[38;5;28;43mself\u001B[39;49m\u001B[38;5;241;43m.\u001B[39;49m\u001B[43m_parent_ident\u001B[49m\u001B[43m[\u001B[49m\u001B[38;5;124;43m\"\u001B[39;49m\u001B[38;5;124;43mshell\u001B[39;49m\u001B[38;5;124;43m\"\u001B[39;49m\u001B[43m]\u001B[49m\u001B[43m,\u001B[49m\n\u001B[0;32m   1285\u001B[0m \u001B[43m    \u001B[49m\u001B[38;5;28;43mself\u001B[39;49m\u001B[38;5;241;43m.\u001B[39;49m\u001B[43mget_parent\u001B[49m\u001B[43m(\u001B[49m\u001B[38;5;124;43m\"\u001B[39;49m\u001B[38;5;124;43mshell\u001B[39;49m\u001B[38;5;124;43m\"\u001B[39;49m\u001B[43m)\u001B[49m\u001B[43m,\u001B[49m\n\u001B[0;32m   1286\u001B[0m \u001B[43m    \u001B[49m\u001B[43mpassword\u001B[49m\u001B[38;5;241;43m=\u001B[39;49m\u001B[38;5;28;43;01mFalse\u001B[39;49;00m\u001B[43m,\u001B[49m\n\u001B[0;32m   1287\u001B[0m \u001B[43m\u001B[49m\u001B[43m)\u001B[49m\n",
      "File \u001B[1;32m~\\AppData\\Local\\Programs\\Python\\Python312\\Lib\\site-packages\\ipykernel\\kernelbase.py:1325\u001B[0m, in \u001B[0;36mKernel._input_request\u001B[1;34m(self, prompt, ident, parent, password)\u001B[0m\n\u001B[0;32m   1322\u001B[0m \u001B[38;5;28;01mexcept\u001B[39;00m \u001B[38;5;167;01mKeyboardInterrupt\u001B[39;00m:\n\u001B[0;32m   1323\u001B[0m     \u001B[38;5;66;03m# re-raise KeyboardInterrupt, to truncate traceback\u001B[39;00m\n\u001B[0;32m   1324\u001B[0m     msg \u001B[38;5;241m=\u001B[39m \u001B[38;5;124m\"\u001B[39m\u001B[38;5;124mInterrupted by user\u001B[39m\u001B[38;5;124m\"\u001B[39m\n\u001B[1;32m-> 1325\u001B[0m     \u001B[38;5;28;01mraise\u001B[39;00m \u001B[38;5;167;01mKeyboardInterrupt\u001B[39;00m(msg) \u001B[38;5;28;01mfrom\u001B[39;00m \u001B[38;5;28;01mNone\u001B[39;00m\n\u001B[0;32m   1326\u001B[0m \u001B[38;5;28;01mexcept\u001B[39;00m \u001B[38;5;167;01mException\u001B[39;00m:\n\u001B[0;32m   1327\u001B[0m     \u001B[38;5;28mself\u001B[39m\u001B[38;5;241m.\u001B[39mlog\u001B[38;5;241m.\u001B[39mwarning(\u001B[38;5;124m\"\u001B[39m\u001B[38;5;124mInvalid Message:\u001B[39m\u001B[38;5;124m\"\u001B[39m, exc_info\u001B[38;5;241m=\u001B[39m\u001B[38;5;28;01mTrue\u001B[39;00m)\n",
      "\u001B[1;31mKeyboardInterrupt\u001B[0m: Interrupted by user"
     ]
    }
   ],
   "execution_count": 34
  },
  {
   "metadata": {},
   "cell_type": "code",
   "outputs": [],
   "execution_count": null,
   "source": [
    "def sum_generator():\n",
    "total = 0\n",
    "while True:\n",
    "number = yield total\n",
    "if number == 0:\n",
    "break\n",
    "total += number\n",
    "yield total\n",
    "\n",
    "# Программа для использования генератора\n",
    "print(\"Введите числа для суммирования (0 для окончания):\")\n",
    "gen = sum_generator()\n",
    "next(gen) # Инициализация генератора\n",
    "\n",
    "while True:\n",
    "try:\n",
    "user_input = input(\"Введите число: \")\n",
    "if user_input == \"\":\n",
    "print(\"Вы не ввели число. Пожалуйста, попробуйте еще раз.\")\n",
    "continue\n",
    "number = int(user_input)\n",
    "current_sum = gen.send(number)\n",
    "print(f\"Текущая сумма: {current_sum}\")\n",
    "if number == 0:\n",
    "final_sum = next(gen)\n",
    "print(f\"Окончательная сумма: {final_sum}\")\n",
    "break\n",
    "except ValueError:\n",
    "print(\"Вы ввели не число. Пожалуйста, попробуйте еще раз.\")\n",
    "except StopIteration:\n",
    "break"
   ],
   "id": "bb17cd664daa9d33"
  }
 ],
 "metadata": {
  "kernelspec": {
   "display_name": "Python 3",
   "language": "python",
   "name": "python3"
  },
  "language_info": {
   "codemirror_mode": {
    "name": "ipython",
    "version": 2
   },
   "file_extension": ".py",
   "mimetype": "text/x-python",
   "name": "python",
   "nbconvert_exporter": "python",
   "pygments_lexer": "ipython2",
   "version": "2.7.6"
  }
 },
 "nbformat": 4,
 "nbformat_minor": 5
}
