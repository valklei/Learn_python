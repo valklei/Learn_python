{
 "cells": [
  {
   "cell_type": "code",
   "id": "initial_id",
   "metadata": {
    "collapsed": true,
    "ExecuteTime": {
     "end_time": "2025-01-16T08:20:36.698205Z",
     "start_time": "2025-01-16T08:20:36.687429Z"
    }
   },
   "source": [
    "class User:\n",
    "    def __init__(self, name=None):\n",
    "        self.name = name if name else 'ANONYM'\n",
    "\n",
    "    def greet(self):\n",
    "        return f\"Greetings, {self.name}\"\n",
    "\n",
    "\n",
    "david = User()\n",
    "print(david.greet())"
   ],
   "outputs": [
    {
     "name": "stdout",
     "output_type": "stream",
     "text": [
      "Greetings, ANONYM\n"
     ]
    }
   ],
   "execution_count": 1
  },
  {
   "metadata": {},
   "cell_type": "code",
   "outputs": [],
   "execution_count": null,
   "source": [
    "class MyClass:\n",
    "    def __init__(self, name, surname, age, email, gender, role):\n",
    "        self.name = name\n",
    "        self.surname = surname\n",
    "        self.age = age\n",
    "        self.email = email\n",
    "        self.gender = gender\n",
    "        self.role = role\n",
    "\n",
    "    def __str__(self):\n",
    "        return f\"User - {self.role}\"\n",
    "\n",
    "    def __repr__(self):\n",
    "        output = \"MyClass(name={}, surname={}, age={}, email={}, gender={}, role={})\"\n",
    "    \n",
    "    return output.format(\n",
    "            self.name,\n",
    "            self.surname,\n",
    "            self.age,\n",
    "            self.email,\n",
    "            self.gender,\n",
    "            self.role\n",
    "        )\n",
    "    \n",
    "\n",
    "user_1 = MyClass(\"Vlad\", \"Blck\", 39, \"test.mail@gmail.com\", \"male\", \"Admin\")\n",
    "\n",
    "print(user_1)\n",
    "\n",
    "repr(user_1)"
   ],
   "id": "5d9049340195c9f0"
  },
  {
   "metadata": {},
   "cell_type": "code",
   "outputs": [],
   "execution_count": null,
   "source": [
    "# Создать класс Person с полями имя, год рождения, рост, вес и методами\n",
    "# для вычисления возраста, индекса массы тела.\n",
    "# Создать конструкторы от разного числа аргументов.\n",
    "# Переопределить методы __str__, __repr__.\n",
    "\n",
    "class Person:\n",
    "    def __init__(self, name=None, birth_day=None, height:float=None,weight=None):"
   ],
   "id": "11871eb9e98c50d0"
  },
  {
   "metadata": {},
   "cell_type": "code",
   "outputs": [],
   "execution_count": null,
   "source": [
    "def age(self):\n",
    "    today = date.today()\n",
    "    return today.year - self.birthdate.year - ((today.month, today.day) < (self.birthdate.month, self.birthdate.day))"
   ],
   "id": "ff8e65e9df1025d6"
  },
  {
   "metadata": {
    "ExecuteTime": {
     "end_time": "2025-01-16T09:15:13.428895Z",
     "start_time": "2025-01-16T09:15:13.391995Z"
    }
   },
   "cell_type": "code",
   "source": " ",
   "id": "1f6ed880c918081f",
   "outputs": [
    {
     "ename": "IndentationError",
     "evalue": "expected an indented block after function definition on line 17 (3117926568.py, line 18)",
     "output_type": "error",
     "traceback": [
      "\u001B[1;36m  Cell \u001B[1;32mIn[3], line 18\u001B[1;36m\u001B[0m\n\u001B[1;33m    if any(item == \"n/a\" for item in (self.weight, self.height)):\u001B[0m\n\u001B[1;37m    ^\u001B[0m\n\u001B[1;31mIndentationError\u001B[0m\u001B[1;31m:\u001B[0m expected an indented block after function definition on line 17\n"
     ]
    }
   ],
   "execution_count": 3
  },
  {
   "metadata": {
    "ExecuteTime": {
     "end_time": "2025-01-16T09:16:09.291168Z",
     "start_time": "2025-01-16T09:16:09.265823Z"
    }
   },
   "cell_type": "code",
   "source": " ",
   "id": "26eddfb7c65b6c04",
   "outputs": [
    {
     "ename": "SyntaxError",
     "evalue": "invalid syntax (4092868528.py, line 18)",
     "output_type": "error",
     "traceback": [
      "\u001B[1;36m  Cell \u001B[1;32mIn[4], line 18\u001B[1;36m\u001B[0m\n\u001B[1;33m    Anatoli Panas  кому  Все 10:14\u001B[0m\n\u001B[1;37m            ^\u001B[0m\n\u001B[1;31mSyntaxError\u001B[0m\u001B[1;31m:\u001B[0m invalid syntax\n"
     ]
    }
   ],
   "execution_count": 4
  },
  {
   "metadata": {
    "ExecuteTime": {
     "end_time": "2025-01-16T09:17:15.323664Z",
     "start_time": "2025-01-16T09:17:15.159106Z"
    }
   },
   "cell_type": "code",
   "source": [
    "from datetime import datetime\n",
    "\n",
    "class Person:\n",
    "    def __init__(self, name = None, birth_date = None, height: float = None, weight = None):\n",
    "        self.name = name if name else \"ANONIM\"\n",
    "        self.birth_date = birth_date if birth_date else \"n/a\"\n",
    "        self.height = height if height else \"n/a\"\n",
    "        self.weight = weight if weight else \"n/a\"\n",
    "        self.__age = self.calc_age()\n",
    "\n",
    "    def calc_age(self):\n",
    "        if self.birth_date == \"n/a\":\n",
    "            return self.birth_date\n",
    "        else:\n",
    "            curent_date = datetime.now()\n",
    "            return (curent_date - datetime.strptime(self.birth_date, \"%d-%m-%Y\")).days // 365\n",
    "\n",
    "#\n",
    "    def calc_bmi(self):\n",
    "        if any(item == \"n/a\" for item in (self.weight, self.height)):\n",
    "            return \"n/a\"\n",
    "        bmi = round(self.weight / ((self.height/100) ** 2), 1)\n",
    "\n",
    "        if bmi < 18.5:\n",
    "            return 'Underweight'\n",
    "        elif 18.5 < bmi < 24.9:\n",
    "            return 'Normal weight'\n",
    "        elif 25 < bmi < 29.9:\n",
    "            return 'Overweight'\n",
    "        else:\n",
    "            return 'Obesity'\n",
    "\n",
    "    def __str__(self):\n",
    "        return f\"Name: {self.name}, Age: {self.__age},  Height: {self.height}, Weight: {self.weight}\"\n",
    "\n",
    "    def __repr__(self):\n",
    "        template = \"MyClass(Name = {}, birth_date = {}, Height = {}, Weight = {}\"\n",
    "\n",
    "        return template.format(self.name, self.birth_date, self.height, self.weight)\n",
    "\n",
    "#\n",
    "persons = [Person(\"Arthur1\"),\n",
    "Person(name=\"Arthur2\", height=178, weight=43.4),\n",
    "Person(name=\"Arthur3\", height=178),\n",
    "Person(name=\"Arthur4\", birth_date='29-08-2000', height=178, weight=69.7),\n",
    "Person(name=\"Arthur5\", birth_date='10-01-2000', height=178, weight=97.3)\n",
    "]\n",
    "\n",
    "print(persons)\n",
    "print('-'*30)\n",
    "print(repr(Person))\n",
    "print('-'*30)\n",
    "\n",
    "for person in persons:\n",
    "    print(person.name, person.calc_bmi())"
   ],
   "id": "34441469197d966d",
   "outputs": [
    {
     "name": "stdout",
     "output_type": "stream",
     "text": [
      "[MyClass(Name = Arthur1, birth_date = n/a, Height = n/a, Weight = n/a, MyClass(Name = Arthur2, birth_date = n/a, Height = 178, Weight = 43.4, MyClass(Name = Arthur3, birth_date = n/a, Height = 178, Weight = n/a, MyClass(Name = Arthur4, birth_date = 29-08-2000, Height = 178, Weight = 69.7, MyClass(Name = Arthur5, birth_date = 10-01-2000, Height = 178, Weight = 97.3]\n",
      "------------------------------\n",
      "<class '__main__.Person'>\n",
      "------------------------------\n",
      "Arthur1 n/a\n",
      "Arthur2 Underweight\n",
      "Arthur3 n/a\n",
      "Arthur4 Normal weight\n",
      "Arthur5 Obesity\n"
     ]
    }
   ],
   "execution_count": 5
  },
  {
   "metadata": {
    "ExecuteTime": {
     "end_time": "2025-01-16T09:28:02.756210Z",
     "start_time": "2025-01-16T09:28:01.303585Z"
    }
   },
   "cell_type": "code",
   "source": [
    "class Cat(Animal, Animal2):\n",
    "    def __init__(self, name, age):\n",
    "        super().__init__()\n",
    "        super().Animal2.__init__()\n",
    "        print(\"Test Cat\")"
   ],
   "id": "42fb8c5265a2ce21",
   "outputs": [
    {
     "ename": "NameError",
     "evalue": "name 'Animal' is not defined",
     "output_type": "error",
     "traceback": [
      "\u001B[1;31m---------------------------------------------------------------------------\u001B[0m",
      "\u001B[1;31mNameError\u001B[0m                                 Traceback (most recent call last)",
      "Cell \u001B[1;32mIn[6], line 1\u001B[0m\n\u001B[1;32m----> 1\u001B[0m \u001B[38;5;28;01mclass\u001B[39;00m \u001B[38;5;21;01mCat\u001B[39;00m(\u001B[43mAnimal\u001B[49m, Animal2):\n\u001B[0;32m      2\u001B[0m     \u001B[38;5;28;01mdef\u001B[39;00m \u001B[38;5;21m__init__\u001B[39m(\u001B[38;5;28mself\u001B[39m, name, age):\n\u001B[0;32m      3\u001B[0m         \u001B[38;5;28msuper\u001B[39m()\u001B[38;5;241m.\u001B[39m\u001B[38;5;21m__init__\u001B[39m()\n",
      "\u001B[1;31mNameError\u001B[0m: name 'Animal' is not defined"
     ]
    }
   ],
   "execution_count": 6
  },
  {
   "metadata": {
    "ExecuteTime": {
     "end_time": "2025-01-16T09:31:23.236887Z",
     "start_time": "2025-01-16T09:31:23.218034Z"
    }
   },
   "cell_type": "code",
   "source": [
    "class Animal:\n",
    "    def __init__(self):\n",
    "        self.paws = 4\n",
    "        self.eyes = 2\n",
    "        self.tail = True\n",
    "        self.ears = 2\n",
    "        self.wool = True\n",
    "\n",
    "\n",
    "class Cat(Animal):\n",
    "    def __init__(self, name, age):\n",
    "        super().__init__()\n",
    "        self.name = name\n",
    "        self.age = age\n",
    "\n",
    "    def say_mew(self):\n",
    "        print(f\"Your pet {self.name} say 'Mew'!\")\n",
    "\n",
    "    def __str__(self):\n",
    "        return f\"\"\"\n",
    "            Cat's name: {self.name}\n",
    "            Cat's age: {self.age}\n",
    "            Cat's paws: {self.paws}\n",
    "            Cat with tail? - {self.tail}\n",
    "            Cat's ears: {self.ears}\n",
    "            Cat have wool? - {self.wool}\n",
    "            \"\"\"\n",
    "\n",
    "\n",
    "fluffy = Cat(\"Fluffy\", 2)"
   ],
   "id": "5647f73d7bd685c0",
   "outputs": [],
   "execution_count": 9
  }
 ],
 "metadata": {
  "kernelspec": {
   "display_name": "Python 3",
   "language": "python",
   "name": "python3"
  },
  "language_info": {
   "codemirror_mode": {
    "name": "ipython",
    "version": 2
   },
   "file_extension": ".py",
   "mimetype": "text/x-python",
   "name": "python",
   "nbconvert_exporter": "python",
   "pygments_lexer": "ipython2",
   "version": "2.7.6"
  }
 },
 "nbformat": 4,
 "nbformat_minor": 5
}
