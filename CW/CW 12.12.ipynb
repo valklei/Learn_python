{
 "cells": [
  {
   "cell_type": "code",
   "execution_count": null,
   "id": "initial_id",
   "metadata": {
    "collapsed": true
   },
   "outputs": [],
   "source": [
    "def endless_counter():\n",
    "    counter = 0\n",
    "\n",
    "    try:\n",
    "        while True:\n",
    "            yield counter\n",
    "            counter += 1\n",
    "        except GeneratorExit:\n",
    "print(\"Generator was closed by 'close()' method\")\n",
    "except ValueError as e:\n",
    "print(f\"The Exception was catched: [{e}], end work.\")"
   ]
  },
  {
   "metadata": {
    "ExecuteTime": {
     "end_time": "2024-12-12T09:03:03.379864Z",
     "start_time": "2024-12-12T09:03:00.906241Z"
    }
   },
   "cell_type": "code",
   "source": [
    "import time\n",
    "\n",
    "def follow_log(filepath):\n",
    "    with open(filepath, \"r\", encoding=\"utf-8\") as f:\n",
    "        f.seek(0, 2) # limit offset\n",
    "\n",
    "    while True:\n",
    "        line = f.readline()\n",
    "\n",
    "        if not line:\n",
    "            print(\"NOTHING NEW\")\n",
    "            time.sleep(3)\n",
    "            continue\n",
    "        yield line.split()\n",
    "        \n",
    "file_reader = follow_log(\"test_reader.txt\")\n",
    "for line in file_reader:\n",
    "    print(f\"NEW RECORD:\", line, sep='\\n') "
   ],
   "id": "1b47dab9083bb5bb",
   "outputs": [
    {
     "ename": "ValueError",
     "evalue": "I/O operation on closed file.",
     "output_type": "error",
     "traceback": [
      "\u001B[1;31m---------------------------------------------------------------------------\u001B[0m",
      "\u001B[1;31mValueError\u001B[0m                                Traceback (most recent call last)",
      "Cell \u001B[1;32mIn[2], line 17\u001B[0m\n\u001B[0;32m     14\u001B[0m         \u001B[38;5;28;01myield\u001B[39;00m line\u001B[38;5;241m.\u001B[39msplit()\n\u001B[0;32m     16\u001B[0m file_reader \u001B[38;5;241m=\u001B[39m follow_log(\u001B[38;5;124m\"\u001B[39m\u001B[38;5;124mtest_reader.txt\u001B[39m\u001B[38;5;124m\"\u001B[39m)\n\u001B[1;32m---> 17\u001B[0m \u001B[38;5;28;43;01mfor\u001B[39;49;00m\u001B[43m \u001B[49m\u001B[43mline\u001B[49m\u001B[43m \u001B[49m\u001B[38;5;129;43;01min\u001B[39;49;00m\u001B[43m \u001B[49m\u001B[43mfile_reader\u001B[49m\u001B[43m:\u001B[49m\n\u001B[0;32m     18\u001B[0m \u001B[43m    \u001B[49m\u001B[38;5;28;43mprint\u001B[39;49m\u001B[43m(\u001B[49m\u001B[38;5;124;43mf\u001B[39;49m\u001B[38;5;124;43m\"\u001B[39;49m\u001B[38;5;124;43mNEW RECORD:\u001B[39;49m\u001B[38;5;124;43m\"\u001B[39;49m\u001B[43m,\u001B[49m\u001B[43m \u001B[49m\u001B[43mline\u001B[49m\u001B[43m,\u001B[49m\u001B[43m \u001B[49m\u001B[43msep\u001B[49m\u001B[38;5;241;43m=\u001B[39;49m\u001B[38;5;124;43m'\u001B[39;49m\u001B[38;5;130;43;01m\\n\u001B[39;49;00m\u001B[38;5;124;43m'\u001B[39;49m\u001B[43m)\u001B[49m \n",
      "Cell \u001B[1;32mIn[2], line 8\u001B[0m, in \u001B[0;36mfollow_log\u001B[1;34m(filepath)\u001B[0m\n\u001B[0;32m      5\u001B[0m     f\u001B[38;5;241m.\u001B[39mseek(\u001B[38;5;241m0\u001B[39m, \u001B[38;5;241m2\u001B[39m) \u001B[38;5;66;03m# limit offset\u001B[39;00m\n\u001B[0;32m      7\u001B[0m \u001B[38;5;28;01mwhile\u001B[39;00m \u001B[38;5;28;01mTrue\u001B[39;00m:\n\u001B[1;32m----> 8\u001B[0m     line \u001B[38;5;241m=\u001B[39m \u001B[43mf\u001B[49m\u001B[38;5;241;43m.\u001B[39;49m\u001B[43mreadline\u001B[49m\u001B[43m(\u001B[49m\u001B[43m)\u001B[49m\n\u001B[0;32m     10\u001B[0m     \u001B[38;5;28;01mif\u001B[39;00m \u001B[38;5;129;01mnot\u001B[39;00m line:\n\u001B[0;32m     11\u001B[0m         \u001B[38;5;28mprint\u001B[39m(\u001B[38;5;124m\"\u001B[39m\u001B[38;5;124mNOTHING NEW\u001B[39m\u001B[38;5;124m\"\u001B[39m)\n",
      "\u001B[1;31mValueError\u001B[0m: I/O operation on closed file."
     ]
    }
   ],
   "execution_count": 2
  },
  {
   "metadata": {
    "ExecuteTime": {
     "end_time": "2024-12-12T09:16:33.993424Z",
     "start_time": "2024-12-12T09:16:33.980925Z"
    }
   },
   "cell_type": "code",
   "source": [
    "def dynamic_step_iterator(start=0):\n",
    "    step = 1\n",
    "    current = start\n",
    "\n",
    "    while True:\n",
    "        incoming = yield current\n",
    "\n",
    "        if incoming is not None:\n",
    "            step = incoming\n",
    "            current += step\n",
    "\n",
    "my_iter = dynamic_step_iterator()"
   ],
   "id": "ebbbf71d2f865a54",
   "outputs": [],
   "execution_count": 3
  },
  {
   "metadata": {},
   "cell_type": "code",
   "outputs": [],
   "execution_count": null,
   "source": [
    "Напишите генератор, который принимает на вход поток элементов и выдает только уникальные элементы, сохраняя их порядок встречаемости (для уже повторяющихся элементов генератор не выдает ничего)\n",
    "fruits = [\"Apple\", \"Banana\", \"Orange\", \"Qiwi\", \"Apple\", \"Qiwi\", \"Watermelon\", \"Banana\", \"Melon\", \"Orange\", \"Watermelon\"]"
   ],
   "id": "b543e5e7729fda68"
  },
  {
   "metadata": {},
   "cell_type": "code",
   "outputs": [],
   "execution_count": null,
   "source": [
    "def uniq_gen(s):\n",
    "    while True:\n",
    "        "
   ],
   "id": "4e79e43998bdca45"
  },
  {
   "metadata": {},
   "cell_type": "code",
   "outputs": [],
   "execution_count": null,
   "source": [
    "fruits = [\"Apple\", \"Banana\", \"Orange\", \"Qiwi\", \"Apple\", \"Qiwi\", \"Watermelon\", \"Banana\", \"Melon\", \"Orange\", \"Watermelon\"]\n",
    "\n",
    "\n",
    "def get_unique_fruits(data):\n",
    "    existing_fruits = set()\n",
    "    \n",
    "    for fruit in data:\n",
    "        if fruit not in existing_fruits:\n",
    "            existing_fruits.add(fruit)\n",
    "            yield fruit\n",
    "\n",
    "\n",
    "for fruit in get_unique_fruits(fruits):\n",
    "    print(fruit)"
   ],
   "id": "bdef434cef2bbd8d"
  },
  {
   "metadata": {},
   "cell_type": "code",
   "outputs": [],
   "execution_count": null,
   "source": [
    "fruits = [\"Apple\", \"Banana\", \"Orange\", \"Qiwi\", \"Apple\", \"Qiwi\", \"Watermelon\", \"Banana\", \"Melon\", \"Orange\", \"Watermelon\"]\n",
    "\n",
    "def get_unique_fruits(data):\n",
    "    exists_fruits = set()\n",
    "    for fruit in data:\n",
    "        if fruit not in exists_fruits:\n",
    "            exists_fruits.add(fruit)\n",
    "            yield fruit\n",
    "            \n",
    "for elem in get_unique_fruits(fruits):\n",
    "    print(elem)"
   ],
   "id": "53ac9ac3f82e52d2"
  }
 ],
 "metadata": {
  "kernelspec": {
   "display_name": "Python 3",
   "language": "python",
   "name": "python3"
  },
  "language_info": {
   "codemirror_mode": {
    "name": "ipython",
    "version": 2
   },
   "file_extension": ".py",
   "mimetype": "text/x-python",
   "name": "python",
   "nbconvert_exporter": "python",
   "pygments_lexer": "ipython2",
   "version": "2.7.6"
  }
 },
 "nbformat": 4,
 "nbformat_minor": 5
}
