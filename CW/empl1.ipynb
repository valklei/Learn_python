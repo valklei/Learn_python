{
 "cells": [
  {
   "cell_type": "code",
   "id": "initial_id",
   "metadata": {
    "collapsed": true,
    "ExecuteTime": {
     "end_time": "2025-01-12T16:24:03.066724Z",
     "start_time": "2025-01-12T16:24:03.046800Z"
    }
   },
   "source": [
    "def read_names(file_path):\n",
    "    try:\n",
    "        with open(file_path, 'r') as file:\n",
    "            lines = file.readlines()\n",
    "    except FileNotFoundError:\n",
    "        print(f\"Ошибка: Файл {file_path} не существует.\")\n",
    "        return []\n",
    "    except IOError:\n",
    "        print(f\"Ошибка: Невозможно считать из файла {file_path}.\")\n",
    "        return []\n",
    "\n",
    "    data = []\n",
    "    for line in lines:\n",
    "        try:\n",
    "            fields = line.strip().split()\n",
    "            if len(fields) != 5:\n",
    "                print(f\"Ошибка: Неверное количество данных в строке: {line.strip()}\")\n",
    "                continue\n",
    "\n",
    "            last_name = fields[0]\n",
    "            first_name = fields[1]\n",
    "            try:\n",
    "                birth_year = int(fields[2])\n",
    "            except ValueError:\n",
    "                print(f\"Ошибка: Год рождения не является числом в строке: {line.strip()}\")\n",
    "                continue\n",
    "\n",
    "            course = fields[3]\n",
    "            try:\n",
    "                score = float(fields[4])\n",
    "            except ValueError:\n",
    "                print(f\"Ошибка: Баллы не являются числом в строке: {line.strip()}\")\n",
    "                continue\n",
    "\n",
    "            data.append((last_name, first_name, birth_year, course, score))\n",
    "        except Exception as e:\n",
    "            print(f\"Ошибка при обработке строки: {line.strip()}. Ошибка: {e}\")\n",
    "\n",
    "    return data\n",
    "file_path = 'employees'\n",
    "names_data = read_names(file_path)\n",
    "for entry in names_data:\n",
    "    print(entry)\n",
    "\n",
    "     \n",
    " "
   ],
   "outputs": [
    {
     "name": "stdout",
     "output_type": "stream",
     "text": [
      "('Ivanov', 'Ivan', 1980, '2', 80.0)\n",
      "('Smith', 'Archer', 2000, '1', 67.0)\n",
      "('Petrov', 'Petro', 1999, '1', 90.0)\n",
      "('Schmidt', 'Ann', 1976, '3', 99.0)\n",
      "('Johnson', 'Marta', 1965, '5', 99.0)\n",
      "('John', 'Lenard', 1978, 'v5', 51.0)\n"
     ]
    }
   ],
   "execution_count": 43
  },
  {
   "metadata": {
    "ExecuteTime": {
     "end_time": "2025-01-12T17:21:16.952438Z",
     "start_time": "2025-01-12T17:21:16.942311Z"
    }
   },
   "cell_type": "code",
   "source": [
    "from functools import reduce \n",
    "numbers = [4, 6, 3, 4, 2, 3, 9, 0, 7] \n",
    "result = reduce(lambda x, y: x + y, filter(lambda x: x % 2 == 0, map(lambda x: x ** 2, numbers)))\n",
    "print(result)"
   ],
   "id": "8bf8c99039989261",
   "outputs": [
    {
     "name": "stdout",
     "output_type": "stream",
     "text": [
      "72\n"
     ]
    }
   ],
   "execution_count": 54
  },
  {
   "metadata": {
    "ExecuteTime": {
     "end_time": "2025-01-12T19:48:38.618186Z",
     "start_time": "2025-01-12T19:48:32.986565Z"
    }
   },
   "cell_type": "code",
   "source": [
    "from functools import reduce \n",
    "import itertools \n",
    "import operator \n",
    "def input_integer_list():\n",
    "    while True:\n",
    "        try:\n",
    "            # Запрашиваем у пользователя ввод списка чисел\n",
    "            user_input = input(\"Введите список целых чисел, разделенных пробелами: \")\n",
    "\n",
    "            # Разбиваем ввод на отдельные строки и пытаемся преобразовать их в целые числа\n",
    "            integer_list = [int(num) for num in user_input.split()]\n",
    "\n",
    "            # Если преобразование прошло успешно, возвращаем список целых чисел\n",
    "            return integer_list\n",
    "        except ValueError:\n",
    "            # Если возникла ошибка преобразования, выводим сообщение об ошибке и продолжаем запрашивать ввод\n",
    "            print(\"Ошибка: Введенные данные не являются целыми числами. Пожалуйста, попробуйте снова.\")\n",
    " \n",
    "\n",
    "def mult_list(data: list):\n",
    "    result = reduce(lambda x, y: x * y, data)\n",
    "    return result\n",
    "\n",
    "def mult_acc(data: list):\n",
    "    result = list(itertools.accumulate(data, operator.mul))\n",
    "    return result\n",
    "\n",
    "numbers = input_integer_list()\n",
    "print(\"Вы ввели следующий список целых чисел:\", numbers)\n",
    "print('Результат reduce:', mult_list(numbers))\n",
    "print('Результат accumulate:', mult_acc(numbers))\n",
    " \n"
   ],
   "id": "56f745e7502035b1",
   "outputs": [
    {
     "name": "stdout",
     "output_type": "stream",
     "text": [
      "Вы ввели следующий список целых чисел: [1, 2, 3, 4, 5]\n",
      "Результат reduce: 120\n",
      "Результат accumulate: [1, 2, 6, 24, 120]\n"
     ]
    }
   ],
   "execution_count": 66
  },
  {
   "metadata": {},
   "cell_type": "code",
   "outputs": [],
   "execution_count": null,
   "source": [
    "import itertools \n",
    "import operator \n",
    "numbers = [1, 2, 3, 4, 5] \n",
    "result = itertools.accumulate(numbers, operator.mul) # Результат: [1, 2, 6, 24, 120]"
   ],
   "id": "3420f5097bdb6127"
  },
  {
   "metadata": {
    "ExecuteTime": {
     "end_time": "2025-01-12T17:45:05.168811Z",
     "start_time": "2025-01-12T17:45:05.152529Z"
    }
   },
   "cell_type": "code",
   "source": [
    "from functools import reduce\n",
    "\n",
    "add_one = lambda x: x + 1\n",
    "double = lambda x: x * 2\n",
    "subtract_three = lambda x: x - 3\n",
    "functions = [add_one, double, subtract_three]\n",
    "user_num = 5\n",
    "\n",
    "reduce_func = reduce(lambda acc, func: func(acc), functions, user_num)\n",
    "print(reduce_func)"
   ],
   "id": "b20973a3524720eb",
   "outputs": [
    {
     "name": "stdout",
     "output_type": "stream",
     "text": [
      "9\n"
     ]
    }
   ],
   "execution_count": 60
  },
  {
   "metadata": {
    "ExecuteTime": {
     "end_time": "2025-01-12T20:30:44.202095Z",
     "start_time": "2025-01-12T20:30:15.417510Z"
    }
   },
   "cell_type": "code",
   "source": [
    "def processing_words(words):\n",
    "     \n",
    "    vowels = 'aeiouAEIOU'\n",
    "    f_words = [word for word in words if word[0] in vowels]\n",
    "   \n",
    "    upp_words = list(map(str.upper, f_words))\n",
    "\n",
    "    return upp_words\n",
    "\n",
    "def get_user_input():\n",
    "    while True:\n",
    "         \n",
    "        user_input = input(\"Введите список слов, разделенных пробелами: \")\n",
    "         \n",
    "        if not user_input.strip():\n",
    "            print(\"Ошибка: Ввод не должен быть пустым. Пожалуйста, попробуйте снова.\")\n",
    "            continue\n",
    "        \n",
    "        words = user_input.split()\n",
    "        \n",
    "        if all(word.isalpha() for word in words):\n",
    "            return words\n",
    "        else:\n",
    "            print(\"Ошибка: Ввод должен содержать только слова, разделенные пробелами. Пожалуйста, попробуйте снова.\")\n",
    "\n",
    "# Пример использования\n",
    "    # Получение и проверка ввода пользователя\n",
    "list_words = get_user_input()\n",
    "print(processing_words(list_words))\n",
    "\n",
    "    # Фильтрация и преобразование сл\n"
   ],
   "id": "1dfdd2ad44bdfc88",
   "outputs": [
    {
     "name": "stdout",
     "output_type": "stream",
     "text": [
      "['APPLE', 'IGOR', 'UPPER']\n"
     ]
    }
   ],
   "execution_count": 71
  }
 ],
 "metadata": {
  "kernelspec": {
   "display_name": "Python 3",
   "language": "python",
   "name": "python3"
  },
  "language_info": {
   "codemirror_mode": {
    "name": "ipython",
    "version": 2
   },
   "file_extension": ".py",
   "mimetype": "text/x-python",
   "name": "python",
   "nbconvert_exporter": "python",
   "pygments_lexer": "ipython2",
   "version": "2.7.6"
  }
 },
 "nbformat": 4,
 "nbformat_minor": 5
}
