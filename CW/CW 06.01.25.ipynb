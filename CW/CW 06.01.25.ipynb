{
 "cells": [
  {
   "cell_type": "code",
   "execution_count": null,
   "id": "initial_id",
   "metadata": {
    "collapsed": true
   },
   "outputs": [],
   "source": [
    "from functools import reduce\n",
    "\n",
    "numbers_ = [1, 2, 3, 4, 5]\n",
    "numbers_3 = [2, 4, 6, 8, 10]\n",
    "letters = [\"h\", \"e\", \"l\", \"l\", \"o\"]\n",
    "\n",
    "\n",
    "def multiply_(x, y):\n",
    "return x * y\n",
    "\n",
    "\n",
    "def concatinate(x, y):\n",
    "return x + y\n",
    "\n",
    "res_1 = reduce(multiply_, numbers_)\n",
    "res_2 = reduce(multiply_, numbers_3, 4)\n",
    "res_3 = reduce(concatinate, letters)\n",
    "\n",
    "print(res_1)\n",
    "print(res_2)\n",
    "print(res_3)\n",
    "orders = [\n",
    "{\"item\": \"Наушники\", \"price\": 1500, \"quantity\": 2},\n",
    "{\"item\": \"Клавиатура\", \"price\": 3000, \"quantity\": 1},\n",
    "{\"item\": \"Мышь\", \"price\": 1000, \"quantity\": 3}\n",
    "]"
   ]
  },
  {
   "metadata": {},
   "cell_type": "code",
   "outputs": [],
   "execution_count": null,
   "source": [
    "orders = [\n",
    "{\"item\": \"Наушники\", \"price\": 1500, \"quantity\": 2},\n",
    "{\"item\": \"Клавиатура\", \"price\": 3000, \"quantity\": 1},\n",
    "{\"item\": \"Мышь\", \"price\": 1000, \"quantity\": 3}\n",
    "]\n",
    "# Товар: Х, Количество: Х"
   ],
   "id": "53d169206c358918"
  },
  {
   "metadata": {},
   "cell_type": "code",
   "outputs": [],
   "execution_count": null,
   "source": [
    "orders = [\n",
    "{\"item\": \"Наушники\", \"price\": 1500, \"quantity\": 2},\n",
    "{\"item\": \"Клавиатура\", \"price\": 3000, \"quantity\": 1},\n",
    "{\"item\": \"Мышь\", \"price\": 1000, \"quantity\": 3}\n",
    "]\n",
    "\n",
    "# Товар: Х, Количество: Х\n",
    "\n",
    "def return_string(item):\n",
    "    return f\"Item: {item[\"item\"]}, Quantity: {item['quantity']}\"\n",
    "\n",
    "descriptions = list(map(return_string, orders))  \n",
    "print(descriptions)"
   ],
   "id": "f628c184eb941b0c"
  },
  {
   "metadata": {},
   "cell_type": "code",
   "outputs": [],
   "execution_count": null,
   "source": [
    "for formatted_order in descriptions:\n",
    "    print(formatted_order)"
   ],
   "id": "7d46236dcca14658"
  },
  {
   "metadata": {},
   "cell_type": "code",
   "outputs": [],
   "execution_count": null,
   "source": [
    "reduce(lambda acc, item: acc + item[\"quantity\"] * item[\"price\"], orders, \n",
    "\n",
    "Dmytro Olkhovskyi 12:05\n",
    "from functools import reduce\n",
    "\n",
    "orders = [\n",
    "{\"item\": \"Наушники\", \"price\": 1500, \"quantity\": 2},\n",
    "{\"item\": \"Клавиатура\", \"price\": 3000, \"quantity\": 1},\n",
    "{\"item\": \"Мышь\", \"price\": 1000, \"quantity\": 3}\n",
    "]\n",
    "\n",
    "def return_sum(acc,order):\n",
    "\n",
    "    return acc + order[\"price\"] * order[\"quantity\"]\n",
    "\n",
    "total_price = reduce(return_sum, orders , 0)\n",
    "\n",
    "print(total_price)"
   ],
   "id": "193fb4e2184565c4"
  },
  {
   "metadata": {},
   "cell_type": "code",
   "outputs": [],
   "execution_count": null,
   "source": "sum([order[\"price\"] * order[\"quantity\"] for order in orders])\n",
   "id": "9aadc6ea931a695f"
  },
  {
   "metadata": {},
   "cell_type": "code",
   "outputs": [],
   "execution_count": null,
   "source": "reduce(lambda acc, item: acc + item[\"quantity\"] * item[\"price\"], orders, 0)",
   "id": "12b8ae3a203e031f"
  }
 ],
 "metadata": {
  "kernelspec": {
   "display_name": "Python 3",
   "language": "python",
   "name": "python3"
  },
  "language_info": {
   "codemirror_mode": {
    "name": "ipython",
    "version": 2
   },
   "file_extension": ".py",
   "mimetype": "text/x-python",
   "name": "python",
   "nbconvert_exporter": "python",
   "pygments_lexer": "ipython2",
   "version": "2.7.6"
  }
 },
 "nbformat": 4,
 "nbformat_minor": 5
}
