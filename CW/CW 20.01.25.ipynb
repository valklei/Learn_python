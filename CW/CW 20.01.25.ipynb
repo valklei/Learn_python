{
 "cells": [
  {
   "cell_type": "code",
   "execution_count": null,
   "id": "initial_id",
   "metadata": {
    "collapsed": true
   },
   "outputs": [],
   "source": [
    "from typing import Callable\n",
    "\n",
    "def make_sandwich(func: Callable) -> Callable:\n",
    "    def wrapper():\n",
    "        print(\"(((((())))))\")\n",
    "        print(\"~~~~~~~~~~~~\")\n",
    "        func()\n",
    "        print(\"$$$$$$$$$$$$\")\n",
    "        print(\"(((((())))))\")\n",
    "\n",
    "    return wrapper\n",
    "\n",
    "\n",
    "def get_pork() -> None:\n",
    "    print(\"####PORK####\")\n",
    "\n",
    "\n",
    "sandwich = make_sandwich(get_pork)\n",
    "\n",
    "sandwich()\n",
    "@make_sandwich\n",
    "def get_beef() -> None:\n",
    "    print(\"####BEEF####\")\n",
    "\n",
    "\n",
    "get_beef()"
   ]
  },
  {
   "metadata": {},
   "cell_type": "code",
   "outputs": [],
   "execution_count": null,
   "source": [
    "# sintacsis\n",
    "\n",
    "1) @<decorator_name> # global variant\n",
    "2) <variable> = <decorator_name>(<calable_function>) # local variant\n",
    "<variable>()"
   ],
   "id": "8f2342ed07aa3d0c"
  },
  {
   "metadata": {
    "ExecuteTime": {
     "end_time": "2025-01-20T09:07:35.921242Z",
     "start_time": "2025-01-20T09:07:35.900299Z"
    }
   },
   "cell_type": "code",
   "source": [
    "from typing import Callable\n",
    "def uppercase_decorator(function: Callable) -> Callable:\n",
    "    def wrapper() -> str:\n",
    "        func: str = function()\n",
    "        make_uppercase: str = func.upper()\n",
    "        return make_uppercase\n",
    "    \n",
    "    return wrapper\n",
    "\n",
    "# @uppercase_decorator\n",
    "def return_str():\n",
    "    return \"hello\"\n",
    "\n",
    "print(return_str())"
   ],
   "id": "1c2b5f3d202d04d1",
   "outputs": [
    {
     "name": "stdout",
     "output_type": "stream",
     "text": [
      "hello\n"
     ]
    }
   ],
   "execution_count": 4
  },
  {
   "metadata": {
    "ExecuteTime": {
     "end_time": "2025-01-20T09:07:58.419544Z",
     "start_time": "2025-01-20T09:07:46.466125Z"
    }
   },
   "cell_type": "code",
   "source": [
    "from typing import Callable\n",
    "def test_decorator(func: Callable) -> Callable:\n",
    "    def wrapper(*args, **kwargs) -> str:\n",
    "        result = func(*args, **kwargs)\n",
    "        \n",
    "        return result.upper()\n",
    "    return wrapper\n",
    "\n",
    " \n",
    "def my_function(separator: str) -> str:\n",
    "    a, b = input(\"Enter two words: \").split()\n",
    "\n",
    "    return f\"{a} {separator} {b}\"\n",
    "upper_dec = test_decorator(func=my_function)\n",
    "print(upper_dec(\"*****\"))"
   ],
   "id": "eeab1918092c78e4",
   "outputs": [
    {
     "name": "stdout",
     "output_type": "stream",
     "text": [
      "FGHR ***** YUIO\n"
     ]
    }
   ],
   "execution_count": 5
  },
  {
   "metadata": {},
   "cell_type": "code",
   "outputs": [],
   "execution_count": null,
   "source": [
    "def param_decorator(arg_1, arg_2, arg_3) -> Callable:\n",
    "    def decorator(func: Callable) -> Callable:\n",
    "        def wrapper(*args, **kwargs) -> int:\n",
    "        ...\n",
    "            return 5\n",
    "        return wrapper\n",
    "    return decorator"
   ],
   "id": "e89f47178c9dcfcf"
  },
  {
   "metadata": {
    "ExecuteTime": {
     "end_time": "2025-01-20T09:25:04.545188Z",
     "start_time": "2025-01-20T09:25:04.520161Z"
    }
   },
   "cell_type": "code",
   "source": [
    "def param_dec(arg_1, arg_2) -> Callable:\n",
    "    def decorator(func: Callable) -> Callable:\n",
    "        def wrapper(*args, **kwargs) -> list[str]:\n",
    "            result: list[str] = func(*args, **kwargs).split(\", \")\n",
    "            result.extend([arg_1, arg_2])\n",
    "\n",
    "            return result\n",
    "        return wrapper\n",
    "    return decorator\n",
    "\n",
    " \n",
    "@param_dec(arg_1=\"ARGUMENT 1\", arg_2=\"ARGUMENT 2\")\n",
    "def return_string_with_coma(data: str):\n",
    "    res = data.strip().upper()\n",
    "\n",
    "    return res\n",
    "print(return_string_with_coma(data=\"The, brown, fox, jumps, over, snow\"))\n"
   ],
   "id": "703d286b45d6c1e9",
   "outputs": [
    {
     "name": "stdout",
     "output_type": "stream",
     "text": [
      "['THE', 'BROWN', 'FOX', 'JUMPS', 'OVER', 'SNOW', 'ARGUMENT 1', 'ARGUMENT 2']\n"
     ]
    }
   ],
   "execution_count": 7
  },
  {
   "metadata": {},
   "cell_type": "code",
   "outputs": [],
   "execution_count": null,
   "source": [
    "def param_decorator(ask_name: bool) -> Callable:\n",
    "    def decorator(func: Callable) -> Callable:\n",
    "        def wrapper() -> None:\n",
    "            result = func()\n",
    "            if ask_name:\n",
    "            name = input(\"Как вас зовут? \")\n",
    "            print(f\"Ваше имя {name}, ваш возраст - {result}\")\n",
    "            else:\n",
    "            print(f\"Ваш возраст - {result}\")\n",
    "            return wrapper\n",
    "            return decorator\n",
    "\n",
    "\n",
    "@param_decorator(ask_name=True)\n",
    "def ask_age():\n",
    "age = input(\"Сколько вам лет? \")\n",
    "if age.isdigit():\n",
    "return age\n",
    "return \"неизвестно\"\n",
    "\n",
    "ask_age()\n"
   ],
   "id": "3c6350b58dd2a1b5"
  },
  {
   "metadata": {},
   "cell_type": "code",
   "outputs": [],
   "execution_count": null,
   "source": [
    "from functools import wraps\n",
    "\n",
    "\n",
    "def my_decorator_no_wraps(func):\n",
    "@wraps(func)\n",
    "def wrapper(*args, **kwargs):\n",
    "\"\"\"Это docstring внутри wrapper'а (без wraps)\"\"\"\n",
    "print(f\"Вызов функции {func.__name__} (без wraps)\")\n",
    "result = func(*args, **kwargs)\n",
    "return result\n",
    "return wrapper\n",
    "\n",
    "\n",
    "@my_decorator_no_wraps\n",
    "def say_hello_no_wraps(name):\n",
    "\"\"\"Исходный docstring для say_hello_no_wraps\"\"\"\n",
    "return f\"Привет, {name}!\"\n",
    "\n",
    "# Проверяем метаданные\n",
    "print(say_hello_no_wraps(\"Алиса\"))\n",
    "print(say_hello_no_wraps.__name__)\n",
    "print(say_hello_no_wraps.__doc__)"
   ],
   "id": "de235071b7bcd0e9"
  },
  {
   "metadata": {
    "ExecuteTime": {
     "end_time": "2025-01-20T10:54:02.511165Z",
     "start_time": "2025-01-20T10:54:02.455280Z"
    }
   },
   "cell_type": "code",
   "source": [
    "admin_user = {\n",
    "\"user\": {\n",
    "\"Name\": \"Vladislav\",\n",
    "\"Surname\": \"Black\",\n",
    "\"Age\": 26,\n",
    "\"Phone\": \"45678912654\",\n",
    "\"is_authenticated\": True,\n",
    "\"role\": \"admin\"\n",
    "}\n",
    "}\n",
    "\n",
    "anon_user = {\n",
    "\"user\": {\n",
    "\"Name\": \"Anon\",\n",
    "\"Surname\": \"\",\n",
    "\"Age\": 26,\n",
    "\"Phone\": \"111111111111\",\n",
    "\"is_authenticated\": False,\n",
    "\"role\": \"user\"\n",
    "}\n",
    "}\n",
    "\n",
    "not_admin_or_manager = {\n",
    "\"user\": {\n",
    "\"Name\": \"Julia\",\n",
    "\"Surname\": \"Green\",\n",
    "\"Age\": 24,\n",
    "\"Phone\": \"222222222222\",\n",
    "\"is_authenticated\": False,\n",
    "\"role\": \"user\"\n",
    "}\n",
    "}\n",
    "\n",
    " "
   ],
   "id": "8d898fe0757e7da5",
   "outputs": [],
   "execution_count": 14
  },
  {
   "metadata": {
    "ExecuteTime": {
     "end_time": "2025-01-20T10:54:09.941707Z",
     "start_time": "2025-01-20T10:54:09.912850Z"
    }
   },
   "cell_type": "code",
   "source": [
    "from typing import Callable\n",
    "\n",
    "def check_access(func: Callable):\n",
    "    def wrapper(*args, **kwargs):\n",
    "       is_authenticated  = args[0].get(\"user\").get(\"is_authenticated\")\n",
    "       if not is_authenticated:\n",
    "            return {\n",
    "                \"status_code\": 401,\n",
    "                \"response\": \"FORBIDDEN.NOT AUTHENTICATED.\"\n",
    "            }\n",
    "       return func(*args, **kwargs)\n",
    "    return wrapper\n",
    "\n",
    "def check_roles(roles: list[str]):\n",
    "    def decorator(func):\n",
    "        def wrapper(*args, **kwargs):\n",
    "           is_role  = args[0].get(\"user\").get(\"role\")\n",
    "           if is_role not in roles:\n",
    "                return {\n",
    "                    \"status_code\": 403,\n",
    "                    \"response\": \"FORBIDDEN.NOT ALLOWED.\"\n",
    "                }\n",
    "           return func(*args, **kwargs)\n",
    "        return wrapper\n",
    "    return decorator\n",
    "\n",
    "@check_access\n",
    "@check_roles(['moderator', 'admin'])\n",
    "def some_view(request):\n",
    "    user_name = request.get(\"user\").get(\"Name\")\n",
    "    return {\n",
    "\"status_code\": 200,\n",
    "\"response\": f\"Hello, {user_name}\"\n",
    "            }\n",
    "\n",
    "some_view(not_admin_or_manager)"
   ],
   "id": "b1ef2314a8546e12",
   "outputs": [
    {
     "data": {
      "text/plain": [
       "{'status_code': 401, 'response': 'FORBIDDEN.NOT AUTHENTICATED.'}"
      ]
     },
     "execution_count": 15,
     "metadata": {},
     "output_type": "execute_result"
    }
   ],
   "execution_count": 15
  },
  {
   "metadata": {
    "ExecuteTime": {
     "end_time": "2025-01-20T10:41:37.088106Z",
     "start_time": "2025-01-20T10:41:36.960642Z"
    }
   },
   "cell_type": "code",
   "source": " ",
   "id": "98133fad7226fc2a",
   "outputs": [],
   "execution_count": 8
  },
  {
   "metadata": {
    "ExecuteTime": {
     "end_time": "2025-01-20T10:45:20.826598Z",
     "start_time": "2025-01-20T10:45:20.799054Z"
    }
   },
   "cell_type": "code",
   "source": [
    "@check_roles(roles=['qwerty'])\n",
    "def some_view(request):\n",
    "    user_name = request.get(\"user\").get(\"Name\")\n",
    "    return {\n",
    "\"status_code\": 200,\n",
    "\"response\": f\"Hello, {user_name}\"\n",
    "            }\n",
    "\n",
    "some_view(not_admin_or_manager)"
   ],
   "id": "feedc0cc56f5544e",
   "outputs": [
    {
     "data": {
      "text/plain": [
       "{'status_code': 403, 'response': 'FORBIDDEN.NOT ALLOWED.'}"
      ]
     },
     "execution_count": 12,
     "metadata": {},
     "output_type": "execute_result"
    }
   ],
   "execution_count": 12
  },
  {
   "metadata": {},
   "cell_type": "code",
   "outputs": [],
   "execution_count": null,
   "source": [
    "import time\n",
    "\n",
    "def check_access_decorator(func: Callable) -> Callable:\n",
    "    def wrapper(*args, **kwargs) -> dict:\n",
    "        is_authenticated = args[0].get(\"user\").get(\"is_authenticated\")\n",
    "        if not is_authenticated:\n",
    "            return {\n",
    "                \"status_code\": 400,\n",
    "                \"response\": f\"FORBIDDEN. NOT AUTHENTICATED\"\n",
    "            }\n",
    "        return func(*args, **kwargs)\n",
    "    return wrapper\n",
    "\n",
    "def check_roles_decorator(roles: list[str]) -> Callable:\n",
    "    def decorator(func: Callable) -> Callable:\n",
    "        def wrapper(*args, **kwargs):\n",
    "            role = args[0].get(\"user\").get(\"role\")\n",
    "            if role not in roles:\n",
    "                return {\n",
    "                    \"status_code\": 403,\n",
    "                    \"response\": f\"FORBIDDEN. NOT ALLOWED\"\n",
    "                }\n",
    "            return func(*args, **kwargs)\n",
    "        return wrapper\n",
    "    return decorator"
   ],
   "id": "3e51ccdb39a54368"
  },
  {
   "metadata": {},
   "cell_type": "code",
   "outputs": [],
   "execution_count": null,
   "source": "",
   "id": "c5867da28425bbb9"
  }
 ],
 "metadata": {
  "kernelspec": {
   "display_name": "Python 3",
   "language": "python",
   "name": "python3"
  },
  "language_info": {
   "codemirror_mode": {
    "name": "ipython",
    "version": 2
   },
   "file_extension": ".py",
   "mimetype": "text/x-python",
   "name": "python",
   "nbconvert_exporter": "python",
   "pygments_lexer": "ipython2",
   "version": "2.7.6"
  }
 },
 "nbformat": 4,
 "nbformat_minor": 5
}
