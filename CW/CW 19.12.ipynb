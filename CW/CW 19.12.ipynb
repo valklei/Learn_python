{
 "cells": [
  {
   "cell_type": "code",
   "id": "initial_id",
   "metadata": {
    "collapsed": true,
    "ExecuteTime": {
     "end_time": "2024-12-20T07:47:22.370582Z",
     "start_time": "2024-12-20T07:47:22.354251Z"
    }
   },
   "source": [
    "import argparse\n",
    "\n",
    "\n",
    "parser = argparse.ArgumentParser(\n",
    "description=\"FILE'S LINE READER\"\n",
    ")\n",
    "\n",
    "parser.add_argument(\n",
    "\"filename\",\n",
    "help=\"Path to target file\"\n",
    ")\n",
    "\n",
    "args = parser.parse_args()\n",
    "\n",
    "\n",
    "with open(args.filename, \"r\", encoding=\"utf-8\") as f:\n",
    "lines = f.readlines()\n",
    "\n",
    "print(f\"Count of file's lines: {len(lines)}\")\n",
    "\n",
    " \n",
    "# import argparse\n",
    "#\n",
    "# parser = argparse.ArgumentParser(\n",
    "# description=\"MY AWESOME DESCRIPTION\"\n",
    "# )\n",
    "#\n",
    "# parser.add_argument(\n",
    "# \"name\",\n",
    "# help=\"ENTER YOUR NAME HERE\"\n",
    "# )\n",
    "# parser.add_argument(\n",
    "# \"-a\",\n",
    "# \"--age\",\n",
    "# type=int\n",
    "# )\n",
    "#\n",
    "# parser.add_argument(\n",
    "# \"--verbose\",\n",
    "# action=\"store_true\", # store_true \\ store_false\n",
    "# help=\"ON or OFF more verbose output\"\n",
    "# )\n",
    "#\n",
    "#\n",
    "# args = parser.parse_args()\n",
    "#\n",
    "# print(f\"Hello! I'm {args.name}\")\n",
    "#\n",
    "# if args.age:\n",
    "# print(f\"I'm {args.age} years old\")\n",
    "# if args.verbose:\n",
    "# print(\"Strict output ON\")\n",
    "\n",
    " \n",
    "# import sys\n",
    "# import os\n",
    "#\n",
    "# print(\"hello from file\")\n",
    "#\n",
    "# home_dir = os.environ.get(\"HOME\")\n",
    "# print(f\"Home directory : {home_dir}\")\n",
    "#\n",
    "# print(f\"SCRIPT'S NAME: {sys.argv[0]}\")\n",
    "# print(f\"ARGUMENTS: {sys.argv[1:]}\")\n",
    "#\n",
    "#\n",
    "# print(\"-\" * 60)\n",
    "#\n",
    "# os.environ[\"MY_VARIABLE\"] = \"HELLO FROM ENVIRONMENT\"\n",
    "# print(f\"MY VAR: {os.environ[\"MY_VARIABLE\"]}\")\n",
    "\n",
    "\n",
    "# import sys\n",
    "#\n",
    "# print('Список параметров, переданных скрипту')\n",
    "# print(sys.argv)\n",
    "#\n",
    "# print([arg for arg in sys.argv if arg[0]!='-'])"
   ],
   "outputs": [
    {
     "ename": "IndentationError",
     "evalue": "expected an indented block after 'with' statement on line 16 (1067094023.py, line 17)",
     "output_type": "error",
     "traceback": [
      "\u001B[1;36m  Cell \u001B[1;32mIn[1], line 17\u001B[1;36m\u001B[0m\n\u001B[1;33m    lines = f.readlines()\u001B[0m\n\u001B[1;37m    ^\u001B[0m\n\u001B[1;31mIndentationError\u001B[0m\u001B[1;31m:\u001B[0m expected an indented block after 'with' statement on line 16\n"
     ]
    }
   ],
   "execution_count": 1
  },
  {
   "metadata": {
    "ExecuteTime": {
     "end_time": "2024-12-19T21:09:34.686414Z",
     "start_time": "2024-12-19T21:09:34.323050Z"
    }
   },
   "cell_type": "code",
   "source": [
    "print(os.path.exists(\"test_file.txt\"))\n",
    "print(os.path.isfile(\"~/Desktop/names.txt\"))\n",
    "print(os.path.isdir(\"archive\"))\n",
    "\n",
    "\n",
    "# os.remove()\n",
    "\n",
    "\n",
    "# files = os.listdir(\".\")\n",
    "# print(files)\n",
    "#\n",
    "#\n",
    "# for _, _, files in os.walk(\".\"):\n",
    "# for file in files:\n",
    "# if file.endswith(\".txt\"):\n",
    "# print(file)\n",
    "\n",
    "\n",
    "print(os.access('news.csv', os.W_OK))\n",
    "print(os.access('news.csv', os.R_OK))\n",
    "print(os.access('news.csv', os.X_OK))"
   ],
   "id": "cb5edf89bbafebf5",
   "outputs": [
    {
     "ename": "NameError",
     "evalue": "name 'os' is not defined",
     "output_type": "error",
     "traceback": [
      "\u001B[1;31m---------------------------------------------------------------------------\u001B[0m",
      "\u001B[1;31mNameError\u001B[0m                                 Traceback (most recent call last)",
      "Cell \u001B[1;32mIn[1], line 1\u001B[0m\n\u001B[1;32m----> 1\u001B[0m \u001B[38;5;28mprint\u001B[39m(\u001B[43mos\u001B[49m\u001B[38;5;241m.\u001B[39mpath\u001B[38;5;241m.\u001B[39mexists(\u001B[38;5;124m\"\u001B[39m\u001B[38;5;124mtest_file.txt\u001B[39m\u001B[38;5;124m\"\u001B[39m))\n\u001B[0;32m      2\u001B[0m \u001B[38;5;28mprint\u001B[39m(os\u001B[38;5;241m.\u001B[39mpath\u001B[38;5;241m.\u001B[39misfile(\u001B[38;5;124m\"\u001B[39m\u001B[38;5;124m~/Desktop/names.txt\u001B[39m\u001B[38;5;124m\"\u001B[39m))\n\u001B[0;32m      3\u001B[0m \u001B[38;5;28mprint\u001B[39m(os\u001B[38;5;241m.\u001B[39mpath\u001B[38;5;241m.\u001B[39misdir(\u001B[38;5;124m\"\u001B[39m\u001B[38;5;124marchive\u001B[39m\u001B[38;5;124m\"\u001B[39m))\n",
      "\u001B[1;31mNameError\u001B[0m: name 'os' is not defined"
     ]
    }
   ],
   "execution_count": 1
  },
  {
   "metadata": {
    "ExecuteTime": {
     "end_time": "2024-12-28T13:24:19.749201Z",
     "start_time": "2024-12-28T13:24:19.733577Z"
    }
   },
   "cell_type": "code",
   "source": [
    "for i in 'hello world':\n",
    "    if i == 'o':\n",
    "        break\n",
    "    print(i * 2, end=' ')"
   ],
   "id": "56e3b1e187d9902c",
   "outputs": [
    {
     "name": "stdout",
     "output_type": "stream",
     "text": [
      "hh ee ll ll "
     ]
    }
   ],
   "execution_count": 9
  },
  {
   "metadata": {
    "ExecuteTime": {
     "end_time": "2024-12-28T13:46:00.158339Z",
     "start_time": "2024-12-28T13:46:00.140521Z"
    }
   },
   "cell_type": "code",
   "source": [
    "a, b = 10, 4\n",
    "print(divmod(a, b))"
   ],
   "id": "667514160f86236b",
   "outputs": [
    {
     "name": "stdout",
     "output_type": "stream",
     "text": [
      "(2, 2)\n"
     ]
    }
   ],
   "execution_count": 12
  },
  {
   "metadata": {
    "ExecuteTime": {
     "end_time": "2024-12-28T13:51:54.003227Z",
     "start_time": "2024-12-28T13:51:53.993088Z"
    }
   },
   "cell_type": "code",
   "source": "pow(3,4,6)",
   "id": "71383d614f36a766",
   "outputs": [
    {
     "data": {
      "text/plain": [
       "3"
      ]
     },
     "execution_count": 21,
     "metadata": {},
     "output_type": "execute_result"
    }
   ],
   "execution_count": 21
  },
  {
   "metadata": {
    "ExecuteTime": {
     "end_time": "2024-12-28T21:28:59.227764Z",
     "start_time": "2024-12-28T21:28:56.641964Z"
    }
   },
   "cell_type": "code",
   "source": [
    "a = int(input())\n",
    "my_list = [0,1]\n",
    " \n",
    "for i in range(2, a):\n",
    "     \n",
    "    nur = my_list[i-2] + my_list[i-1]\n",
    "    my_list.append(nur)\n",
    "print(my_list)"
   ],
   "id": "f41b07632161c7b2",
   "outputs": [
    {
     "name": "stdout",
     "output_type": "stream",
     "text": [
      "[0, 1, 1, 2, 3, 5, 8]\n"
     ]
    }
   ],
   "execution_count": 29
  },
  {
   "metadata": {
    "ExecuteTime": {
     "end_time": "2024-12-29T12:01:07.008536Z",
     "start_time": "2024-12-29T12:01:06.998557Z"
    }
   },
   "cell_type": "code",
   "source": [
    "opitit = 'hello, world!'\n",
    "s1 = opitit.replace('ll','nn')\n",
    " \n",
    "print(s1.title())\n",
    "\n",
    "\n",
    "print(opitit)\n",
    "    "
   ],
   "id": "baf4d92a93d401da",
   "outputs": [
    {
     "name": "stdout",
     "output_type": "stream",
     "text": [
      "Henno, World!\n",
      "hello, world!\n"
     ]
    }
   ],
   "execution_count": 102
  },
  {
   "metadata": {
    "ExecuteTime": {
     "end_time": "2024-12-29T12:42:39.169765Z",
     "start_time": "2024-12-29T12:42:39.128597Z"
    }
   },
   "cell_type": "code",
   "source": [
    "print('{0}, {1}, {2}'.format('a', 'b', 'c'))\n",
    " \n",
    "#  '{}, {}, {}'.format('a', 'b', 'c') \n",
    "#  \n",
    "# '{2}, {1}, {0}'.format('a', 'b', 'c')  \n",
    "# \n",
    "print('{2}, {1}, {0}'.format(*'abc'))  \n",
    "# \n",
    "print('{0}{1}{0}'.format('abra', 'cad')) \n",
    "# \n",
    "# 'Coordinates: {latitude}, {longitude}'.format(latitude='37.24N', longitude='→115.81W')\n"
   ],
   "id": "49a704cb6e487aa5",
   "outputs": [
    {
     "name": "stdout",
     "output_type": "stream",
     "text": [
      "a, b, c\n",
      "c, b, a\n",
      "abracadabra\n"
     ]
    }
   ],
   "execution_count": 110
  },
  {
   "metadata": {
    "ExecuteTime": {
     "end_time": "2024-12-29T23:09:47.292449Z",
     "start_time": "2024-12-29T23:09:47.228998Z"
    }
   },
   "cell_type": "code",
   "source": [
    "try:\n",
    "    s = [x * 2 for x in 'dramafon']\n",
    "except:\n",
    "    pass\n",
    "s.insert(2,[2,3,2])\n",
    "s.sort()\n",
    "\n",
    "print(s)\n"
   ],
   "id": "937ac1a0e2f22999",
   "outputs": [
    {
     "ename": "TypeError",
     "evalue": "'<' not supported between instances of 'list' and 'str'",
     "output_type": "error",
     "traceback": [
      "\u001B[1;31m---------------------------------------------------------------------------\u001B[0m",
      "\u001B[1;31mTypeError\u001B[0m                                 Traceback (most recent call last)",
      "Cell \u001B[1;32mIn[140], line 3\u001B[0m\n\u001B[0;32m      1\u001B[0m s \u001B[38;5;241m=\u001B[39m [x \u001B[38;5;241m*\u001B[39m \u001B[38;5;241m2\u001B[39m \u001B[38;5;28;01mfor\u001B[39;00m x \u001B[38;5;129;01min\u001B[39;00m \u001B[38;5;124m'\u001B[39m\u001B[38;5;124mdramafon\u001B[39m\u001B[38;5;124m'\u001B[39m]\n\u001B[0;32m      2\u001B[0m s\u001B[38;5;241m.\u001B[39minsert(\u001B[38;5;241m2\u001B[39m,[\u001B[38;5;241m2\u001B[39m,\u001B[38;5;241m3\u001B[39m,\u001B[38;5;241m2\u001B[39m])\n\u001B[1;32m----> 3\u001B[0m \u001B[43ms\u001B[49m\u001B[38;5;241;43m.\u001B[39;49m\u001B[43msort\u001B[49m\u001B[43m(\u001B[49m\u001B[43m)\u001B[49m\n\u001B[0;32m      4\u001B[0m \u001B[38;5;28mprint\u001B[39m(s)\n",
      "\u001B[1;31mTypeError\u001B[0m: '<' not supported between instances of 'list' and 'str'"
     ]
    }
   ],
   "execution_count": 140
  },
  {
   "metadata": {
    "ExecuteTime": {
     "end_time": "2024-12-29T22:56:50.321735Z",
     "start_time": "2024-12-29T22:56:50.302280Z"
    }
   },
   "cell_type": "code",
   "source": [
    "s = [c+d for c in'list' if c != 'i' for d in 'spam' if d != 'a']\n",
    "print(s)\n"
   ],
   "id": "8e8930c91366226d",
   "outputs": [
    {
     "name": "stdout",
     "output_type": "stream",
     "text": [
      "['ls', 'lp', 'lm', 'ss', 'sp', 'sm', 'ts', 'tp', 'tm']\n"
     ]
    }
   ],
   "execution_count": 116
  },
  {
   "metadata": {
    "ExecuteTime": {
     "end_time": "2025-01-02T15:08:31.354195Z",
     "start_time": "2025-01-02T15:08:31.346018Z"
    }
   },
   "cell_type": "code",
   "source": [
    "for i in range(5, 2):\n",
    "    print(i)\n"
   ],
   "id": "9d81bf69c1901c0f",
   "outputs": [],
   "execution_count": 145
  },
  {
   "metadata": {
    "ExecuteTime": {
     "end_time": "2025-01-03T12:03:58.028691Z",
     "start_time": "2025-01-03T12:03:58.021419Z"
    }
   },
   "cell_type": "code",
   "source": "'{2}, {1}, {0}'.format(*'abc')",
   "id": "8763a7adf51d1d01",
   "outputs": [
    {
     "data": {
      "text/plain": [
       "'c, b, a'"
      ]
     },
     "execution_count": 171,
     "metadata": {},
     "output_type": "execute_result"
    }
   ],
   "execution_count": 171
  },
  {
   "metadata": {
    "ExecuteTime": {
     "end_time": "2025-01-03T12:09:01.168369Z",
     "start_time": "2025-01-03T12:09:01.162091Z"
    }
   },
   "cell_type": "code",
   "source": [
    " def orp(*args):\n",
    "     return args[0] + args[1]\n",
    " print(orp(5, 2, 4))"
   ],
   "id": "74f83ac781723dbe",
   "outputs": [
    {
     "name": "stdout",
     "output_type": "stream",
     "text": [
      "7\n"
     ]
    }
   ],
   "execution_count": 175
  },
  {
   "metadata": {
    "ExecuteTime": {
     "end_time": "2025-01-04T10:21:59.311298Z",
     "start_time": "2025-01-04T10:21:59.304037Z"
    }
   },
   "cell_type": "code",
   "source": [
    "def word_multiply(my_str: str, n: int) -> str:\n",
    "    return my_str * n\n",
    "text = 'redirect'\n",
    "print(word_multiply(text, 2)) \n",
    "print(word_multiply(text, 4))"
   ],
   "id": "ccd5a1cbadfd79a",
   "outputs": [
    {
     "name": "stdout",
     "output_type": "stream",
     "text": [
      "redirectredirect\n",
      "redirectredirectredirectredirect\n"
     ]
    }
   ],
   "execution_count": 3
  },
  {
   "metadata": {
    "ExecuteTime": {
     "end_time": "2025-01-04T10:45:22.739985Z",
     "start_time": "2025-01-04T10:45:22.730776Z"
    }
   },
   "cell_type": "code",
   "source": [
    "import operator \n",
    "action = { \"+\": operator.add, \"-\": operator.sub, \"/\": operator.truediv, \"*\": operator.mul, \"**\": operator.pow } \n",
    "action['**'](50, 2) # 25 \n",
    "# action['+'](50, 25) # 75 \n",
    "# action['/'](50, 25) # 2.0 \n",
    "# action['*'](50, 25) # 1250"
   ],
   "id": "f51a3d724e6bc77f",
   "outputs": [
    {
     "data": {
      "text/plain": [
       "2500"
      ]
     },
     "execution_count": 7,
     "metadata": {},
     "output_type": "execute_result"
    }
   ],
   "execution_count": 7
  }
 ],
 "metadata": {
  "kernelspec": {
   "display_name": "Python 3",
   "language": "python",
   "name": "python3"
  },
  "language_info": {
   "codemirror_mode": {
    "name": "ipython",
    "version": 2
   },
   "file_extension": ".py",
   "mimetype": "text/x-python",
   "name": "python",
   "nbconvert_exporter": "python",
   "pygments_lexer": "ipython2",
   "version": "2.7.6"
  }
 },
 "nbformat": 4,
 "nbformat_minor": 5
}
