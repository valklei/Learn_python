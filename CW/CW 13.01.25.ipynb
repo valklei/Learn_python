{
 "cells": [
  {
   "cell_type": "code",
   "id": "initial_id",
   "metadata": {
    "collapsed": true,
    "ExecuteTime": {
     "end_time": "2025-01-13T08:54:01.523786Z",
     "start_time": "2025-01-13T08:54:01.503484Z"
    }
   },
   "source": [
    "#Создать класс и определить объекты этого класса: 2 человека - Том и Боб.\n",
    "class Person:\n",
    "    name: str\n",
    "\n",
    "carl=Person()\n",
    "carl.name=\"Carl\"\n",
    "bob=Person()\n",
    "bob.name=\"Bob\"\n",
    "\n",
    "print(carl.name)\n",
    "print(bob.name)"
   ],
   "outputs": [
    {
     "name": "stdout",
     "output_type": "stream",
     "text": [
      "Carl\n",
      "Bob\n"
     ]
    }
   ],
   "execution_count": 1
  },
  {
   "metadata": {
    "ExecuteTime": {
     "end_time": "2025-01-13T09:26:16.276002Z",
     "start_time": "2025-01-13T09:26:16.241580Z"
    }
   },
   "cell_type": "code",
   "source": [
    "class Rectangle:\n",
    "    def __init__(self, width: float, high: float):\n",
    "        self.width = width\n",
    "        self.high = high\n",
    "        self.color = 'Red'\n",
    "\n",
    "\n",
    "rect_1 = Rectangle(5.7, 3.2)\n",
    "rect_2 = Rectangle(10.8, 7.4)\n",
    "\n",
    "print(rect_1.width, rect_1.high, rect_1.color)\n",
    "print(rect_2.width, rect_2.high, rect_2.color)"
   ],
   "id": "620f223c4eb82195",
   "outputs": [
    {
     "name": "stdout",
     "output_type": "stream",
     "text": [
      "5.7 3.2 Red\n",
      "10.8 7.4 Red\n"
     ]
    }
   ],
   "execution_count": 3
  },
  {
   "metadata": {
    "ExecuteTime": {
     "end_time": "2025-01-14T22:09:48.768987Z",
     "start_time": "2025-01-14T22:09:48.638517Z"
    }
   },
   "cell_type": "code",
   "source": [
    "class Person:\n",
    "    def __init__(self, name, age, gender):\n",
    "        self.name = name\n",
    "        self.age = age\n",
    "        self.gender = gender\n",
    "\n",
    "    def get_info(self):\n",
    "        return f\"Name: {self.name}, Age: {self.age}, Gender: {self.gender}\"\n",
    "\n",
    "    def greet(self):\n",
    "        print(f\"Привет! Я {self.name}.\")\n",
    "\n",
    "\n",
    "\n",
    "dmitry = Person('Dmitry', 25, \"male\")\n",
    "\n",
    "print(dmitry.get_info())\n",
    "dmitry.greet()"
   ],
   "id": "c9988a3913596593",
   "outputs": [
    {
     "name": "stdout",
     "output_type": "stream",
     "text": [
      "Name: Dmitry, Age: 25, Gender: male\n",
      "Привет! Я Dmitry.\n"
     ]
    }
   ],
   "execution_count": 5
  },
  {
   "metadata": {
    "ExecuteTime": {
     "end_time": "2025-01-14T22:20:07.551192Z",
     "start_time": "2025-01-14T22:19:49.227801Z"
    }
   },
   "cell_type": "code",
   "source": [
    "class Account:\n",
    "    def __init__(self, name, balance):\n",
    "        self._name = name # Protected attribute\n",
    "        self.__balance = balance # Private attribute\n",
    "\n",
    "    def cache_operation(self, operation: str, amount: float):\n",
    "        return self.__update_balance(operation, amount)\n",
    "\n",
    "    def __update_balance(self, operation, amount): # Private method\n",
    "        match operation.strip().lower():\n",
    "            case \"withdraw\":\n",
    "                if 0 < amount <= self.__balance:\n",
    "                    self.__balance -= amount\n",
    "                else:\n",
    "                    return \"Недостаточно средств на счетe\"\n",
    "            case \"deposit\":\n",
    "                self.__balance += amount\n",
    "            case _:\n",
    "                return \"Операция не распознана.\"\n",
    "        return f\"Баланс обновлен. Новый баланс: {self.__balance}\"\n",
    "\n",
    "\n",
    "my_acc = Account(\"Card\", 1000)\n",
    "\n",
    "print(my_acc.cache_operation(\n",
    "operation = input(\"Enter the operation you needed [withdraw, deposit]: \"),\n",
    "amount = float(input(\"Enter the amount of cash: \"))\n",
    "\n",
    "))"
   ],
   "id": "544aebb1836c4918",
   "outputs": [
    {
     "name": "stdout",
     "output_type": "stream",
     "text": [
      "Баланс обновлен. Новый баланс: 1580.0\n"
     ]
    }
   ],
   "execution_count": 10
  },
  {
   "metadata": {},
   "cell_type": "code",
   "outputs": [],
   "execution_count": null,
   "source": [
    "# Создать класс Car (машина) со следующими полями: model, year, color. \n",
    "# \n",
    "# Создать 10 объектов этого класса, описывающих модели разных марок, лет и цветов. \n",
    "# \n",
    "# Создать список из этих объектов.\n",
    "# \n",
    "# Написать функцию, которая принимает список объектов класса Car и цвет и возвращает список машин этого цвета. Напечатать этот список, выводя название модели, год и цвет. Использовать filter и lambda функции. \n",
    "cars = [\n",
    "Car('model_1', 1990, 'blue'),\n",
    "Car('model_2', 1991, 'black'),\n",
    "Car('model_3', 1992, 'black'),\n",
    "Car('model_4', 1993, 'blue'),\n",
    "Car('model_5', 1994, 'white'),\n",
    "Car('model_6', 1995, 'black'),\n",
    "Car('model_7', 1996, 'blue'),\n",
    "Car('model_8', 1997, 'white'),\n",
    "Car('model_9', 1998, 'black'),\n",
    "Car('model_10', 1999, 'black')\n",
    "]"
   ],
   "id": "209ebd3bf840ae62"
  },
  {
   "metadata": {
    "ExecuteTime": {
     "end_time": "2025-01-13T10:58:46.375243Z",
     "start_time": "2025-01-13T10:58:46.213891Z"
    }
   },
   "cell_type": "code",
   "source": [
    "class Car:\n",
    "    def __init__(self, model, year, color):\n",
    "        self.model = model\n",
    "        self.year = year\n",
    "        self.color = color\n",
    "        \n",
    "cars = [\n",
    "Car('model_1', 1990, 'blue'),\n",
    "Car('model_2', 1991, 'black'),\n",
    "Car('model_3', 1992, 'black'),\n",
    "Car('model_4', 1993, 'blue'),\n",
    "Car('model_5', 1994, 'white'),\n",
    "Car('model_6', 1995, 'black'),\n",
    "Car('model_7', 1996, 'blue'),\n",
    "Car('model_8', 1997, 'white'),\n",
    "Car('model_9', 1998, 'black'),\n",
    "Car('model_10', 1999, 'black')\n",
    "]\n",
    "\n",
    "def cars_info(data, color):\n",
    "    filter_cars = filter(lambda x: x.color == color , data) \n",
    "    result = [f\"{car.model} - {car.year} - {car.color}\" for car in filter_cars]\n",
    "    return  \"\\n\".join(result) \n",
    "print(cars_info(cars, 'black'))"
   ],
   "id": "1d81c252c1e40952",
   "outputs": [
    {
     "name": "stdout",
     "output_type": "stream",
     "text": [
      "model_2 - 1991 - black\n",
      "model_3 - 1992 - black\n",
      "model_6 - 1995 - black\n",
      "model_9 - 1998 - black\n",
      "model_10 - 1999 - black\n"
     ]
    }
   ],
   "execution_count": 4
  },
  {
   "metadata": {},
   "cell_type": "code",
   "outputs": [],
   "execution_count": null,
   "source": [
    "Создать класс Person с полями имя и дата рождения. \n",
    "\n",
    "Создать 10 объектов этого класса с разными именами.\n",
    "Создать класс Employee который содержит поле имя и возраст. \n",
    "\n",
    "Написать функцию, которая из списка объекта класса Person создает список из объектов класса Employee, вычисляя возраст каждого Person по дате рождения. \n",
    "Подумать, где должна быть реализована функция, вычисляющая возраст по дате рождения. Варианты: в конструкторе класса Employee, в качестве глобальной функции, в качестве метода класса (какого?). Получившийся список должен содержать сотрудников, старше 18 лет. Использовать map и filter. У классов Person и Employee должны быть определены конструкторы. Реализация трансформации список персонов в сотрудников должна быть в одну строчку. \n",
    "\n",
    "Вывести получившихся сотрудников на экран. \n",
    "\n",
    "Используя функцию forAll() убедиться, что все сотрудники действительно старше 18 лет. \n",
    "persons = [\n",
    "Person('John', '20-04-1996'),\n",
    "Person('Kris', '15-03-1993'),\n",
    "Person('Valeriy', '20-04-1985'),\n",
    "Person('Alex', '13-07-1998'),\n",
    "Person('Kris', '27-11-2009'),\n",
    "Person('Adam', '04-12-2005'),\n",
    "Person('Mariya', '01-02-2011'),\n",
    "Person('Julia', '20-06-1997'),\n",
    "Person('Mariya', '11-08-2002'),\n",
    "Person('Alesya', '27-10-1999'),\n",
    "]\n",
    "\n"
   ],
   "id": "810b70cdf259e5c2"
  },
  {
   "metadata": {},
   "cell_type": "code",
   "outputs": [],
   "execution_count": null,
   "source": [
    "1.Напишите функцию extract_emails(text), которая извлекает все адреса электронной почты из заданного текста и возвращает их в виде списка.\n",
    "Пример использования:\n",
    "text = \"Contact us at info@example.com or support@example.com for assistance.\"\n",
    "emails = extract_emails(text)\n",
    "print(emails)  # Вывод: ['info@example.com', 'support@example.com']"
   ],
   "id": "ae9186ff051e3db6"
  },
  {
   "metadata": {},
   "cell_type": "code",
   "outputs": [],
   "execution_count": null,
   "source": [
    "2.Напишите функцию highlight_keywords(text, keywords), которая выделяет все вхождения заданных ключевых слов в тексте, окружая их символами *. Функция должна быть регистронезависимой при поиске ключевых слов.\n",
    "Пример использования:\n",
    "text = \"This is a sample text. We need to highlight Python and programming.\"\n",
    "keywords = [\"python\", \"programming\"]\n",
    "highlighted_text = highlight_keywords(text, keywords)\n",
    "print(highlighted_text)\n",
    "# Вывод: \"This is a sample text. We need to highlight *Python* and *programming*.\""
   ],
   "id": "3052acf9a9483e5c"
  },
  {
   "metadata": {},
   "cell_type": "code",
   "outputs": [],
   "execution_count": null,
   "source": [
    "Попробуйте решить, используя инструменты AI:\n",
    "1.Есть набор чисел - 9,3,7. И целевое значение 13\n",
    "Нужно написать алгоритм который скажет можно ли из набора чисел получить 13, используя + и -\n",
    "Например, 9+3+7 не равно 13\n",
    "9-3+7 равно 13\n"
   ],
   "id": "55c1dde58e12136f"
  },
  {
   "metadata": {
    "ExecuteTime": {
     "end_time": "2025-01-14T22:42:33.276410Z",
     "start_time": "2025-01-14T22:42:33.259271Z"
    }
   },
   "cell_type": "code",
   "source": [
    "# 1. Создайте класс Rectangle для представления прямоугольника. Класс должен иметь атрибуты width (ширина) и height (высота), а также метод calculate_area(), который вычисляет площадь прямоугольника. Затем создайте экземпляр класса Rectangle с заданными значениями ширины и высоты и выведите его площадь.\n",
    "\n",
    "class Rectangle:\n",
    "    def __init__(self, width: float, high: float):\n",
    "        self.width = width\n",
    "        self.high = high\n",
    "    def calculate_area(self):\n",
    "        return self.width * self.high\n",
    "\n",
    "\n",
    "rect_1 = Rectangle(5.7, 3.2)\n",
    "rect_2 = Rectangle(10.8, 7.4)\n",
    "\n",
    "print(f\"Прямоугольник со сторонами: {rect_1.width}, {rect_1.high} имеет площадь:{rect_1.calculate_area():.2f}\")\n",
    "print(f\"Прямоугольник со сторонами: {rect_2.width}, {rect_2.high} имеет площадь:{rect_2.calculate_area():.2f}\")\n",
    "\n",
    "\n",
    "\n"
   ],
   "id": "747b53ad0b1489ea",
   "outputs": [
    {
     "name": "stdout",
     "output_type": "stream",
     "text": [
      "Прямоугольник со сторонами: 5.7, 3.2 имеет площадь:18.24\n",
      "Прямоугольник со сторонами: 10.8, 7.4 имеет площадь:79.92\n"
     ]
    }
   ],
   "execution_count": 15
  },
  {
   "metadata": {},
   "cell_type": "code",
   "source": [
    "# 2. Создайте класс Student для представления студента. Класс должен иметь атрибуты name (имя) и age (возраст), а также метод display_info(), который выводит информацию о студенте. Затем создайте экземпляр класса Student с заданным именем и возрастом и вызовите метод display_info().\n",
    "\n",
    "class Student:\n",
    "    def __init__(self, name, age):\n",
    "        self.name = name\n",
    "        self.age = age\n",
    "        \n",
    "    def display_info(self):\n",
    "        return f\"Student: {self.name}, Age: {self.age}\"\n",
    "\n",
    "     \n",
    "dmitry = Student('Dmitry', 25)\n",
    "\n",
    "print(dmitry.display_info())\n",
    "\n"
   ],
   "id": "67f3b94fb4293989",
   "outputs": [
    {
     "name": "stdout",
     "output_type": "stream",
     "text": [
      "Student: Dmitry, Age: 25\n"
     ]
    }
   ],
   "execution_count": 16
  },
  {
   "metadata": {
    "ExecuteTime": {
     "end_time": "2025-01-16T22:11:01.673813Z",
     "start_time": "2025-01-16T22:11:01.663529Z"
    }
   },
   "cell_type": "code",
   "source": [
    "class Person: \n",
    "    def __init__(self,name): \n",
    "        self.name = name \n",
    "bob = Person('Bob') \n",
    "print(bob.name) # 'Bob' \n",
    "alice = Person('Alice') \n",
    "print(alice.name) # 'Alice'"
   ],
   "id": "64a43d421d8ab4a",
   "outputs": [
    {
     "name": "stdout",
     "output_type": "stream",
     "text": [
      "Bob\n",
      "Alice\n"
     ]
    }
   ],
   "execution_count": 4
  },
  {
   "metadata": {
    "ExecuteTime": {
     "end_time": "2025-01-16T22:27:03.844680Z",
     "start_time": "2025-01-16T22:27:03.835853Z"
    }
   },
   "cell_type": "code",
   "source": [
    "class MyClass: \n",
    "    pass \n",
    "class MySubClass(MyClass): \n",
    "    pass \n",
    "my_object = MyClass() \n",
    "my_sub_object = MySubClass() \n",
    "print(isinstance(my_object, MyClass)) # Результат: True \n",
    "print(isinstance(my_sub_object, MyClass)) # Результат: True \n",
    "print(isinstance(my_sub_object, MySubClass)) # Результат: False\n",
    "x ='10.0'\n",
    "print(isinstance(x, str))"
   ],
   "id": "fc117dc9452970a7",
   "outputs": [
    {
     "name": "stdout",
     "output_type": "stream",
     "text": [
      "True\n",
      "True\n",
      "True\n",
      "True\n"
     ]
    }
   ],
   "execution_count": 12
  }
 ],
 "metadata": {
  "kernelspec": {
   "display_name": "Python 3",
   "language": "python",
   "name": "python3"
  },
  "language_info": {
   "codemirror_mode": {
    "name": "ipython",
    "version": 2
   },
   "file_extension": ".py",
   "mimetype": "text/x-python",
   "name": "python",
   "nbconvert_exporter": "python",
   "pygments_lexer": "ipython2",
   "version": "2.7.6"
  }
 },
 "nbformat": 4,
 "nbformat_minor": 5
}
