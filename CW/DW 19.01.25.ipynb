{
 "cells": [
  {
   "cell_type": "code",
   "id": "initial_id",
   "metadata": {
    "collapsed": true,
    "ExecuteTime": {
     "end_time": "2025-01-19T17:40:12.150152Z",
     "start_time": "2025-01-19T17:40:12.101674Z"
    }
   },
   "source": [
    "class Rectangle:\n",
    "    def __init__(self, width: float, high: float):\n",
    "        self.width = width\n",
    "        self.high = high\n",
    "    def calculate_area(self):\n",
    "        return self.width * self.high\n",
    "    def calculate_perimetr(self):\n",
    "        return (self.width + self.high) * 2\n",
    "    def __str__(self):\n",
    "        return f'Прямоугольник со сторонами: {self.width}, {self.high}'\n",
    "    def __repr__(self):\n",
    "        return f'Отладка вычислений параметров прямоугольника со сторонами: {self.width}, {self.high}'\n",
    "\n",
    "rect_1 = Rectangle(5.7, 3.2)\n",
    "rect_2 = Rectangle(10.8, 7.4)\n",
    "\n",
    "print(repr(rect_1))\n",
    "print(rect_1, f\"имеет площадь:{rect_1.calculate_area():.2f} и периметр: {rect_1.calculate_perimetr():.2f}\")\n",
    "print(repr(rect_2))\n",
    "print(rect_2, f\"имеет площадь:{rect_2.calculate_area():.2f} и периметр: {rect_2.calculate_perimetr():.2f}\")\n",
    " "
   ],
   "outputs": [
    {
     "name": "stdout",
     "output_type": "stream",
     "text": [
      "Отладка вычислений параметров прямоугольника со сторонами: 5.7, 3.2\n",
      "Прямоугольник со сторонами: 5.7, 3.2 имеет площадь:18.24 и периметр: 17.80\n",
      "Отладка вычислений параметров прямоугольника со сторонами: 10.8, 7.4\n",
      "Прямоугольник со сторонами: 10.8, 7.4 имеет площадь:79.92 и периметр: 36.40\n"
     ]
    }
   ],
   "execution_count": 9
  },
  {
   "metadata": {
    "ExecuteTime": {
     "end_time": "2025-01-19T19:26:40.529558Z",
     "start_time": "2025-01-19T19:26:40.472176Z"
    }
   },
   "cell_type": "code",
   "source": [
    "class BankAccount:\n",
    "    def __init__(self, account_number, balance):\n",
    "        self.account_number = account_number\n",
    "        self.balance = balance\n",
    "    def deposit(self, amount):\n",
    "        if amount > 0:\n",
    "            self.balance += amount\n",
    "            return f\"Внесено на счет: {amount}. Новый баланс: {self.balance}\"\n",
    "        else:\n",
    "            return f'сумма взноса должна быть положительной!'\n",
    "    def withdrow(self, amount):\n",
    "       if 0 < amount <= self.balance:\n",
    "            self.balance -= amount\n",
    "            return f\"Снято со счета: {amount}. Новый баланс: {self.balance}\" \n",
    "       elif amount <= 0:\n",
    "            return f'сумма снятия должна быть положительной!'\n",
    "       else:\n",
    "            return \"Недостаточно средств на счетe\"\n",
    "    def __str__(self):\n",
    "        return f'BankAccount(Номер счета = {self.account_number}, Баланс = {self.balance})'\n",
    "    def __repr__(self):\n",
    "        return f'Отладочные данные: BankAccount(account_number={self.account_number!r}, balance={self.balance!r})'\n",
    "    \n",
    "account = BankAccount(account_number='13135252', balance=1000)\n",
    "\n",
    "print(account.deposit(700))\n",
    "print(account.withdrow(200))\n",
    "print(account.withdrow(2000))\n",
    "print(account)\n",
    "print(repr(account))\n",
    "    "
   ],
   "id": "7fcac29b28ebc29d",
   "outputs": [
    {
     "name": "stdout",
     "output_type": "stream",
     "text": [
      "Внесено на счет: 700. Новый баланс: 1700\n",
      "Снято со счета: 200. Новый баланс: 1500\n",
      "Недостаточно средств на счетe\n",
      "BankAccount(Номер счета = 13135252, Баланс = 1500)\n",
      "Отладочные данные: BankAccount(account_number='13135252', balance=1500)\n"
     ]
    }
   ],
   "execution_count": 23
  }
 ],
 "metadata": {
  "kernelspec": {
   "display_name": "Python 3",
   "language": "python",
   "name": "python3"
  },
  "language_info": {
   "codemirror_mode": {
    "name": "ipython",
    "version": 2
   },
   "file_extension": ".py",
   "mimetype": "text/x-python",
   "name": "python",
   "nbconvert_exporter": "python",
   "pygments_lexer": "ipython2",
   "version": "2.7.6"
  }
 },
 "nbformat": 4,
 "nbformat_minor": 5
}
