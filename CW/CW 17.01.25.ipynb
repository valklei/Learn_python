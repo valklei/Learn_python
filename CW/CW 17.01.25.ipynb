{
 "cells": [
  {
   "cell_type": "code",
   "id": "initial_id",
   "metadata": {
    "collapsed": true,
    "ExecuteTime": {
     "end_time": "2025-01-19T17:09:51.849003Z",
     "start_time": "2025-01-19T17:09:51.835908Z"
    }
   },
   "source": [
    "class User:\n",
    "    def __init__(self, name, surname, email):\n",
    "        self.name = name\n",
    "        self.surname = surname\n",
    "        self.email = email\n",
    "    \n",
    "    def greeting(self):\n",
    "        print(f\"Greeting! I'm {self.name} {self.surname}. My email is - '{self.email}'\")\n",
    "    \n",
    "\n",
    "class Employee(User):\n",
    "    def __init__(self, name, surname, email, position, experience, department):\n",
    "        User.__init__(self, name, surname, email)\n",
    "        super().__init__(name, surname, email)\n",
    "        self.position = position\n",
    "        self.experience = experience\n",
    "        self.department = department\n",
    "\n",
    "\n",
    "class Client(User):\n",
    "    def __init__(self, name, surname, email, phone, region, city):\n",
    "        super().__init__(name, surname, email)\n",
    "        self.phone = phone\n",
    "        self.region = region\n",
    "        self.city = city\n",
    "\n",
    "\n",
    "user = User(\"John\", \"Black\", \"t.email@gmail.com\")\n",
    "employee = Employee(\"Kseniya\", \"Green\", \"k.green@gmail.com\", \"Python Developer\", 5, \"IT\")\n",
    "client = Client(\"Mariya\", \"Gryffindor\", \"m.gryf@icloud.com\", \"+123456789\", \"South Carolina\", \"Test city\")\n",
    "\n",
    "print(user.name, user.surname, user.email)\n",
    "print(\"=\" * 45)\n",
    "print(employee.name, employee.surname, employee.email)\n",
    "print(\"=\" * 45)\n",
    "print(client.name, client.surname, client.email)"
   ],
   "outputs": [
    {
     "name": "stdout",
     "output_type": "stream",
     "text": [
      "John Black t.email@gmail.com\n",
      "=============================================\n",
      "Kseniya Green k.green@gmail.com\n",
      "=============================================\n",
      "Mariya Gryffindor m.gryf@icloud.com\n"
     ]
    }
   ],
   "execution_count": 3
  },
  {
   "metadata": {},
   "cell_type": "code",
   "outputs": [],
   "execution_count": null,
   "source": [
    "# создать класс Logger, который реализует метод log()\n",
    "# \n",
    "# Создать два отдельных класса TextLogger и CSVLogger, которые будут наследоваться от класса Logger и переопределять логику работы log()\n",
    "# Для правильной записи в текстовые файлы и в файлы .csv расширения"
   ],
   "id": "396165f3ee4f3960"
  },
  {
   "metadata": {},
   "cell_type": "code",
   "outputs": [],
   "execution_count": null,
   "source": [
    "import datetime\n",
    "\n",
    "\n",
    "class Logger:\n",
    "  def log(self, message):\n",
    "     raise NotImplementedError(\"Метод обязан быть переопределен в дочерних классах\")\n",
    "\n",
    "class TextLogger(Logger):\n",
    "  def __init__(self, namefile, mod):\n",
    "      self.namefile = namefile\n",
    "      self.mod = mod\n",
    "  def log(self, message):\n",
    "      with open(self.namefile, self.mod, encoding='utf-8') as file:\n",
    "         file.write(f'[{datetime.datetime.now()}] {message}\\n')\n",
    "\n",
    "tlogger= TextLogger(\"data.log\",\"w\")\n",
    "tlogger.log(\"Hello\")"
   ],
   "id": "a5ca80acb9831053"
  }
 ],
 "metadata": {
  "kernelspec": {
   "display_name": "Python 3",
   "language": "python",
   "name": "python3"
  },
  "language_info": {
   "codemirror_mode": {
    "name": "ipython",
    "version": 2
   },
   "file_extension": ".py",
   "mimetype": "text/x-python",
   "name": "python",
   "nbconvert_exporter": "python",
   "pygments_lexer": "ipython2",
   "version": "2.7.6"
  }
 },
 "nbformat": 4,
 "nbformat_minor": 5
}
