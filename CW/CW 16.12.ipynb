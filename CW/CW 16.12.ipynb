{
 "cells": [
  {
   "cell_type": "code",
   "execution_count": null,
   "id": "initial_id",
   "metadata": {
    "collapsed": true
   },
   "outputs": [],
   "source": [
    "import timeit\n",
    "\n",
    "\n",
    "def linear_search(array_nums: list[int], target: int) -> int:\n",
    "for index, elem in enumerate(array_nums):\n",
    "if elem == target:\n",
    "return index\n",
    "return -1\n",
    "array = list(range(1_000_000))\n",
    "target = 777_777\n",
    "\n",
    "\n",
    "result = linear_search(array, target)\n",
    "\n",
    "if result == -1:\n",
    "print(f\"Элемент {target} не найден в массиве\")\n",
    "else:\n",
    "print(f\"Элемент {target} найден в массиве на позиции {result}\")\n",
    "\n",
    "\n",
    "time_to_linear_result = timeit.timeit(\n",
    "stmt=\"linear_search(array, target)\",\n",
    "setup=\"from __main__ import linear_search, array, target\",\n",
    "number=1000\n",
    ")\n",
    "\n",
    "print(f\"Median time for linear search: {time_to_linear_result:.4f}\")"
   ]
  },
  {
   "metadata": {
    "ExecuteTime": {
     "end_time": "2024-12-16T10:39:57.756640Z",
     "start_time": "2024-12-16T10:39:57.690406Z"
    }
   },
   "cell_type": "code",
   "source": [
    "def binary_search(data: list[int], target: int) -> int:\n",
    "  left,right = 0,len(data)-1\n",
    "  while left <=right:\n",
    "      mid = (left +right) // 2\n",
    "      if data[mid]==target:\n",
    "          return mid\n",
    "      elif data[mid]<target:\n",
    "          left = mid + 1\n",
    "      else:\n",
    "          right = mid - 1\n",
    "  return -1\n",
    "              \n",
    "arr = list(range(1,1_000_000))  \n",
    "target = 700_000\n",
    "result = binary_search(arr,target)\n",
    "if result == -1:\n",
    "    print ('not found') \n",
    "else:\n",
    "    print (f'found elem ad position {result}')"
   ],
   "id": "de44c56f915126bb",
   "outputs": [
    {
     "name": "stdout",
     "output_type": "stream",
     "text": [
      "found elem ad position 699999\n"
     ]
    }
   ],
   "execution_count": 1
  }
 ],
 "metadata": {
  "kernelspec": {
   "display_name": "Python 3",
   "language": "python",
   "name": "python3"
  },
  "language_info": {
   "codemirror_mode": {
    "name": "ipython",
    "version": 2
   },
   "file_extension": ".py",
   "mimetype": "text/x-python",
   "name": "python",
   "nbconvert_exporter": "python",
   "pygments_lexer": "ipython2",
   "version": "2.7.6"
  }
 },
 "nbformat": 4,
 "nbformat_minor": 5
}
