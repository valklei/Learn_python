{
 "cells": [
  {
   "cell_type": "code",
   "execution_count": null,
   "id": "initial_id",
   "metadata": {
    "collapsed": true
   },
   "outputs": [],
   "source": [
    "def contains_uppercase_and_digit(s):\n",
    "    has_uppercase = False\n",
    "    has_digit = False\n",
    "\n",
    "    for char in s:\n",
    "        if char.isupper():\n",
    "            has_uppercase = True\n",
    "        if char.isdigit():\n",
    "            has_digit = True\n",
    "\n",
    "         \n",
    "        if has_uppercase and has_digit:\n",
    "            return True\n",
    "\n",
    "    return has_uppercase and has_digit\n",
    "\n",
    "for string in zeichenkette:\n",
    "    result = contains_uppercase_and_digit(string)\n",
    "    print(f'Die Zeichenkette \"{string}\" enthält mindestens einen Großbuchstaben und mindestens eine Ziffer: {result}')\n",
    "    \n",
    "zeichenkette = \"Passwort123\""
   ]
  },
  {
   "metadata": {},
   "cell_type": "code",
   "outputs": [],
   "execution_count": null,
   "source": [
    "zeichenkette = \"Passwort123\"\n",
    "def enthält_großbuchstabe_und_ziffer(zeichenkette):\n",
    "    hat_großbuchstabe = any(char.isupper() for char in zeichenkette)\n",
    "    hat_ziffer = any(char.isdigit() for char in zeichenkette)\n",
    "    return hat_großbuchstabe and hat_ziffer"
   ],
   "id": "7483d7b9f6984a99"
  },
  {
   "metadata": {},
   "cell_type": "code",
   "outputs": [],
   "execution_count": null,
   "source": [
    "def check_digit_char(arg: str) -> bool:\n",
    "    is_upper_char = False\n",
    "    is_digit = False\n",
    "    for char in arg:\n",
    "        if char.isdigit():\n",
    "           is_digit = True\n",
    "\n",
    "        if char.isupper():\n",
    "           is_upper_char = True\n",
    "        \n",
    "    return is_digit and is_upper_char\n",
    "\n",
    "def enthält_großbuchstabe_und_ziffer(zeichenkette):\n",
    "    hat_großbuchstabe = any(char.isupper() for char in zeichenkette)\n",
    "    hat_ziffer = any(char.isdigit() for char in zeichenkette)\n",
    "    return hat_großbuchstabe and hat_ziffer\n",
    "\n",
    "zeichenkette = \"Passwort123\"\n",
    "print(check_digit_char(zeichenkette))\n",
    "print(enthält_großbuchstabe_und_ziffer(zeichenkette))"
   ],
   "id": "ffdaf69dfec0ea3b"
  },
  {
   "metadata": {},
   "cell_type": "code",
   "outputs": [],
   "execution_count": null,
   "source": "Überprüfen Sie, ob die Zeichenkette mit einer Ziffer beginnt und mit dem Symbol 'z' endet.",
   "id": "7d2ec1296f995204"
  },
  {
   "metadata": {
    "ExecuteTime": {
     "end_time": "2025-01-20T13:42:08.880724Z",
     "start_time": "2025-01-20T13:42:08.871610Z"
    }
   },
   "cell_type": "code",
   "source": [
    "zeichenkette = \"123asswort123z\"\n",
    "def prufung(arg: str):\n",
    "    my_list = arg.split(',')\n",
    "    print(my_list)\n",
    "    if my_list[0].isdigit():\n",
    "            print('OK')\n",
    "            return True\n",
    "    else:\n",
    "        print('Error')\n",
    "        return False\n",
    "prufung(zeichenkette)    "
   ],
   "id": "2d34ebb9b09e9e30",
   "outputs": [
    {
     "name": "stdout",
     "output_type": "stream",
     "text": [
      "['123asswort123z']\n",
      "Error\n"
     ]
    },
    {
     "data": {
      "text/plain": [
       "False"
      ]
     },
     "execution_count": 9,
     "metadata": {},
     "output_type": "execute_result"
    }
   ],
   "execution_count": 9
  },
  {
   "metadata": {},
   "cell_type": "code",
   "outputs": [],
   "execution_count": null,
   "source": [
    "import string\n",
    "\n",
    "def beginnt_mit_ziffer_und_endet_mit_z(arg: str) -> bool:\n",
    "    beggint_mit_ziffer = False\n",
    "    endet_mit_z = False\n",
    "    Z_variable = \"Zz\"\n",
    "    if arg[0] in string.digits:\n",
    "        beggint_mit_ziffer = True\n",
    "    if arg[-1] in Z_variable:\n",
    "        endet_mit_z = True \n",
    "    \n",
    "    if beggint_mit_ziffer and endet_mit_z:\n",
    "        return True\n",
    "    \n",
    "    return False\n",
    "\n",
    "print(beginnt_mit_ziffer_und_endet_mit_z(\"1Überprüfen Sie, ob die Zeichenkette mit einer Ziffer beginnt und mit dem Symbol 'z' endet.Z\"))"
   ],
   "id": "97667a5b488d9959"
  },
  {
   "metadata": {},
   "cell_type": "code",
   "outputs": [],
   "execution_count": null,
   "source": "Überprüfen Sie, ob die Zeichenkette das Symbol 'x' enthält, gefolgt von 2 oder mehr 'y'-Zeichen",
   "id": "f32b4516460e1b26"
  },
  {
   "metadata": {
    "ExecuteTime": {
     "end_time": "2025-01-20T13:53:31.060554Z",
     "start_time": "2025-01-20T13:53:31.047906Z"
    }
   },
   "cell_type": "code",
   "source": [
    "import re\n",
    "\n",
    "def contains_pattern(string, pattern):\n",
    "    # Используем re.search для поиска шаблона в строке\n",
    "    if re.search(pattern, string):\n",
    "        return True\n",
    "    else:\n",
    "        return False\n",
    "\n",
    "# Примеры использования функции\n",
    "test_strings = [\n",
    "    \"Hello, world!\",\n",
    "    \"12345\",\n",
    "    \"Python is fun\",\n",
    "    \"Regex is powerful\",\n",
    "    \"No match here\"\n",
    "]\n",
    "\n",
    "pattern = \"fun\"  # Шаблон для поиска\n",
    "\n",
    "for string in test_strings:\n",
    "    result = contains_pattern(string, pattern)\n",
    "    print(f'Строка \"{string}\" содержит шаблон \"{pattern}\": {result}')"
   ],
   "id": "f3b37084b4ee88e",
   "outputs": [
    {
     "name": "stdout",
     "output_type": "stream",
     "text": [
      "Строка \"Hello, world!\" содержит шаблон \"fun\": False\n",
      "Строка \"12345\" содержит шаблон \"fun\": False\n",
      "Строка \"Python is fun\" содержит шаблон \"fun\": True\n",
      "Строка \"Regex is powerful\" содержит шаблон \"fun\": False\n",
      "Строка \"No match here\" содержит шаблон \"fun\": False\n"
     ]
    }
   ],
   "execution_count": 11
  },
  {
   "metadata": {},
   "cell_type": "code",
   "outputs": [],
   "execution_count": null,
   "source": [
    "zeichenkette = \"abcxxyyyz\"\n",
    "\n",
    "def func(arg: str) -> bool:\n",
    "    for index in range(len(arg)-1):\n",
    "        if arg[index].lower() == 'x':\n",
    "            if arg[index+1].lower() == 'y' and arg[index+2].lower() == 'y':\n",
    "                return True\n",
    "    return False\n",
    "\n",
    "print(func(zeichenkette))"
   ],
   "id": "ea47bb9bc3b397d9"
  },
  {
   "metadata": {},
   "cell_type": "code",
   "outputs": [],
   "execution_count": null,
   "source": [
    "#Überprüfen Sie, ob die Zeichenkette das Symbol 'y' enthält, gefolgt von genau 2 'z'-Zeichen\n",
    "\n",
    "zeichenkette = \"abcyyzzzx\"\n",
    "def enthält_y_und_genau_zwei_z(zeichenkette):\n",
    "    for i in range(len(zeichenkette)-3):\n",
    "        if zeichenkette[i] == 'y' and zeichenkette[i+1] == 'z' and zeichenkette[i+2] == 'z' and zeichenkette[i+3] != 'z': \n",
    "            return True\n",
    "    return False\n",
    "\n",
    "print(enthält_y_und_genau_zwei_z(zeichenkette))"
   ],
   "id": "9874293b3e4b34e0"
  },
  {
   "metadata": {},
   "cell_type": "code",
   "outputs": [],
   "execution_count": null,
   "source": [
    "def func_any(arg: str, arg2: str) -> bool:\n",
    "    return any(arg[i: i+3].lower() == arg2 and arg[i+3].lower() != 'z' for i in range(len(arg)))"
   ],
   "id": "9425c9858b7ad6e2"
  }
 ],
 "metadata": {
  "kernelspec": {
   "display_name": "Python 3",
   "language": "python",
   "name": "python3"
  },
  "language_info": {
   "codemirror_mode": {
    "name": "ipython",
    "version": 2
   },
   "file_extension": ".py",
   "mimetype": "text/x-python",
   "name": "python",
   "nbconvert_exporter": "python",
   "pygments_lexer": "ipython2",
   "version": "2.7.6"
  }
 },
 "nbformat": 4,
 "nbformat_minor": 5
}
