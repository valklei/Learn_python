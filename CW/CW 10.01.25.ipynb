{
 "cells": [
  {
   "cell_type": "code",
   "id": "initial_id",
   "metadata": {
    "collapsed": true,
    "ExecuteTime": {
     "end_time": "2025-01-10T07:52:54.066604Z",
     "start_time": "2025-01-10T07:52:54.057730Z"
    }
   },
   "source": [
    "colour = [\"Black\", \"Purple\", \"Brown\", \"Yellow\", \"Blue\"] \n",
    "print(list(enumerate(colour)))"
   ],
   "outputs": [
    {
     "name": "stdout",
     "output_type": "stream",
     "text": [
      "[(0, 'Black'), (1, 'Purple'), (2, 'Brown'), (3, 'Yellow'), (4, 'Blue')]\n"
     ]
    }
   ],
   "execution_count": 1
  },
  {
   "metadata": {
    "ExecuteTime": {
     "end_time": "2025-01-10T08:30:26.269943Z",
     "start_time": "2025-01-10T08:30:26.245891Z"
    }
   },
   "cell_type": "code",
   "source": [
    "# Дана последовательность слов (строк). Вернуть предложение, составленное\n",
    "# из строк данной последовательности. Слова в полученном предложении разделены пробелами.\n",
    "\n",
    "words = [[\"One\", \"Banana\", \"Jack\"], [\"No\", \"Joe\", \"Go\", \"Sunny\"]]\n",
    "\n",
    "def process_data(data: list[list[str]]):\n",
    "    result = map(lambda x: change_str(x), data)\n",
    "    return ' '.join(result)\n",
    "def change_str(s: str) -> str:\n",
    "    res = ' '.join(s) + '.'\n",
    "    return res.capitalize()\n",
    "print(process_data(words))"
   ],
   "id": "4894b122c2c37568",
   "outputs": [
    {
     "name": "stdout",
     "output_type": "stream",
     "text": [
      "One banana jack. No joe go sunny.\n"
     ]
    }
   ],
   "execution_count": 4
  },
  {
   "metadata": {
    "ExecuteTime": {
     "end_time": "2025-01-10T08:43:39.704585Z",
     "start_time": "2025-01-10T08:43:39.688448Z"
    }
   },
   "cell_type": "code",
   "source": [
    "# Дана последовательность слов. Написать функцию, которая возвращает последовательность слов, в которой\n",
    "# в словах длины 3 все буквы заглавные. Пример: [“The”, “quick”, “brown”, “fox”] -> [“THE”, “quick”, “brown”, “FOX”]\n",
    "my_words = ['The', 'quick', 'brown', 'fox']\n",
    "def upper_words(data: list[str]):\n",
    "    changed_list = []\n",
    "    for word in data:\n",
    "        if len(word) == 3:\n",
    "            changed_list.append(word.upper())\n",
    "        else:\n",
    "            changed_list.append(word.lower())\n",
    "    return changed_list\n",
    "print(upper_words(my_words))\n",
    "            "
   ],
   "id": "f9b9a3d75f56ee8",
   "outputs": [
    {
     "name": "stdout",
     "output_type": "stream",
     "text": [
      "['THE', 'quick', 'brown', 'FOX']\n"
     ]
    }
   ],
   "execution_count": 6
  },
  {
   "metadata": {
    "ExecuteTime": {
     "end_time": "2025-01-10T08:52:52.657126Z",
     "start_time": "2025-01-10T08:52:52.644974Z"
    }
   },
   "cell_type": "code",
   "source": [
    "my_words = ['The', 'quick', 'brown', 'fox']\n",
    "def upper_words(data: list[str], min_length: int = 3) -> list[str]:\n",
    "    changed_list = [word.upper() if len(word) == min_length else word for word in data ]\n",
    "     \n",
    "    return changed_list\n",
    "print(upper_words(my_words))"
   ],
   "id": "770b366d492d5f28",
   "outputs": [
    {
     "name": "stdout",
     "output_type": "stream",
     "text": [
      "['THE', 'quick', 'brown', 'FOX']\n"
     ]
    }
   ],
   "execution_count": 8
  },
  {
   "metadata": {
    "ExecuteTime": {
     "end_time": "2025-01-10T09:06:41.230392Z",
     "start_time": "2025-01-10T09:06:41.112131Z"
    }
   },
   "cell_type": "code",
   "source": [
    "from typing import Callable\n",
    "\n",
    "my_words = ['The', 'quick', 'brown', 'fox']\n",
    "def upper_words(data: list[str], action: Callable, min_length: int = 3) -> list[str]:\n",
    "    changed_list = [action(word) if len(word) == min_length else word for word in data ]\n",
    "     \n",
    "    return changed_list\n",
    "print(upper_words(my_words, lambda word: '*' * len(word)))"
   ],
   "id": "7d4ef4b186b92c6d",
   "outputs": [
    {
     "name": "stdout",
     "output_type": "stream",
     "text": [
      "['***', 'quick', 'brown', '***']\n"
     ]
    }
   ],
   "execution_count": 9
  },
  {
   "metadata": {},
   "cell_type": "code",
   "outputs": [],
   "execution_count": null,
   "source": [
    "from typing import Callable\n",
    "\n",
    "words = [\"The\", \"quick\", 'hello333', \"brown\", \"fox\"]\n",
    "\n",
    "\n",
    "def upper_word(data: list[str], action: Callable, condition: Callable):\n",
    "    changed_words = [action(word) if condition(word) else word for word in data]\n",
    "    return changed_words\n",
    "\n",
    "print(\n",
    "upper_word(\n",
    "words,\n",
    "action=lambda x: \"*\" * len(x),\n",
    "condition=lambda x: x.isalnum()\n",
    ")\n",
    ")"
   ],
   "id": "5c98498703dbd720"
  },
  {
   "metadata": {},
   "cell_type": "code",
   "outputs": [],
   "execution_count": null,
   "source": "# Считать данные из файла anna-karenina.txt, очистить их, оставить только слова длиной более десяти символов.",
   "id": "9e63b5612309d9a2"
  },
  {
   "metadata": {},
   "cell_type": "code",
   "outputs": [],
   "execution_count": null,
   "source": [
    "for punct in '!\"#$%&\\'()*+,-./:;<=>?@[\\\\]^_`{|}~« ':\n",
    "    text = text.replace(punct, ' ')"
   ],
   "id": "30801e9a4f3ba032"
  },
  {
   "metadata": {},
   "cell_type": "code",
   "outputs": [],
   "execution_count": null,
   "source": [
    "Dmytro\n",
    "Olkhovskyi\n",
    "кому\n",
    "Все\n",
    "10: 20\n",
    "for punct in '!\"#$%&\\'()*+,-./:;<=>?@[\\\\]^_`{|}~« ':\n",
    "    text = text.replace(punct, ' ')\n",
    "можно так ?\n",
    "\n",
    "Anatoli\n",
    "Panas\n",
    "10: 35\n",
    "\n",
    "\n",
    "def open_file(name_file: str) -> list[str]:\n",
    "    try:\n",
    "        with open(name_file, \"r\", encoding=\"utf-8\") as obj_file:\n",
    "            return obj_file.readlines()\n",
    "    # Если файл не найден то возвращаем соответсвующую ошибку\n",
    "    except FileNotFoundError as err:\n",
    "        return f\"Ошибка! Файл не найден!: {err}\"\n",
    "    # Другие ошибки\n",
    "    except Exception as err:\n",
    "        return f\"Ошибка!: {err}\"\n",
    "\n",
    "\n",
    "def proces_data(file_data, min_length: int = 10):\n",
    "    new_data = []\n",
    "    for line in file_data:\n",
    "        # print(line)\n",
    "        word = \"\"\n",
    "        for item in line.split():\n",
    "            if item.isalpha():\n",
    "                word += item\n",
    "        new_data.append(word)\n",
    "    return new_data\n",
    "\n",
    "\n",
    "file = open_file(\"anna-karenina.txt\")\n",
    "\n",
    "print(proces_data(file))"
   ],
   "id": "62ca33813e828049"
  }
 ],
 "metadata": {
  "kernelspec": {
   "display_name": "Python 3",
   "language": "python",
   "name": "python3"
  },
  "language_info": {
   "codemirror_mode": {
    "name": "ipython",
    "version": 2
   },
   "file_extension": ".py",
   "mimetype": "text/x-python",
   "name": "python",
   "nbconvert_exporter": "python",
   "pygments_lexer": "ipython2",
   "version": "2.7.6"
  }
 },
 "nbformat": 4,
 "nbformat_minor": 5
}
