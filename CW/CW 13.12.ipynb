{
 "cells": [
  {
   "cell_type": "code",
   "execution_count": null,
   "id": "initial_id",
   "metadata": {
    "collapsed": true
   },
   "outputs": [],
   "source": [
    "# Представим, что мы имеем генератор, который фильтрует поступающие\n",
    "# данные и выдает только те, что удовлетворяют определенным критериям.\n",
    "# С помощью send() мы можем на лету менять правила фильтрации без\n",
    "# остановки процесса. Это может быть полезно в ситуациях, когда\n",
    "# данные поступают потоком (скажем, с сенсора или из сети), и\n",
    "# нам нужно менять логику фильтра в процессе работы."
   ]
  },
  {
   "metadata": {},
   "cell_type": "code",
   "outputs": [],
   "execution_count": null,
   "source": [
    "def task_gen(initial_param: int = 10):\n",
    "    threshold = initial_param\n",
    "    value = yield f\"Текущий фильтра равен: {threshold}\"\n",
    "    while True:\n",
    "        if isinstance(value, int):\n",
    "            if value < initial_param:\n",
    "               value = yield f\"Отклонено: {value}\"\n",
    "            else:\n",
    "               value = yield f\"Принято значение: {value}\" \n",
    "        elif value is None:\n",
    "            new_threshold = yield f\"Текущий фильтра равен: {threshold}. Введите новое значение.\"\n",
    "            if isinstance(new_threshold, int):\n",
    "                threshold = new_threshold\n",
    "                value = yield f\"Установлено новое значение: {threshold}\" \n",
    "        else:\n",
    "            value = yield f\"Неподдерживаемое значение: {value}\"\n",
    "           \n",
    "data_filter = task_gen()\n",
    "print(next(data_filter))\n",
    "print(data_filter.send(7.8))\n",
    "print(data_filter.send(5))\n",
    "print(data_filter.send(-3))\n",
    "print(data_filter.send(\"Чат джпт отстой\"))\n",
    "print(data_filter.send(15))\n",
    "print(data_filter.send(None))\n",
    "print(data_filter.send(1))\n",
    "print(data_filter.send(15))\n",
    "print(data_filter.send(-1))\n",
    "print(data_filter.send(0))\n",
    "print(data_filter.send(\"\"))\n",
    "print(data_filter.send(6.4))"
   ],
   "id": "cb91fdd5db0e7b43"
  }
 ],
 "metadata": {
  "kernelspec": {
   "display_name": "Python 3",
   "language": "python",
   "name": "python3"
  },
  "language_info": {
   "codemirror_mode": {
    "name": "ipython",
    "version": 2
   },
   "file_extension": ".py",
   "mimetype": "text/x-python",
   "name": "python",
   "nbconvert_exporter": "python",
   "pygments_lexer": "ipython2",
   "version": "2.7.6"
  }
 },
 "nbformat": 4,
 "nbformat_minor": 5
}
