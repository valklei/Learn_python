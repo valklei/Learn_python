{
 "cells": [
  {
   "cell_type": "code",
   "id": "initial_id",
   "metadata": {
    "collapsed": true,
    "ExecuteTime": {
     "end_time": "2025-01-08T14:08:56.036844Z",
     "start_time": "2025-01-08T14:08:56.012475Z"
    }
   },
   "source": [
    "from collections import Counter\n",
    "\n",
    "def count_characters(text):\n",
    "    # Zählt die Häufigkeit jedes Zeichens in der Zeichenkette\n",
    "    counter = Counter(text)\n",
    "    # Gibt die drei am häufigsten vorkommenden Zeichen aus\n",
    "    most_common = counter.most_common(3)\n",
    "    print(\"3 häufigste Zeichen:\", most_common)\n",
    "    return counter\n",
    "\n",
    "# Beispiel\n",
    "text = \"hello world\"\n",
    "count_characters(text)"
   ],
   "outputs": [
    {
     "name": "stdout",
     "output_type": "stream",
     "text": [
      "3 häufigste Zeichen: [('l', 3), ('o', 2), ('h', 1)]\n"
     ]
    },
    {
     "data": {
      "text/plain": [
       "Counter({'l': 3, 'o': 2, 'h': 1, 'e': 1, ' ': 1, 'w': 1, 'r': 1, 'd': 1})"
      ]
     },
     "execution_count": 1,
     "metadata": {},
     "output_type": "execute_result"
    }
   ],
   "execution_count": 1
  },
  {
   "metadata": {
    "ExecuteTime": {
     "end_time": "2025-01-08T14:16:16.784901Z",
     "start_time": "2025-01-08T14:16:16.702725Z"
    }
   },
   "cell_type": "code",
   "source": [
    "from collections import deque\n",
    "\n",
    "def fixed_queue(numbers, max_length):\n",
    "    # Erstellt eine Warteschlange mit fester Länge\n",
    "    queue = deque(maxlen=max_length)\n",
    "    for number in numbers:\n",
    "        queue.append(number)\n",
    "    return queue\n",
    "\n",
    "# Beispiel\n",
    "numbers = [1, 2, 3, 4, 5]\n",
    "max_length = 3\n",
    "result = fixed_queue(numbers, max_length)\n",
    "print(\"Endgültige Warteschlange:\", list(result))"
   ],
   "id": "425cf6782893c704",
   "outputs": [
    {
     "name": "stdout",
     "output_type": "stream",
     "text": [
      "Endgültige Warteschlange: [3, 4, 5]\n"
     ]
    }
   ],
   "execution_count": 2
  },
  {
   "metadata": {
    "ExecuteTime": {
     "end_time": "2025-01-08T14:21:58.581750Z",
     "start_time": "2025-01-08T14:21:58.550833Z"
    }
   },
   "cell_type": "code",
   "source": [
    "from collections import defaultdict\n",
    "\n",
    "def group_by_first_letter(words):\n",
    "    # Gruppiert Wörter nach dem ersten Buchstaben\n",
    "    grouped = defaultdict(list)\n",
    "    for word in words:\n",
    "        grouped[word[0]].append(word)\n",
    "    return grouped\n",
    "\n",
    "# Beispiel\n",
    "words = [\"apple\", \"banana\", \"apricot\", \"blueberry\", \"cherry\"]\n",
    "result = group_by_first_letter(words)\n",
    "print(\"Gruppierte Wörter:\", dict(result))"
   ],
   "id": "fedebf5e794ae748",
   "outputs": [
    {
     "name": "stdout",
     "output_type": "stream",
     "text": [
      "Gruppierte Wörter: {'a': ['apple', 'apricot'], 'b': ['banana', 'blueberry'], 'c': ['cherry']}\n"
     ]
    }
   ],
   "execution_count": 3
  },
  {
   "metadata": {
    "ExecuteTime": {
     "end_time": "2025-01-08T14:46:56.887237Z",
     "start_time": "2025-01-08T14:46:56.788552Z"
    }
   },
   "cell_type": "code",
   "source": [
    "from collections import namedtuple\n",
    "from math import sqrt\n",
    "\n",
    "# Erstellt das benannte Tupel\n",
    "Point = namedtuple(\"Point\", [\"x\", \"y\", \"z\"])\n",
    "\n",
    "def calculate_distance(point1, point2):\n",
    "    # Berechnet den Abstand zwischen zwei Punkten im dreidimensionalen Raum\n",
    "    distance = sqrt((point2.x - point1.x)**2 + (point2.y - point1.y)**2 + (point2.z - point1.z)**2)\n",
    "    return distance\n",
    "\n",
    "# Beispiel\n",
    "point1 = Point(1, 2, 3)\n",
    "point2 = Point(4, 6, 8)\n",
    "distance = calculate_distance(point1, point2)\n",
    "print(\"Abstand zwischen den Punkten:\", distance)"
   ],
   "id": "2b3675416588abf2",
   "outputs": [
    {
     "name": "stdout",
     "output_type": "stream",
     "text": [
      "Abstand zwischen den Punkten: 7.0710678118654755\n"
     ]
    }
   ],
   "execution_count": 4
  },
  {
   "metadata": {},
   "cell_type": "code",
   "outputs": [],
   "execution_count": null,
   "source": "",
   "id": "a2a49669fbf4b0f8"
  },
  {
   "metadata": {},
   "cell_type": "code",
   "outputs": [],
   "execution_count": null,
   "source": "",
   "id": "5adbe9232dc307d5"
  },
  {
   "metadata": {},
   "cell_type": "code",
   "outputs": [],
   "execution_count": null,
   "source": [
    "from collections import defaultdict\n",
    "def group_by_first_letter(words):\n",
    "    "
   ],
   "id": "fb3d82a3d76721b9"
  },
  {
   "metadata": {},
   "cell_type": "code",
   "outputs": [],
   "execution_count": null,
   "source": [
    "def safe_divide(a, b):\n",
    "    try:\n",
    "        result = a / b\n",
    "    except ZeroDivisionError:\n",
    "        return \"Cannot divide by zero\"\n",
    "    return result"
   ],
   "id": "cacae41e623f2483"
  },
  {
   "metadata": {},
   "cell_type": "code",
   "outputs": [],
   "execution_count": null,
   "source": [
    "def read_file(file_path):\n",
    "    try:\n",
    "        with open(file_path, 'r') as file:\n",
    "            content = file.read()\n",
    "            return content\n",
    "    except FileNotFoundError:\n",
    "        return \"File not found\"\n",
    "    except Exception as e:\n",
    "        return \"An error occurred\""
   ],
   "id": "f562cd142bad80b7"
  }
 ],
 "metadata": {
  "kernelspec": {
   "display_name": "Python 3",
   "language": "python",
   "name": "python3"
  },
  "language_info": {
   "codemirror_mode": {
    "name": "ipython",
    "version": 2
   },
   "file_extension": ".py",
   "mimetype": "text/x-python",
   "name": "python",
   "nbconvert_exporter": "python",
   "pygments_lexer": "ipython2",
   "version": "2.7.6"
  }
 },
 "nbformat": 4,
 "nbformat_minor": 5
}
